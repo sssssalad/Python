{
 "cells": [
  {
   "cell_type": "code",
   "execution_count": 1,
   "metadata": {},
   "outputs": [],
   "source": [
    "import time"
   ]
  },
  {
   "cell_type": "code",
   "execution_count": 8,
   "metadata": {},
   "outputs": [
    {
     "name": "stdout",
     "output_type": "stream",
     "text": [
      "  tm_year : 2023\n",
      "  tm_mon  : 5\n",
      "  tm_mday : 15\n",
      "  tm_hour : 18\n",
      "  tm_min  : 37\n",
      "  tm_sec  : 8\n",
      "  tm_wday : 0\n",
      "  tm_yday : 135\n",
      "  tm_isdst: 0\n"
     ]
    }
   ],
   "source": [
    "# 编写time库的示例程序\n",
    "def show_struct(s):\n",
    "    print('  tm_year :', s.tm_year)\n",
    "    print('  tm_mon  :', s.tm_mon)\n",
    "    print('  tm_mday :', s.tm_mday)\n",
    "    print('  tm_hour :', s.tm_hour)\n",
    "    print('  tm_min  :', s.tm_min)\n",
    "    print('  tm_sec  :', s.tm_sec)\n",
    "    print('  tm_wday :', s.tm_wday)\n",
    "    print('  tm_yday :', s.tm_yday)\n",
    "    print('  tm_isdst:', s.tm_isdst)\n",
    "show_struct(time.localtime())"
   ]
  },
  {
   "cell_type": "code",
   "execution_count": 2,
   "metadata": {},
   "outputs": [
    {
     "name": "stdout",
     "output_type": "stream",
     "text": [
      "1684146462.6503272\n"
     ]
    }
   ],
   "source": [
    "# 编写time库的多个使用实例\n",
    "# 1. 获取当前时间戳\n",
    "print(time.time())"
   ]
  },
  {
   "cell_type": "code",
   "execution_count": 3,
   "metadata": {},
   "outputs": [
    {
     "data": {
      "text/plain": [
       "3"
      ]
     },
     "execution_count": 3,
     "metadata": {},
     "output_type": "execute_result"
    }
   ],
   "source": [
    "#生成一个函数以将两个数字相加\n",
    "def add(x, y):\n",
    "    return x + y\n",
    "add(1, 2)"
   ]
  },
  {
   "cell_type": "code",
   "execution_count": 4,
   "metadata": {},
   "outputs": [],
   "source": [
    "#从彩虹中生成所有颜色的数组\n",
    "rainbow = ['red', 'orange', 'yellow', 'green', 'blue', 'indigo', 'violet']"
   ]
  },
  {
   "cell_type": "code",
   "execution_count": 6,
   "metadata": {},
   "outputs": [],
   "source": [
    "#创建一个number数组\n",
    "number = [1, 2, 3, 4, 5, 6, 7]\n",
    "#创建一个float数组\n",
    "floats = [1.1, 2.2, 3.3, 4.4, 5.5, 6.6]\n",
    "#创建一个string数组\n",
    "names = ['张三', '李四', '王五', '赵六', '钱七', '孙八', '周九']\n",
    "#创建一个对象数组，将上述数组项作为键值对\n",
    "objects = [{'name': '张三', 'age': 18}, \n",
    "           {'name': '李四', 'age': 19}, \n",
    "           {'name': '王五', 'age': 20}, \n",
    "           {'name': '赵六', 'age': 21}, \n",
    "           {'name': '钱七', 'age': 22}, \n",
    "           {'name': '孙八', 'age': 23}, \n",
    "           {'name': '周九', 'age': 24}]"
   ]
  },
  {
   "cell_type": "code",
   "execution_count": null,
   "metadata": {},
   "outputs": [],
   "source": [
    "import numpy as np\n",
    "#创建一个numpy数组\n",
    "np_array = np.array([1, 2, 3, 4, 5, 6, 7])\n"
   ]
  }
 ],
 "metadata": {
  "kernelspec": {
   "display_name": "base",
   "language": "python",
   "name": "python3"
  },
  "language_info": {
   "codemirror_mode": {
    "name": "ipython",
    "version": 3
   },
   "file_extension": ".py",
   "mimetype": "text/x-python",
   "name": "python",
   "nbconvert_exporter": "python",
   "pygments_lexer": "ipython3",
   "version": "3.7.0"
  },
  "orig_nbformat": 4
 },
 "nbformat": 4,
 "nbformat_minor": 2
}
