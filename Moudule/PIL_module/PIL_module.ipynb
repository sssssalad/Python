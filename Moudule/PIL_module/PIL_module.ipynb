{
 "cells": [
  {
   "cell_type": "code",
   "execution_count": 2,
   "metadata": {},
   "outputs": [],
   "source": [
    "from PIL import Image"
   ]
  },
  {
   "attachments": {},
   "cell_type": "markdown",
   "metadata": {},
   "source": [
    "#### 打开、保存、显示图片\n",
    "Image.open()：打开图片，返回一个Image 对象\n",
    "\n",
    "image类的三个属性:\n",
    "   - mode： 图片的模式，RGB 代表彩色图像，L 代表光照图像也即灰度图像等\n",
    "   - size： 图片的大小(宽度，长度)\n",
    "   - format： 图片的格式，如常见的 PNG、JPEG 等"
   ]
  },
  {
   "cell_type": "code",
   "execution_count": 3,
   "metadata": {},
   "outputs": [
    {
     "name": "stdout",
     "output_type": "stream",
     "text": [
      "RGB (512, 512) PNG\n"
     ]
    }
   ],
   "source": [
    "image = Image.open('D:/Code/Ipynb/CV/Feature extraction/picture/lena.png') \n",
    "image.show() #弹出窗口显示图片,将图片保存到临时文件中\n",
    "image.save('image.jpg')\n",
    "print(image.mode, image.size, image.format)"
   ]
  },
  {
   "attachments": {},
   "cell_type": "markdown",
   "metadata": {},
   "source": [
    "#### image.covert(dtype)转换图片模式\n",
    "- 任何支持的图片模式都可以直接转为彩色模式或者灰度模式\n",
    "- 若是想转化为其他模式，需借助一个中间模式（通常是彩色）来进行过转"
   ]
  },
  {
   "cell_type": "code",
   "execution_count": 4,
   "metadata": {},
   "outputs": [],
   "source": [
    "grey_image=image.convert('L') #转化为灰度图像\n",
    "grey_image.save('image_grey.jpg')"
   ]
  },
  {
   "attachments": {},
   "cell_type": "markdown",
   "metadata": {},
   "source": [
    "#### image.split():通道分离、image.merge():通道合并"
   ]
  },
  {
   "cell_type": "code",
   "execution_count": 5,
   "metadata": {},
   "outputs": [],
   "source": [
    "r, g, b = image.split() #红禄蓝通道分离\n",
    "r.save('image_r.jpg')\n",
    "g.save('image_g.jpg')\n",
    "b.save('image_b.jpg')\n",
    "im = Image.merge('RGB', (b, g, r)) #按照蓝绿红的顺序合成彩色图像\n",
    "im.save('image_bgr.jpg')"
   ]
  },
  {
   "attachments": {},
   "cell_type": "markdown",
   "metadata": {},
   "source": [
    "#### 图片裁剪、旋转和改变大小\n",
    "- **image.crop(a0, b0, a1, b1)** :对图片的某一区域进行裁剪，a0, b0, a1, b1分别表示左上角 X 坐标、Y 坐标，右下角 X 坐标、Y 坐标\n",
    "- **image.paste(self, im, box=None, mask=None)** :将一张图片覆盖到另一张图片的指定位置去,im是要黏贴到image上面去的图片，box是要黏贴到的区域。\n",
    "- **image.resize(img_size)**:重新调整图片大小"
   ]
  },
  {
   "cell_type": "code",
   "execution_count": 11,
   "metadata": {},
   "outputs": [
    {
     "name": "stderr",
     "output_type": "stream",
     "text": [
      "d:\\Anaconda\\lib\\site-packages\\ipykernel_launcher.py:3: DeprecationWarning: ROTATE_180 is deprecated and will be removed in Pillow 10 (2023-07-01). Use Transpose.ROTATE_180 instead.\n",
      "  This is separate from the ipykernel package so we can avoid doing imports until\n"
     ]
    }
   ],
   "source": [
    "box = (100, 100, 300, 300) \n",
    "region = image.crop(box)\n",
    "region = region.transpose(Image.ROTATE_180) # 逆时针旋转180度\n",
    "image.paste(region, box)\n",
    "image.save('image_crop.jpg')"
   ]
  },
  {
   "cell_type": "code",
   "execution_count": 12,
   "metadata": {},
   "outputs": [
    {
     "name": "stderr",
     "output_type": "stream",
     "text": [
      "d:\\Anaconda\\lib\\site-packages\\ipykernel_launcher.py:6: DeprecationWarning: FLIP_LEFT_RIGHT is deprecated and will be removed in Pillow 10 (2023-07-01). Use Transpose.FLIP_LEFT_RIGHT instead.\n",
      "  \n",
      "d:\\Anaconda\\lib\\site-packages\\ipykernel_launcher.py:8: DeprecationWarning: FLIP_TOP_BOTTOM is deprecated and will be removed in Pillow 10 (2023-07-01). Use Transpose.FLIP_TOP_BOTTOM instead.\n",
      "  \n"
     ]
    }
   ],
   "source": [
    "image = Image.open('D:/Code/Ipynb/CV/3/picture/lena.png')\n",
    "im = image.resize((300, 300))\n",
    "im.save(\"image_resize.jpg\")\n",
    "im = image.rotate(45,expand=True)  # 逆时针旋转 45 度（图一部分被截没了用expand=True解决\n",
    "im.save(\"image_rotate45.jpg\")\n",
    "im = image.transpose(Image.FLIP_LEFT_RIGHT) # 左右翻转\n",
    "im.save(\"image_FLIP_LEFT_RIGHT.jpg\")\n",
    "im = im.transpose(Image.FLIP_TOP_BOTTOM)# 上下翻转\n",
    "im.save(\"image_FLIP_TOP_BOTTOM.jpg\")"
   ]
  },
  {
   "attachments": {},
   "cell_type": "markdown",
   "metadata": {},
   "source": [
    "#### 像素值操作\n",
    "- image.point():通过查找表或函数映射此图像\n",
    "  - lut：一个查找表，在图像中每个波段包含256个值(如果self.mode ==“ I”且mode == “L”，则为65336)。可以改用函数，它应使用单个参数。对每个可能的像素值调用一次该函数，并将结果表应用于图像的所有波段。\n",
    "  - mode：输出模式(默认与输入相同)。在当前版本中，仅当源图像的模式为“L”或“P”且输出的图像模式为“1”或源图像的模式为“I”且输出模式为“L”时，才可以使用此选项。"
   ]
  },
  {
   "cell_type": "code",
   "execution_count": 14,
   "metadata": {},
   "outputs": [],
   "source": [
    "out = image.point(lambda i: i * 1.2) # 对每个像素值乘以 1.2\n",
    "out.save('image_point1.jpg')\n",
    "source = image.split() #rgb三通道分离\n",
    "out = source[0].point(lambda i: i > 128 and 255) # 对 R 通道进行二值化\n",
    "out.save('image_point2.jpg')"
   ]
  },
  {
   "cell_type": "code",
   "execution_count": null,
   "metadata": {},
   "outputs": [],
   "source": []
  }
 ],
 "metadata": {
  "kernelspec": {
   "display_name": "base",
   "language": "python",
   "name": "python3"
  },
  "language_info": {
   "codemirror_mode": {
    "name": "ipython",
    "version": 3
   },
   "file_extension": ".py",
   "mimetype": "text/x-python",
   "name": "python",
   "nbconvert_exporter": "python",
   "pygments_lexer": "ipython3",
   "version": "3.7.0"
  },
  "orig_nbformat": 4
 },
 "nbformat": 4,
 "nbformat_minor": 2
}
