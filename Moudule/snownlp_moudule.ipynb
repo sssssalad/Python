{
 "cells": [
  {
   "cell_type": "code",
   "execution_count": 1,
   "metadata": {},
   "outputs": [],
   "source": [
    "import snownlp           #导入snownlp模块"
   ]
  },
  {
   "cell_type": "code",
   "execution_count": 2,
   "metadata": {},
   "outputs": [
    {
     "data": {
      "text/plain": [
       "['学而', '时习', '之', '，', '不亦', '说乎']"
      ]
     },
     "execution_count": 2,
     "metadata": {},
     "output_type": "execute_result"
    }
   ],
   "source": [
    "snownlp.SnowNLP('学而时习之，不亦说乎').words"
   ]
  },
  {
   "cell_type": "code",
   "execution_count": 4,
   "metadata": {},
   "outputs": [
    {
     "data": {
      "text/plain": [
       "['分词',\n",
       " '的',\n",
       " '准确度',\n",
       " '直接',\n",
       " '影响',\n",
       " '了',\n",
       " '后续',\n",
       " '文本',\n",
       " '处理',\n",
       " '和',\n",
       " '挖掘',\n",
       " '算法',\n",
       " '的',\n",
       " '最终',\n",
       " '效果',\n",
       " '。']"
      ]
     },
     "execution_count": 4,
     "metadata": {},
     "output_type": "execute_result"
    }
   ],
   "source": [
    "s = \"分词的准确度直接影响了后续文本处理和挖掘算法的最终效果。\"\n",
    "snownlp.SnowNLP(s).words"
   ]
  },
  {
   "cell_type": "code",
   "execution_count": null,
   "metadata": {},
   "outputs": [],
   "source": []
  }
 ],
 "metadata": {
  "kernelspec": {
   "display_name": "base",
   "language": "python",
   "name": "python3"
  },
  "language_info": {
   "codemirror_mode": {
    "name": "ipython",
    "version": 3
   },
   "file_extension": ".py",
   "mimetype": "text/x-python",
   "name": "python",
   "nbconvert_exporter": "python",
   "pygments_lexer": "ipython3",
   "version": "3.7.0"
  },
  "orig_nbformat": 4
 },
 "nbformat": 4,
 "nbformat_minor": 2
}
