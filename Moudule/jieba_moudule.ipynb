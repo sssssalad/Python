{
 "cells": [
  {
   "cell_type": "code",
   "execution_count": 2,
   "metadata": {},
   "outputs": [],
   "source": [
    "import jieba"
   ]
  },
  {
   "cell_type": "code",
   "execution_count": 2,
   "metadata": {},
   "outputs": [
    {
     "name": "stderr",
     "output_type": "stream",
     "text": [
      "Building prefix dict from the default dictionary ...\n",
      "Loading model from cache C:\\Users\\坏坏\\AppData\\Local\\Temp\\jieba.cache\n"
     ]
    },
    {
     "name": "stdout",
     "output_type": "stream",
     "text": [
      "<generator object Tokenizer.cut at 0x0000019BC0E7ACF0>\n"
     ]
    },
    {
     "name": "stderr",
     "output_type": "stream",
     "text": [
      "Loading model cost 1.008 seconds.\n",
      "Prefix dict has been built successfully.\n"
     ]
    },
    {
     "name": "stdout",
     "output_type": "stream",
     "text": [
      "['我', '爱', '北京', '天安门']\n",
      "['我', '爱', '北京', '天安门']\n"
     ]
    }
   ],
   "source": [
    "import jieba\n",
    "s = \"我爱北京天安门\"\n",
    "print(jieba.cut(s)) #默认精确模式,生成生成器\n",
    "print(list(jieba.cut(s))) #生成器只能使用一次，所以要转换成列表\n",
    "print(jieba.lcut(s)) #精确模式"
   ]
  },
  {
   "cell_type": "code",
   "execution_count": 3,
   "metadata": {},
   "outputs": [
    {
     "name": "stdout",
     "output_type": "stream",
     "text": [
      "['我', '爱', '北京', '天安', '天安门']\n",
      "['我', '爱', '北京', '天安', '天安门']\n"
     ]
    }
   ],
   "source": [
    "print(jieba.lcut(s, cut_all=True)) #全模式\n",
    "print(jieba.lcut_for_search(s)) #搜索引擎模式"
   ]
  },
  {
   "cell_type": "code",
   "execution_count": 4,
   "metadata": {},
   "outputs": [
    {
     "data": {
      "text/plain": [
       "['小明', '硕士', '毕业', '于', '中国科学院', '计算所', '，', '后', '在', '日本京都大学', '深造']"
      ]
     },
     "execution_count": 4,
     "metadata": {},
     "output_type": "execute_result"
    }
   ],
   "source": [
    "list(jieba.cut('小明硕士毕业于中国科学院计算所，后在日本京都大学深造')) "
   ]
  },
  {
   "cell_type": "code",
   "execution_count": 5,
   "metadata": {},
   "outputs": [
    {
     "data": {
      "text/plain": [
       "['小明', '硕士', '毕业', '于', '中国科学院计算所', '，', '后', '在', '日本京都大学', '深造']"
      ]
     },
     "execution_count": 5,
     "metadata": {},
     "output_type": "execute_result"
    }
   ],
   "source": [
    "jieba.add_word('中国科学院计算所') #添加自定义词\n",
    "list(jieba.cut('小明硕士毕业于中国科学院计算所，后在日本京都大学深造'))  #使用新词库进行分词，将自定义词分开"
   ]
  },
  {
   "cell_type": "code",
   "execution_count": 3,
   "metadata": {},
   "outputs": [
    {
     "name": "stderr",
     "output_type": "stream",
     "text": [
      "Building prefix dict from the default dictionary ...\n",
      "Loading model from cache C:\\Users\\坏坏\\AppData\\Local\\Temp\\jieba.cache\n",
      "Loading model cost 1.307 seconds.\n",
      "Prefix dict has been built successfully.\n"
     ]
    },
    {
     "data": {
      "text/plain": [
       "['小明', '硕士', '毕业', '于', '中国科学院', '计算所', '，', '后', '在', '日本京都大学', '深造']"
      ]
     },
     "execution_count": 3,
     "metadata": {},
     "output_type": "execute_result"
    }
   ],
   "source": [
    "jieba.del_word('中国科学院计算所') #删除自定义词\n",
    "list(jieba.cut('小明硕士毕业于中国科学院计算所，后在日本京都大学深造'))  #使用新词库进行分词，将自定义词分开"
   ]
  },
  {
   "attachments": {},
   "cell_type": "markdown",
   "metadata": {},
   "source": [
    "### 拼音处理"
   ]
  },
  {
   "cell_type": "code",
   "execution_count": 4,
   "metadata": {},
   "outputs": [],
   "source": [
    "from pypinyin import lazy_pinyin, pinyin #汉字转拼音，pypinyin模块是jieba的依赖模块"
   ]
  },
  {
   "cell_type": "code",
   "execution_count": 5,
   "metadata": {},
   "outputs": [
    {
     "name": "stdout",
     "output_type": "stream",
     "text": [
      "返回拼音: ['yue', 'guang', 'zong', 'hui', 'luo', 'zai', 'ni', 'shen', 'shang']\n",
      "带声调的拼音: ['yuè', 'guāng', 'zǒng', 'huì', 'luò', 'zài', 'nǐ', 'shēn', 'shàng']\n",
      "数字表示声调: ['yue4', 'gua1ng', 'zo3ng', 'hui4', 'luo4', 'za4i', 'ni3', 'she1n', 'sha4ng']\n",
      "只返回声母: ['', 'g', 'z', 'h', 'l', 'z', 'n', 'sh', 'sh']\n",
      "只返回韵母: ['y', 'g', 'z', 'h', 'l', 'z', 'n', 's', 's']\n",
      "只返回韵母，带声调: ['ve', 'uang', 'ong', 'uei', 'uo', 'ai', 'i', 'en', 'ang']\n",
      "只返回韵母，数字表示声调: ['üè', 'uāng', 'ǒng', 'ueì', 'uò', 'ài', 'ǐ', 'ēn', 'àng']\n"
     ]
    }
   ],
   "source": [
    "print(\"返回拼音:\",lazy_pinyin('月光总会落在你身上')) #能够根据词组智能识别多音字\n",
    "print(\"带声调的拼音:\",lazy_pinyin('月光总会落在你身上',1)) \n",
    "print(\"数字表示声调:\",lazy_pinyin('月光总会落在你身上',2)) \n",
    "print(\"只返回声母:\",lazy_pinyin('月光总会落在你身上',3)) \n",
    "print(\"只返回韵母:\",lazy_pinyin('月光总会落在你身上',4)) \n",
    "print(\"只返回韵母，带声调:\",lazy_pinyin('月光总会落在你身上',5)) \n",
    "print(\"只返回韵母，数字表示声调:\",lazy_pinyin('月光总会落在你身上',6)) "
   ]
  },
  {
   "cell_type": "code",
   "execution_count": 6,
   "metadata": {},
   "outputs": [
    {
     "name": "stdout",
     "output_type": "stream",
     "text": [
      "[['chóng'], ['yáng'], ['jié']]\n",
      "[['chóng'], ['yáng'], ['jié', 'jiē']]\n"
     ]
    }
   ],
   "source": [
    "print(pinyin(\"重阳节\")) #不能根据词组智能识别多音字\n",
    "print(pinyin(\"重阳节\", heteronym=True))#返回多音字的所有读音"
   ]
  },
  {
   "cell_type": "code",
   "execution_count": 7,
   "metadata": {},
   "outputs": [
    {
     "name": "stdout",
     "output_type": "stream",
     "text": [
      "['zhong', 'ying', 'wen', 'hun', 'he', 'test123']\n",
      "['zhong', 'ying', 'wen', 'hun', 'he', 'test123']\n"
     ]
    }
   ],
   "source": [
    "x = '中英文混合test123'\n",
    "print(lazy_pinyin(x))        #自动调用已安装的jieba扩展库分词功能\n",
    "print(lazy_pinyin(jieba.cut(x))) #手动调用jieba分词功能"
   ]
  },
  {
   "cell_type": "code",
   "execution_count": 8,
   "metadata": {},
   "outputs": [
    {
     "data": {
      "text/plain": [
       "['光', '会', '落', '你', '上', '身', '月', '在', '总']"
      ]
     },
     "execution_count": 8,
     "metadata": {},
     "output_type": "execute_result"
    }
   ],
   "source": [
    "x = '月光总会落在你身上'\n",
    "sorted(x, key=lambda ch: lazy_pinyin(ch)) #按拼音对汉字进行排序"
   ]
  },
  {
   "cell_type": "code",
   "execution_count": null,
   "metadata": {},
   "outputs": [],
   "source": []
  }
 ],
 "metadata": {
  "kernelspec": {
   "display_name": "base",
   "language": "python",
   "name": "python3"
  },
  "language_info": {
   "codemirror_mode": {
    "name": "ipython",
    "version": 3
   },
   "file_extension": ".py",
   "mimetype": "text/x-python",
   "name": "python",
   "nbconvert_exporter": "python",
   "pygments_lexer": "ipython3",
   "version": "3.7.0"
  },
  "orig_nbformat": 4
 },
 "nbformat": 4,
 "nbformat_minor": 2
}
