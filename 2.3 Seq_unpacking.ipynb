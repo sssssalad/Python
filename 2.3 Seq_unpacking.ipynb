{
 "cells": [
  {
   "attachments": {},
   "cell_type": "markdown",
   "metadata": {},
   "source": [
    "#### 序列解包（Sequence unpacking:用于将序列（如元组、列表或字符串）的元素解包并赋值给多个变量。\n",
    "当序列中的元素数量与我们想要赋值的变量数量相同时，可以使用序列解包来同时为这些变量赋值。这样每个变量将分别接收序列中对应位置的元素值。"
   ]
  },
  {
   "cell_type": "code",
   "execution_count": 1,
   "metadata": {},
   "outputs": [
    {
     "name": "stdout",
     "output_type": "stream",
     "text": [
      "1\n",
      "2\n",
      "3\n"
     ]
    }
   ],
   "source": [
    "tuple1 = (1, 2, 3)\n",
    "a, b, c = tuple1\n",
    "print(a)  \n",
    "print(b)  \n",
    "print(c)  "
   ]
  },
  {
   "attachments": {},
   "cell_type": "markdown",
   "metadata": {},
   "source": [
    "序列解包要求变量的数量与序列的元素数量相等，否则会引发 ValueError 错误\n",
    "\n",
    "对一个可迭代对象进行解包时，可使用 * 来接收多余的元素，或使用 _ 来表示不需要的元素"
   ]
  },
  {
   "cell_type": "code",
   "execution_count": 2,
   "metadata": {},
   "outputs": [
    {
     "name": "stdout",
     "output_type": "stream",
     "text": [
      "1\n",
      "2\n",
      "[3, 4, 5]\n",
      "10\n",
      "20\n"
     ]
    }
   ],
   "source": [
    "lst = [1, 2, 3, 4, 5]\n",
    "a, b, *rest = lst\n",
    "print(a)     # 输出：1\n",
    "print(b)     # 输出：2\n",
    "print(rest)  # 输出：[3, 4, 5]\n",
    "\n",
    "x, y, _, _ = (10, 20, 30, 40)\n",
    "print(x)     # 输出：10\n",
    "print(y)     # 输出：20"
   ]
  },
  {
   "cell_type": "code",
   "execution_count": 3,
   "metadata": {},
   "outputs": [
    {
     "name": "stdout",
     "output_type": "stream",
     "text": [
      "1 2 3\n",
      "False 3.5 exp\n",
      "False 3.5 exp\n"
     ]
    }
   ],
   "source": [
    "x, y, z = 1, 2, 3             #多个变量同时赋值\n",
    "print(x,y,z)\n",
    "\n",
    "v_tuple = (False, 3.5, 'exp')\n",
    "(x, y, z) = v_tuple\n",
    "print(x,y,z)\n",
    "\n",
    "x, y, z = v_tuple\n",
    "print(x,y,z)"
   ]
  },
  {
   "cell_type": "code",
   "execution_count": 4,
   "metadata": {},
   "outputs": [
    {
     "name": "stdout",
     "output_type": "stream",
     "text": [
      "0 1 2\n",
      "1 2 3\n",
      "0 1 2\n"
     ]
    }
   ],
   "source": [
    "x, y, z = range(3)            #可以对range对象进行序列解包\n",
    "print(x,y,z)\n",
    "\n",
    "x, y, z = iter([1, 2, 3])     #使用迭代器对象进行序列解包\n",
    "print(x,y,z)\n",
    "\n",
    "x, y, z = map(str, range(3))  #使用可迭代的map对象进行序列解包\n",
    "print(x,y,z)\n",
    "\n",
    "x, y, z = sorted([1, 3, 2])   #sorted()函数返回排序后的列表\n",
    "print(x,y,z)\n"
   ]
  },
  {
   "cell_type": "code",
   "execution_count": 5,
   "metadata": {},
   "outputs": [
    {
     "name": "stdout",
     "output_type": "stream",
     "text": [
      "1 2 3\n",
      "A B C\n",
      "B A C\n"
     ]
    }
   ],
   "source": [
    "a, b, c = 'ABC'               #字符串\n",
    "print(a,b,c)\n",
    "a, b = b, a                   #交换两个变量的值\n",
    "print(a,b,c)"
   ]
  },
  {
   "cell_type": "code",
   "execution_count": 7,
   "metadata": {},
   "outputs": [
    {
     "name": "stdout",
     "output_type": "stream",
     "text": [
      "[1, 2, 3, 4, 5, 6]\n",
      "[0.0, 1.0, 2.0, 3.0, 4.0, 4, 5, 6]\n"
     ]
    }
   ],
   "source": [
    "x = [1, 2, 3, 4, 5, 6]\n",
    "print(x)\n",
    "x[:3] = map(float, range(5))    #切片\n",
    "print(x)"
   ]
  },
  {
   "cell_type": "code",
   "execution_count": 10,
   "metadata": {},
   "outputs": [
    {
     "name": "stdout",
     "output_type": "stream",
     "text": [
      "('a', 1)\n",
      "a\n",
      "1 2 3\n"
     ]
    }
   ],
   "source": [
    "s = {'a':1, 'b':2, 'c':3} # 字典\n",
    "b, c, d = s.items()\n",
    "print(b)       \n",
    "b, c, d = s    #使用字典时不用太多考虑元素的顺序\n",
    "print(b)\n",
    "b, c, d = s.values()\n",
    "print(b, c, d)       "
   ]
  },
  {
   "cell_type": "code",
   "execution_count": 11,
   "metadata": {},
   "outputs": [
    {
     "name": "stdout",
     "output_type": "stream",
     "text": [
      "('a', 1) ('b', 2) ('c', 3) ('d', 4) "
     ]
    }
   ],
   "source": [
    "# 序列解包多个序列\n",
    "keys = ['a', 'b', 'c', 'd']\n",
    "values = [1, 2, 3, 4]\n",
    "for k, v in zip(keys, values):\n",
    "\tprint((k, v), end=' ')"
   ]
  },
  {
   "cell_type": "code",
   "execution_count": 12,
   "metadata": {},
   "outputs": [
    {
     "name": "stdout",
     "output_type": "stream",
     "text": [
      "The value on position 0 is a\n",
      "The value on position 1 is b\n",
      "The value on position 2 is c\n"
     ]
    }
   ],
   "source": [
    "# 序列解包enumerate对象\n",
    "x=['a', 'b', 'c']\n",
    "for i, v in enumerate(x):\n",
    "\tprint('The value on position {0} is {1}'.format(i,v))"
   ]
  },
  {
   "attachments": {},
   "cell_type": "markdown",
   "metadata": {},
   "source": [
    "### 使用 * 运算符解包"
   ]
  },
  {
   "cell_type": "code",
   "execution_count": 13,
   "metadata": {},
   "outputs": [
    {
     "name": "stdout",
     "output_type": "stream",
     "text": [
      "1 2 3 4 5 6\n"
     ]
    }
   ],
   "source": [
    "# 使用 * 运算符对列表 [1, 2, 3] 和元组（5,6）进行解包，将列表、元组中的元素分别作为单独的参数传递给 print()\n",
    "print(*[1, 2, 3], 4, *(5, 6))"
   ]
  },
  {
   "cell_type": "code",
   "execution_count": 14,
   "metadata": {},
   "outputs": [
    {
     "data": {
      "text/plain": [
       "(0, 1, 2, 3, 4)"
      ]
     },
     "execution_count": 14,
     "metadata": {},
     "output_type": "execute_result"
    }
   ],
   "source": [
    "# # 使用 * 运算符对range对象解包\n",
    "*range(4),4"
   ]
  },
  {
   "cell_type": "code",
   "execution_count": 15,
   "metadata": {},
   "outputs": [
    {
     "data": {
      "text/plain": [
       "{'x': 1, 'y': 2}"
      ]
     },
     "execution_count": 15,
     "metadata": {},
     "output_type": "execute_result"
    }
   ],
   "source": [
    "{'x': 1, **{'y': 2}}"
   ]
  },
  {
   "attachments": {},
   "cell_type": "markdown",
   "metadata": {},
   "source": [
    "在字典的创建中使用双星号运算符 ** 可以将一个字典解包并将其键值对添加到另一个字典中。"
   ]
  },
  {
   "cell_type": "code",
   "execution_count": 16,
   "metadata": {},
   "outputs": [
    {
     "data": {
      "text/plain": [
       "{'x': 1, 'y': 2}"
      ]
     },
     "execution_count": 16,
     "metadata": {},
     "output_type": "execute_result"
    }
   ],
   "source": [
    "#运算符 ** 将字典 {'y': 2} 进行解包，并将其中的键值对添加到最外层的字典中\n",
    "{'x': 1, **{'y': 2}}"
   ]
  },
  {
   "cell_type": "code",
   "execution_count": null,
   "metadata": {},
   "outputs": [],
   "source": []
  }
 ],
 "metadata": {
  "kernelspec": {
   "display_name": "base",
   "language": "python",
   "name": "python3"
  },
  "language_info": {
   "codemirror_mode": {
    "name": "ipython",
    "version": 3
   },
   "file_extension": ".py",
   "mimetype": "text/x-python",
   "name": "python",
   "nbconvert_exporter": "python",
   "pygments_lexer": "ipython3",
   "version": "3.7.0"
  },
  "orig_nbformat": 4
 },
 "nbformat": 4,
 "nbformat_minor": 2
}
