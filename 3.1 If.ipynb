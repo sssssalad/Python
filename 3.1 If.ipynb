{
 "cells": [
  {
   "attachments": {},
   "cell_type": "markdown",
   "metadata": {},
   "source": [
    "- 算术运算符：+、-、*、/、//、%、**\n",
    "- 关系运算符：>、<、==、<=、>=、!=，可以**连续使用**\n",
    "- 测试运算符：in、not in、is、is not\n",
    "- 逻辑运算符：and、or、not，注意**短路求值**，使用时注意先后顺序可提升运行效率\n",
    "- 位运算符：~、&、|、 ^、 <<、>>\n",
    "> 在选择和循环结构中，条件表达式的值只要不是**False**、**0**（或0.0、0j等）、**空值None**、**空列表**、**空元组**、**空集合**、**空字典**、**空字符串**、**空range对象**或其他**空迭代对象**，Python解释器均认为与True等价。\n",
    "\n",
    "> **and**、**or**、**关系运算符**：**惰性求值**特点，只计算必须计算的表达式\n",
    "\n",
    "> 条件表达式中不允许使用赋值运算符“=”"
   ]
  },
  {
   "cell_type": "code",
   "execution_count": 3,
   "metadata": {},
   "outputs": [
    {
     "name": "stdout",
     "output_type": "stream",
     "text": [
      "True\n",
      "False\n",
      "False\n",
      "True\n"
     ]
    }
   ],
   "source": [
    "print(1<2<3)\n",
    "print(1>2<3)\n",
    "print(1<2>3)\n",
    "print(1<3>2)"
   ]
  },
  {
   "cell_type": "code",
   "execution_count": 7,
   "metadata": {},
   "outputs": [
    {
     "name": "stdout",
     "output_type": "stream",
     "text": [
      "55\n",
      "55\n",
      "55\n"
     ]
    }
   ],
   "source": [
    "i = s = 0\n",
    "while i <= 10:              #使用关系表达式作为条件表达式\n",
    "    s += i\n",
    "    i += 1\n",
    "print(s)\n",
    "\n",
    "#等价\n",
    "i = s = 0\n",
    "while True:\n",
    "    s += i\n",
    "    i += 1\n",
    "    if i > 10:\n",
    "        break\n",
    "print(s)\n",
    "\n",
    "#等价\n",
    "s = 0\n",
    "for i in range(11):\n",
    "    s += i\n",
    "print(s)"
   ]
  },
  {
   "cell_type": "code",
   "execution_count": 15,
   "metadata": {},
   "outputs": [
    {
     "name": "stdout",
     "output_type": "stream",
     "text": [
      "==================================================\n",
      "negative or zero\n",
      "==================================================\n",
      "negative\n",
      "==================================================\n",
      "negative or zero\n"
     ]
    }
   ],
   "source": [
    "#单分支结构\n",
    "x = -1\n",
    "if x > 0:\n",
    "    print('positive')\n",
    "print(\"=\"*50)\n",
    "\n",
    "#双分支结构\n",
    "if x > 0:\n",
    "    print('positive')\n",
    "else:\n",
    "    print('negative or zero')\n",
    "print(\"=\"*50)\n",
    "\n",
    "#多分支结构\n",
    "if x > 0:\n",
    "    print('positive')\n",
    "elif x < 0:  #elif是else if的缩写\n",
    "    print('negative')\n",
    "else:\n",
    "    print('zero')\n",
    "print(\"=\"*50)\n",
    "\n",
    "#嵌套分支结构\n",
    "if x > 0:\n",
    "    if x > 10:\n",
    "        print('x > 10')\n",
    "    else:\n",
    "        print('0 > x < 10')\n",
    "else:\n",
    "    print('negative or zero')"
   ]
  },
  {
   "attachments": {},
   "cell_type": "markdown",
   "metadata": {},
   "source": [
    "#### value1 if condition else value2形式\n",
    "- 当条件表达式condition的值与True等价时，表达式的值为value1，否则表达式的值为value2\n",
    "- 在value1和value2中可使用复杂表达式"
   ]
  },
  {
   "cell_type": "code",
   "execution_count": 18,
   "metadata": {},
   "outputs": [
    {
     "name": "stdout",
     "output_type": "stream",
     "text": [
      "positive\n",
      "positive\n",
      "positive\n"
     ]
    }
   ],
   "source": [
    "x = 10\n",
    "print('positive') if x>0 else print('negative')\n",
    "\n",
    "print('positive' if x>0 else 'negative')\n",
    "\n",
    "b='positive' if x>0 else 'negative'\n",
    "print(b)"
   ]
  },
  {
   "cell_type": "code",
   "execution_count": 1,
   "metadata": {
    "ExecuteTime": {
     "end_time": "2022-07-02T11:07:19.600404Z",
     "start_time": "2022-07-02T11:07:19.594033Z"
    }
   },
   "outputs": [
    {
     "name": "stdout",
     "output_type": "stream",
     "text": [
      "Audi\n",
      "BMW\n",
      "Subaru\n",
      "Toyota\n"
     ]
    }
   ],
   "source": [
    "cars=['audi','bmw','subaru','toyota']\n",
    "\n",
    "for car in cars:\n",
    "    if car == 'bmw':\n",
    "        print(car.upper())\n",
    "    else:\n",
    "        print(car.title())"
   ]
  },
  {
   "attachments": {},
   "cell_type": "markdown",
   "metadata": {},
   "source": [
    "### 检测是否相等"
   ]
  },
  {
   "cell_type": "code",
   "execution_count": 2,
   "metadata": {
    "ExecuteTime": {
     "end_time": "2022-07-02T11:07:19.631861Z",
     "start_time": "2022-07-02T11:07:19.602455Z"
    }
   },
   "outputs": [
    {
     "data": {
      "text/plain": [
       "True"
      ]
     },
     "execution_count": 2,
     "metadata": {},
     "output_type": "execute_result"
    }
   ],
   "source": [
    "car = 'bmw'#给变量赋值，将变量car的值设置为bmw\n",
    "car == 'bmw'#发问，变量car的值是否为bmw"
   ]
  },
  {
   "cell_type": "code",
   "execution_count": 3,
   "metadata": {
    "ExecuteTime": {
     "end_time": "2022-07-02T11:07:19.647865Z",
     "start_time": "2022-07-02T11:07:19.634862Z"
    }
   },
   "outputs": [
    {
     "data": {
      "text/plain": [
       "False"
      ]
     },
     "execution_count": 3,
     "metadata": {},
     "output_type": "execute_result"
    }
   ],
   "source": [
    "car = 'audi'#赋值\n",
    "car == 'bmw'#检验是否相等，不改变变量值"
   ]
  },
  {
   "cell_type": "code",
   "execution_count": 4,
   "metadata": {
    "ExecuteTime": {
     "end_time": "2022-07-02T11:07:19.663859Z",
     "start_time": "2022-07-02T11:07:19.649862Z"
    }
   },
   "outputs": [
    {
     "data": {
      "text/plain": [
       "False"
      ]
     },
     "execution_count": 4,
     "metadata": {},
     "output_type": "execute_result"
    }
   ],
   "source": [
    "car = 'Audi'\n",
    "car == 'audi'#区分大小写"
   ]
  },
  {
   "cell_type": "code",
   "execution_count": 5,
   "metadata": {
    "ExecuteTime": {
     "end_time": "2022-07-02T11:07:19.679905Z",
     "start_time": "2022-07-02T11:07:19.665859Z"
    }
   },
   "outputs": [
    {
     "data": {
      "text/plain": [
       "True"
      ]
     },
     "execution_count": 5,
     "metadata": {},
     "output_type": "execute_result"
    }
   ],
   "source": [
    "car = 'Audi'\n",
    "car.lower() == 'audi'#将变量的值转换为小写，从而进行判断"
   ]
  },
  {
   "cell_type": "code",
   "execution_count": 6,
   "metadata": {
    "ExecuteTime": {
     "end_time": "2022-07-02T11:07:19.695859Z",
     "start_time": "2022-07-02T11:07:19.681867Z"
    }
   },
   "outputs": [
    {
     "data": {
      "text/plain": [
       "'Audi'"
      ]
     },
     "execution_count": 6,
     "metadata": {},
     "output_type": "execute_result"
    }
   ],
   "source": [
    "car"
   ]
  },
  {
   "attachments": {},
   "cell_type": "markdown",
   "metadata": {},
   "source": [
    "### 检测是否不相等"
   ]
  },
  {
   "cell_type": "code",
   "execution_count": 7,
   "metadata": {
    "ExecuteTime": {
     "end_time": "2022-07-02T11:07:19.710860Z",
     "start_time": "2022-07-02T11:07:19.697864Z"
    }
   },
   "outputs": [
    {
     "name": "stdout",
     "output_type": "stream",
     "text": [
      "Hold the anchovies!\n"
     ]
    }
   ],
   "source": [
    "requested_topping='mushrooms'\n",
    "\n",
    "if requested_topping!='anchovies':#若满足不相等则返回True，执行print\n",
    "    print(\"Hold the anchovies!\")"
   ]
  },
  {
   "attachments": {},
   "cell_type": "markdown",
   "metadata": {},
   "source": [
    "### 比较数字"
   ]
  },
  {
   "cell_type": "code",
   "execution_count": 8,
   "metadata": {
    "ExecuteTime": {
     "end_time": "2022-07-02T11:07:19.725909Z",
     "start_time": "2022-07-02T11:07:19.713868Z"
    }
   },
   "outputs": [
    {
     "name": "stdout",
     "output_type": "stream",
     "text": [
      "True\n",
      "True\n",
      "False\n",
      "True\n",
      "False\n"
     ]
    }
   ],
   "source": [
    "age=17\n",
    "print(age!=21)\n",
    "print(age<21)\n",
    "print(age>21)\n",
    "print(age<=21)\n",
    "print(age>=21)"
   ]
  },
  {
   "attachments": {},
   "cell_type": "markdown",
   "metadata": {},
   "source": [
    "### and、or检查多个条件"
   ]
  },
  {
   "cell_type": "code",
   "execution_count": 9,
   "metadata": {
    "ExecuteTime": {
     "end_time": "2022-07-02T11:07:19.741858Z",
     "start_time": "2022-07-02T11:07:19.727860Z"
    }
   },
   "outputs": [
    {
     "data": {
      "text/plain": [
       "False"
      ]
     },
     "execution_count": 9,
     "metadata": {},
     "output_type": "execute_result"
    }
   ],
   "source": [
    "#两个人是否同时满足不小于21岁\n",
    "age_0=22\n",
    "age_1=13\n",
    "(age_0>=21) and (age_1>=21)"
   ]
  },
  {
   "cell_type": "code",
   "execution_count": 10,
   "metadata": {
    "ExecuteTime": {
     "end_time": "2022-07-02T11:07:19.756858Z",
     "start_time": "2022-07-02T11:07:19.743861Z"
    }
   },
   "outputs": [
    {
     "data": {
      "text/plain": [
       "True"
      ]
     },
     "execution_count": 10,
     "metadata": {},
     "output_type": "execute_result"
    }
   ],
   "source": [
    "age_1=22\n",
    "(age_0>=21) and (age_1>=21)"
   ]
  },
  {
   "cell_type": "code",
   "execution_count": 11,
   "metadata": {
    "ExecuteTime": {
     "end_time": "2022-07-02T11:07:19.771876Z",
     "start_time": "2022-07-02T11:07:19.757896Z"
    }
   },
   "outputs": [
    {
     "data": {
      "text/plain": [
       "True"
      ]
     },
     "execution_count": 11,
     "metadata": {},
     "output_type": "execute_result"
    }
   ],
   "source": [
    "#两个人是否至少有一个满足不小于21岁\n",
    "age_0=22\n",
    "age_1=13\n",
    "(age_0>=21) or (age_1>=21)"
   ]
  },
  {
   "cell_type": "code",
   "execution_count": 12,
   "metadata": {
    "ExecuteTime": {
     "end_time": "2022-07-02T11:07:19.787897Z",
     "start_time": "2022-07-02T11:07:19.773862Z"
    }
   },
   "outputs": [
    {
     "data": {
      "text/plain": [
       "False"
      ]
     },
     "execution_count": 12,
     "metadata": {},
     "output_type": "execute_result"
    }
   ],
   "source": [
    "age_0=18\n",
    "(age_0>=21) or (age_1>=21)"
   ]
  },
  {
   "attachments": {},
   "cell_type": "markdown",
   "metadata": {},
   "source": [
    "### in 检查特定值是否包含在列表中"
   ]
  },
  {
   "cell_type": "code",
   "execution_count": 15,
   "metadata": {
    "ExecuteTime": {
     "end_time": "2022-07-02T11:11:21.176177Z",
     "start_time": "2022-07-02T11:11:21.159557Z"
    }
   },
   "outputs": [
    {
     "name": "stdout",
     "output_type": "stream",
     "text": [
      "True\n",
      "True\n",
      "False\n"
     ]
    }
   ],
   "source": [
    "requested_toppings=['mushrooms','onions','pineapple']\n",
    "print('mushrooms' in requested_toppings)\n",
    "print('onions' in requested_toppings)\n",
    "print('tomato' in requested_toppings)"
   ]
  },
  {
   "attachments": {},
   "cell_type": "markdown",
   "metadata": {},
   "source": [
    "### if"
   ]
  },
  {
   "cell_type": "code",
   "execution_count": 17,
   "metadata": {
    "ExecuteTime": {
     "end_time": "2022-07-02T14:12:46.116230Z",
     "start_time": "2022-07-02T14:12:46.092968Z"
    }
   },
   "outputs": [],
   "source": [
    "age=13\n",
    "if age>=18:\n",
    "    print('You are old enough to vote!')\n",
    "    print('Have you registered to vote yet?')"
   ]
  },
  {
   "attachments": {},
   "cell_type": "markdown",
   "metadata": {},
   "source": [
    "## if-else"
   ]
  },
  {
   "cell_type": "code",
   "execution_count": 18,
   "metadata": {
    "ExecuteTime": {
     "end_time": "2022-07-02T14:15:28.462717Z",
     "start_time": "2022-07-02T14:15:28.447134Z"
    }
   },
   "outputs": [
    {
     "name": "stdout",
     "output_type": "stream",
     "text": [
      "You are old enough to vote!\n",
      "Have you registered to vote yet?\n"
     ]
    }
   ],
   "source": [
    "age=19\n",
    "if age>=18:\n",
    "    print('You are old enough to vote!')\n",
    "    print('Have you registered to vote yet?')\n",
    "else:\n",
    "    print(\"Sorry,you are too young to vote.\")\n",
    "    print(\"Please register to vote as soon as you turn 18!\")"
   ]
  },
  {
   "attachments": {},
   "cell_type": "markdown",
   "metadata": {
    "ExecuteTime": {
     "end_time": "2022-07-02T14:16:17.780461Z",
     "start_time": "2022-07-02T14:16:17.772461Z"
    }
   },
   "source": [
    "### if-elif-else"
   ]
  },
  {
   "cell_type": "code",
   "execution_count": 20,
   "metadata": {
    "ExecuteTime": {
     "end_time": "2022-07-02T14:20:36.647263Z",
     "start_time": "2022-07-02T14:20:36.631732Z"
    }
   },
   "outputs": [
    {
     "name": "stdout",
     "output_type": "stream",
     "text": [
      "Your admission cost is $5.\n"
     ]
    }
   ],
   "source": [
    "age=12\n",
    "\n",
    "if age <4:\n",
    "    print(\"Your admission cost is $0.\")\n",
    "elif age<18:\n",
    "    print(\"Your admission cost is $5.\")\n",
    "else:\n",
    "    print(\"Your admission cost is $10.\")"
   ]
  },
  {
   "cell_type": "code",
   "execution_count": 21,
   "metadata": {
    "ExecuteTime": {
     "end_time": "2022-07-02T14:44:03.166716Z",
     "start_time": "2022-07-02T14:44:03.143208Z"
    }
   },
   "outputs": [
    {
     "name": "stdout",
     "output_type": "stream",
     "text": [
      "Your admission cost is $5.\n"
     ]
    }
   ],
   "source": [
    "age=12\n",
    "#效率高，更易修改\n",
    "if age <4:\n",
    "    price=0\n",
    "elif age<18:\n",
    "    price=5\n",
    "else:\n",
    "    price=10\n",
    "    \n",
    "print(\"Your admission cost is $\"+ str(price)+\".\")"
   ]
  },
  {
   "attachments": {},
   "cell_type": "markdown",
   "metadata": {},
   "source": [
    "### if-elif-elif-else"
   ]
  },
  {
   "cell_type": "code",
   "execution_count": 22,
   "metadata": {
    "ExecuteTime": {
     "end_time": "2022-07-02T14:57:28.884412Z",
     "start_time": "2022-07-02T14:57:28.868823Z"
    }
   },
   "outputs": [
    {
     "name": "stdout",
     "output_type": "stream",
     "text": [
      "Your admission cost is $5.\n"
     ]
    }
   ],
   "source": [
    "age=12\n",
    "\n",
    "if age <4:\n",
    "    price=0\n",
    "elif age<18:\n",
    "    price=5\n",
    "elif age<65:\n",
    "    price=10   \n",
    "else:\n",
    "    price=5\n",
    "    \n",
    "print(\"Your admission cost is $\"+ str(price)+\".\")"
   ]
  },
  {
   "attachments": {},
   "cell_type": "markdown",
   "metadata": {},
   "source": [
    "### if-elif-elif-elif"
   ]
  },
  {
   "cell_type": "code",
   "execution_count": 24,
   "metadata": {
    "ExecuteTime": {
     "end_time": "2022-07-02T15:00:34.844627Z",
     "start_time": "2022-07-02T15:00:34.836626Z"
    }
   },
   "outputs": [
    {
     "name": "stdout",
     "output_type": "stream",
     "text": [
      "Your admission cost is $5.\n"
     ]
    }
   ],
   "source": [
    "age=12\n",
    "#else 可能引入无效甚至恶意的数据\n",
    "if age <4:\n",
    "    price=0\n",
    "elif age<18:\n",
    "    price=5\n",
    "elif age<65:\n",
    "    price=10   \n",
    "elif age>65:\n",
    "    price=5\n",
    "    \n",
    "print(\"Your admission cost is $\"+ str(price)+\".\")"
   ]
  },
  {
   "attachments": {},
   "cell_type": "markdown",
   "metadata": {},
   "source": [
    "### 核查特殊元素"
   ]
  },
  {
   "cell_type": "code",
   "execution_count": 40,
   "metadata": {
    "ExecuteTime": {
     "end_time": "2022-07-02T15:56:42.693667Z",
     "start_time": "2022-07-02T15:56:42.670374Z"
    }
   },
   "outputs": [
    {
     "name": "stdout",
     "output_type": "stream",
     "text": [
      "Adding mushrooms.\n",
      "Sorry,we are out of onions.\n",
      "Adding pineapple.\n",
      "\n",
      "Finished making your pizza!\n"
     ]
    }
   ],
   "source": [
    "requested_toppings=['mushrooms','onions','pineapple']\n",
    "for i in requested_toppings:\n",
    "    if i=='onions':\n",
    "        print(\"Sorry,we are out of onions.\")\n",
    "    else:\n",
    "        print(\"Adding \"+i+\".\")\n",
    "print('\\nFinished making your pizza!')"
   ]
  },
  {
   "attachments": {},
   "cell_type": "markdown",
   "metadata": {},
   "source": [
    "### 确认列表非空"
   ]
  },
  {
   "cell_type": "code",
   "execution_count": 41,
   "metadata": {
    "ExecuteTime": {
     "end_time": "2022-07-02T16:01:15.738384Z",
     "start_time": "2022-07-02T16:01:15.723126Z"
    }
   },
   "outputs": [
    {
     "name": "stdout",
     "output_type": "stream",
     "text": [
      "Are you sure you want a plain pizza?\n"
     ]
    }
   ],
   "source": [
    "requested_toppings=[]\n",
    "if requested_toppings:#当列表非空时满足条件\n",
    "    for i in requested_toppings:\n",
    "        print(\"Adding \"+i+\".\")\n",
    "    print('\\nFinished making your pizza!')\n",
    "else:\n",
    "    print(\"Are you sure you want a plain pizza?\")"
   ]
  },
  {
   "attachments": {},
   "cell_type": "markdown",
   "metadata": {},
   "source": [
    "### 使用多个列表"
   ]
  },
  {
   "cell_type": "code",
   "execution_count": 43,
   "metadata": {
    "ExecuteTime": {
     "end_time": "2022-07-02T16:07:56.581126Z",
     "start_time": "2022-07-02T16:07:56.556318Z"
    }
   },
   "outputs": [
    {
     "name": "stdout",
     "output_type": "stream",
     "text": [
      "Adding mushrooms.\n",
      "Sorry,we don't have french fries.\n",
      "Adding extra cheese.\n",
      "\n",
      "Finished making your pizza!\n"
     ]
    }
   ],
   "source": [
    "available_toppings=['mushrooms','olives','green pepers','pepperoni','pineapple','extra cheese']\n",
    "requested_toppings=['mushrooms','french fries','extra cheese']\n",
    "\n",
    "for i in requested_toppings:\n",
    "    if i in available_toppings:\n",
    "        print(\"Adding \"+i+\".\")\n",
    "    else:\n",
    "        print(\"Sorry,we don't have \"+i+\".\")\n",
    "print('\\nFinished making your pizza!')"
   ]
  },
  {
   "attachments": {},
   "cell_type": "markdown",
   "metadata": {},
   "source": [
    "#### input()提示过长时"
   ]
  },
  {
   "cell_type": "code",
   "execution_count": 1,
   "metadata": {},
   "outputs": [
    {
     "name": "stdout",
     "output_type": "stream",
     "text": [
      "\n",
      "Hello, salad!\n"
     ]
    }
   ],
   "source": [
    "prompt = \"If you tell us who you are,we can personalize the messages you see.\"\n",
    "prompt += \"\\nWhat's your first name? \"\n",
    "\n",
    "name = input(prompt)\n",
    "print(\"\\nHello, \"+name +\"!\")"
   ]
  },
  {
   "attachments": {},
   "cell_type": "markdown",
   "metadata": {},
   "source": [
    "## Practice"
   ]
  },
  {
   "attachments": {},
   "cell_type": "markdown",
   "metadata": {},
   "source": [
    "用户输入若干个分数，求所有分数的平均分。每输入一个分数后询问是否继续输入下一个分数，回答“yes”就继续输入下一个分数，回答“no”就停止输入分数。"
   ]
  },
  {
   "cell_type": "code",
   "execution_count": 20,
   "metadata": {},
   "outputs": [
    {
     "name": "stdout",
     "output_type": "stream",
     "text": [
      "只能输入yes或no\n",
      "54.0\n"
     ]
    }
   ],
   "source": [
    "numbers = []                              #使用列表存放临时数据\n",
    "while True:\n",
    "    x = input('请输入一个成绩：')\n",
    "    try:                                  #异常处理结构\n",
    "        numbers.append(float(x))\n",
    "    except:\n",
    "        print('不是合法成绩')\n",
    "    while True:\n",
    "        flag = input('继续输入吗？（yes/no）').lower()\n",
    "        if flag not in ('yes', 'no'):     #限定用户输入内容必须为yes或no\n",
    "            print('只能输入yes或no')\n",
    "        else:\n",
    "            break\n",
    "    if flag=='no':\n",
    "        break\n",
    "\n",
    "print(sum(numbers)/len(numbers))"
   ]
  },
  {
   "attachments": {},
   "cell_type": "markdown",
   "metadata": {},
   "source": [
    "判断今天是今年的第几天\n"
   ]
  },
  {
   "cell_type": "code",
   "execution_count": 21,
   "metadata": {},
   "outputs": [
    {
     "name": "stdout",
     "output_type": "stream",
     "text": [
      "145\n"
     ]
    }
   ],
   "source": [
    "import time\n",
    "date = time.localtime()                         #获取当前日期时间\n",
    "year, month, day = date[:3]\n",
    "day_month = [31, 28, 31, 30, 31, 30, 31, 31, 30, 31, 30, 31]\n",
    "\n",
    "if year%400==0 or (year%4==0 and year%100!=0):  #判断是否为闰年\n",
    "    day_month[1] = 29\n",
    "\n",
    "if month==1:\n",
    "    print(day)\n",
    "else:\n",
    "    print(sum(day_month[:month-1])+day)"
   ]
  },
  {
   "cell_type": "code",
   "execution_count": 23,
   "metadata": {},
   "outputs": [
    {
     "data": {
      "text/plain": [
       "False"
      ]
     },
     "execution_count": 23,
     "metadata": {},
     "output_type": "execute_result"
    }
   ],
   "source": [
    "#闰年判断可以直接使用calendar模块的方法。\n",
    "import calendar\n",
    "calendar.isleap(2023)"
   ]
  },
  {
   "cell_type": "code",
   "execution_count": 24,
   "metadata": {},
   "outputs": [
    {
     "name": "stdout",
     "output_type": "stream",
     "text": [
      "145\n"
     ]
    }
   ],
   "source": [
    "# 优化\n",
    "import time\n",
    "import calendar\n",
    "date = time.localtime()                         #获取当前日期时间\n",
    "year, month, day = date[:3]\n",
    "day_month = [31, 28, 31, 30, 31, 30, 31, 31, 30, 31, 30, 31]\n",
    "\n",
    "if calendar.isleap(year):  #判断是否为闰年\n",
    "    day_month[1] = 29\n",
    "\n",
    "if month==1:\n",
    "    print(day)\n",
    "else:\n",
    "    print(sum(day_month[:month-1])+day)"
   ]
  },
  {
   "attachments": {},
   "cell_type": "markdown",
   "metadata": {},
   "source": [
    "### 5-3 外星人颜色"
   ]
  },
  {
   "cell_type": "code",
   "execution_count": null,
   "metadata": {},
   "outputs": [],
   "source": [
    "alien_color='green'\n",
    "if alien_color=='green':\n",
    "    print(\"You got 5 points.\")\n",
    "    \n",
    "alien_color='yellow'\n",
    "if alien_color=='green':\n",
    "    print(\"none\")\n",
    "    \n",
    "alien_color='green'\n",
    "if alien_color=='green':\n",
    "    print(\"Well done! You got 5 points.\")\n",
    "else:\n",
    "    print(\"You got 10 points.\")\n",
    "\n",
    "alien_color='green'\n",
    "if alien_color=='green':\n",
    "    print(\"Well done! You got 5 points.\")\n",
    "elif alien_color=='yellow':\n",
    "    print(\"You got 10 points.\")\n",
    "else:\n",
    "    print(\"You got 15 points.\")   "
   ]
  },
  {
   "attachments": {},
   "cell_type": "markdown",
   "metadata": {},
   "source": [
    "### 5-8"
   ]
  },
  {
   "cell_type": "code",
   "execution_count": 45,
   "metadata": {
    "ExecuteTime": {
     "end_time": "2022-07-02T16:11:29.929877Z",
     "start_time": "2022-07-02T16:11:29.914825Z"
    }
   },
   "outputs": [
    {
     "name": "stdout",
     "output_type": "stream",
     "text": [
      "Hello bob, thank you for logging in again.\n",
      "Hello jane, thank you for logging in again.\n",
      "Hello jack, thank you for logging in again.\n",
      "Hello admin, would you like to see a status report?\n",
      "Hello tom, thank you for logging in again.\n"
     ]
    }
   ],
   "source": [
    "names= [\"bob\", \"jane\", \"jack\", \"admin\", \"tom\"]\n",
    "for i in names:\n",
    "    if i == \"admin\":\n",
    "        print(\"Hello \"+i+\", would you like to see a status report?\" )\n",
    "    else:\n",
    "        print(\"Hello \"+i+\", thank you for logging in again.\" )"
   ]
  },
  {
   "attachments": {},
   "cell_type": "markdown",
   "metadata": {},
   "source": [
    "### 5-9"
   ]
  },
  {
   "cell_type": "code",
   "execution_count": 46,
   "metadata": {
    "ExecuteTime": {
     "end_time": "2022-07-02T16:15:01.400450Z",
     "start_time": "2022-07-02T16:15:01.376587Z"
    }
   },
   "outputs": [
    {
     "name": "stdout",
     "output_type": "stream",
     "text": [
      "We need to find some users!\n"
     ]
    }
   ],
   "source": [
    "names=[]\n",
    "if len(names)==0:\n",
    "    print(\"We need to find some users!\")\n",
    "else:\n",
    "    for i in names:\n",
    "        if i == \"admin\":\n",
    "            print(\"Hello \"+i+\", would you like to see a status report?\" )\n",
    "        else:\n",
    "            print(\"Hello \"+i+\", thank you for logging in again.\" )"
   ]
  },
  {
   "attachments": {},
   "cell_type": "markdown",
   "metadata": {},
   "source": [
    "### 5-10"
   ]
  },
  {
   "cell_type": "code",
   "execution_count": 48,
   "metadata": {
    "ExecuteTime": {
     "end_time": "2022-07-02T16:21:27.051050Z",
     "start_time": "2022-07-02T16:21:27.035403Z"
    }
   },
   "outputs": [
    {
     "name": "stdout",
     "output_type": "stream",
     "text": [
      "名称xx可被使用\n",
      "名称cyx可被使用\n",
      "名称jack已被使用，请输入别的用户名\n",
      "名称admin已被使用，请输入别的用户名\n",
      "名称lory可被使用\n"
     ]
    }
   ],
   "source": [
    "current_users=[\"bob\", \"jane\", \"jack\", \"admin\", \"tom\"]\n",
    "new_users=[\"xx\", \"cyx\", \"jack\", \"admin\", \"lory\"]\n",
    "for i in new_users:\n",
    "    if i.lower() in current_users:#比较时不区分大小写\n",
    "        print(\"名称\"+i+\"已被使用，请输入别的用户名\")\n",
    "    else:\n",
    "        print(\"名称\"+i+\"可被使用\")"
   ]
  },
  {
   "cell_type": "code",
   "execution_count": null,
   "metadata": {},
   "outputs": [],
   "source": []
  }
 ],
 "metadata": {
  "kernelspec": {
   "display_name": "Python 3",
   "language": "python",
   "name": "python3"
  },
  "language_info": {
   "codemirror_mode": {
    "name": "ipython",
    "version": 3
   },
   "file_extension": ".py",
   "mimetype": "text/x-python",
   "name": "python",
   "nbconvert_exporter": "python",
   "pygments_lexer": "ipython3",
   "version": "3.7.0"
  }
 },
 "nbformat": 4,
 "nbformat_minor": 2
}
