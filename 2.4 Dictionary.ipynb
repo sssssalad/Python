{
 "cells": [
  {
   "attachments": {},
   "cell_type": "markdown",
   "metadata": {},
   "source": [
    "#### 字典:**无序**、**可变**序列\n",
    "- 一系列键值对，每个键值对是两个相关联的值\n",
    "- 指定键时将返回与之相关联的值\n",
    "- 键与值之间用**冒号**“：”分割，键值对之间用**逗号**“，”分割，所有的元素放在一对**大括号**“｛｝”中\n",
    "- 字典中的键可以为任意不可变数据，比如整数、实数、复数、字符串、元组等等"
   ]
  },
  {
   "cell_type": "code",
   "execution_count": 1,
   "metadata": {
    "ExecuteTime": {
     "end_time": "2022-07-13T08:39:42.129246Z",
     "start_time": "2022-07-13T08:39:42.116156Z"
    }
   },
   "outputs": [
    {
     "name": "stdout",
     "output_type": "stream",
     "text": [
      "green\n",
      "5\n"
     ]
    }
   ],
   "source": [
    "alien_0={'color':\"green\",'point':5}\n",
    "\n",
    "print(alien_0['color'])\n",
    "print(alien_0['point'])"
   ]
  },
  {
   "attachments": {},
   "cell_type": "markdown",
   "metadata": {},
   "source": [
    "### 添加键值对"
   ]
  },
  {
   "cell_type": "code",
   "execution_count": 2,
   "metadata": {
    "ExecuteTime": {
     "end_time": "2022-07-13T08:39:42.145242Z",
     "start_time": "2022-07-13T08:39:42.132248Z"
    }
   },
   "outputs": [
    {
     "name": "stdout",
     "output_type": "stream",
     "text": [
      "{'color': 'green', 'point': 5}\n",
      "\n",
      "{'color': 'green', 'point': 5, 'x_position': 0, 'y_position': 25}\n"
     ]
    }
   ],
   "source": [
    "alien_0={'color':\"green\",'point':5}\n",
    "print(alien_0)\n",
    "\n",
    "alien_0['x_position']=0\n",
    "alien_0['y_position']=25\n",
    "print(\"\\n\"+str(alien_0))#键值对的排列关系与添加顺序不同"
   ]
  },
  {
   "attachments": {},
   "cell_type": "markdown",
   "metadata": {},
   "source": [
    "### 创建空字典"
   ]
  },
  {
   "cell_type": "code",
   "execution_count": 3,
   "metadata": {
    "ExecuteTime": {
     "end_time": "2022-07-13T08:39:42.161242Z",
     "start_time": "2022-07-13T08:39:42.147246Z"
    }
   },
   "outputs": [
    {
     "name": "stdout",
     "output_type": "stream",
     "text": [
      "{'color': 'green', 'points': 5}\n"
     ]
    }
   ],
   "source": [
    "alien_0={}#便于存储用户提供的数据\n",
    "alien_0['color']='green'\n",
    "alien_0['points']=5\n",
    "print(alien_0)"
   ]
  },
  {
   "attachments": {},
   "cell_type": "markdown",
   "metadata": {},
   "source": [
    "#### dict():创建字典（Dictionary）对象,利用已有数据创建字典"
   ]
  },
  {
   "cell_type": "code",
   "execution_count": 1,
   "metadata": {},
   "outputs": [
    {
     "data": {
      "text/plain": [
       "{'a': 1, 'b': 2, 'c': 3, 'd': 4}"
      ]
     },
     "execution_count": 1,
     "metadata": {},
     "output_type": "execute_result"
    }
   ],
   "source": [
    "# 利用已有数据创建字典\n",
    "keys = ['a', 'b', 'c', 'd']\n",
    "values = [1, 2, 3, 4]\n",
    "dictionary = dict(zip(keys, values))\n",
    "dictionary"
   ]
  },
  {
   "cell_type": "code",
   "execution_count": 2,
   "metadata": {},
   "outputs": [
    {
     "data": {
      "text/plain": [
       "{}"
      ]
     },
     "execution_count": 2,
     "metadata": {},
     "output_type": "execute_result"
    }
   ],
   "source": [
    "x = dict() #空字典\n",
    "# 等效于x = {}\n",
    "x"
   ]
  },
  {
   "cell_type": "code",
   "execution_count": 3,
   "metadata": {},
   "outputs": [
    {
     "data": {
      "text/plain": [
       "{'a': 1, 'b': 2, 'c': 3}"
      ]
     },
     "execution_count": 3,
     "metadata": {},
     "output_type": "execute_result"
    }
   ],
   "source": [
    "# 根据给定的键、值创建字典\n",
    "dict_from_keywords = dict(a=1, b=2, c=3)\n",
    "dict_from_keywords"
   ]
  },
  {
   "cell_type": "code",
   "execution_count": 4,
   "metadata": {},
   "outputs": [
    {
     "data": {
      "text/plain": [
       "{'name': None, 'age': None, 'sex': None}"
      ]
     },
     "execution_count": 4,
     "metadata": {},
     "output_type": "execute_result"
    }
   ],
   "source": [
    "# 以给定内容为键，创建值为空的字典\n",
    "adict = dict.fromkeys(['name', 'age', 'sex'])\n",
    "adict"
   ]
  },
  {
   "attachments": {},
   "cell_type": "markdown",
   "metadata": {},
   "source": [
    "### 修改字典"
   ]
  },
  {
   "cell_type": "code",
   "execution_count": 4,
   "metadata": {
    "ExecuteTime": {
     "end_time": "2022-07-13T08:39:42.177278Z",
     "start_time": "2022-07-13T08:39:42.163247Z"
    }
   },
   "outputs": [
    {
     "name": "stdout",
     "output_type": "stream",
     "text": [
      "{'color': 'green', 'points': 5}\n",
      "The alien now is {'color': 'yellow', 'points': 5}\n"
     ]
    }
   ],
   "source": [
    "alien_0={'color':\"green\",'points':5}\n",
    "print(alien_0)\n",
    "alien_0['color']='yellow'\n",
    "print(\"The alien now is \"+str(alien_0))"
   ]
  },
  {
   "cell_type": "code",
   "execution_count": 5,
   "metadata": {
    "ExecuteTime": {
     "end_time": "2022-07-13T08:39:42.193248Z",
     "start_time": "2022-07-13T08:39:42.179244Z"
    }
   },
   "outputs": [
    {
     "name": "stdout",
     "output_type": "stream",
     "text": [
      "Original x_position: 0\n",
      "Nex x_position: 2\n"
     ]
    }
   ],
   "source": [
    "alien_0={'x_position':0,\"y_position\":25,'speed':'medium'}\n",
    "print(\"Original x_position: \"+str(alien_0['x_position']))\n",
    "\n",
    "#向右移动外星人\n",
    "if alien_0['speed']=='slow':\n",
    "    x_increment=1\n",
    "elif alien_0['speed']=='medium':\n",
    "    x_increment=2\n",
    "else:\n",
    "    x_increment=3\n",
    "\n",
    "alien_0[\"x_position\"]=alien_0['x_position']+x_increment\n",
    "print(\"Nex x_position: \" + str(alien_0['x_position']))"
   ]
  },
  {
   "attachments": {},
   "cell_type": "markdown",
   "metadata": {},
   "source": [
    "#### update()方法:将另一个字典的键、值对添加到当前字典对象。"
   ]
  },
  {
   "cell_type": "code",
   "execution_count": 38,
   "metadata": {},
   "outputs": [
    {
     "name": "stdout",
     "output_type": "stream",
     "text": [
      "dict_items([('age', 37), ('score', [98, 97]), ('name', 'Dong'), ('sex', 'male')])\n",
      "====================================================================================================\n",
      "{'age': 37, 'score': [98, 97], 'name': 'Dong', 'sex': 'male', 'a': 'a', 'b': 'b'}\n"
     ]
    }
   ],
   "source": [
    "aDict={'age': 37, 'score': [98, 97], 'name': 'Dong', 'sex': 'male'}\n",
    "print(aDict.items())\n",
    "print(\"=\"*100)\n",
    "aDict.update({'a':'a','b':'b'})\n",
    "print(aDict)"
   ]
  },
  {
   "attachments": {},
   "cell_type": "markdown",
   "metadata": {},
   "source": [
    "### 删除键值对 del"
   ]
  },
  {
   "cell_type": "code",
   "execution_count": 35,
   "metadata": {
    "ExecuteTime": {
     "end_time": "2022-07-13T08:39:42.209246Z",
     "start_time": "2022-07-13T08:39:42.196246Z"
    }
   },
   "outputs": [
    {
     "name": "stdout",
     "output_type": "stream",
     "text": [
      "{'color': 'green', 'points': 5}\n",
      "==================================================\n",
      "{'color': 'green'}\n"
     ]
    }
   ],
   "source": [
    "alien_0={'color':\"green\",'points':5}\n",
    "print(alien_0)\n",
    "print(\"=\"*50)\n",
    "del alien_0['points']\n",
    "print(alien_0)"
   ]
  },
  {
   "attachments": {},
   "cell_type": "markdown",
   "metadata": {},
   "source": [
    "### clear()方法:来删除字典中所有元素"
   ]
  },
  {
   "cell_type": "code",
   "execution_count": 34,
   "metadata": {},
   "outputs": [
    {
     "name": "stdout",
     "output_type": "stream",
     "text": [
      "{'color': 'green', 'points': 5}\n",
      "==================================================\n",
      "{}\n"
     ]
    }
   ],
   "source": [
    "alien_0={'color':\"green\",'points':5}\n",
    "print(alien_0)\n",
    "print(\"=\"*50)\n",
    "alien_0.clear()\n",
    "print(alien_0)"
   ]
  },
  {
   "attachments": {},
   "cell_type": "markdown",
   "metadata": {},
   "source": [
    "#### pop()方法:删除指定键并返回相应的值\n",
    "用法：value = dict.pop(key[, default])\n",
    "- key 是要从字典中删除的键。\n",
    "- default 是可选参数，表示在字典中找不到指定的键时要返回的默认值,不指定会报错KeyError"
   ]
  },
  {
   "cell_type": "code",
   "execution_count": 33,
   "metadata": {},
   "outputs": [
    {
     "name": "stdout",
     "output_type": "stream",
     "text": [
      "{'color': 'green', 'points': 5}\n",
      "==================================================\n",
      "green\n",
      "{'points': 5}\n",
      "==================================================\n",
      "unknown\n",
      "{'points': 5}\n"
     ]
    }
   ],
   "source": [
    "alien_0={'color':\"green\",'points':5}\n",
    "print(alien_0)\n",
    "print(\"=\"*50)\n",
    "a=alien_0.pop('color')\n",
    "print(a)\n",
    "print(alien_0)\n",
    "print(\"=\"*50)\n",
    "b=alien_0.pop('turn',\"unknown\")\n",
    "print(b)\n",
    "print(alien_0)"
   ]
  },
  {
   "attachments": {},
   "cell_type": "markdown",
   "metadata": {},
   "source": [
    "### 读取字典元素"
   ]
  },
  {
   "cell_type": "code",
   "execution_count": 12,
   "metadata": {},
   "outputs": [
    {
     "name": "stdout",
     "output_type": "stream",
     "text": [
      "Dong\n",
      "KeyError:'hobbit'\n"
     ]
    }
   ],
   "source": [
    "#以键作为下标可以读取字典元素，若键不存在则抛出异常\n",
    "aDict = {'name':'Dong', 'sex':'male', 'age':37}\n",
    "print(aDict['name'])\n",
    "try:\n",
    "    print(aDict['hobbit'])\n",
    "except KeyError as e:\n",
    "    print(\"KeyError:\"+str(e))"
   ]
  },
  {
   "attachments": {},
   "cell_type": "markdown",
   "metadata": {},
   "source": [
    "#### .get():获取指定键对应的值，在键不存在的时候返回指定值。"
   ]
  },
  {
   "cell_type": "code",
   "execution_count": 13,
   "metadata": {},
   "outputs": [
    {
     "name": "stdout",
     "output_type": "stream",
     "text": [
      "None\n",
      "SDIBT\n"
     ]
    }
   ],
   "source": [
    "print(aDict.get('address'))\n",
    "print(aDict.get('address', 'SDIBT'))"
   ]
  },
  {
   "cell_type": "code",
   "execution_count": 24,
   "metadata": {},
   "outputs": [
    {
     "name": "stdout",
     "output_type": "stream",
     "text": [
      "[('name', 'Dong'), ('sex', 'male'), ('age', 37)]\n",
      "==================================================\n",
      "['name', 'sex', 'age']\n",
      "==================================================\n",
      "['Dong', 'male', 37]\n",
      "==================================================\n",
      "['name', 'sex', 'age']\n",
      "==================================================\n"
     ]
    },
    {
     "data": {
      "text/plain": [
       "[('name', 'Dong'), ('sex', 'male'), ('age', 37)]"
      ]
     },
     "execution_count": 24,
     "metadata": {},
     "output_type": "execute_result"
    }
   ],
   "source": [
    "print([i for i in aDict.items()]) # 键值对\n",
    "print(\"=\"*50)\n",
    "print([i for i in aDict.keys()]) # 键\n",
    "print(\"=\"*50)\n",
    "print([i for i in aDict.values()]) #值\n",
    "print(\"=\"*50)\n",
    "print([i for i in aDict])#不加特殊说明，默认输出“键”\n",
    "print(\"=\"*50)\n",
    "[ (key,value) for key, value in aDict.items()]      #序列解包用法"
   ]
  },
  {
   "attachments": {},
   "cell_type": "markdown",
   "metadata": {},
   "source": [
    "#### popitem()方法:从字典中随机删除并返回一个键值对"
   ]
  },
  {
   "cell_type": "code",
   "execution_count": 39,
   "metadata": {},
   "outputs": [
    {
     "name": "stdout",
     "output_type": "stream",
     "text": [
      "age 37\n",
      "{'name': 'Dong', 'sex': 'male'}\n"
     ]
    }
   ],
   "source": [
    "aDict={'name':'Dong', 'sex':'male', 'age':37}\n",
    "(key, value) = aDict.popitem()\n",
    "print(key,value)\n",
    "print(aDict)"
   ]
  },
  {
   "attachments": {},
   "cell_type": "markdown",
   "metadata": {},
   "source": [
    "### 由类似对象组成的字典"
   ]
  },
  {
   "cell_type": "code",
   "execution_count": 7,
   "metadata": {
    "ExecuteTime": {
     "end_time": "2022-07-13T08:39:42.225271Z",
     "start_time": "2022-07-13T08:39:42.212243Z"
    }
   },
   "outputs": [
    {
     "name": "stdout",
     "output_type": "stream",
     "text": [
      "Sarah's favorite language is C .\n"
     ]
    }
   ],
   "source": [
    "favorite_languages={\n",
    "    'jen':'python',\n",
    "    'sarah':'c',\n",
    "    'edward':'ruby',\n",
    "    'phil':'python',\n",
    "    }\n",
    "\n",
    "#缩进方法\n",
    "print(\"Sarah's favorite language is \"+\n",
    "      favorite_languages['sarah'].title()+\n",
    "      \" .\")"
   ]
  },
  {
   "attachments": {},
   "cell_type": "markdown",
   "metadata": {},
   "source": [
    "#### globals()返回包含当前作用域内所有全局变量和值的字典。"
   ]
  },
  {
   "attachments": {},
   "cell_type": "markdown",
   "metadata": {},
   "source": [
    "#### locals()返回包含当前作用域内所有局部变量和值的字典"
   ]
  },
  {
   "attachments": {},
   "cell_type": "markdown",
   "metadata": {},
   "source": [
    "### 遍历字典"
   ]
  },
  {
   "attachments": {},
   "cell_type": "markdown",
   "metadata": {},
   "source": [
    "#### items()返回一个键值对列表"
   ]
  },
  {
   "attachments": {},
   "cell_type": "markdown",
   "metadata": {},
   "source": [
    "python只跟踪键和值的关联关系，不关心键值对存储顺序"
   ]
  },
  {
   "cell_type": "code",
   "execution_count": 11,
   "metadata": {
    "ExecuteTime": {
     "end_time": "2022-07-13T08:39:42.289242Z",
     "start_time": "2022-07-13T08:39:42.275242Z"
    }
   },
   "outputs": [
    {
     "name": "stdout",
     "output_type": "stream",
     "text": [
      "\n",
      "Key: username\n",
      "Value: efermi\n",
      "\n",
      "Key: first\n",
      "Value: enrico\n",
      "\n",
      "Key: last\n",
      "Value: fermi\n"
     ]
    }
   ],
   "source": [
    "user_0={\n",
    "    'username':'efermi',\n",
    "    'first':'enrico',\n",
    "    'last':'fermi'\n",
    "}\n",
    "\n",
    "for key,value in user_0.items():\n",
    "    print(\"\\nKey: \"+key)\n",
    "    print('Value: '+value)"
   ]
  },
  {
   "attachments": {},
   "cell_type": "markdown",
   "metadata": {},
   "source": [
    "#### keys()遍历字典的所有键"
   ]
  },
  {
   "cell_type": "code",
   "execution_count": 12,
   "metadata": {
    "ExecuteTime": {
     "end_time": "2022-07-13T08:39:42.305242Z",
     "start_time": "2022-07-13T08:39:42.291243Z"
    }
   },
   "outputs": [
    {
     "name": "stdout",
     "output_type": "stream",
     "text": [
      "Jen\n",
      "Sarah\n",
      "Edward\n",
      "Phil\n"
     ]
    }
   ],
   "source": [
    "favorite_languages={\n",
    "    'jen':'python',\n",
    "    'sarah':'c',\n",
    "    'edward':'ruby',\n",
    "    'phil':'python',\n",
    "    }\n",
    "\n",
    "#key（）可省略，for name in favorite_languages会默认遍历所有的键\n",
    "for name in favorite_languages.keys():#将提取的所有键存储到变量name中\n",
    "    print(name.title())"
   ]
  },
  {
   "cell_type": "code",
   "execution_count": 13,
   "metadata": {
    "ExecuteTime": {
     "end_time": "2022-07-13T08:39:42.321245Z",
     "start_time": "2022-07-13T08:39:42.308246Z"
    }
   },
   "outputs": [
    {
     "name": "stdout",
     "output_type": "stream",
     "text": [
      "Jen\n",
      "Sarah\n",
      "Hi Sarah,I see your favorite language is C!\n",
      "Edward\n",
      "Phil\n",
      "Hi Phil,I see your favorite language is Python!\n"
     ]
    }
   ],
   "source": [
    "friends=['phil','sarah']\n",
    "for name in favorite_languages.keys():\n",
    "    print(name.title())\n",
    "    if name in friends:\n",
    "        print(\"Hi \"+name.title()+\n",
    "             \",I see your favorite language is \"+\n",
    "             favorite_languages[name].title()+\"!\")"
   ]
  },
  {
   "attachments": {},
   "cell_type": "markdown",
   "metadata": {},
   "source": [
    "核实erin是否在这个列表中"
   ]
  },
  {
   "cell_type": "code",
   "execution_count": 14,
   "metadata": {
    "ExecuteTime": {
     "end_time": "2022-07-13T08:39:42.337243Z",
     "start_time": "2022-07-13T08:39:42.327243Z"
    }
   },
   "outputs": [
    {
     "name": "stdout",
     "output_type": "stream",
     "text": [
      "Erin,please take our poll!\n"
     ]
    }
   ],
   "source": [
    "if 'erin'not in favorite_languages.keys():\n",
    "    print(\"Erin,please take our poll!\")"
   ]
  },
  {
   "attachments": {},
   "cell_type": "markdown",
   "metadata": {},
   "source": [
    "#### sorted()按照顺序遍历字典中的所有键 "
   ]
  },
  {
   "cell_type": "code",
   "execution_count": 15,
   "metadata": {
    "ExecuteTime": {
     "end_time": "2022-07-13T08:39:42.352243Z",
     "start_time": "2022-07-13T08:39:42.340243Z"
    }
   },
   "outputs": [
    {
     "name": "stdout",
     "output_type": "stream",
     "text": [
      "Edward,thank you for taking the poll.\n",
      "Jen,thank you for taking the poll.\n",
      "Phil,thank you for taking the poll.\n",
      "Sarah,thank you for taking the poll.\n"
     ]
    }
   ],
   "source": [
    "#在遍历前对列表进行排序\n",
    "for name in sorted(favorite_languages.keys()):\n",
    "    print(name.title()+\",thank you for taking the poll.\")"
   ]
  },
  {
   "attachments": {},
   "cell_type": "markdown",
   "metadata": {},
   "source": [
    "#### values()遍历字典所有值"
   ]
  },
  {
   "cell_type": "code",
   "execution_count": 16,
   "metadata": {
    "ExecuteTime": {
     "end_time": "2022-07-13T08:39:42.367244Z",
     "start_time": "2022-07-13T08:39:42.354244Z"
    }
   },
   "outputs": [
    {
     "name": "stdout",
     "output_type": "stream",
     "text": [
      "The languages have been mentioned:\n",
      "Python\n",
      "C\n",
      "Ruby\n",
      "Python\n"
     ]
    }
   ],
   "source": [
    "print(\"The languages have been mentioned:\")\n",
    "for language in favorite_languages.values():\n",
    "    print(language.title())"
   ]
  },
  {
   "attachments": {},
   "cell_type": "markdown",
   "metadata": {},
   "source": [
    "#### set（）表示将列表转换成集合，每个元素独一无二"
   ]
  },
  {
   "attachments": {},
   "cell_type": "markdown",
   "metadata": {},
   "source": [
    "遍历字典所有不重复的值"
   ]
  },
  {
   "cell_type": "code",
   "execution_count": 17,
   "metadata": {
    "ExecuteTime": {
     "end_time": "2022-07-13T08:39:42.383243Z",
     "start_time": "2022-07-13T08:39:42.371241Z"
    }
   },
   "outputs": [
    {
     "name": "stdout",
     "output_type": "stream",
     "text": [
      "The languages have been mentioned:\n",
      "Ruby\n",
      "Python\n",
      "C\n"
     ]
    }
   ],
   "source": [
    "print(\"The languages have been mentioned:\")\n",
    "for language in set(favorite_languages.values()):\n",
    "    print(language.title())"
   ]
  },
  {
   "attachments": {},
   "cell_type": "markdown",
   "metadata": {},
   "source": [
    "### 在list中存储dictionary"
   ]
  },
  {
   "cell_type": "code",
   "execution_count": 23,
   "metadata": {
    "ExecuteTime": {
     "end_time": "2022-07-13T08:39:42.475243Z",
     "start_time": "2022-07-13T08:39:42.463252Z"
    }
   },
   "outputs": [
    {
     "name": "stdout",
     "output_type": "stream",
     "text": [
      "{'color': 'green', 'points': 5}\n",
      "{'color': 'yellow', 'points': 10}\n",
      "{'color': 'red', 'points': 15}\n"
     ]
    }
   ],
   "source": [
    "alien_0={'color':\"green\",'points':5}\n",
    "alien_1={'color':\"yellow\",'points':10}\n",
    "alien_2={'color':\"red\",'points':15}\n",
    "\n",
    "aliens=[alien_0,alien_1,alien_2]\n",
    "\n",
    "for alien in aliens:\n",
    "    print(alien)"
   ]
  },
  {
   "cell_type": "code",
   "execution_count": 24,
   "metadata": {
    "ExecuteTime": {
     "end_time": "2022-07-13T08:39:42.491276Z",
     "start_time": "2022-07-13T08:39:42.476243Z"
    }
   },
   "outputs": [
    {
     "name": "stdout",
     "output_type": "stream",
     "text": [
      "{'color': 'green', 'points': 5, 'speed': 'slow'}\n",
      "{'color': 'green', 'points': 5, 'speed': 'slow'}\n",
      "{'color': 'green', 'points': 5, 'speed': 'slow'}\n",
      "{'color': 'green', 'points': 5, 'speed': 'slow'}\n",
      "{'color': 'green', 'points': 5, 'speed': 'slow'}\n",
      "...\n",
      "Total number of aliens: 30\n"
     ]
    }
   ],
   "source": [
    "#创建用于存储外星人的空列表\n",
    "aliens=[]\n",
    "\n",
    "#创建30个alien\n",
    "for alien_num in range(30):\n",
    "    new_alien={'color': 'green','points': 5,\"speed\":\"slow\"}\n",
    "    aliens.append(new_alien)\n",
    "    \n",
    "#打印前5个alien    \n",
    "for alien in aliens[:5]:\n",
    "    print(alien)\n",
    "print(\"...\")\n",
    "        \n",
    "#打印alien总数\n",
    "print(\"Total number of aliens: \"+str(len(aliens)))"
   ]
  },
  {
   "cell_type": "code",
   "execution_count": 25,
   "metadata": {
    "ExecuteTime": {
     "end_time": "2022-07-13T08:39:42.516242Z",
     "start_time": "2022-07-13T08:39:42.493242Z"
    }
   },
   "outputs": [
    {
     "name": "stdout",
     "output_type": "stream",
     "text": [
      "{'color': 'yellow', 'points': 10, 'speed': 'medium'}\n",
      "{'color': 'yellow', 'points': 10, 'speed': 'medium'}\n",
      "{'color': 'yellow', 'points': 10, 'speed': 'medium'}\n",
      "{'color': 'yellow', 'points': 10, 'speed': 'medium'}\n",
      "{'color': 'green', 'points': 5, 'speed': 'slow'}\n",
      "...\n",
      "Total number of aliens: 30\n"
     ]
    }
   ],
   "source": [
    "#修改alien\n",
    "for alien in aliens[:4]:\n",
    "    if alien['color']=='green':\n",
    "        alien['color']='yellow'\n",
    "        alien['speed']='medium'\n",
    "        alien['points']=10\n",
    "    elif alien['color']=='yellow':\n",
    "        alien['color']='red'\n",
    "        alien['speed']='fast'\n",
    "        alien['points']=115\n",
    "        \n",
    "#打印前5个alien    \n",
    "for alien in aliens[:5]:\n",
    "    print(alien)\n",
    "print(\"...\")\n",
    "\n",
    "        \n",
    "#打印alien总数\n",
    "print(\"Total number of aliens: \"+str(len(aliens)))"
   ]
  },
  {
   "attachments": {},
   "cell_type": "markdown",
   "metadata": {
    "ExecuteTime": {
     "end_time": "2022-07-13T07:32:20.837254Z",
     "start_time": "2022-07-13T07:32:20.817266Z"
    }
   },
   "source": [
    "### 在dictionary中存储list"
   ]
  },
  {
   "cell_type": "code",
   "execution_count": 26,
   "metadata": {
    "ExecuteTime": {
     "end_time": "2022-07-13T08:39:42.539249Z",
     "start_time": "2022-07-13T08:39:42.520244Z"
    }
   },
   "outputs": [
    {
     "name": "stdout",
     "output_type": "stream",
     "text": [
      "Yout ordered a thick-crust pizza with the following toppings:\n",
      "\tmushrooms\n",
      "\textra cheese\n"
     ]
    }
   ],
   "source": [
    "#存储所点披萨的信息\n",
    "pizza={\n",
    "    \"crust\":'thick',\n",
    "    \"toppings\":[\"mushrooms\",'extra cheese'],\n",
    "    }\n",
    "print(\"Yout ordered a \"+pizza['crust']+\"-crust pizza \"+\n",
    "     \"with the following toppings:\")\n",
    "for topping in pizza['toppings']:\n",
    "    print(\"\\t\"+topping)"
   ]
  },
  {
   "cell_type": "code",
   "execution_count": 27,
   "metadata": {
    "ExecuteTime": {
     "end_time": "2022-07-13T08:39:42.554244Z",
     "start_time": "2022-07-13T08:39:42.541247Z"
    }
   },
   "outputs": [
    {
     "name": "stdout",
     "output_type": "stream",
     "text": [
      "\n",
      "Jen's favorite languages are:\n",
      "\tPython\n",
      "\tRuby\n",
      "\n",
      "Sarah's favorite languages is:\n",
      "\tC\n",
      "\n",
      "Edward's favorite languages are:\n",
      "\tRuby\n",
      "\tGo\n",
      "\n",
      "Phil's favorite languages are:\n",
      "\tPython\n",
      "\tHaskell\n"
     ]
    }
   ],
   "source": [
    "favorite_languages={\n",
    "    'jen':['python','ruby'],\n",
    "    'sarah':['c'],\n",
    "    'edward':['ruby','go'],\n",
    "    'phil':['python','haskell']\n",
    "}\n",
    "for name,languages in favorite_languages.items():\n",
    "    if len(languages)==1:\n",
    "        print(\"\\n\"+name.title()+\"'s favorite languages is:\")\n",
    "    else:\n",
    "        print(\"\\n\"+name.title()+\"'s favorite languages are:\")\n",
    "    for language in languages:\n",
    "        print('\\t'+language.title())"
   ]
  },
  {
   "attachments": {},
   "cell_type": "markdown",
   "metadata": {},
   "source": [
    "### 在dictionary中存储dictionary"
   ]
  },
  {
   "cell_type": "code",
   "execution_count": 28,
   "metadata": {
    "ExecuteTime": {
     "end_time": "2022-07-13T08:39:42.570249Z",
     "start_time": "2022-07-13T08:39:42.555245Z"
    }
   },
   "outputs": [
    {
     "name": "stdout",
     "output_type": "stream",
     "text": [
      "\n",
      "Username: aeinstein\n",
      "\tFull name: Albert Einstein\n",
      "\tLocation: Princeton\n",
      "\n",
      "Username: mcurie\n",
      "\tFull name: Marie Curie\n",
      "\tLocation: Paris\n"
     ]
    }
   ],
   "source": [
    "users={\n",
    "    'aeinstein':{\n",
    "        'first':'albert',\n",
    "        'last':'einstein',\n",
    "        'location':'princeton',\n",
    "        },\n",
    "    \n",
    "    'mcurie':{\n",
    "        'first':'marie',\n",
    "        'last':'curie',\n",
    "        'location':'paris',\n",
    "        },\n",
    "        \n",
    "      }\n",
    "\n",
    "for username,user_info in users.items():\n",
    "    print('\\nUsername: '+username)\n",
    "    full_name=user_info['first']+' '+user_info['last']\n",
    "    location=user_info['location']\n",
    "\n",
    "    print(\"\\tFull name: \"+ full_name.title())\n",
    "    print('\\tLocation: '+location.title())"
   ]
  },
  {
   "attachments": {},
   "cell_type": "markdown",
   "metadata": {},
   "source": [
    "### 字典推导式"
   ]
  },
  {
   "cell_type": "code",
   "execution_count": 51,
   "metadata": {},
   "outputs": [
    {
     "data": {
      "text/plain": [
       "{1: '1', 2: '2', 3: '3', 4: '4'}"
      ]
     },
     "execution_count": 51,
     "metadata": {},
     "output_type": "execute_result"
    }
   ],
   "source": [
    "{i:str(i) for i in range(1, 5)}"
   ]
  },
  {
   "cell_type": "code",
   "execution_count": 52,
   "metadata": {},
   "outputs": [
    {
     "data": {
      "text/plain": [
       "{'A': 'a', 'B': 'b', 'C': 'b', 'D': 'd'}"
      ]
     },
     "execution_count": 52,
     "metadata": {},
     "output_type": "execute_result"
    }
   ],
   "source": [
    "x = ['A', 'B', 'C', 'D']\n",
    "y = ['a', 'b', 'b', 'd']\n",
    "{i:j for i,j in zip(x,y)}"
   ]
  },
  {
   "attachments": {},
   "cell_type": "markdown",
   "metadata": {},
   "source": [
    "### Practice"
   ]
  },
  {
   "attachments": {},
   "cell_type": "markdown",
   "metadata": {},
   "source": [
    "#### 首先生成包含1000个随机字符的字符串，然后统计每个字符的出现次数"
   ]
  },
  {
   "cell_type": "code",
   "execution_count": 43,
   "metadata": {},
   "outputs": [
    {
     "name": "stdout",
     "output_type": "stream",
     "text": [
      "OTY7hjUpKzBggSqcdtPa8o7OJY90KW2sKeC4jketoaDy3nZG6Chtb9CbjkhlaTq9bgYxYYrqG08k77m7doigM0xJg13Fay5xGUhpcGWFUcNLufdqVhBmhkdxAb841VhlwGqOdI9bzlXPso4n89cYjGxXzaWB0B57jMkjGraD18im74JlJntMvLycpP9rrBy3OrKz7CMv1JmHfBVoN3lqoi46SMSGWbzyF0t1RYpS6In2c1GEnaFLMTJryqwYzSSNFCgmBIOSX1xlWasJ6QfndWLYPp1jpBlo6KzydCYfkt2pMpAS2Uu3SiLEhdAY9mxVjw2USpFyHUIsEoJmuCod2JcPbZljbEwoLU1SjiCLm2YJMDaxuQHpk9G0YwMeYzUJJStD02hAjpxSW3SkgymrhOQvTWnMNXmPBSGtGmE2qJ2txIkDv0V1cMKmDaJXg1wEBlByXg6TM3LU7lTzGstYio0jPz2euJj0r2RQxWb7eN4vzzuSDy9x5m8K4ncpLxAFvmc8cOuifVM3gzQQA7p2ieRRZWyI0zyBnKS4Gs2aZLpNxrOESVnL5D5sadMzUhY7CqCK9mOItpSxGm0hJZG41JJH2yAouxEL2iY6DXSoUWCmyEestwB3NS3dGgcKL9Zk6xmcfgWoOIWGXbiKZo3LwsM0SKuFmR7usoBh46XYHAqSkcS5FIAgTlQ9nxEnU67hyJKaTU2obS84OUFbnspADBZJdfOuEAOp4kQ1OFXkz33SZU8u692wGW9xPsEZ0gAJFgRb5UC7vjqEqqp3gWyvAyuWyc5eUIX9Ja5lVcBVWPHgs2DFWnxdNFS8qcBQ6lGAE2vOlcoAVaPIQGf6uaQGKlK96OgpvmgL3GCGdIUpmIZ3XO9qHnR8SX8EqE1dIucCrEpMDC7bXrzfWJalo9Ouyf5WXbwArWzrSwk5AwaAwKaJDAzhKgsPyuC8ZMsrBLUgXNLg8IOFDDoFo3JlP0MWGnvlH2VEylX5kd5igrMR\n"
     ]
    }
   ],
   "source": [
    "from random import choices #从序列seq中随机选择一个元素，返回值为元组\n",
    "from string import ascii_letters, digits #ascii_letters是生成所有字母，digits是生成所有数字\n",
    "\n",
    "#生成一个长度为1000的字符串，字符串由字母和数字组成\n",
    "z = ''.join(choices(ascii_letters+digits, k=1000)) \n",
    "print(z)        "
   ]
  },
  {
   "cell_type": "code",
   "execution_count": 44,
   "metadata": {},
   "outputs": [
    {
     "name": "stdout",
     "output_type": "stream",
     "text": [
      "{'O': 19, 'T': 8, 'Y': 18, '7': 16, 'h': 15, 'j': 14, 'U': 19, 'p': 21, 'K': 17, 'z': 19, 'B': 18, 'g': 23, 'S': 29, 'q': 16, 'c': 19, 'd': 16, 't': 12, 'P': 12, 'a': 19, '8': 14, 'o': 21, 'J': 25, '9': 18, '0': 15, 'W': 22, '2': 21, 's': 15, 'e': 8, 'C': 16, '4': 12, 'k': 15, 'D': 15, 'y': 22, '3': 17, 'n': 16, 'Z': 12, 'G': 25, '6': 14, 'b': 15, 'l': 19, 'x': 20, 'r': 15, 'm': 21, 'i': 11, 'M': 19, '1': 14, 'F': 16, '5': 13, 'N': 9, 'L': 17, 'u': 17, 'f': 10, 'V': 11, 'A': 19, 'w': 13, 'I': 15, 'X': 17, 'v': 11, 'H': 8, 'R': 8, 'E': 18, 'Q': 11}\n"
     ]
    }
   ],
   "source": [
    "# 法1\n",
    "d = dict()        #字典中的“键”表示字符，“值”表示出现的次数\n",
    "for ch in z:\n",
    "    d[ch] = d.get(ch,0) + 1 #get()方法返回指定键的值，如果值不在字典中返回默认值0\n",
    "print(d)  "
   ]
  },
  {
   "cell_type": "code",
   "execution_count": 46,
   "metadata": {},
   "outputs": [
    {
     "name": "stdout",
     "output_type": "stream",
     "text": [
      "defaultdict(<class 'int'>, {})\n"
     ]
    },
    {
     "data": {
      "text/plain": [
       "dict_items([('O', 19), ('T', 8), ('Y', 18), ('7', 16), ('h', 15), ('j', 14), ('U', 19), ('p', 21), ('K', 17), ('z', 19), ('B', 18), ('g', 23), ('S', 29), ('q', 16), ('c', 19), ('d', 16), ('t', 12), ('P', 12), ('a', 19), ('8', 14), ('o', 21), ('J', 25), ('9', 18), ('0', 15), ('W', 22), ('2', 21), ('s', 15), ('e', 8), ('C', 16), ('4', 12), ('k', 15), ('D', 15), ('y', 22), ('3', 17), ('n', 16), ('Z', 12), ('G', 25), ('6', 14), ('b', 15), ('l', 19), ('x', 20), ('r', 15), ('m', 21), ('i', 11), ('M', 19), ('1', 14), ('F', 16), ('5', 13), ('N', 9), ('L', 17), ('u', 17), ('f', 10), ('V', 11), ('A', 19), ('w', 13), ('I', 15), ('X', 17), ('v', 11), ('H', 8), ('R', 8), ('E', 18), ('Q', 11)])"
      ]
     },
     "execution_count": 46,
     "metadata": {},
     "output_type": "execute_result"
    }
   ],
   "source": [
    "# 法2\n",
    "from collections import defaultdict\n",
    "# 默认字典，是字典的一个子类，提供了一个默认值的机制。\n",
    "# 当访问字典中不存在的键时，会返回一个默认值，而不是引发 KeyError 错误。\n",
    "# 该方法接受一个参数，这个参数可以是任何python对象，当访问的键不存在时，返回这个对象\n",
    "\n",
    "frequences = defaultdict(int) #访问的键不存在时返回默认值0\n",
    "print(frequences) #刚创建的新字典是空的\n",
    "for i in z:\n",
    "    frequences[i] += 1\n",
    "frequences.items()"
   ]
  },
  {
   "cell_type": "code",
   "execution_count": 49,
   "metadata": {},
   "outputs": [
    {
     "name": "stdout",
     "output_type": "stream",
     "text": [
      "dict_items([('O', 19), ('T', 8), ('Y', 18), ('7', 16), ('h', 15), ('j', 14), ('U', 19), ('p', 21), ('K', 17), ('z', 19), ('B', 18), ('g', 23), ('S', 29), ('q', 16), ('c', 19), ('d', 16), ('t', 12), ('P', 12), ('a', 19), ('8', 14), ('o', 21), ('J', 25), ('9', 18), ('0', 15), ('W', 22), ('2', 21), ('s', 15), ('e', 8), ('C', 16), ('4', 12), ('k', 15), ('D', 15), ('y', 22), ('3', 17), ('n', 16), ('Z', 12), ('G', 25), ('6', 14), ('b', 15), ('l', 19), ('x', 20), ('r', 15), ('m', 21), ('i', 11), ('M', 19), ('1', 14), ('F', 16), ('5', 13), ('N', 9), ('L', 17), ('u', 17), ('f', 10), ('V', 11), ('A', 19), ('w', 13), ('I', 15), ('X', 17), ('v', 11), ('H', 8), ('R', 8), ('E', 18), ('Q', 11)])\n",
      "==================================================\n",
      "[('S', 29)]\n",
      "==================================================\n",
      "[('S', 29), ('J', 25), ('G', 25)]\n"
     ]
    }
   ],
   "source": [
    "# 法3 ,快速实现\n",
    "from collections import Counter\n",
    "# Counter是一个简单的计数器，例如，统计字符出现的个数\n",
    "\n",
    "frequences = Counter(z)\n",
    "print(frequences.items())\n",
    "print(\"=\"*50)\n",
    "print(frequences.most_common(1))          #出现次数最多的一个字符\n",
    "print(\"=\"*50)\n",
    "print(frequences.most_common(3))"
   ]
  },
  {
   "attachments": {},
   "cell_type": "markdown",
   "metadata": {},
   "source": [
    "#### 6-1 人"
   ]
  },
  {
   "cell_type": "code",
   "execution_count": 8,
   "metadata": {
    "ExecuteTime": {
     "end_time": "2022-07-13T08:39:42.241279Z",
     "start_time": "2022-07-13T08:39:42.227285Z"
    }
   },
   "outputs": [
    {
     "name": "stdout",
     "output_type": "stream",
     "text": [
      "xx\n",
      "salad\n",
      "20\n",
      "Suzhou\n"
     ]
    }
   ],
   "source": [
    "xx={'first_name':'xx','last_name':'salad','age':20,'city':'Suzhou'}\n",
    "print(xx['first_name'])\n",
    "print(xx['last_name'])\n",
    "print(xx['age'])\n",
    "print(xx['city'])"
   ]
  },
  {
   "attachments": {},
   "cell_type": "markdown",
   "metadata": {},
   "source": [
    "#### 6-2 喜欢的数字"
   ]
  },
  {
   "cell_type": "code",
   "execution_count": 9,
   "metadata": {
    "ExecuteTime": {
     "end_time": "2022-07-13T08:39:42.257249Z",
     "start_time": "2022-07-13T08:39:42.243246Z"
    }
   },
   "outputs": [
    {
     "name": "stdout",
     "output_type": "stream",
     "text": [
      "A's favorite number is 2 .\n",
      "B's favorite number is 33 .\n",
      "C's favorite number is 98 .\n",
      "D's favorite number is 22 .\n"
     ]
    }
   ],
   "source": [
    "favorite_num={'a':2,\n",
    "               'b':33,\n",
    "               'c':98,\n",
    "               'd':22,\n",
    "}\n",
    "# print(\"A's favorite number is \"+str(favorite_num['a'])+\" .\")\n",
    "# print(\"B's favorite number is \"+str(favorite_num['b'])+\" .\")\n",
    "# print(\"C's favorite number is \"+str(favorite_num['c'])+\" .\")\n",
    "# print(\"D's favorite number is \"+str(favorite_num['d'])+\" .\")\n",
    "for name,num in favorite_num.items():\n",
    "    print(name.title()+\"'s favorite number is \"+str(num)+\" .\")"
   ]
  },
  {
   "attachments": {},
   "cell_type": "markdown",
   "metadata": {},
   "source": [
    "#### 6-3  词汇表"
   ]
  },
  {
   "cell_type": "code",
   "execution_count": 10,
   "metadata": {
    "ExecuteTime": {
     "end_time": "2022-07-13T08:39:42.273240Z",
     "start_time": "2022-07-13T08:39:42.260251Z"
    }
   },
   "outputs": [
    {
     "name": "stdout",
     "output_type": "stream",
     "text": [
      "str: change the number to string\n",
      "\n",
      "list: to form a list\n",
      "\n",
      "lstrip: delete the left blank in the string\n",
      "\n",
      "range: to form a series of number between the first number and the end number\n",
      "\n",
      "swapcase: change the upper to lower or reverse\n",
      "\n"
     ]
    }
   ],
   "source": [
    "words={\n",
    "    'str':'change the number to string',\n",
    "    'list':'to form a list',\n",
    "    'lstrip':'delete the left blank in the string',\n",
    "    'range':'to form a series of number between '+ 'the first number and the end number',\n",
    "    'swapcase':'change the upper to lower or reverse',\n",
    "    }\n",
    "print('str'+': '+words['str']+'\\n')\n",
    "print('list'+': '+words['list']+'\\n')\n",
    "print('lstrip'+': '+words['lstrip']+'\\n')\n",
    "print('range'+': '+words['range']+'\\n')\n",
    "print('swapcase'+': ' +words['swapcase']+'\\n')"
   ]
  },
  {
   "attachments": {},
   "cell_type": "markdown",
   "metadata": {},
   "source": [
    "#### 6-4 词汇表"
   ]
  },
  {
   "cell_type": "code",
   "execution_count": 18,
   "metadata": {
    "ExecuteTime": {
     "end_time": "2022-07-13T08:39:42.398245Z",
     "start_time": "2022-07-13T08:39:42.385245Z"
    }
   },
   "outputs": [
    {
     "name": "stdout",
     "output_type": "stream",
     "text": [
      "Str: Change The Number To String.\n",
      "\n",
      "List: To Form A List.\n",
      "\n",
      "Lstrip: Delete The Left Blank In The String.\n",
      "\n",
      "Range: To Form A Series Of Number Between The First Number And The End Number.\n",
      "\n",
      "Swapcase: Change The Upper To Lower Or Reverse.\n",
      "\n"
     ]
    }
   ],
   "source": [
    "words={\n",
    "    'str':'change the number to string',\n",
    "    'list':'to form a list',\n",
    "    'lstrip':'delete the left blank in the string',\n",
    "    'range':'to form a series of number between '+ 'the first number and the end number',\n",
    "    'swapcase':'change the upper to lower or reverse',\n",
    "    }\n",
    "for name,value in words.items():\n",
    "    print(name.title()+': '+value.title()+\".\"+'\\n')\n",
    "# print('str'+': '+words['str']+'\\n')\n",
    "# print('list'+': '+words['list']+'\\n')\n",
    "# print('lstrip'+': '+words['lstrip']+'\\n')\n",
    "# print('range'+': '+words['range']+'\\n')\n",
    "# print('swapcase'+': ' +words['swapcase']+'\\n')"
   ]
  },
  {
   "attachments": {},
   "cell_type": "markdown",
   "metadata": {},
   "source": [
    "#### 6-5 河流"
   ]
  },
  {
   "cell_type": "code",
   "execution_count": 19,
   "metadata": {
    "ExecuteTime": {
     "end_time": "2022-07-13T08:39:42.414245Z",
     "start_time": "2022-07-13T08:39:42.401243Z"
    }
   },
   "outputs": [
    {
     "name": "stdout",
     "output_type": "stream",
     "text": [
      "The Nile runs through Egypt.\n",
      "The Yangzi runs through China.\n",
      "The Mississippi runs through America.\n"
     ]
    }
   ],
   "source": [
    "rivers={\n",
    "    'nile':'Egypt',\n",
    "    'yangzi':'China',\n",
    "    'mississippi':\"America\"\n",
    "    }\n",
    "for river,country in rivers.items():\n",
    "    print(\"The \"+river.title()+\" runs through \"+country.title()+\".\")"
   ]
  },
  {
   "cell_type": "code",
   "execution_count": 20,
   "metadata": {
    "ExecuteTime": {
     "end_time": "2022-07-13T08:39:42.429242Z",
     "start_time": "2022-07-13T08:39:42.418244Z"
    }
   },
   "outputs": [
    {
     "name": "stdout",
     "output_type": "stream",
     "text": [
      "Nile\n",
      "Yangzi\n",
      "Mississippi\n"
     ]
    }
   ],
   "source": [
    "for river in rivers.keys():\n",
    "    print(river.title())"
   ]
  },
  {
   "cell_type": "code",
   "execution_count": 21,
   "metadata": {
    "ExecuteTime": {
     "end_time": "2022-07-13T08:39:42.444241Z",
     "start_time": "2022-07-13T08:39:42.433244Z"
    }
   },
   "outputs": [
    {
     "name": "stdout",
     "output_type": "stream",
     "text": [
      "Egypt\n",
      "China\n",
      "America\n"
     ]
    }
   ],
   "source": [
    "for country in rivers.values():\n",
    "    print(country)"
   ]
  },
  {
   "attachments": {},
   "cell_type": "markdown",
   "metadata": {},
   "source": [
    "#### 6-6 调查"
   ]
  },
  {
   "cell_type": "code",
   "execution_count": 22,
   "metadata": {
    "ExecuteTime": {
     "end_time": "2022-07-13T08:39:42.460244Z",
     "start_time": "2022-07-13T08:39:42.445242Z"
    }
   },
   "outputs": [
    {
     "name": "stdout",
     "output_type": "stream",
     "text": [
      "\n",
      "Jen\n",
      "Jen,thanks for your participating in the survey.\n",
      "\n",
      "Sarah\n",
      "Sarah,please participate in this survey.\n",
      "\n",
      "Edward\n",
      "Edward,thanks for your participating in the survey.\n",
      "\n",
      "Phil\n",
      "Phil,please participate in this survey.\n"
     ]
    }
   ],
   "source": [
    "favorite_languages={\n",
    "    'jen':'python',\n",
    "    'sarah':'c',\n",
    "    'edward':'ruby',\n",
    "    'phil':'python',\n",
    "    }\n",
    "accept_people=['jen','edward']\n",
    "for name in favorite_languages.keys():\n",
    "    print(\"\\n\"+name.title())\n",
    "    if name in accept_people:\n",
    "        print(name.title()+ \",thanks for your participating in the survey.\")\n",
    "    else:\n",
    "        print(name.title()+\",please participate in this survey.\")"
   ]
  },
  {
   "attachments": {},
   "cell_type": "markdown",
   "metadata": {},
   "source": [
    "#### 6-7"
   ]
  },
  {
   "cell_type": "code",
   "execution_count": 29,
   "metadata": {
    "ExecuteTime": {
     "end_time": "2022-07-13T08:39:42.585262Z",
     "start_time": "2022-07-13T08:39:42.571245Z"
    }
   },
   "outputs": [
    {
     "name": "stdout",
     "output_type": "stream",
     "text": [
      "{'first_name': 'xx', 'last_name': 'salad', 'age': 20, 'city': 'Suzhou'}\n",
      "{'first_name': 'salad', 'last_name': 'xx', 'age': 20, 'city': 'Zhuhai'}\n",
      "{'first_name': 'liu', 'last_name': 'chao', 'age': 21, 'city': 'Sichuan'}\n"
     ]
    }
   ],
   "source": [
    "xx={\n",
    "    'first_name':'xx',\n",
    "    'last_name':'salad',\n",
    "    'age':20,'city':'Suzhou'\n",
    "   }\n",
    "salad={\n",
    "       'first_name':'salad',\n",
    "       'last_name':'xx',\n",
    "       'age':20,\n",
    "       'city':'Zhuhai'\n",
    "      }\n",
    "lc={\n",
    "    'first_name':'liu',\n",
    "    'last_name':'chao',\n",
    "    'age':21,\n",
    "    'city':'Sichuan'\n",
    "   }\n",
    "people=[xx,salad,lc]\n",
    "for person in people:\n",
    "    print(person)"
   ]
  },
  {
   "attachments": {},
   "cell_type": "markdown",
   "metadata": {},
   "source": [
    "#### 6-8"
   ]
  },
  {
   "cell_type": "code",
   "execution_count": 30,
   "metadata": {
    "ExecuteTime": {
     "end_time": "2022-07-13T08:39:42.601243Z",
     "start_time": "2022-07-13T08:39:42.588243Z"
    }
   },
   "outputs": [
    {
     "name": "stdout",
     "output_type": "stream",
     "text": [
      "{'category': 'bosi', 'lord': 'fangfang'}\n",
      "{'category': 'dubin', 'lord': 'haha'}\n",
      "{'category': 'white', 'lord': 'dadada'}\n"
     ]
    }
   ],
   "source": [
    "cat={\n",
    "    'category':'bosi',\n",
    "    'lord':'fangfang'\n",
    "    }\n",
    "dog={\n",
    "    'category':'dubin',\n",
    "    'lord':'haha',\n",
    "    }\n",
    "rabbit={\n",
    "    'category':'white',\n",
    "    'lord':'dadada'\n",
    "    }\n",
    "pets=[cat,dog,rabbit]\n",
    "for pet in pets:\n",
    "    print(pet)"
   ]
  },
  {
   "attachments": {},
   "cell_type": "markdown",
   "metadata": {},
   "source": [
    "#### 6-9"
   ]
  },
  {
   "cell_type": "code",
   "execution_count": 31,
   "metadata": {
    "ExecuteTime": {
     "end_time": "2022-07-13T08:39:42.617256Z",
     "start_time": "2022-07-13T08:39:42.603247Z"
    }
   },
   "outputs": [
    {
     "name": "stdout",
     "output_type": "stream",
     "text": [
      "Me: \n",
      "Changjiang\n",
      "Huanghe\n",
      "Shaolinsi\n",
      "\n",
      "\n",
      "She: \n",
      "Harbin\n",
      "Jilin\n",
      "Nanjing\n",
      "\n",
      "\n",
      "He: \n",
      "Beside His Home A Yard\n",
      "\n",
      "\n"
     ]
    }
   ],
   "source": [
    "favorite_places={\n",
    "    'me':['changjiang','huanghe','shaolinsi'],\n",
    "    'she':['harBin','jilin','nanjing'],\n",
    "    'he':['beside his home a yard']\n",
    "    }\n",
    "for man,places in favorite_places.items():\n",
    "    print(man.title()+': ')\n",
    "    for place in places:\n",
    "        print(place.title())\n",
    "    print('\\n')"
   ]
  },
  {
   "attachments": {},
   "cell_type": "markdown",
   "metadata": {},
   "source": [
    "#### 6-11"
   ]
  },
  {
   "cell_type": "code",
   "execution_count": 32,
   "metadata": {
    "ExecuteTime": {
     "end_time": "2022-07-13T08:39:42.633244Z",
     "start_time": "2022-07-13T08:39:42.620245Z"
    }
   },
   "outputs": [
    {
     "name": "stdout",
     "output_type": "stream",
     "text": [
      "\n",
      "Zhangshu: \n",
      "Country: China\n",
      "Population: 123\n",
      "Fact: Talking dirty.\n",
      "\n",
      "Zhuhai: \n",
      "Country: China\n",
      "Population: 150\n",
      "Fact: Beside the sea.\n",
      "\n",
      "Shanghai: \n",
      "Country: China\n",
      "Population: 780\n",
      "Fact: Very large.\n"
     ]
    }
   ],
   "source": [
    "cities={\n",
    "    \"Zhangshu\":{\n",
    "        'country':'China',\n",
    "        'population':123,\n",
    "        'fact':\"Talking dirty.\"\n",
    "        },\n",
    "    \n",
    "     \"Zhuhai\":{\n",
    "        'country':'China',\n",
    "        'population':150,\n",
    "        'fact':\"Beside the sea.\"\n",
    "        },\n",
    "    \n",
    "     \"Shanghai\":{\n",
    "        'country':'China',\n",
    "        'population':780,\n",
    "        'fact':\"Very large.\"\n",
    "        }\n",
    "}\n",
    "for city,city_info in cities.items():\n",
    "    print(\"\\n\"+city.title()+\": \")\n",
    "    print(\"Country: \"+city_info['country'])\n",
    "    print(\"Population: \"+str(city_info['population']))\n",
    "    print(\"Fact: \"+city_info['fact'])"
   ]
  },
  {
   "cell_type": "code",
   "execution_count": 33,
   "metadata": {
    "ExecuteTime": {
     "end_time": "2022-07-13T08:39:42.649245Z",
     "start_time": "2022-07-13T08:39:42.635242Z"
    }
   },
   "outputs": [
    {
     "name": "stdout",
     "output_type": "stream",
     "text": [
      "\n",
      "Zhangshu: \n",
      "Country: China\n",
      "Population: 123\n",
      "Fact: Talking dirty.\n",
      "\n",
      "Zhuhai: \n",
      "Country: China\n",
      "Population: 150\n",
      "Fact: Beside the sea.\n",
      "\n",
      "Shanghai: \n",
      "Country: China\n",
      "Population: 780\n",
      "Fact: Very large.\n"
     ]
    }
   ],
   "source": [
    "for city,city_info in cities.items():\n",
    "    print(\"\\n\"+city.title()+\": \")\n",
    "    for a,b in city_info.items():\n",
    "        print(a.title()+\": \"+str(b))"
   ]
  }
 ],
 "metadata": {
  "kernelspec": {
   "display_name": "Python 3",
   "language": "python",
   "name": "python3"
  },
  "language_info": {
   "codemirror_mode": {
    "name": "ipython",
    "version": 3
   },
   "file_extension": ".py",
   "mimetype": "text/x-python",
   "name": "python",
   "nbconvert_exporter": "python",
   "pygments_lexer": "ipython3",
   "version": "3.7.0"
  }
 },
 "nbformat": 4,
 "nbformat_minor": 2
}
