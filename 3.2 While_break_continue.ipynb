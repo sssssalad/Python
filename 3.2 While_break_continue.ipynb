{
 "cells": [
  {
   "attachments": {},
   "cell_type": "markdown",
   "metadata": {},
   "source": [
    "### while\n",
    "for循环和while循环都可以带else, 如果循环是因为break结束的，就不执行else中的代码,只有当while/for循环正常结束时才会执行\n",
    "```\n",
    "while 条件表达式:\n",
    "\t循环体\n",
    "[else:                    \n",
    "\telse子句代码块]\n",
    "\n",
    "\n",
    "for 取值 in 序列或迭代对象:\n",
    "\t循环体\n",
    "[else:\n",
    "    else子句代码块]\n",
    "\n",
    "```"
   ]
  },
  {
   "attachments": {},
   "cell_type": "markdown",
   "metadata": {},
   "source": [
    "为了优化程序以获得更高效率和运行速度，应尽量**减少循环内部不必要的计算**，将与循环变量无关的代码尽可能地提取到循环之外。对于使用多重循环嵌套的情况，应尽量**减少内层循环中不必要的计算**，尽可能地向外提"
   ]
  },
  {
   "attachments": {},
   "cell_type": "markdown",
   "metadata": {},
   "source": [
    "- for循环：适用于遍历列表，但不适合对列表进行修改，一般用于循环次数难以提前确定的情况\n",
    "- while循环：在遍历列表的同时对其进行修改，一般用于循环次数可以提前确定的情况\n",
    "- for循环和while循环都可以带else\n"
   ]
  },
  {
   "cell_type": "code",
   "execution_count": 6,
   "metadata": {
    "ExecuteTime": {
     "end_time": "2022-07-13T15:50:51.640724Z",
     "start_time": "2022-07-13T15:50:51.633251Z"
    }
   },
   "outputs": [
    {
     "name": "stdout",
     "output_type": "stream",
     "text": [
      "1 2 3 4 5 end\n"
     ]
    }
   ],
   "source": [
    "n = 1\n",
    "while n <= 5:\n",
    "    print(n,end=' ')\n",
    "    n += 1\n",
    "else:\n",
    "    print(\"end\")"
   ]
  },
  {
   "cell_type": "code",
   "execution_count": 7,
   "metadata": {},
   "outputs": [
    {
     "name": "stdout",
     "output_type": "stream",
     "text": [
      "1 2 3 4 5 end\n"
     ]
    }
   ],
   "source": [
    "n = 1\n",
    "for i in range(1,6):\n",
    "    print(n,end=' ')\n",
    "    n += 1\n",
    "else:\n",
    "    print(\"end\")"
   ]
  },
  {
   "attachments": {},
   "cell_type": "markdown",
   "metadata": {},
   "source": [
    "### 使用标志"
   ]
  },
  {
   "cell_type": "code",
   "execution_count": 8,
   "metadata": {
    "ExecuteTime": {
     "end_time": "2022-07-13T16:04:12.769325Z",
     "start_time": "2022-07-13T16:04:03.682524Z"
    }
   },
   "outputs": [
    {
     "name": "stdout",
     "output_type": "stream",
     "text": [
      "go\n"
     ]
    }
   ],
   "source": [
    "mesg = \"\\nTell me something, and I will repeat it back to you:\"\n",
    "mesg += \"\\n(Enter 'quit' to end the program)\\n\"\n",
    "\n",
    "flag = True#标志，让程序最开始处于活动状态\n",
    "while flag:\n",
    "    message = input(mesg)\n",
    "    \n",
    "    if message == 'quit':\n",
    "        flag = False#导致循环不再继续\n",
    "    else:\n",
    "        print(message)"
   ]
  },
  {
   "attachments": {},
   "cell_type": "markdown",
   "metadata": {},
   "source": [
    "### 使用break退出循环"
   ]
  },
  {
   "attachments": {},
   "cell_type": "markdown",
   "metadata": {
    "ExecuteTime": {
     "end_time": "2022-07-13T16:12:23.388617Z",
     "start_time": "2022-07-13T16:12:23.372735Z"
    }
   },
   "source": [
    "#### break语句:一旦被执行将使整个循环提前结束\n",
    "不再执行余下代码，退出整个循环\n",
    "除非break语句让代码更简单或更清晰，否则不要轻易使用"
   ]
  },
  {
   "cell_type": "code",
   "execution_count": 31,
   "metadata": {
    "ExecuteTime": {
     "end_time": "2022-07-13T16:08:48.215847Z",
     "start_time": "2022-07-13T16:08:23.443844Z"
    }
   },
   "outputs": [
    {
     "name": "stdout",
     "output_type": "stream",
     "text": [
      "\n",
      "Please enter the name of a city you have visited:\n",
      "(Enter 'quit' when you are finished.) New York\n",
      "I'd love to go to New York!\n",
      "\n",
      "Please enter the name of a city you have visited:\n",
      "(Enter 'quit' when you are finished.) San Francisco\n",
      "I'd love to go to San Francisco!\n",
      "\n",
      "Please enter the name of a city you have visited:\n",
      "(Enter 'quit' when you are finished.) quit\n"
     ]
    }
   ],
   "source": [
    "mesg = \"\\nPlease enter the name of a city you have visited:\"\n",
    "mesg += \"\\n(Enter 'quit' when you are finished.) \"\n",
    "\n",
    "while True:#不断运行直到遇到break\n",
    "    city = input(mesg)\n",
    "    \n",
    "    if city == 'quit':\n",
    "        break\n",
    "    else:\n",
    "        print(f\"I'd love to go to {city.title()}!\")"
   ]
  },
  {
   "cell_type": "code",
   "execution_count": 15,
   "metadata": {},
   "outputs": [
    {
     "name": "stdout",
     "output_type": "stream",
     "text": [
      "97\n"
     ]
    }
   ],
   "source": [
    "# 计算小于100的最大素数\n",
    "for n in range(100, 1, -1):\n",
    "    for i in range(2, n):\n",
    "        #如果n能被i整除，那么n不是素数\n",
    "\t    if n%i == 0: break #当不是素数时退出for i in range(2, n)循环，执行for n in range(100, 1, -1)循环判断下一个值\n",
    "    else:\n",
    "        #for循环中的else语句块,只有当for循环正常结束时才会执行，即此时n不能被任何一个i整除\n",
    "        #如果n不能被任何一个i整除，那么n是素数\n",
    "        print(n)\t\n",
    "        break #退出for n in range(100, 1, -1)循环，因为已经找到了最大素数"
   ]
  },
  {
   "cell_type": "code",
   "execution_count": 17,
   "metadata": {},
   "outputs": [
    {
     "name": "stdout",
     "output_type": "stream",
     "text": [
      "97 89 83 79 73 71 67 61 59 53 47 43 41 37 31 29 23 19 17 13 11 7 5 3 2 "
     ]
    }
   ],
   "source": [
    "# 计算小于100的所有素数\n",
    "for n in range(100, 1, -1):\n",
    "    for i in range(2, n):\n",
    "        #如果n能被i整除，那么n不是素数\n",
    "\t    if n%i == 0: break #当不是素数时退出for i in range(2, n)循环，执行for n in range(100, 1, -1)循环判断下一个值\n",
    "    else:\n",
    "        #for循环中的else语句块,只有当for循环正常结束时才会执行，即此时n不能被任何一个i整除\n",
    "        #如果n不能被任何一个i整除，那么n是素数\n",
    "        print(n,end=' ')\t\n",
    "        #break #退出for n in range(100, 1, -1)循环，因为已经找到了最大素数"
   ]
  },
  {
   "attachments": {},
   "cell_type": "markdown",
   "metadata": {},
   "source": [
    "### 在循环中使用continue"
   ]
  },
  {
   "attachments": {},
   "cell_type": "markdown",
   "metadata": {},
   "source": [
    "#### continue语句：终止当前循环，忽略continue之后的语句，提前进入下一次循环\n",
    "返回到循环开头，并根据条件测试结果决定是否继续执行循环"
   ]
  },
  {
   "cell_type": "code",
   "execution_count": 18,
   "metadata": {
    "ExecuteTime": {
     "end_time": "2022-07-13T16:19:36.534975Z",
     "start_time": "2022-07-13T16:19:36.517423Z"
    }
   },
   "outputs": [
    {
     "name": "stdout",
     "output_type": "stream",
     "text": [
      "1 3 5 7 9 "
     ]
    }
   ],
   "source": [
    "n = 0\n",
    "while n < 10:\n",
    "    n += 1\n",
    "    if n %2 == 0:#当数为偶数时返回循环开头\n",
    "        continue\n",
    "    print(n,end=' ')"
   ]
  },
  {
   "attachments": {},
   "cell_type": "markdown",
   "metadata": {},
   "source": [
    "## Practice"
   ]
  },
  {
   "cell_type": "code",
   "execution_count": 25,
   "metadata": {},
   "outputs": [
    {
     "name": "stdout",
     "output_type": "stream",
     "text": [
      "1+2+3+…+1000000 =  500000500000 time: 0.21455168724060059\n",
      "1+2+3+…+1000000 =  500000500000 time: 0.06013226509094238\n"
     ]
    }
   ],
   "source": [
    "#计算1+2+3+…+1000000 的值。\n",
    "s = 0\n",
    "import time\n",
    "start = time.time()\n",
    "for i in range(1,1000001):\n",
    "    s = s + i\n",
    "end=time.time()\n",
    "print('1+2+3+…+1000000 = ', s, 'time:', end-start)\n",
    "\n",
    "start = time.time()\n",
    "print('1+2+3+…+1000000 = ', sum(range(1,1000001)), 'time:', time.time()-start)\n"
   ]
  },
  {
   "cell_type": "code",
   "execution_count": 26,
   "metadata": {},
   "outputs": [
    {
     "name": "stdout",
     "output_type": "stream",
     "text": [
      "列表的第1个元素是：a\n",
      "列表的第2个元素是：b\n",
      "列表的第3个元素是：mpilgrim\n",
      "列表的第4个元素是：z\n",
      "列表的第5个元素是：example\n"
     ]
    }
   ],
   "source": [
    "a_list = ['a', 'b', 'mpilgrim', 'z', 'example']\n",
    "for i, v in enumerate(a_list, start=1):\n",
    "    print(f'列表的第{i}个元素是：{v}')"
   ]
  },
  {
   "cell_type": "code",
   "execution_count": 28,
   "metadata": {},
   "outputs": [
    {
     "name": "stdout",
     "output_type": "stream",
     "text": [
      "7 14 21 28 42 49 56 63 77 84 91 98 "
     ]
    }
   ],
   "source": [
    "# 求1~100之间能被7整除，但不能同时被5整除的所有整数\n",
    "for num in range(7, 101, 7):\n",
    "    if num%5 != 0:\n",
    "        print(num,end=\" \")"
   ]
  },
  {
   "cell_type": "code",
   "execution_count": 4,
   "metadata": {
    "ExecuteTime": {
     "end_time": "2022-07-14T06:27:40.204622Z",
     "start_time": "2022-07-14T06:27:40.195440Z"
    }
   },
   "outputs": [
    {
     "name": "stdout",
     "output_type": "stream",
     "text": [
      "Verifying user: Candace\n",
      "Verifying user: Brian\n",
      "Verifying user: Alice\n",
      "\n",
      "The following users have been confirmed:\n",
      "Candace\n",
      "Brian\n",
      "Alice\n"
     ]
    }
   ],
   "source": [
    "unconf_users = ['alice', 'brian', 'candace']# 待验证用户列表\n",
    "conf_users = []# 用于存储已验证用户的空列表\n",
    "\n",
    "# 验证每个用户直到unconfirmed_users变成空的\n",
    "#  把每个经过验证的用户移动到已验证用户列表中\n",
    "while unconf_users:\n",
    "    user = unconf_users.pop()#以每次一个的方式从列表末尾删除未验证用户\n",
    "    \n",
    "    print(\"Verifying user: \"+str(user.title()))\n",
    "    conf_users.append(user)\n",
    "    \n",
    "# 显示所有已验证用户\n",
    "print(\"\\nThe following users have been confirmed:\")\n",
    "for i in conf_users:\n",
    "    print(i.title())"
   ]
  },
  {
   "attachments": {},
   "cell_type": "markdown",
   "metadata": {},
   "source": [
    "输出所有3位“水仙花数”。所谓n位水仙花数是指1个n位的十进制数，其各位数字的n次方之和等于该数本身。\n",
    "例如：153是水仙花数，因为153 = 1 + 125 + 27 "
   ]
  },
  {
   "cell_type": "code",
   "execution_count": 30,
   "metadata": {},
   "outputs": [
    {
     "name": "stdout",
     "output_type": "stream",
     "text": [
      "153 370 371 407 time: 0.004415035247802734\n"
     ]
    }
   ],
   "source": [
    "start = time.time()\n",
    "for i in range(100, 1000):\n",
    "    bai, shi, ge = map(int, str(i))\n",
    "    if ge**3 + shi**3 + bai**3 == i:\n",
    "        print(i,end=\" \")\n",
    "end=time.time()\n",
    "print('time:', end-start)"
   ]
  },
  {
   "cell_type": "code",
   "execution_count": 32,
   "metadata": {},
   "outputs": [
    {
     "name": "stdout",
     "output_type": "stream",
     "text": [
      "153 370 371 407 time: 0.002001523971557617\n"
     ]
    }
   ],
   "source": [
    "start = time.time()\n",
    "# 优化，把计算过程尽量往外提\n",
    "for num in range(100, 1000):\n",
    "    if sum(map(lambda x:int(x)**3, str(num))) == num:\n",
    "        # map以参数序列中的每一个元素调用function函数，返回包含每次 function函数返回值的新列表\n",
    "        # sum函数对迭代器求和\n",
    "        print(num,end=\" \")\n",
    "end = time.time()\n",
    "print('time:', end-start)"
   ]
  },
  {
   "attachments": {},
   "cell_type": "markdown",
   "metadata": {},
   "source": [
    "统计考试成绩中优、良、中、及格、不及格的人数"
   ]
  },
  {
   "cell_type": "code",
   "execution_count": 42,
   "metadata": {},
   "outputs": [
    {
     "name": "stdout",
     "output_type": "stream",
     "text": [
      "{'优秀': 3, '良': 9, '中': 8, '及格': 2, '不及格': 3}\n"
     ]
    }
   ],
   "source": [
    "scores = [89,70,49,87,92,84,73,71,78,81,90,37,\n",
    "          77,82,81,79,80,82,75,90,54,80,70,68,61]\n",
    "groups = {'优秀':0, '良':0, '中':0, '及格':0, '不及格':0}\n",
    "for score in scores:\n",
    "    if score>=90: groups['优秀'] += 1\n",
    "    elif score>=80: groups['良'] += 1\n",
    "    elif score>=70: groups['中'] += 1\n",
    "    elif score>=60: groups['及格'] += 1\n",
    "    else: groups['不及格'] += 1\n",
    "print(groups)"
   ]
  },
  {
   "cell_type": "code",
   "execution_count": 43,
   "metadata": {},
   "outputs": [
    {
     "name": "stdout",
     "output_type": "stream",
     "text": [
      "{'优秀': 3, '良': 9, '中': 8, '及格': 2, '不及格': 3}\n"
     ]
    }
   ],
   "source": [
    "from itertools import groupby\n",
    "#遍历可迭代对象中的元素，并根据元素的键值进行分组\n",
    "# 如果连续的元素具有相同的键值，它们就会被归为同一组\n",
    "# groupby函数返回一个迭代器，每次迭代返回一个元组，元组的第一个元素是键值，第二个元素是迭代器，包含具有相同键值的元素\n",
    "scores = [89,70,49,87,92,84,73,71,78,81,90,37,\n",
    "          77,82,81,79,80,82,75,90,54,80,70,68,61]\n",
    "def classify(score):\n",
    "    if score>=90: return '优秀'\n",
    "    elif score>=80: return '良'\n",
    "    elif score>=70: return '中'\n",
    "    elif score>=60: return '及格'\n",
    "    else: return '不及格'\n",
    "\n",
    "groups = {category:len(list(score))\n",
    "          for category, score in groupby(sorted(scores,reverse=True), classify)}\n",
    "print(groups)"
   ]
  },
  {
   "cell_type": "code",
   "execution_count": 44,
   "metadata": {},
   "outputs": [
    {
     "name": "stdout",
     "output_type": "stream",
     "text": [
      "Counter({'良': 9, '中': 8, '不及格': 3, '优秀': 3, '及格': 2})\n"
     ]
    }
   ],
   "source": [
    "from collections import Counter #对分组后的结果进行计数统计\n",
    "from pandas import cut   #参数right表示区间是否包含边界值，False表示右边界为开区间       \n",
    "\n",
    "scores = [89,70,49,87,92,84,73,71,78,81,90,37,\n",
    "          77,82,81,79,80,82,75,90,54,80,70,68,61]\n",
    "groups = Counter(cut(scores,[0,60,70,80,90,101],\n",
    "                     labels=['不及格','及格','中','良','优秀'],\n",
    "                     right=False))\n",
    "print(groups)"
   ]
  },
  {
   "attachments": {},
   "cell_type": "markdown",
   "metadata": {},
   "source": [
    "打印九九乘法表"
   ]
  },
  {
   "cell_type": "code",
   "execution_count": 48,
   "metadata": {},
   "outputs": [
    {
     "name": "stdout",
     "output_type": "stream",
     "text": [
      "1*1=1 \n",
      "\n",
      "2*1=2 2*2=4 \n",
      "\n",
      "3*1=3 3*2=6 3*3=9 \n",
      "\n",
      "4*1=4 4*2=8 4*3=12 4*4=16 \n",
      "\n",
      "5*1=5 5*2=10 5*3=15 5*4=20 5*5=25 \n",
      "\n",
      "6*1=6 6*2=12 6*3=18 6*4=24 6*5=30 6*6=36 \n",
      "\n",
      "7*1=7 7*2=14 7*3=21 7*4=28 7*5=35 7*6=42 7*7=49 \n",
      "\n",
      "8*1=8 8*2=16 8*3=24 8*4=32 8*5=40 8*6=48 8*7=56 8*8=64 \n",
      "\n",
      "9*1=9 9*2=18 9*3=27 9*4=36 9*5=45 9*6=54 9*7=63 9*8=72 9*9=81 \n",
      "\n"
     ]
    }
   ],
   "source": [
    "for i in range(1,10):\n",
    "    for j in range(1,i+1):\n",
    "        print('{0}*{1}={2}'.format(i,j,i*j), end=' ')\n",
    "        if j==i:print('\\n')"
   ]
  },
  {
   "attachments": {},
   "cell_type": "markdown",
   "metadata": {},
   "source": [
    "求200以内能被17整除的最大正整数"
   ]
  },
  {
   "cell_type": "code",
   "execution_count": 49,
   "metadata": {},
   "outputs": [
    {
     "name": "stdout",
     "output_type": "stream",
     "text": [
      "187\n"
     ]
    }
   ],
   "source": [
    "for i in range(200,0,-1):\n",
    "    if i%17 == 0:\n",
    "        print(i)\n",
    "        break"
   ]
  },
  {
   "cell_type": "code",
   "execution_count": 6,
   "metadata": {
    "ExecuteTime": {
     "end_time": "2022-07-14T06:31:28.018137Z",
     "start_time": "2022-07-14T06:31:28.010137Z"
    }
   },
   "outputs": [
    {
     "name": "stdout",
     "output_type": "stream",
     "text": [
      "['dog', 'cat', 'dog', 'goldfish', 'cat', 'rabbit', 'cat']\n",
      "['dog', 'dog', 'goldfish', 'rabbit']\n"
     ]
    }
   ],
   "source": [
    "pets = ['dog', 'cat', 'dog', 'goldfish', 'cat', 'rabbit', 'cat']\n",
    "print(pets)\n",
    "\n",
    "while 'cat' in pets:#不断运行直至没有\n",
    "    pets.remove('cat')\n",
    "    \n",
    "print(pets)"
   ]
  },
  {
   "cell_type": "code",
   "execution_count": 2,
   "metadata": {
    "ExecuteTime": {
     "end_time": "2022-07-13T16:43:11.835386Z",
     "start_time": "2022-07-13T16:42:59.823404Z"
    }
   },
   "outputs": [
    {
     "name": "stdout",
     "output_type": "stream",
     "text": [
      "\n",
      "Please input your age's number: 1\n",
      "You don't need to pay.\n",
      "\n",
      "Please input your age's number: 3\n",
      "You need to pay 15 dollors.\n",
      "\n",
      "Please input your age's number: 19\n",
      "You need to pay 15 dollors.\n",
      "\n",
      "Please input your age's number: quit\n"
     ]
    }
   ],
   "source": [
    "ages=\"\\nPlease input your age's number: \"\n",
    "while True:\n",
    "    age=input(ages)\n",
    "    if age=='quit':\n",
    "        break\n",
    "    else:\n",
    "        age=int(age)\n",
    "        if age>0 and age<3:\n",
    "            print(\"You don't need to pay.\")\n",
    "        elif age>3 and age<12:\n",
    "            print(\"You need to pay 10 dollars.\")\n",
    "        else:\n",
    "            print(\"You need to pay 15 dollors.\")"
   ]
  },
  {
   "cell_type": "code",
   "execution_count": null,
   "metadata": {},
   "outputs": [],
   "source": []
  }
 ],
 "metadata": {
  "kernelspec": {
   "display_name": "Python 3",
   "language": "python",
   "name": "python3"
  },
  "language_info": {
   "codemirror_mode": {
    "name": "ipython",
    "version": 3
   },
   "file_extension": ".py",
   "mimetype": "text/x-python",
   "name": "python",
   "nbconvert_exporter": "python",
   "pygments_lexer": "ipython3",
   "version": "3.7.0"
  }
 },
 "nbformat": 4,
 "nbformat_minor": 2
}
