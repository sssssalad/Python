{
 "cells": [
  {
   "attachments": {},
   "cell_type": "markdown",
   "metadata": {
    "ExecuteTime": {
     "end_time": "2022-07-16T07:48:33.130149Z",
     "start_time": "2022-07-16T07:48:33.072934Z"
    }
   },
   "source": [
    "### def 定义函数\n",
    "- 将可能需要反复执行的代码封装为函数，并在需要该功能的地方进行调用，不仅可以**实现代码复用**，更重要的是可以**保证代码的一致性**，只需要修改该函数代码则所有调用均受到影响。\n",
    "- 设计函数时，应注意**提高模块的内聚性**，同时**降低模块之间的隐式耦合**。\n",
    "  - 减少使用全局变量，使函数之间仅通过调用和参数传递来显式体现其相互关系。\n",
    "  - 尽量不要修改函数参数本身，不要修改除返回值以外的其他内容\n",
    "  - 尽量让一个函数完成一个高度相关且大小合适的任务，尽量在一个屏幕内完整显示\n",
    "- 实际开发时常把一些通用的函数封装到一个模块中，并把这个通用模块文件放到顶层文件夹中，便于管理。\n",
    "- 函数**递归**调用是一种特殊情况，函数不断自己调用自己，当某个条件满足时不再调用，再一层一层返回知道该函数第一次调用的位置"
   ]
  },
  {
   "attachments": {},
   "cell_type": "markdown",
   "metadata": {},
   "source": [
    ">```\n",
    ">def 函数名([参数列表]):\n",
    ">    '''注释'''\n",
    ">    函数体\n",
    ">```\n",
    "> - 函数形参不需要指定形参的类型，也不需要指定函数返回值类型，完全由调用者传递的实参类型和Python解释器的理解和推断来决定\n",
    ">   - Python允许对函数参数和返回值类型进行标注，但是只是看起来方便，不起作用。\n",
    ">- 函数不需接收任何参数（无形参）时也必须保留一对空的圆括号，表示函数不接受参数\n",
    ">- 括号后面的冒号必不可少\n",
    ">- 函数体 相对于 def关键字 必须保持一定的空格缩进\n",
    ">- Python允许嵌套定义函数(不建议)"
   ]
  },
  {
   "attachments": {},
   "cell_type": "markdown",
   "metadata": {},
   "source": [
    "#### 函数可以复杂，程序实现部分应当尽可能简单"
   ]
  },
  {
   "cell_type": "code",
   "execution_count": 1,
   "metadata": {
    "ExecuteTime": {
     "end_time": "2022-07-16T15:17:11.117019Z",
     "start_time": "2022-07-16T15:17:11.107406Z"
    }
   },
   "outputs": [
    {
     "name": "stdout",
     "output_type": "stream",
     "text": [
      "Hello!\n"
     ]
    }
   ],
   "source": [
    "def greet_user():\n",
    "    print(\"Hello!\")\n",
    "\n",
    "greet_user()#括号中可添加函数需要的必要信息"
   ]
  },
  {
   "attachments": {},
   "cell_type": "markdown",
   "metadata": {},
   "source": [
    "### 向函数传递信息"
   ]
  },
  {
   "attachments": {},
   "cell_type": "markdown",
   "metadata": {},
   "source": [
    "#### 实参‘salad’传递给了函数freet_user(),这个值被存储在形参username中"
   ]
  },
  {
   "cell_type": "code",
   "execution_count": 2,
   "metadata": {
    "ExecuteTime": {
     "end_time": "2022-07-16T15:17:11.132130Z",
     "start_time": "2022-07-16T15:17:11.118178Z"
    }
   },
   "outputs": [
    {
     "name": "stdout",
     "output_type": "stream",
     "text": [
      "Hello，Salad!\n"
     ]
    }
   ],
   "source": [
    "def greet_user(username):#函数可以接受给username指定的任何值\n",
    "    print(\"Hello,\"+username.title()+\"!\")\n",
    "    \n",
    "greet_user('salad')#调用函数并提供信息"
   ]
  },
  {
   "attachments": {},
   "cell_type": "markdown",
   "metadata": {},
   "source": [
    "### 形参：函数完成其工作所需的一项信息，函数定义中的变量\n",
    "- 函数调用时，将实参的引用传递给形参\n",
    "- 参数排列顺序：**位置参数**，**关键词参数**，**默认参数**，**可变长度参数**"
   ]
  },
  {
   "attachments": {},
   "cell_type": "markdown",
   "metadata": {},
   "source": [
    "### 实参：调用函数时传递给函数的信息，函数调用中的变量"
   ]
  },
  {
   "cell_type": "code",
   "execution_count": 4,
   "metadata": {
    "ExecuteTime": {
     "end_time": "2022-07-16T15:17:11.164123Z",
     "start_time": "2022-07-16T15:17:11.153124Z"
    }
   },
   "outputs": [
    {
     "name": "stdout",
     "output_type": "stream",
     "text": [
      "One of my favorite books is Alice In Wonderland.\n"
     ]
    }
   ],
   "source": [
    "def favorite_book(title):\n",
    "    print(\"One of my favorite books is \"+title.title()+'.')\n",
    "    \n",
    "favorite_book(\"Alice in Wonderland\")\n",
    "\n",
    "#形参：title，实参：\"Alice in Wonderland\""
   ]
  },
  {
   "attachments": {},
   "cell_type": "markdown",
   "metadata": {},
   "source": [
    "可为函数和自定义对象动态增加新成员"
   ]
  },
  {
   "cell_type": "code",
   "execution_count": 2,
   "metadata": {},
   "outputs": [
    {
     "name": "stdout",
     "output_type": "stream",
     "text": [
      "f.x is not defined\n"
     ]
    }
   ],
   "source": [
    "def f():\n",
    "    print(f.x) #查看函数f的成员x\n",
    "try:\n",
    "    f()\n",
    "except AttributeError:\n",
    "    print(\"f.x is not defined\")"
   ]
  },
  {
   "cell_type": "code",
   "execution_count": 3,
   "metadata": {},
   "outputs": [
    {
     "name": "stdout",
     "output_type": "stream",
     "text": [
      "3\n"
     ]
    }
   ],
   "source": [
    "f.x=3 #给函数f添加成员x\n",
    "f()"
   ]
  },
  {
   "cell_type": "code",
   "execution_count": 4,
   "metadata": {},
   "outputs": [
    {
     "data": {
      "text/plain": [
       "3"
      ]
     },
     "execution_count": 4,
     "metadata": {},
     "output_type": "execute_result"
    }
   ],
   "source": [
    "f.x #在外部查看函数f的成员x"
   ]
  },
  {
   "cell_type": "code",
   "execution_count": 5,
   "metadata": {},
   "outputs": [
    {
     "name": "stdout",
     "output_type": "stream",
     "text": [
      "f.x is not defined\n"
     ]
    }
   ],
   "source": [
    "del f.x #删除函数f的成员x\n",
    "try:\n",
    "    f()\n",
    "except AttributeError:\n",
    "    # 函数f的成员x已经被删除，不可访问\n",
    "    print(\"f.x is not defined\")"
   ]
  },
  {
   "attachments": {},
   "cell_type": "markdown",
   "metadata": {},
   "source": [
    "对于绝大多数情况下，在函数内部直接修改形参的值不会影响实参，而是**创建一个新变量**。"
   ]
  },
  {
   "cell_type": "code",
   "execution_count": 8,
   "metadata": {},
   "outputs": [
    {
     "name": "stdout",
     "output_type": "stream",
     "text": [
      "140715792265024 : 3\n",
      "====================\n",
      "140715792265024 : 3\n",
      "140715792265056 : 4\n",
      "====================\n",
      "140715792265024 : 3\n"
     ]
    }
   ],
   "source": [
    "def addOne(a):\n",
    "    print(id(a), ':', a)\n",
    "    a += 1\n",
    "    print(id(a), ':', a) #a的id改变了，a指向了新的对象\n",
    "    \n",
    "v=3\n",
    "print(id(v),':',v) #v的id\n",
    "print(\"=\"*20)\n",
    "addOne(v) \n",
    "print(\"=\"*20)\n",
    "print(id(v), ':', v)"
   ]
  },
  {
   "attachments": {},
   "cell_type": "markdown",
   "metadata": {},
   "source": [
    "当传递给函数的实参是**可变序列**，且在函数内部**使用下标**、**可变序列自身的原地操作方法**增加/删除/修改元素时，实参也会得到相应的修改"
   ]
  },
  {
   "cell_type": "code",
   "execution_count": 11,
   "metadata": {},
   "outputs": [
    {
     "name": "stdout",
     "output_type": "stream",
     "text": [
      "{'name': 'Dong', 'age': 37, 'sex': 'Male'}\n",
      "{'name': 'Dong', 'age': 38, 'sex': 'Male'}\n"
     ]
    }
   ],
   "source": [
    "def modify(d):    \n",
    "    \"修改字典元素值或为字典增加元素\"\n",
    "    d['age'] = 38\n",
    "    \n",
    "a = {'name':'Dong', 'age':37, 'sex':'Male'}\n",
    "print(a)\n",
    "modify(a) #a是可变对象，函数内部修改了a的值\n",
    "print(a)"
   ]
  },
  {
   "attachments": {},
   "cell_type": "markdown",
   "metadata": {},
   "source": [
    "对类型进行标注，无作用，只是方便"
   ]
  },
  {
   "cell_type": "code",
   "execution_count": 12,
   "metadata": {},
   "outputs": [
    {
     "data": {
      "text/plain": [
       "7"
      ]
     },
     "execution_count": 12,
     "metadata": {},
     "output_type": "execute_result"
    }
   ],
   "source": [
    "def test(x:int, y:int) -> int:\n",
    "    '''x and y must be integers, return an integer x+y'''\n",
    "    assert isinstance(x, int), 'x must be integer'\n",
    "    assert isinstance(y, int), 'y must be integer'\n",
    "    z = x+y\n",
    "    assert isinstance(z, int), 'must return an integer'\n",
    "    return z\n",
    "\n",
    "test(3, 4)"
   ]
  },
  {
   "attachments": {},
   "cell_type": "markdown",
   "metadata": {},
   "source": [
    "### 位置实参"
   ]
  },
  {
   "attachments": {},
   "cell_type": "markdown",
   "metadata": {},
   "source": [
    "#### Python将函数调用中的每个实参都关联到函数定义的形参数，基于实参的顺序的关联方式"
   ]
  },
  {
   "attachments": {},
   "cell_type": "markdown",
   "metadata": {},
   "source": [
    "调用函数时**实参和形参的顺序必须严格一致**，并且**实参和形参的数量必须相同**"
   ]
  },
  {
   "cell_type": "code",
   "execution_count": 5,
   "metadata": {
    "ExecuteTime": {
     "end_time": "2022-07-16T15:17:11.180130Z",
     "start_time": "2022-07-16T15:17:11.167126Z"
    }
   },
   "outputs": [
    {
     "name": "stdout",
     "output_type": "stream",
     "text": [
      "\n",
      "I have a hamster.\n",
      "My hamster's name is Harry.\n",
      "\n",
      "I have a dog.\n",
      "My dog's name is Willie.\n"
     ]
    }
   ],
   "source": [
    "def describe_pet(animal_type,pet_name):\n",
    "    print(\"\\nI have a \"+animal_type+\".\")\n",
    "    print(\"My \"+animal_type+\"'s name is \"+pet_name.title()+\".\")\n",
    "    \n",
    "describe_pet('hamster','harry')\n",
    "describe_pet(\"dog\",'willie')"
   ]
  },
  {
   "attachments": {},
   "cell_type": "markdown",
   "metadata": {},
   "source": [
    "### 可变长度参数： *args、**kwargs"
   ]
  },
  {
   "attachments": {},
   "cell_type": "markdown",
   "metadata": {},
   "source": [
    "#### *args:接受多个位置实参并将其放在元组中。\n",
    "传递一个可变参数列表（元组）给函数实参，参数列表的数目未知，长度可为0。"
   ]
  },
  {
   "cell_type": "code",
   "execution_count": 3,
   "metadata": {
    "ExecuteTime": {
     "end_time": "2022-09-01T00:24:14.374304Z",
     "start_time": "2022-09-01T00:24:14.367983Z"
    }
   },
   "outputs": [
    {
     "name": "stdout",
     "output_type": "stream",
     "text": [
      "必须要传入的参数:  1\n",
      "可变参数的数据类型:  <class 'tuple'>\n",
      "可变参数:  2\n",
      "可变参数:  3\n",
      "可变参数:  4\n"
     ]
    }
   ],
   "source": [
    "\"\"\"args 是 arguments 的缩写，表示位置参数\"\"\"\n",
    "def test_args(first, *args):\n",
    "    print('必须要传入的参数: ', first)\n",
    "    print('可变参数的数据类型: ',type(args))\n",
    "    for v in args:\n",
    "        print ('可变参数: ', v)\n",
    "\n",
    "test_args(1, 2, 3, 4)"
   ]
  },
  {
   "cell_type": "code",
   "execution_count": 19,
   "metadata": {},
   "outputs": [
    {
     "name": "stdout",
     "output_type": "stream",
     "text": [
      "(1, 2, 3, 4, 5)\n"
     ]
    }
   ],
   "source": [
    "def f(*p):\n",
    "    print(p)\n",
    "\n",
    "f(1,2,3,4,5)"
   ]
  },
  {
   "attachments": {},
   "cell_type": "markdown",
   "metadata": {},
   "source": [
    "#### args和kwargs组合起来可传入任意参数在参数未知的情况下很有效\n",
    "- 加强了函数的可拓展性\n",
    "- 可读性不高"
   ]
  },
  {
   "cell_type": "code",
   "execution_count": 9,
   "metadata": {
    "ExecuteTime": {
     "end_time": "2022-09-01T00:42:26.380572Z",
     "start_time": "2022-09-01T00:42:26.363584Z"
    }
   },
   "outputs": [
    {
     "name": "stdout",
     "output_type": "stream",
     "text": [
      "arg1: two\n",
      "arg2: 3\n",
      "arg3: 5\n"
     ]
    }
   ],
   "source": [
    "# args调用函数时相当于pack（打包）和unpack（解包），类似于元组的打包和解包\n",
    "\"\"\"使用args来解包调用函数的代码\"\"\"\n",
    "def test_args_kwargs(arg1, arg2, arg3):\n",
    "    print(\"arg1:\", arg1)\n",
    "    print(\"arg2:\", arg2)\n",
    "    print(\"arg3:\", arg3)\n",
    "\n",
    "args = (\"two\", 3, 5)\n",
    "test_args_kwargs(*args)"
   ]
  },
  {
   "cell_type": "code",
   "execution_count": 10,
   "metadata": {
    "ExecuteTime": {
     "end_time": "2022-09-01T00:42:30.586570Z",
     "start_time": "2022-09-01T00:42:30.582545Z"
    }
   },
   "outputs": [
    {
     "name": "stdout",
     "output_type": "stream",
     "text": [
      "arg1: 5\n",
      "arg2: two\n",
      "arg3: 3\n"
     ]
    }
   ],
   "source": [
    "kwargs = {\"arg3\": 3, \"arg2\": \"two\", \"arg1\": 5}\n",
    "\"\"\"**kwargs将元组解包后传给对应的实参\"\"\"\n",
    "test_args_kwargs(**kwargs)"
   ]
  },
  {
   "cell_type": "code",
   "execution_count": 21,
   "metadata": {},
   "outputs": [
    {
     "name": "stdout",
     "output_type": "stream",
     "text": [
      "1 2 3\n",
      "(4, 5, 6, 7, 8, 9, 10, 11, 12, 13, 14, 15, 16)\n",
      "{'aa': 1, 'bb': 2, 'cc': 3, 'dd': 4}\n"
     ]
    }
   ],
   "source": [
    "def f(a,b,c=4,*aa,**bb):\n",
    "    print(a,b,c)\n",
    "    print(aa)\n",
    "    print(bb)\n",
    "    \n",
    "f(1,2,3,4,5,6,7,8,9,10,11,12,13,14,15,16,aa=1,bb=2,cc=3,dd=4)"
   ]
  },
  {
   "attachments": {},
   "cell_type": "markdown",
   "metadata": {},
   "source": [
    "### 关键字实参"
   ]
  },
  {
   "attachments": {},
   "cell_type": "markdown",
   "metadata": {},
   "source": [
    "#### 传递给函数名称-值对，直接在实参中将名称和值关联起来了"
   ]
  },
  {
   "attachments": {},
   "cell_type": "markdown",
   "metadata": {},
   "source": [
    "#### 无需考虑函数调用中的实参顺序，指示了函数调用中各个值的用途"
   ]
  },
  {
   "attachments": {},
   "cell_type": "markdown",
   "metadata": {},
   "source": [
    "#### 指定时等号两边不能有空格"
   ]
  },
  {
   "cell_type": "code",
   "execution_count": 7,
   "metadata": {
    "ExecuteTime": {
     "end_time": "2022-07-16T15:17:11.211726Z",
     "start_time": "2022-07-16T15:17:11.198124Z"
    }
   },
   "outputs": [
    {
     "name": "stdout",
     "output_type": "stream",
     "text": [
      "\n",
      "I have a hamster.\n",
      "My hamster's name is Harry.\n",
      "\n",
      "I have a dog.\n",
      "My dog's name is Willie.\n"
     ]
    }
   ],
   "source": [
    "def describe_pet(animal_type,pet_name):\n",
    "    print(\"\\nI have a \"+animal_type+\".\")\n",
    "    print(\"My \"+animal_type+\"'s name is \"+pet_name.title()+\".\")\n",
    "    \n",
    "describe_pet(animal_type='hamster',pet_name='harry')\n",
    "describe_pet(animal_type=\"dog\",pet_name='willie')"
   ]
  },
  {
   "attachments": {},
   "cell_type": "markdown",
   "metadata": {
    "ExecuteTime": {
     "end_time": "2022-09-01T00:24:59.069988Z",
     "start_time": "2022-09-01T00:24:59.064396Z"
    }
   },
   "source": [
    "#### **kwargs：接受多个关键字参数并存放到字典中\n",
    "将一个可变关键字参数的字典dict传给函数实参，参数列表长度可以为0或为其他值。"
   ]
  },
  {
   "cell_type": "code",
   "execution_count": 8,
   "metadata": {
    "ExecuteTime": {
     "end_time": "2022-09-01T00:29:32.430322Z",
     "start_time": "2022-09-01T00:29:32.411612Z"
    }
   },
   "outputs": [
    {
     "name": "stdout",
     "output_type": "stream",
     "text": [
      "必须要传入的参数:  1\n",
      "可变关键字参数的类型:  <class 'dict'>\n",
      "可变位置参数(args):  2\n",
      "可变位置参数(args):  3\n",
      "可变位置参数(args):  4\n",
      "可变关键字参数 k1 (kwargs): 5\n",
      "可变关键字参数 k2 (kwargs): 6\n"
     ]
    }
   ],
   "source": [
    "\"\"\"kwargs 是 keyword arguments 的缩写，表示关键字参数\n",
    "   args只能位于kwargs的前面\"\"\"\n",
    "def test_kwargs(first, *args, **kwargs):\n",
    "    print('必须要传入的参数: ', first)\n",
    "    print('可变关键字参数的类型: ',type(kwargs))\n",
    "    for v in args:\n",
    "        print ('可变位置参数(args): ', v)\n",
    "    for k, v in kwargs.items():\n",
    "        print ('可变关键字参数 %s (kwargs): %s' % (k, v))\n",
    "\n",
    "test_kwargs(1, 2, 3, 4, k1=5, k2=6)"
   ]
  },
  {
   "cell_type": "code",
   "execution_count": 20,
   "metadata": {},
   "outputs": [
    {
     "name": "stdout",
     "output_type": "stream",
     "text": [
      "a 1\n",
      "b 2\n",
      "c 3\n"
     ]
    }
   ],
   "source": [
    "def f2(**p):\n",
    "    for k, v in p.items():\n",
    "        print(k, v)\n",
    "\n",
    "f2(a=1, b=2, c=3)  "
   ]
  },
  {
   "attachments": {},
   "cell_type": "markdown",
   "metadata": {},
   "source": [
    "### 默认值参数\n",
    "- **任何一个默认值参数右边不能有非默认值参数**\n",
    "- 默认值参数若使用不当会导致很难发现的逻辑错误\n",
    "  - **默认值参数的赋值只会在函数定义时被解释一次**，使用可变序列作为参数默认值时需注意\n",
    "  - 可使用\"函数名.\\_\\_defaults\\_\\_\"查看所有默认参数的当前值(返回一个元组，在函数被定义后无法被更改)"
   ]
  },
  {
   "attachments": {},
   "cell_type": "markdown",
   "metadata": {},
   "source": [
    "#### 每个形参可指定默认值，指定时等号两边不能有空格\n",
    "调用带有默认值参数的函数时，可以不对默认值参数进行赋值，也可以为其赋值，具有很大的灵活性。"
   ]
  },
  {
   "cell_type": "code",
   "execution_count": 8,
   "metadata": {
    "ExecuteTime": {
     "end_time": "2022-07-16T15:17:11.227726Z",
     "start_time": "2022-07-16T15:17:11.213727Z"
    }
   },
   "outputs": [
    {
     "name": "stdout",
     "output_type": "stream",
     "text": [
      "\n",
      "I have a hamster.\n",
      "My hamster's name is Harry.\n",
      "\n",
      "I have a dog.\n",
      "My dog's name is Willie.\n"
     ]
    }
   ],
   "source": [
    "def describe_pet(pet_name,animal_type='dog'):\n",
    "    #有默认值的参数应放到没默认值参数的后面\n",
    "    print(\"\\nI have a \"+animal_type+\".\")\n",
    "    print(\"My \"+animal_type+\"'s name is \"+pet_name.title()+\".\")\n",
    "    \n",
    "describe_pet(animal_type='hamster',pet_name='harry')\n",
    "describe_pet(pet_name='willie')#可省略形参animal_type"
   ]
  },
  {
   "attachments": {},
   "cell_type": "markdown",
   "metadata": {},
   "source": [
    "使用指定分隔符将列表中所有字符串元素连接成一个字符串"
   ]
  },
  {
   "cell_type": "code",
   "execution_count": 15,
   "metadata": {},
   "outputs": [
    {
     "name": "stdout",
     "output_type": "stream",
     "text": [
      "a, b, c, d\n",
      "a and b and c and d\n",
      "abcd\n"
     ]
    }
   ],
   "source": [
    "def join_list(lst, sep=None):\n",
    "    return (sep or '').join(lst)\n",
    "\n",
    "lst = ['a', 'b', 'c', 'd']\n",
    "print(join_list(lst, ', '))\n",
    "print(join_list(lst, ' and '))\n",
    "print(join_list(lst, ''))"
   ]
  },
  {
   "attachments": {},
   "cell_type": "markdown",
   "metadata": {},
   "source": [
    "默认值参数的赋值只会在函数定义时被解释一次"
   ]
  },
  {
   "cell_type": "code",
   "execution_count": 16,
   "metadata": {},
   "outputs": [
    {
     "name": "stdout",
     "output_type": "stream",
     "text": [
      "[1, 2, 3, 4, '5']\n",
      "['a', 'b', 'aaa']\n",
      "['a']\n",
      "['a', 'b']\n"
     ]
    }
   ],
   "source": [
    "def demo(i,old_list=[]):\n",
    "    old_list.append(i)\n",
    "    return old_list\n",
    "\n",
    "print(demo('5',[1,2,3,4]))\n",
    "print(demo('aaa',['a','b']))\n",
    "print(demo('a'))\n",
    "print(demo('b')) \n",
    "#错误，因为old_list的值在函数调用之间保持不变"
   ]
  },
  {
   "cell_type": "code",
   "execution_count": 18,
   "metadata": {},
   "outputs": [
    {
     "name": "stdout",
     "output_type": "stream",
     "text": [
      "[1, 2, 3, 4, '5']\n",
      "['a', 'b', 'aaa']\n",
      "['a']\n",
      "['b']\n"
     ]
    },
    {
     "data": {
      "text/plain": [
       "(None,)"
      ]
     },
     "execution_count": 18,
     "metadata": {},
     "output_type": "execute_result"
    }
   ],
   "source": [
    "#修改后\n",
    "def demo(i,old_list=None):\n",
    "    if old_list is None:\n",
    "        old_list=[]\n",
    "    new_list = old_list[:] #复制列表，防止修改原列表\n",
    "    new_list.append(i)\n",
    "    return new_list\n",
    "\n",
    "print(demo('5',[1,2,3,4]))\n",
    "print(demo('aaa',['a','b']))\n",
    "print(demo('a'))\n",
    "print(demo('b'))\n",
    "demo.__defaults__ #查看函数的默认参数值,返回元组"
   ]
  },
  {
   "attachments": {},
   "cell_type": "markdown",
   "metadata": {},
   "source": [
    "### 参数传递的序列解包\n",
    "- 可在实参序列前加一个星号\\*将其解包，解包后的实参会被当做**普通位置参数**（优先处理），然后传递给多个单变量形参\n",
    "- 若函数实参是字典，可以在前面加两个星号\\*\\*进行解包，等价于**关键参数**\n",
    "- 参数排列顺序：**位置**参数，**关键词**参数，**默认值**参数，**可变长度**参数"
   ]
  },
  {
   "cell_type": "code",
   "execution_count": 25,
   "metadata": {},
   "outputs": [],
   "source": [
    "def demo(a, b, c):\n",
    "    print(a+b+c)"
   ]
  },
  {
   "cell_type": "code",
   "execution_count": 26,
   "metadata": {},
   "outputs": [
    {
     "name": "stdout",
     "output_type": "stream",
     "text": [
      "6\n"
     ]
    }
   ],
   "source": [
    "tup=(1,2,3);demo(*tup) #元组解包，相当于demo(1,2,3)"
   ]
  },
  {
   "cell_type": "code",
   "execution_count": 27,
   "metadata": {},
   "outputs": [
    {
     "name": "stdout",
     "output_type": "stream",
     "text": [
      "6\n"
     ]
    }
   ],
   "source": [
    "lst=[1,2,3];demo(*lst) #列表解包，相当于demo(1,2,3)"
   ]
  },
  {
   "cell_type": "code",
   "execution_count": 28,
   "metadata": {},
   "outputs": [
    {
     "name": "stdout",
     "output_type": "stream",
     "text": [
      "abc\n"
     ]
    }
   ],
   "source": [
    "dic={'a':1,'b':2,'c':3};demo(*dic) #字典解包，相当于demo('a','b','c')"
   ]
  },
  {
   "cell_type": "code",
   "execution_count": 31,
   "metadata": {},
   "outputs": [
    {
     "name": "stdout",
     "output_type": "stream",
     "text": [
      "6\n"
     ]
    }
   ],
   "source": [
    "demo(**dic) #关键参数解包,相当于demo(a=1,b=2,c=3)"
   ]
  },
  {
   "cell_type": "code",
   "execution_count": 29,
   "metadata": {},
   "outputs": [
    {
     "name": "stdout",
     "output_type": "stream",
     "text": [
      "6\n"
     ]
    }
   ],
   "source": [
    "demo(*dic.values()) #字典的值解包，相当于demo(1,2,3)"
   ]
  },
  {
   "cell_type": "code",
   "execution_count": 30,
   "metadata": {},
   "outputs": [
    {
     "name": "stdout",
     "output_type": "stream",
     "text": [
      "6\n"
     ]
    }
   ],
   "source": [
    "set={1,2,3};demo(*set) #集合解包，相当于demo(1,2,3)"
   ]
  },
  {
   "cell_type": "code",
   "execution_count": 34,
   "metadata": {},
   "outputs": [
    {
     "name": "stdout",
     "output_type": "stream",
     "text": [
      "6\n"
     ]
    }
   ],
   "source": [
    "demo(1, *(2, 3))      \n",
    "# demo(a=1, *(2, 3))会报错，因为位置参数必须在关键字参数之前"
   ]
  },
  {
   "attachments": {},
   "cell_type": "markdown",
   "metadata": {},
   "source": [
    "### return语句：从一个函数中返回一个值，同时结束函数\n",
    "以下情况都返回空值：\n",
    "1. 函数没有return语句\n",
    "2. 函数有return语句但没有执行到\n",
    "3. 函数右return语句也执行了，但是没有任何返回值"
   ]
  },
  {
   "cell_type": "code",
   "execution_count": 12,
   "metadata": {
    "ExecuteTime": {
     "end_time": "2022-07-16T15:17:11.290202Z",
     "start_time": "2022-07-16T15:17:11.275851Z"
    }
   },
   "outputs": [
    {
     "name": "stdout",
     "output_type": "stream",
     "text": [
      "Jimi Hendrix\n"
     ]
    }
   ],
   "source": [
    "def get_formatted_name(first_name, last_name):\n",
    "    full_name = first_name+\" \"+last_name\n",
    "    return full_name.title()\n",
    "    \n",
    "musician = get_formatted_name('jimi', 'hendrix')\n",
    "print(musician)"
   ]
  },
  {
   "attachments": {},
   "cell_type": "markdown",
   "metadata": {},
   "source": [
    "### 变量作用域：变量起作用的区域\n",
    "- 局部变量：\n",
    "  - 在函数内部定义\n",
    "  - 只在函数内部起作用\n",
    "  - 当函数执行结束后，局部变量自动删除，不再可以使用\n",
    "- 全局变量：会增加函数之间的隐式耦合。\n",
    "   - 可使用global关键字将其声明为全局变量\n",
    "- 对比：\n",
    "  - 局部变量的引用比全局变量速度快。\n",
    "  - 在函数内有任何为变量赋新值的操作，则该变量被认为是局部变量，除非用global进行了声明"
   ]
  },
  {
   "cell_type": "code",
   "execution_count": 35,
   "metadata": {},
   "outputs": [
    {
     "name": "stdout",
     "output_type": "stream",
     "text": [
      "3 4\n"
     ]
    }
   ],
   "source": [
    "def demo():\n",
    "    global x\n",
    "    x = 3\n",
    "    y = 4\n",
    "    print(x,y)\n",
    "\n",
    "x = 1 #不报错，在函数内部定义了x为全局变量\n",
    "demo()"
   ]
  },
  {
   "cell_type": "code",
   "execution_count": 36,
   "metadata": {},
   "outputs": [
    {
     "data": {
      "text/plain": [
       "3"
      ]
     },
     "execution_count": 36,
     "metadata": {},
     "output_type": "execute_result"
    }
   ],
   "source": [
    "x #全局变量"
   ]
  },
  {
   "cell_type": "code",
   "execution_count": 38,
   "metadata": {},
   "outputs": [
    {
     "name": "stdout",
     "output_type": "stream",
     "text": [
      "y is not defined\n"
     ]
    }
   ],
   "source": [
    "try:\n",
    "    y #局部变量，报错\n",
    "except:\n",
    "    print('y is not defined')"
   ]
  },
  {
   "attachments": {},
   "cell_type": "markdown",
   "metadata": {},
   "source": [
    "### lambda表达式\n",
    "- 可用于声明**匿名函数**(也可以定义有名字的函数)\n",
    "- 适合需要一个函数作为另一个函数参数时使用\n",
    "- 只可以包含一个表达式，该表达式可任意复杂\n",
    "- 计算结果可看做是函数返回值"
   ]
  },
  {
   "cell_type": "code",
   "execution_count": 39,
   "metadata": {},
   "outputs": [
    {
     "data": {
      "text/plain": [
       "6"
      ]
     },
     "execution_count": 39,
     "metadata": {},
     "output_type": "execute_result"
    }
   ],
   "source": [
    "f = lambda x, y, z: x+y+z #匿名函数取名为f\n",
    "f(1,2,3)"
   ]
  },
  {
   "cell_type": "code",
   "execution_count": 43,
   "metadata": {},
   "outputs": [
    {
     "data": {
      "text/plain": [
       "[0, 1, 2, 3, 4, 5, 6, 7, 8, 9]"
      ]
     },
     "execution_count": 43,
     "metadata": {},
     "output_type": "execute_result"
    }
   ],
   "source": [
    "data=list(range(10))\n",
    "data.sort(key=lambda x: len(str(x))) #按字符串长度排序\n",
    "data"
   ]
  },
  {
   "cell_type": "code",
   "execution_count": 47,
   "metadata": {},
   "outputs": [
    {
     "name": "stdout",
     "output_type": "stream",
     "text": [
      "[5, 3, 7, 10, 7]\n",
      "[6, 3, 8, 4, 10]\n",
      "[7, 5, 9, 10, 6]\n",
      "[5, 6, 2, 10, 4]\n",
      "[4, 8, 7, 8, 10]\n",
      "-------------------\n",
      "[5, 3, 7, 10, 7]\n",
      "[6, 3, 8, 4, 10]\n",
      "[7, 5, 9, 10, 6]\n",
      "[5, 6, 2, 10, 4]\n",
      "[4, 8, 7, 8, 10]\n"
     ]
    }
   ],
   "source": [
    "import random\n",
    "x = [[random.randint(1,10) for j in range(5)] for i in range(5)]\n",
    "                                    #包含5个子列表的列表\n",
    "                       #每个子列表中包含5个1到10之间的随机数\n",
    "for item in x:\n",
    "    print(item)\t\n",
    "print('-------------------')\n",
    "y = sorted(x, key=lambda item: (item[1], item[4]))\n",
    "                               #按子列表中第2个元素升序、第5个元素升序排序\n",
    "for item in y:\n",
    "    print(item)\t"
   ]
  },
  {
   "attachments": {},
   "cell_type": "markdown",
   "metadata": {},
   "source": [
    "注意lambda表达式的作用域"
   ]
  },
  {
   "cell_type": "code",
   "execution_count": 50,
   "metadata": {},
   "outputs": [
    {
     "name": "stdout",
     "output_type": "stream",
     "text": [
      "[<function <lambda> at 0x0000019F1F207950>, <function <lambda> at 0x0000019F1F207F28>, <function <lambda> at 0x0000019F1F2077B8>, <function <lambda> at 0x0000019F1F207AE8>, <function <lambda> at 0x0000019F1F2079D8>, <function <lambda> at 0x0000019F1F207730>, <function <lambda> at 0x0000019F1F2076A8>, <function <lambda> at 0x0000019F1F207378>, <function <lambda> at 0x0000019F1F207488>, <function <lambda> at 0x0000019F1F207598>]\n",
      "81\n"
     ]
    }
   ],
   "source": [
    "r=[]\n",
    "for x in range(10):\n",
    "    \"\"\"lambda表达式中的x是自由变量,\n",
    "    指向循环中的x,而不是定义lambda表达式时的x\"\"\"\n",
    "    r.append(lambda:x**2)\n",
    "\n",
    "print(r[0]()) #输出81，因为x=9\n",
    "print(r[1]()) #输出81，因为x=9"
   ]
  },
  {
   "cell_type": "code",
   "execution_count": 52,
   "metadata": {},
   "outputs": [
    {
     "name": "stdout",
     "output_type": "stream",
     "text": [
      "0\n",
      "1\n"
     ]
    }
   ],
   "source": [
    "r=[]\n",
    "for x in range(10):\n",
    "    \"\"\"lambda表达式中的n是绑定变量,\n",
    "    指向定义lambda表达中时的x,而不是循环中的x\"\"\"\n",
    "    r.append(lambda n=x:n**2)\n",
    "\n",
    "print(r[0]()) #输出0，因为n=0\n",
    "print(r[1]()) #输出1，因为n=1"
   ]
  },
  {
   "attachments": {},
   "cell_type": "markdown",
   "metadata": {},
   "source": [
    "### 设置可选参数"
   ]
  },
  {
   "cell_type": "code",
   "execution_count": 13,
   "metadata": {
    "ExecuteTime": {
     "end_time": "2022-07-16T15:17:11.306203Z",
     "start_time": "2022-07-16T15:17:11.291206Z"
    }
   },
   "outputs": [
    {
     "name": "stdout",
     "output_type": "stream",
     "text": [
      "Jimi Hendrix\n",
      "John Lee Hooker\n"
     ]
    }
   ],
   "source": [
    "def get_formatted_name(first_name, last_name, middle_name=''):\n",
    "    #中间名设置为可选\n",
    "    if middle_name:\n",
    "        full_name = first_name+\" \"+ middle_name+\" \"+ last_name\n",
    "    else:\n",
    "        full_name = first_name+\" \"+last_name\n",
    "    return full_name.title()\n",
    "    \n",
    "musician = get_formatted_name('jimi', 'hendrix')\n",
    "print(musician)\n",
    "\n",
    "musician = get_formatted_name('john', 'hooker', 'lee')\n",
    "print(musician)"
   ]
  },
  {
   "cell_type": "code",
   "execution_count": 14,
   "metadata": {
    "ExecuteTime": {
     "end_time": "2022-07-16T15:17:11.311901Z",
     "start_time": "2022-07-16T15:17:11.307206Z"
    }
   },
   "outputs": [
    {
     "name": "stdout",
     "output_type": "stream",
     "text": [
      "Jimi  Hendrix\n",
      "John Lee Hooker\n"
     ]
    }
   ],
   "source": [
    "def get_formatted_name(first_name, last_name, middle_name=''):\n",
    "    #中间名设置为可选\n",
    "    full_name = first_name+\" \"+ middle_name+\" \"+ last_name\n",
    "    return full_name.title()\n",
    "    \n",
    "musician = get_formatted_name('jimi', 'hendrix')\n",
    "print(musician)\n",
    "\n",
    "musician = get_formatted_name('john', 'hooker', 'lee')\n",
    "print(musician)"
   ]
  },
  {
   "attachments": {},
   "cell_type": "markdown",
   "metadata": {},
   "source": [
    "### 返回字典"
   ]
  },
  {
   "cell_type": "code",
   "execution_count": 15,
   "metadata": {
    "ExecuteTime": {
     "end_time": "2022-07-16T15:17:11.321901Z",
     "start_time": "2022-07-16T15:17:11.315897Z"
    }
   },
   "outputs": [
    {
     "name": "stdout",
     "output_type": "stream",
     "text": [
      "{'first': 'jimi', 'last': 'hendrix', 'age': 27}\n"
     ]
    }
   ],
   "source": [
    "def build_person(first_name, last_name, age=None):\n",
    "    \"\"\"返回一个包含个人信息的字典\"\"\"\n",
    "    person = {'first': first_name, 'last': last_name}\n",
    "    if age:#可选值\n",
    "        person['age'] = age#扩展字典\n",
    "    return person\n",
    "\n",
    "musician = build_person('jimi', 'hendrix', age=27)\n",
    "print(musician)"
   ]
  },
  {
   "attachments": {},
   "cell_type": "markdown",
   "metadata": {},
   "source": [
    "### 结合while"
   ]
  },
  {
   "cell_type": "code",
   "execution_count": 16,
   "metadata": {
    "ExecuteTime": {
     "end_time": "2022-07-16T15:17:17.384946Z",
     "start_time": "2022-07-16T15:17:11.323898Z"
    }
   },
   "outputs": [
    {
     "name": "stdout",
     "output_type": "stream",
     "text": [
      "\n",
      "Please tell me your name.\n",
      "(enter 'q' at any time to quit)\n",
      "First name: salad\n",
      "Last name: xx\n",
      "\n",
      "Hello, Saladxx!\n",
      "\n",
      "Please tell me your name.\n",
      "(enter 'q' at any time to quit)\n",
      "First name: q\n"
     ]
    }
   ],
   "source": [
    "def get_formatted_name(first_name, last_name):\n",
    "    full_name = first_name+ last_name\n",
    "    return full_name.title()\n",
    "\n",
    "while True:\n",
    "    print(\"\\nPlease tell me your name.\")\n",
    "    print(\"(enter 'q' at any time to quit)\")\n",
    "\n",
    "    f_name = input(\"First name: \")\n",
    "    if f_name == 'q':\n",
    "        break\n",
    "\n",
    "    l_name = input(\"Last name: \")\n",
    "    if l_name == 'q':\n",
    "        break\n",
    "    \n",
    "    formatted_name = get_formatted_name(f_name, l_name)\n",
    "    print(\"\\nHello, \"+formatted_name+\"!\")"
   ]
  },
  {
   "attachments": {},
   "cell_type": "markdown",
   "metadata": {},
   "source": [
    "### 传递列表"
   ]
  },
  {
   "cell_type": "code",
   "execution_count": 20,
   "metadata": {
    "ExecuteTime": {
     "end_time": "2022-07-16T15:17:28.287951Z",
     "start_time": "2022-07-16T15:17:28.272602Z"
    }
   },
   "outputs": [
    {
     "name": "stdout",
     "output_type": "stream",
     "text": [
      "Hello,Salad!\n",
      "Hello,Xx!\n"
     ]
    }
   ],
   "source": [
    "def greet_users(names):\n",
    "    \n",
    "    \"\"\"向列表中的每位用户都发出简单问候\"\"\"\n",
    "    \"\"\"接受一个名字列表并将其存储在形参names中\"\"\"\n",
    "    \n",
    "    for name in names:#遍历列表\n",
    "        message=\"Hello,\"+name.title()+\"!\"\n",
    "        print(message)\n",
    "    \n",
    "username = [\"salad\" , \"xx\" ]\n",
    "greet_users(username)"
   ]
  },
  {
   "attachments": {},
   "cell_type": "markdown",
   "metadata": {},
   "source": [
    "### 修改列表"
   ]
  },
  {
   "cell_type": "code",
   "execution_count": 21,
   "metadata": {
    "ExecuteTime": {
     "end_time": "2022-07-16T15:17:28.303471Z",
     "start_time": "2022-07-16T15:17:28.289473Z"
    }
   },
   "outputs": [
    {
     "name": "stdout",
     "output_type": "stream",
     "text": [
      "Printing model: dodecahedron\n",
      "Printing model: robot pendant\n",
      "Printing model: iphone case\n",
      "\n",
      "The following models have been printed: \n",
      "['dodecahedron', 'robot pendant', 'iphone case']\n",
      "['dodecahedron', 'robot pendant', 'iphone case']\n",
      "['dodecahedron', 'robot pendant', 'iphone case']\n"
     ]
    }
   ],
   "source": [
    "unprinted_designs=[\"iphone case\",\"robot pendant\",\"dodecahedron\"]\n",
    "completed_models=[]\n",
    "\n",
    "while unprinted_designs:\n",
    "    current_design=unprinted_designs.pop()\n",
    "    \n",
    "    print(\"Printing model: \"+current_design)\n",
    "    completed_models.append(current_design)\n",
    "    \n",
    "print(\"\\nThe following models have been printed: \")\n",
    "for i in completed_models:\n",
    "    print(completed_models)"
   ]
  },
  {
   "attachments": {},
   "cell_type": "markdown",
   "metadata": {},
   "source": [
    "#### 每个函数只负责一项具体的工作"
   ]
  },
  {
   "cell_type": "code",
   "execution_count": 22,
   "metadata": {
    "ExecuteTime": {
     "end_time": "2022-07-16T15:17:28.319491Z",
     "start_time": "2022-07-16T15:17:28.305470Z"
    }
   },
   "outputs": [
    {
     "name": "stdout",
     "output_type": "stream",
     "text": [
      "Printing model: dodecahedron\n",
      "Printing model: robot pendant\n",
      "Printing model: iphone case\n",
      "\n",
      "The following models have been printed: \n",
      "['a', 'dodecahedron', 'robot pendant', 'iphone case']\n",
      "['a', 'dodecahedron', 'robot pendant', 'iphone case']\n",
      "['a', 'dodecahedron', 'robot pendant', 'iphone case']\n",
      "['a', 'dodecahedron', 'robot pendant', 'iphone case']\n"
     ]
    }
   ],
   "source": [
    "def print_models(unprinted_designs, completed_models):\n",
    "    while unprinted_designs:\n",
    "        current_design=unprinted_designs.pop()\n",
    "    \n",
    "        print(\"Printing model: \"+current_design)\n",
    "        completed_models.append(current_design)\n",
    "\n",
    "def show_completed_models(completed_models):\n",
    "    for i in completed_models:\n",
    "        print(completed_models)\n",
    "\n",
    "unprinted_designs=[\"iphone case\",\"robot pendant\",\"dodecahedron\"]\n",
    "completed_models=[\"a\"]\n",
    "\n",
    "print_models(unprinted_designs, completed_models)\n",
    "print(\"\\nThe following models have been printed: \")\n",
    "show_completed_models(completed_models)"
   ]
  },
  {
   "cell_type": "code",
   "execution_count": 23,
   "metadata": {
    "ExecuteTime": {
     "end_time": "2022-07-16T15:17:28.335518Z",
     "start_time": "2022-07-16T15:17:28.321474Z"
    }
   },
   "outputs": [],
   "source": [
    "show_completed_models(unprinted_designs)"
   ]
  },
  {
   "attachments": {},
   "cell_type": "markdown",
   "metadata": {},
   "source": [
    "### 禁止函数修改列表可用列表的副本"
   ]
  },
  {
   "cell_type": "code",
   "execution_count": 24,
   "metadata": {
    "ExecuteTime": {
     "end_time": "2022-07-16T15:17:28.351713Z",
     "start_time": "2022-07-16T15:17:28.337470Z"
    }
   },
   "outputs": [
    {
     "name": "stdout",
     "output_type": "stream",
     "text": [
      "Printing model: dodecahedron\n",
      "Printing model: robot pendant\n",
      "Printing model: iphone case\n",
      "\n",
      "The following models have been printed: \n",
      "['a', 'dodecahedron', 'robot pendant', 'iphone case']\n",
      "['a', 'dodecahedron', 'robot pendant', 'iphone case']\n",
      "['a', 'dodecahedron', 'robot pendant', 'iphone case']\n",
      "['a', 'dodecahedron', 'robot pendant', 'iphone case']\n"
     ]
    }
   ],
   "source": [
    "unprinted_designs=[\"iphone case\",\"robot pendant\",\"dodecahedron\"]\n",
    "completed_models=[\"a\"]\n",
    "\n",
    "print_models(unprinted_designs[:], completed_models)\n",
    "#使用列表切片方法\n",
    "print(\"\\nThe following models have been printed: \")\n",
    "show_completed_models(completed_models)"
   ]
  },
  {
   "cell_type": "code",
   "execution_count": 25,
   "metadata": {
    "ExecuteTime": {
     "end_time": "2022-07-16T15:17:28.367511Z",
     "start_time": "2022-07-16T15:17:28.354475Z"
    }
   },
   "outputs": [
    {
     "name": "stdout",
     "output_type": "stream",
     "text": [
      "['iphone case', 'robot pendant', 'dodecahedron']\n",
      "['iphone case', 'robot pendant', 'dodecahedron']\n",
      "['iphone case', 'robot pendant', 'dodecahedron']\n"
     ]
    }
   ],
   "source": [
    "show_completed_models(unprinted_designs)\n",
    "#此时原列表unprinted_designs中的数值保留不变"
   ]
  },
  {
   "attachments": {},
   "cell_type": "markdown",
   "metadata": {},
   "source": [
    "### 结合位置实参和任意数量实参"
   ]
  },
  {
   "attachments": {},
   "cell_type": "markdown",
   "metadata": {},
   "source": [
    "#### 接纳任何数量实参的形参应放在函数定义中的最后"
   ]
  },
  {
   "cell_type": "code",
   "execution_count": 47,
   "metadata": {
    "ExecuteTime": {
     "end_time": "2022-07-17T08:12:02.129345Z",
     "start_time": "2022-07-17T08:12:02.120918Z"
    }
   },
   "outputs": [
    {
     "name": "stdout",
     "output_type": "stream",
     "text": [
      "\n",
      "Making a pizza with the following toppings:\n",
      "- peperoni\n",
      "\n",
      "Making a pizza with the following toppings:\n",
      "- mushrooms\n",
      "- green peppers\n",
      "- extra cheese\n"
     ]
    }
   ],
   "source": [
    "def make_pizza(size, *toppings):\n",
    "    \"\"\"Summarize the pizza we are about to make.\"\"\"\n",
    "    print(\"\\nMaking a pizza with the following toppings:\")\n",
    "    for topping in toppings:\n",
    "        print(\"- \"+topping)\n",
    "        \n",
    "make_pizza(16,\"peperoni\")\n",
    "make_pizza(12,\"mushrooms\",\"green peppers\",\"extra cheese\")"
   ]
  },
  {
   "attachments": {},
   "cell_type": "markdown",
   "metadata": {},
   "source": [
    "### 使用任何数量的关键字实参"
   ]
  },
  {
   "attachments": {},
   "cell_type": "markdown",
   "metadata": {},
   "source": [
    "#### 形参**user_info中的**让python创建一个名为user_info的空字典"
   ]
  },
  {
   "attachments": {},
   "cell_type": "markdown",
   "metadata": {},
   "source": [
    "#### 将收到的所有名称—值对都封装到字典中"
   ]
  },
  {
   "cell_type": "code",
   "execution_count": 49,
   "metadata": {
    "ExecuteTime": {
     "end_time": "2022-07-17T09:11:15.345387Z",
     "start_time": "2022-07-17T09:11:15.321945Z"
    }
   },
   "outputs": [
    {
     "name": "stdout",
     "output_type": "stream",
     "text": [
      "{'first_name': 'albert', 'last_name': 'einstein', 'location': 'princeton', 'field': 'physics'}\n"
     ]
    }
   ],
   "source": [
    "def build_profile(first, last, **user_info):\n",
    "    \n",
    "    #接受名和姓，还接受任意数量的关键字实参（用户信息）\n",
    "    \"\"\"Build a dictionary containing everything we know about a user.\"\"\"\n",
    "    \n",
    "    profile={}\n",
    "    #用于存储用户简介\n",
    "    \n",
    "    #将名和姓加入到profile字典中\n",
    "    profile['first_name'] = first\n",
    "    profile['last_name'] = last\n",
    "    \n",
    "    #遍历字典user_info中的键值对，将每个键值对都加入到字典profile中\n",
    "    for key,value in user_info.items():\n",
    "        profile[key]=value\n",
    "        \n",
    "    return profile\n",
    "\n",
    "user_profile = build_profile('albert', 'einstein',\n",
    "                             location='princeton',\n",
    "                             field='physics')\n",
    "print(user_profile)"
   ]
  },
  {
   "attachments": {},
   "cell_type": "markdown",
   "metadata": {},
   "source": [
    "## Practice"
   ]
  },
  {
   "attachments": {},
   "cell_type": "markdown",
   "metadata": {},
   "source": [
    "编写函数计算圆的面积"
   ]
  },
  {
   "cell_type": "code",
   "execution_count": 53,
   "metadata": {},
   "outputs": [
    {
     "name": "stdout",
     "output_type": "stream",
     "text": [
      "12.566370614359172\n"
     ]
    }
   ],
   "source": [
    "from math import pi as PI\n",
    "def area(r):\n",
    "    return PI*r**2\n",
    "\n",
    "print(area(2))"
   ]
  },
  {
   "attachments": {},
   "cell_type": "markdown",
   "metadata": {},
   "source": [
    "编写函数，接收任意多个实数,返回一个元组，其中第一个元素为所有参数的平均值，其他元素为所有参数中大于平均值的实数。"
   ]
  },
  {
   "cell_type": "code",
   "execution_count": 56,
   "metadata": {},
   "outputs": [
    {
     "name": "stdout",
     "output_type": "stream",
     "text": [
      "(5.5, 6, 7, 8, 9, 10)\n"
     ]
    }
   ],
   "source": [
    "def greater_than_ave(*args):\n",
    "    ave=sum(args)/len(args)\n",
    "    result[0]=ave\n",
    "    for i in args:\n",
    "        if i>ave:\n",
    "            result.append(i)\n",
    "    return tuple(result)\n",
    "\n",
    "print(greater_than_ave(1,2,3,4,5,6,7,8,9,10))"
   ]
  },
  {
   "attachments": {},
   "cell_type": "markdown",
   "metadata": {},
   "source": [
    "编写函数，接收字符串参数，返回一个元组，其中第一个元素为大写字母个数，第二个元素为小写字母个数。"
   ]
  },
  {
   "cell_type": "code",
   "execution_count": 57,
   "metadata": {},
   "outputs": [
    {
     "name": "stdout",
     "output_type": "stream",
     "text": [
      "(2, 8)\n"
     ]
    }
   ],
   "source": [
    "def count_upper_lower(s):\n",
    "    result=[0,0]\n",
    "    for i in s:\n",
    "        if i.isupper():\n",
    "            result[0]+=1\n",
    "        elif i.islower():\n",
    "            result[1]+=1\n",
    "    return tuple(result)\n",
    "\n",
    "print(count_upper_lower(\"Hello World\"))"
   ]
  },
  {
   "attachments": {},
   "cell_type": "markdown",
   "metadata": {},
   "source": [
    "编写函数，接收包含20个整数的列表lst和一个整数k作为参数，返回新列表。\n",
    "\n",
    "处理规则为：将列表lst中下标k（不包括k）之前的元素逆序，下标k（包括k）之后的元素逆序，然后将整个列表lst中的所有元素再逆序。"
   ]
  },
  {
   "cell_type": "code",
   "execution_count": 60,
   "metadata": {},
   "outputs": [
    {
     "name": "stdout",
     "output_type": "stream",
     "text": [
      "[6, 7, 8, 9, 10, 1, 2, 3, 4, 5]\n"
     ]
    }
   ],
   "source": [
    "def reverse_list(lst,k):\n",
    "    x=lst[:] #复制列表以免改变原列表\n",
    "    x[:k] = x[:k][::-1] #前k个元素反转\n",
    "    x[k:] = x[k:][::-1] #后面的元素反转\n",
    "    return x[::-1]\n",
    "\n",
    "print(reverse_list([1,2,3,4,5,6,7,8,9,10],5))"
   ]
  },
  {
   "cell_type": "code",
   "execution_count": null,
   "metadata": {},
   "outputs": [],
   "source": []
  }
 ],
 "metadata": {
  "kernelspec": {
   "display_name": "Python 3",
   "language": "python",
   "name": "python3"
  },
  "language_info": {
   "codemirror_mode": {
    "name": "ipython",
    "version": 3
   },
   "file_extension": ".py",
   "mimetype": "text/x-python",
   "name": "python",
   "nbconvert_exporter": "python",
   "pygments_lexer": "ipython3",
   "version": "3.7.0"
  }
 },
 "nbformat": 4,
 "nbformat_minor": 2
}
