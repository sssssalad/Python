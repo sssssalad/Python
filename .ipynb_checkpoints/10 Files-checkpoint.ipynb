{
 "cells": [
  {
   "cell_type": "markdown",
   "metadata": {},
   "source": [
    "### 打开并读取文件"
   ]
  },
  {
   "cell_type": "markdown",
   "metadata": {
    "ExecuteTime": {
     "end_time": "2022-08-03T14:14:23.177876Z",
     "start_time": "2022-08-03T14:14:23.170842Z"
    }
   },
   "source": [
    "#### 关键字with在不再需要访问文件后将其关闭"
   ]
  },
  {
   "cell_type": "markdown",
   "metadata": {},
   "source": [
    "#### open（）接受一个参数：要打开的文件的名称；python在当前执行的文件所在的目录查找指定的文件，并返回一个表示文件的对象"
   ]
  },
  {
   "cell_type": "markdown",
   "metadata": {},
   "source": [
    "#### read（）读取文件的全部内容，并将其作为一个长字符串存储在contents变量中，        到达文件末尾时返回一个空字符串，显示出来就是一个空行"
   ]
  },
  {
   "cell_type": "code",
   "execution_count": 1,
   "metadata": {
    "ExecuteTime": {
     "end_time": "2022-08-08T12:28:41.785240Z",
     "start_time": "2022-08-08T12:28:41.776242Z"
    }
   },
   "outputs": [],
   "source": [
    "with open('pi_digits.txt') as file_object:\n",
    "    \"\"\"在本py文件所在的目录中查找pi_digits.txt文件\"\"\"\n",
    "    contents = file_object.read()\n",
    "    print(contents)"
   ]
  },
  {
   "cell_type": "markdown",
   "metadata": {},
   "source": [
    "### 文件路径"
   ]
  },
  {
   "cell_type": "markdown",
   "metadata": {},
   "source": [
    "#### python打开不与程序文件位于同一个目录中的文件需要提供文件路径"
   ]
  },
  {
   "cell_type": "markdown",
   "metadata": {},
   "source": [
    "#### 相对文件路径（位置相对于当前运行程序所在目录）"
   ]
  },
  {
   "cell_type": "code",
   "execution_count": 2,
   "metadata": {
    "ExecuteTime": {
     "end_time": "2022-08-08T12:28:41.845688Z",
     "start_time": "2022-08-08T12:28:41.788772Z"
    }
   },
   "outputs": [],
   "source": [
    "\"\"\"去python_work文件夹下的文件夹text_files中查找指定txt文件\"\"\"\n",
    "\"\"\"只在python_work文件夹中查找该位置\"\"\"\n",
    "\n",
    "\"\"\"Windows系统中，在文件路径中使用反斜杠\\,不能使用斜杠/\"\"\"\n",
    "\n",
    "# with open('text_files\\filename.txt')as file_object:"
   ]
  },
  {
   "cell_type": "markdown",
   "metadata": {},
   "source": [
    "#### 绝对文件路径（文件在计算机中的准确位置）"
   ]
  },
  {
   "cell_type": "code",
   "execution_count": 3,
   "metadata": {
    "ExecuteTime": {
     "end_time": "2022-08-08T12:28:41.861652Z",
     "start_time": "2022-08-08T12:28:41.849656Z"
    }
   },
   "outputs": [],
   "source": [
    "file_path='C:\\\\Users\\\\ehmatthes\\\\other_files\\\\text_files\\\\filename.txt'\n",
    "\"\"\"单个\\会被当做转义字符\"\"\"\n",
    "\n",
    "# with open(file_path) as file_object:"
   ]
  },
  {
   "cell_type": "code",
   "execution_count": 4,
   "metadata": {
    "ExecuteTime": {
     "end_time": "2022-08-08T12:28:41.876653Z",
     "start_time": "2022-08-08T12:28:41.865655Z"
    }
   },
   "outputs": [
    {
     "data": {
      "text/plain": [
       "'可被正确读取'"
      ]
     },
     "execution_count": 4,
     "metadata": {},
     "output_type": "execute_result"
    }
   ],
   "source": [
    "file_path='C:/Users/ehmatthes/other_files/text_files/filename.txt'\n",
    "\"\"\"可被正确读取\"\"\"\n",
    "\n",
    "# with open(file_path) as file_object:"
   ]
  },
  {
   "cell_type": "markdown",
   "metadata": {},
   "source": [
    "### 逐行读取"
   ]
  },
  {
   "cell_type": "markdown",
   "metadata": {
    "ExecuteTime": {
     "end_time": "2022-08-06T06:40:55.980670Z",
     "start_time": "2022-08-06T06:40:55.972797Z"
    }
   },
   "source": [
    "#### 每行末尾都有一个看不见的换行符，print语句也会加上一个换行符"
   ]
  },
  {
   "cell_type": "markdown",
   "metadata": {
    "ExecuteTime": {
     "end_time": "2022-08-06T06:41:28.747661Z",
     "start_time": "2022-08-06T06:41:28.723664Z"
    }
   },
   "source": [
    "#### 每行输出都有两个换行符，一个来自文件一个来自print"
   ]
  },
  {
   "cell_type": "code",
   "execution_count": 5,
   "metadata": {
    "ExecuteTime": {
     "end_time": "2022-08-08T12:28:41.907653Z",
     "start_time": "2022-08-08T12:28:41.882656Z"
    }
   },
   "outputs": [
    {
     "name": "stdout",
     "output_type": "stream",
     "text": [
      "3.1415926535\n",
      "\n",
      "  8979323846 \n",
      "\n",
      "  2643383279\n",
      "\n"
     ]
    }
   ],
   "source": [
    "filename = 'pi_digits.txt'\n",
    "\"\"\"变量filename表示的不是实际文件，\n",
    "    它是一个表示文件及其内容的对象，\n",
    "    是一个让python知道到哪里去查找文件的字符串\"\"\"\n",
    "\n",
    "with open(filename) as file_object:\n",
    "    \"\"\"通过对文件对象执行循环来遍历文件中的每一行\"\"\"\n",
    "    for line in file_object:\n",
    "        print(line)"
   ]
  },
  {
   "cell_type": "markdown",
   "metadata": {},
   "source": [
    "#### 消除多余空白行"
   ]
  },
  {
   "cell_type": "code",
   "execution_count": 6,
   "metadata": {
    "ExecuteTime": {
     "end_time": "2022-08-08T12:28:41.922657Z",
     "start_time": "2022-08-08T12:28:41.912654Z"
    }
   },
   "outputs": [
    {
     "name": "stdout",
     "output_type": "stream",
     "text": [
      "3.1415926535\n",
      "  8979323846\n",
      "  2643383279\n"
     ]
    }
   ],
   "source": [
    "filename = 'pi_digits.txt'\n",
    "\n",
    "with open(filename) as file_object:\n",
    "    \"\"\"通过对文件对象执行循环来遍历文件中的每一行\"\"\"\n",
    "    for line in file_object:\n",
    "        print(line.rstrip())"
   ]
  },
  {
   "cell_type": "markdown",
   "metadata": {},
   "source": [
    "### 创建一个包含文件各行内容的列表"
   ]
  },
  {
   "cell_type": "markdown",
   "metadata": {},
   "source": [
    "#### 使用关键字with时open（）返回的文件对象只在with模块内可用"
   ]
  },
  {
   "cell_type": "markdown",
   "metadata": {
    "ExecuteTime": {
     "end_time": "2022-08-06T06:46:43.812058Z",
     "start_time": "2022-08-06T06:46:43.804011Z"
    }
   },
   "source": [
    "#### 可在with内将文件各行储存在一个列表中，便于在with外访问文件内容"
   ]
  },
  {
   "cell_type": "markdown",
   "metadata": {},
   "source": [
    "#### readlines()从文件中读取每一行，并将其存储在一个列表中"
   ]
  },
  {
   "cell_type": "code",
   "execution_count": 7,
   "metadata": {
    "ExecuteTime": {
     "end_time": "2022-08-08T12:28:41.937651Z",
     "start_time": "2022-08-08T12:28:41.924654Z"
    }
   },
   "outputs": [],
   "source": [
    "filename = 'pi_digits.txt'\n",
    "\n",
    "with open(filename) as file_object:\n",
    "    lines = file_object.readlines()"
   ]
  },
  {
   "cell_type": "code",
   "execution_count": 8,
   "metadata": {
    "ExecuteTime": {
     "end_time": "2022-08-08T12:28:41.952649Z",
     "start_time": "2022-08-08T12:28:41.940656Z"
    }
   },
   "outputs": [
    {
     "name": "stdout",
     "output_type": "stream",
     "text": [
      "3.1415926535\n",
      "  8979323846\n",
      "  2643383279\n"
     ]
    }
   ],
   "source": [
    "\"\"\"在with外使用变量表示的文件内容\"\"\"\n",
    "for line in lines:\n",
    "    print(line.rstrip())"
   ]
  },
  {
   "cell_type": "markdown",
   "metadata": {
    "ExecuteTime": {
     "end_time": "2022-08-06T06:52:36.715016Z",
     "start_time": "2022-08-06T06:52:36.709929Z"
    }
   },
   "source": [
    "### 使用文件内容"
   ]
  },
  {
   "cell_type": "code",
   "execution_count": 9,
   "metadata": {
    "ExecuteTime": {
     "end_time": "2022-08-08T12:28:41.968656Z",
     "start_time": "2022-08-08T12:28:41.955652Z"
    }
   },
   "outputs": [
    {
     "name": "stdout",
     "output_type": "stream",
     "text": [
      "3.1415926535  8979323846  2643383279\n",
      "36\n"
     ]
    }
   ],
   "source": [
    "filename = 'pi_digits.txt'\n",
    "\n",
    "with open(filename) as file_object:\n",
    "    lines = file_object.readlines()\n",
    "    \n",
    "#创建一个包含文件中存储的所有数字，无右侧空格的字符串\n",
    "pi_string = ''\n",
    "for line in lines:\n",
    "    pi_string += line.rstrip()#删除每行末尾换行符\n",
    "    \n",
    "print(pi_string)\n",
    "print(len(pi_string))"
   ]
  },
  {
   "cell_type": "markdown",
   "metadata": {},
   "source": [
    "#### Python将读取文本文件时其中的所有文本解读为字符串"
   ]
  },
  {
   "cell_type": "markdown",
   "metadata": {},
   "source": [
    "#### 若读取的为数字并要将其作为数字使用，应使用 int() 转换为整数 或 float() 将其转换为浮点数"
   ]
  },
  {
   "cell_type": "code",
   "execution_count": 10,
   "metadata": {
    "ExecuteTime": {
     "end_time": "2022-08-08T12:28:42.014655Z",
     "start_time": "2022-08-08T12:28:41.974657Z"
    }
   },
   "outputs": [
    {
     "name": "stdout",
     "output_type": "stream",
     "text": [
      "3.14159265358979323846264338327950288419716939937510...\n",
      "1000002\n"
     ]
    }
   ],
   "source": [
    "filename = 'pi_millions_digits.txt'\n",
    "\n",
    "with open(filename) as file_object:\n",
    "    lines = file_object.readlines()\n",
    "    \n",
    "#创建一个包含文件中存储的所有数字，无右侧空格的字符串\n",
    "pi_string = ''\n",
    "for line in lines:\n",
    "    pi_string += line.rstrip()#删除每行末尾换行符\n",
    "    \n",
    "print(pi_string[:52] + \"...\")\n",
    "print(len(pi_string))"
   ]
  },
  {
   "cell_type": "markdown",
   "metadata": {},
   "source": [
    "#### 圆周率是否包含生日"
   ]
  },
  {
   "cell_type": "code",
   "execution_count": 11,
   "metadata": {
    "ExecuteTime": {
     "end_time": "2022-08-08T12:29:01.506898Z",
     "start_time": "2022-08-08T12:28:42.017657Z"
    }
   },
   "outputs": [
    {
     "name": "stdout",
     "output_type": "stream",
     "text": [
      "Enter your birthday, in the form mmddyy: 072202\n",
      "Your birthday appears in the first million digits of pi!\n"
     ]
    }
   ],
   "source": [
    "filename = 'pi_millions_digits.txt'\n",
    "\n",
    "with open(filename) as file_object:\n",
    "    lines = file_object.readlines()\n",
    "    \n",
    "#创建一个包含文件中存储的所有数字，无右侧空格的字符串\n",
    "pi_string = ''\n",
    "for line in lines:\n",
    "    pi_string += line.rstrip()#删除每行末尾换行符\n",
    "    \n",
    "birthday = input(\"Enter your birthday, in the form mmddyy: \")\n",
    "if birthday in pi_string:\n",
    "    print(\"Your birthday appears in the first million digits of pi!\")\n",
    "else:\n",
    "    print(\"Your birthday does not appear in the first million digits of pi.\")"
   ]
  },
  {
   "cell_type": "markdown",
   "metadata": {},
   "source": [
    "#### 10-2"
   ]
  },
  {
   "cell_type": "code",
   "execution_count": 12,
   "metadata": {
    "ExecuteTime": {
     "end_time": "2022-08-08T12:29:01.537725Z",
     "start_time": "2022-08-08T12:29:01.510863Z"
    }
   },
   "outputs": [
    {
     "name": "stdout",
     "output_type": "stream",
     "text": [
      "In Python you can 1.\n",
      "In Python you can 2.\n",
      "In Python you can 3.\n",
      "In Python you can 4.\n",
      "In Python you can kijojmjl.\n"
     ]
    }
   ],
   "source": [
    "file = 'learning_python.txt'\n",
    "\n",
    "\"\"\"读取整个文件\"\"\"\n",
    "with open(file) as file_object:\n",
    "    content = file_object.read()\n",
    "    print(content)"
   ]
  },
  {
   "cell_type": "code",
   "execution_count": 13,
   "metadata": {
    "ExecuteTime": {
     "end_time": "2022-08-08T12:29:01.569134Z",
     "start_time": "2022-08-08T12:29:01.541000Z"
    }
   },
   "outputs": [
    {
     "name": "stdout",
     "output_type": "stream",
     "text": [
      "In Python you can 1.\n",
      "\n",
      "In Python you can 2.\n",
      "\n",
      "In Python you can 3.\n",
      "\n",
      "In Python you can 4.\n",
      "\n",
      "In Python you can kijojmjl.\n"
     ]
    }
   ],
   "source": [
    "\"\"\"遍历文件对象\"\"\"\n",
    "with open(file) as file_object:\n",
    "    for i in file_object:\n",
    "        print(i)"
   ]
  },
  {
   "cell_type": "code",
   "execution_count": 14,
   "metadata": {
    "ExecuteTime": {
     "end_time": "2022-08-08T12:29:01.585134Z",
     "start_time": "2022-08-08T12:29:01.574126Z"
    }
   },
   "outputs": [],
   "source": [
    "\"\"\"把各行存储在一个列表中\"\"\"\n",
    "with open(file) as file_object:\n",
    "    lines = file_object.readlines()"
   ]
  },
  {
   "cell_type": "code",
   "execution_count": 15,
   "metadata": {
    "ExecuteTime": {
     "end_time": "2022-08-08T12:29:01.601133Z",
     "start_time": "2022-08-08T12:29:01.588135Z"
    }
   },
   "outputs": [
    {
     "name": "stdout",
     "output_type": "stream",
     "text": [
      "In Python you can 1.\n",
      "\n",
      "In Python you can 2.\n",
      "\n",
      "In Python you can 3.\n",
      "\n",
      "In Python you can 4.\n",
      "\n",
      "In Python you can kijojmjl.\n"
     ]
    }
   ],
   "source": [
    "for line in lines:\n",
    "    print(line)"
   ]
  },
  {
   "cell_type": "markdown",
   "metadata": {},
   "source": [
    "#### 10-2"
   ]
  },
  {
   "cell_type": "markdown",
   "metadata": {},
   "source": [
    "#### replace(a,b) 将字符串中的特定单词a都替换为另一个单词b"
   ]
  },
  {
   "cell_type": "code",
   "execution_count": 16,
   "metadata": {
    "ExecuteTime": {
     "end_time": "2022-08-08T12:29:01.620133Z",
     "start_time": "2022-08-08T12:29:01.607161Z"
    }
   },
   "outputs": [
    {
     "data": {
      "text/plain": [
       "'I really like cats.'"
      ]
     },
     "execution_count": 16,
     "metadata": {},
     "output_type": "execute_result"
    }
   ],
   "source": [
    "\"\"\"将dog替换为cat\"\"\"\n",
    "message = \"I really like dogs.\"\n",
    "message.replace(\"dog\",\"cat\")"
   ]
  },
  {
   "cell_type": "code",
   "execution_count": 17,
   "metadata": {
    "ExecuteTime": {
     "end_time": "2022-08-08T12:29:01.648128Z",
     "start_time": "2022-08-08T12:29:01.626128Z"
    }
   },
   "outputs": [
    {
     "name": "stdout",
     "output_type": "stream",
     "text": [
      "In C you can 1.\n",
      "\n",
      "In C you can 2.\n",
      "\n",
      "In C you can 3.\n",
      "\n",
      "In C you can 4.\n",
      "\n",
      "In C you can kijojmjl.\n"
     ]
    }
   ],
   "source": [
    "file = 'learning_python.txt'\n",
    "\n",
    "with open(file) as f:\n",
    "    for i in f:\n",
    "        print(i.replace(\"Python\",\"C\"))"
   ]
  },
  {
   "cell_type": "markdown",
   "metadata": {},
   "source": [
    "### 写入文件（只能写入字符串）"
   ]
  },
  {
   "cell_type": "markdown",
   "metadata": {
    "ExecuteTime": {
     "end_time": "2022-08-07T05:53:28.816973Z",
     "start_time": "2022-08-07T05:53:28.809623Z"
    }
   },
   "source": [
    "#### 写入数值数据时必须使用str（）将其转换为字符串格式才能写入"
   ]
  },
  {
   "cell_type": "markdown",
   "metadata": {},
   "source": [
    "#### open()的第二个实参为python打开文件使用的模式，默认为只读模式"
   ]
  },
  {
   "cell_type": "markdown",
   "metadata": {
    "ExecuteTime": {
     "end_time": "2022-08-07T05:45:06.972519Z",
     "start_time": "2022-08-07T05:45:06.956466Z"
    }
   },
   "source": [
    "#### 'r':读取模式，  'w':写入模式，   'a':附加模式，   'r+':能够读取和写入文件的模式"
   ]
  },
  {
   "cell_type": "markdown",
   "metadata": {},
   "source": [
    "#### 写入模式时，若要写入的文件已存在，返回文件对象前会清空原内容从而覆盖"
   ]
  },
  {
   "cell_type": "code",
   "execution_count": 18,
   "metadata": {
    "ExecuteTime": {
     "end_time": "2022-08-08T12:29:01.663131Z",
     "start_time": "2022-08-08T12:29:01.654130Z"
    }
   },
   "outputs": [],
   "source": [
    "filename = \"programming.txt\" \n",
    "\n",
    "with open(filename,'w') as f:\n",
    "    f.write(\"I love programming.\")"
   ]
  },
  {
   "cell_type": "markdown",
   "metadata": {},
   "source": [
    "#### write（）函数不会在文本末尾添加换行符"
   ]
  },
  {
   "cell_type": "code",
   "execution_count": 19,
   "metadata": {
    "ExecuteTime": {
     "end_time": "2022-08-08T12:29:01.679129Z",
     "start_time": "2022-08-08T12:29:01.667132Z"
    }
   },
   "outputs": [],
   "source": [
    "filename = \"programming.txt\" \n",
    "\n",
    "\"\"\"此时两行内容挤在一起\"\"\"\n",
    "with open(filename,'w') as f:\n",
    "    f.write(\"I love programming.\")\n",
    "    f.write('I love creating new games.')"
   ]
  },
  {
   "cell_type": "code",
   "execution_count": 20,
   "metadata": {
    "ExecuteTime": {
     "end_time": "2022-08-08T12:29:01.695130Z",
     "start_time": "2022-08-08T12:29:01.685129Z"
    }
   },
   "outputs": [],
   "source": [
    "#让每个字符串都单独占一行\n",
    "\n",
    "filename = \"programming.txt\" \n",
    "\n",
    "\"\"\"此时每个字符串都单独占一行\"\"\"\n",
    "with open(filename,'w') as f:\n",
    "    f.write(\"I love programming.\\n\")\n",
    "    f.write('I love creating new games.\\n')"
   ]
  },
  {
   "cell_type": "markdown",
   "metadata": {},
   "source": [
    "\n",
    "###  附加到文件"
   ]
  },
  {
   "cell_type": "markdown",
   "metadata": {},
   "source": [
    "#### 附加模式不会在返回对象前清空文件，只是将添加内容加到文件末尾"
   ]
  },
  {
   "cell_type": "code",
   "execution_count": 21,
   "metadata": {
    "ExecuteTime": {
     "end_time": "2022-08-08T12:29:01.711125Z",
     "start_time": "2022-08-08T12:29:01.698129Z"
    }
   },
   "outputs": [],
   "source": [
    "filename = \"programming.txt\" \n",
    "\n",
    "with open(filename,'a') as f:\n",
    "    f.write(\"I also love finding meaning in large datasets.\\n\")\n",
    "    f.write('I love creating apps rhat can run in browser.\\n')"
   ]
  },
  {
   "cell_type": "markdown",
   "metadata": {},
   "source": [
    "#### 10-3"
   ]
  },
  {
   "cell_type": "code",
   "execution_count": 22,
   "metadata": {
    "ExecuteTime": {
     "end_time": "2022-08-08T12:29:08.927293Z",
     "start_time": "2022-08-08T12:29:01.715132Z"
    }
   },
   "outputs": [
    {
     "name": "stdout",
     "output_type": "stream",
     "text": [
      "Please input your name: salad\n"
     ]
    }
   ],
   "source": [
    "names = input(\"Please input your name: \")\n",
    "\n",
    "with open(\"guest_book.txt\",'a') as f:\n",
    "    f.write(names.title() + \"\\n\")"
   ]
  },
  {
   "cell_type": "markdown",
   "metadata": {},
   "source": [
    "#### 10-4"
   ]
  },
  {
   "cell_type": "code",
   "execution_count": 23,
   "metadata": {
    "ExecuteTime": {
     "end_time": "2022-08-08T12:29:21.176713Z",
     "start_time": "2022-08-08T12:29:08.931292Z"
    }
   },
   "outputs": [
    {
     "name": "stdout",
     "output_type": "stream",
     "text": [
      "Please input your name: salad\n",
      "Hello,Salad.\n",
      "Do you want to quit? Plese answer yes or no: \n",
      "xx\n",
      "Please input your name: cyx\n",
      "Hello,Cyx.\n",
      "Do you want to quit? Plese answer yes or no: \n",
      "yes\n"
     ]
    }
   ],
   "source": [
    "flag = True\n",
    "while flag:\n",
    "    names = input(\"Please input your name: \")\n",
    "    print(\"Hello,\" + names.title() +\".\")\n",
    "    \n",
    "    with open(\"guest_book.txt\",'a') as f:\n",
    "        f.write(names+\"\\n\")\n",
    "        #确保文件中每条记录独占一行\n",
    "        \n",
    "    message = input(\"Do you want to quit? Plese answer yes or no: \\n\")\n",
    "    if message == \"yes\":\n",
    "        flag = False"
   ]
  },
  {
   "cell_type": "markdown",
   "metadata": {},
   "source": [
    "### 使用try-expect代码块"
   ]
  },
  {
   "cell_type": "markdown",
   "metadata": {},
   "source": [
    "#### try代码块代码运行无问题则跳过except代码块，有问题则查找except代码块并执行"
   ]
  },
  {
   "cell_type": "markdown",
   "metadata": {},
   "source": [
    "#### 将可能引发错误的代码放到try-expect模块可提高程序抵御错误的能力"
   ]
  },
  {
   "cell_type": "code",
   "execution_count": 24,
   "metadata": {
    "ExecuteTime": {
     "end_time": "2022-08-08T12:29:21.192712Z",
     "start_time": "2022-08-08T12:29:21.180715Z"
    }
   },
   "outputs": [
    {
     "name": "stdout",
     "output_type": "stream",
     "text": [
      "You can't divide by zero!\n"
     ]
    }
   ],
   "source": [
    "try:\n",
    "    print(5/0)#引发了ZeroDivisionError错误\n",
    "except ZeroDivisionError:\n",
    "    \"\"\"告诉python当遇到ZeroDivisionError错误时怎么处理\"\"\"\n",
    "    print(\"You can't divide by zero!\")"
   ]
  },
  {
   "cell_type": "code",
   "execution_count": 25,
   "metadata": {
    "ExecuteTime": {
     "end_time": "2022-08-08T12:29:38.611981Z",
     "start_time": "2022-08-08T12:29:21.200716Z"
    }
   },
   "outputs": [
    {
     "name": "stdout",
     "output_type": "stream",
     "text": [
      "Give me two numbers, and I'll divide them.\n",
      "Enter 'q' to quit.\n",
      "\n",
      "First number: 1\n",
      "Second number: 2\n",
      "0.5\n",
      "\n",
      "First number: 1\n",
      "Second number: 0\n",
      "You can't divide by 0!\n",
      "\n",
      "First number: q\n"
     ]
    }
   ],
   "source": [
    "print(\"Give me two numbers, and I'll divide them.\")\n",
    "print(\"Enter 'q' to quit.\")\n",
    "\n",
    "while True:\n",
    "    first_number = input(\"\\nFirst number: \")\n",
    "    if first_number == 'q':\n",
    "        break\n",
    "        \n",
    "    second_number = input(\"Second number: \")\n",
    "    if second_number == 'q':\n",
    "        break  \n",
    "    try:\n",
    "        answer = int(first_number) / int(second_number)\n",
    "    except ZeroDivisionError:\n",
    "        print(\"You can't divide by 0!\")\n",
    "        #告诉用户为什么错误，避免显示traceback\n",
    "        \n",
    "    else:\n",
    "        print(answer)"
   ]
  },
  {
   "cell_type": "markdown",
   "metadata": {},
   "source": [
    "### 分析文本"
   ]
  },
  {
   "cell_type": "markdown",
   "metadata": {},
   "source": [
    "#### split（）以空格为分隔符，将字符串分拆成多个部分，并存储到列表里，最终形成一个包含字符串中所有单词的列表"
   ]
  },
  {
   "cell_type": "markdown",
   "metadata": {},
   "source": [
    "#### count() 可确定特定单词或短语在字符串中出现了多少次"
   ]
  },
  {
   "cell_type": "code",
   "execution_count": 26,
   "metadata": {
    "ExecuteTime": {
     "end_time": "2022-08-08T12:29:38.627105Z",
     "start_time": "2022-08-08T12:29:38.615987Z"
    }
   },
   "outputs": [
    {
     "data": {
      "text/plain": [
       "['I', 'love', 'you', 'to', 'the', 'moon', 'and', 'back.']"
      ]
     },
     "execution_count": 26,
     "metadata": {},
     "output_type": "execute_result"
    }
   ],
   "source": [
    "message = \"I love you to the moon and back.\"\n",
    "message.split()"
   ]
  },
  {
   "cell_type": "code",
   "execution_count": 27,
   "metadata": {
    "ExecuteTime": {
     "end_time": "2022-08-08T12:29:38.674404Z",
     "start_time": "2022-08-08T12:29:38.631578Z"
    }
   },
   "outputs": [
    {
     "name": "stdout",
     "output_type": "stream",
     "text": [
      "The file ‘article.txt’ has about 738 words.\n"
     ]
    }
   ],
   "source": [
    "filename = \"article.txt\"\n",
    "\n",
    "try:\n",
    "    with open(filename,encoding='utf-8') as f:\n",
    "        contents = f.read()\n",
    "except FileNotFoundError:\n",
    "        msg = \"Sorry,the file ‘\" + filename + \"’ does not exist.\"\n",
    "        print(msg)\n",
    "except UnicodeDecodeError:\n",
    "        #代码太长时分行可使用括号\n",
    "        msg =( \"Sorry,the file ‘\" + filename + \n",
    "              \"’ can't decode.Please add （encoding='utf-8'） in open function.\")\n",
    "        print(msg)\n",
    "else:\n",
    "    words = contents.split()#将文章内容够生成一个列表\n",
    "    num_words = len(words)\n",
    "    print(\"The file ‘\" + filename + \"’ has about \" + str(num_words) + \" words.\")"
   ]
  },
  {
   "cell_type": "code",
   "execution_count": 4,
   "metadata": {
    "ExecuteTime": {
     "end_time": "2022-08-08T12:35:56.535293Z",
     "start_time": "2022-08-08T12:35:56.514735Z"
    }
   },
   "outputs": [
    {
     "data": {
      "text/plain": [
       "2"
      ]
     },
     "execution_count": 4,
     "metadata": {},
     "output_type": "execute_result"
    }
   ],
   "source": [
    "line = \"Row,row,row your boat\"\n",
    "line.count('row')"
   ]
  },
  {
   "cell_type": "code",
   "execution_count": 5,
   "metadata": {
    "ExecuteTime": {
     "end_time": "2022-08-08T12:36:13.971857Z",
     "start_time": "2022-08-08T12:36:13.965861Z"
    }
   },
   "outputs": [
    {
     "data": {
      "text/plain": [
       "3"
      ]
     },
     "execution_count": 5,
     "metadata": {},
     "output_type": "execute_result"
    }
   ],
   "source": [
    "line.lower().count('row')"
   ]
  },
  {
   "cell_type": "markdown",
   "metadata": {},
   "source": [
    "### 使用多个文件"
   ]
  },
  {
   "cell_type": "code",
   "execution_count": 28,
   "metadata": {
    "ExecuteTime": {
     "end_time": "2022-08-08T12:29:38.690410Z",
     "start_time": "2022-08-08T12:29:38.679405Z"
    }
   },
   "outputs": [
    {
     "name": "stdout",
     "output_type": "stream",
     "text": [
      "The file ‘article.txt’ has about 738 words.\n"
     ]
    }
   ],
   "source": [
    "def count_words(filename):\n",
    "    \"\"\"计算一个文件大致包含多少个单词\"\"\"\n",
    "    try:\n",
    "        with open(filename,encoding='utf-8') as f:\n",
    "            contents = f.read()\n",
    "            \n",
    "    except FileNotFoundError:\n",
    "        msg = \"Sorry,the file ‘\" + filename + \"’ does not exist.\"\n",
    "        print(msg)\n",
    "    except UnicodeDecodeError:\n",
    "        #代码太长时分行可使用括号\n",
    "        msg =( \"Sorry,the file ‘\" + filename + \n",
    "              \"’ can't decode.Please add （encoding='utf-8'） in open function.\")\n",
    "        print(msg)\n",
    "        \n",
    "    else:\n",
    "        words = contents.split()#将文章内容生成一个列表\n",
    "        num_words = len(words)\n",
    "        print(\"The file ‘\" + filename + \"’ has about \" + str(num_words) + \" words.\")\n",
    "\n",
    "filename = \"article.txt\"\n",
    "count_words(filename)"
   ]
  },
  {
   "cell_type": "code",
   "execution_count": 29,
   "metadata": {
    "ExecuteTime": {
     "end_time": "2022-08-08T12:29:38.721416Z",
     "start_time": "2022-08-08T12:29:38.700406Z"
    }
   },
   "outputs": [
    {
     "name": "stdout",
     "output_type": "stream",
     "text": [
      "The file ‘article.txt’ has about 738 words.\n",
      "The file ‘pi_digits.txt’ has about 3 words.\n",
      "The file ‘pi_millions_digits.txt’ has about 1 words.\n",
      "Sorry,the file ‘iii.txt’ does not exist.\n"
     ]
    }
   ],
   "source": [
    "filenames = ['article.txt','pi_digits.txt','pi_millions_digits.txt','iii.txt']\n",
    "#\"iii.txt\"不存在\n",
    "#此时try—except模块的优点：1.避免让用户看到traceback 2.让程序能继续分析能找到的其他文件\n",
    "\n",
    "for i in filenames:\n",
    "    count_words(i)"
   ]
  },
  {
   "cell_type": "markdown",
   "metadata": {},
   "source": [
    "### pass 可充当占位符"
   ]
  },
  {
   "cell_type": "code",
   "execution_count": 30,
   "metadata": {
    "ExecuteTime": {
     "end_time": "2022-08-08T12:29:38.768411Z",
     "start_time": "2022-08-08T12:29:38.727412Z"
    }
   },
   "outputs": [
    {
     "name": "stdout",
     "output_type": "stream",
     "text": [
      "The file ‘article.txt’ has about 738 words.\n",
      "The file ‘pi_digits.txt’ has about 3 words.\n",
      "The file ‘pi_millions_digits.txt’ has about 1 words.\n"
     ]
    }
   ],
   "source": [
    "def count_words(filename):\n",
    "    \"\"\"计算一个文件大致包含多少个单词\"\"\"\n",
    "    try:\n",
    "        with open(filename,encoding='utf-8') as f:\n",
    "            contents = f.read()\n",
    "            \n",
    "    except FileNotFoundError:\n",
    "       pass \n",
    "    #此时程序发生FileNotFoundError错误时不进行处理\n",
    "    except UnicodeDecodeError:\n",
    "        #代码太长时分行可使用括号\n",
    "        msg =( \"Sorry,the file ‘\" + filename + \n",
    "              \"’ can't decode.Please add （encoding='utf-8'） in open function.\")\n",
    "        print(msg)\n",
    "        \n",
    "    else:\n",
    "        words = contents.split()#将文章内容生成一个列表\n",
    "        num_words = len(words)\n",
    "        print(\"The file ‘\" + filename + \"’ has about \" + str(num_words) + \" words.\")\n",
    "\n",
    "filenames = ['article.txt','pi_digits.txt','pi_millions_digits.txt','iii.txt']\n",
    "\n",
    "for i in filenames:\n",
    "    count_words(i)"
   ]
  },
  {
   "cell_type": "markdown",
   "metadata": {},
   "source": [
    "#### 10-6"
   ]
  },
  {
   "cell_type": "code",
   "execution_count": 31,
   "metadata": {
    "ExecuteTime": {
     "end_time": "2022-08-08T12:29:42.579084Z",
     "start_time": "2022-08-08T12:29:38.778406Z"
    }
   },
   "outputs": [
    {
     "name": "stdout",
     "output_type": "stream",
     "text": [
      "Please input 2 numbers: 1\n",
      "2\n",
      "3\n"
     ]
    }
   ],
   "source": [
    "try:\n",
    "    a = input(\"Please input 2 numbers: \")\n",
    "    b = input()\n",
    "    print(int(a)+int(b))\n",
    "except ValueError:\n",
    "    print(\"Please input numbers.\")"
   ]
  },
  {
   "cell_type": "markdown",
   "metadata": {},
   "source": [
    "#### 10-7"
   ]
  },
  {
   "cell_type": "code",
   "execution_count": 2,
   "metadata": {
    "ExecuteTime": {
     "end_time": "2022-08-08T12:32:42.575582Z",
     "start_time": "2022-08-08T12:32:32.459706Z"
    }
   },
   "outputs": [
    {
     "name": "stdout",
     "output_type": "stream",
     "text": [
      "Please input 2 numbers(input q to quit): 2\n",
      "3\n",
      "The sum of the 2 numbers is: 5\n",
      "Please input 2 numbers(input q to quit): q\n"
     ]
    }
   ],
   "source": [
    "flag = True\n",
    "while flag:\n",
    "    try:\n",
    "        a = input(\"Please input 2 numbers(input q to quit): \")\n",
    "        if a ==\"q\":\n",
    "            flag = False\n",
    "            break\n",
    "        b = input()\n",
    "        if b ==\"q\":\n",
    "            flag = False\n",
    "        print(\"The sum of the 2 numbers is: \" + str(int(a)+int(b)))\n",
    "    except ValueError:\n",
    "        print(\"Please input numbers.\")"
   ]
  },
  {
   "cell_type": "markdown",
   "metadata": {},
   "source": [
    "### 存储数据（使用json模块）"
   ]
  },
  {
   "cell_type": "markdown",
   "metadata": {
    "ExecuteTime": {
     "end_time": "2022-08-08T12:39:14.019222Z",
     "start_time": "2022-08-08T12:39:14.006186Z"
    }
   },
   "source": [
    "#### json.dump()的两个实参第一个是要存储的数据，第二个为可用于存储数据的文件对象"
   ]
  },
  {
   "cell_type": "code",
   "execution_count": 8,
   "metadata": {
    "ExecuteTime": {
     "end_time": "2022-08-08T12:40:55.300446Z",
     "start_time": "2022-08-08T12:40:55.281446Z"
    }
   },
   "outputs": [],
   "source": [
    "import json\n",
    "\n",
    "numbers = [2,3,5,7,11,13]\n",
    "\n",
    "filename = 'numbers.json'\n",
    "with open(filename,'w') as f:\n",
    "    #以写入模式打开json文件\n",
    "    json.dump(numbers,f)"
   ]
  },
  {
   "cell_type": "markdown",
   "metadata": {},
   "source": [
    "#### json.load() 将文件读取到内存中"
   ]
  },
  {
   "cell_type": "code",
   "execution_count": 10,
   "metadata": {
    "ExecuteTime": {
     "end_time": "2022-08-08T12:50:00.274340Z",
     "start_time": "2022-08-08T12:50:00.251158Z"
    }
   },
   "outputs": [
    {
     "name": "stdout",
     "output_type": "stream",
     "text": [
      "[2, 3, 5, 7, 11, 13]\n"
     ]
    }
   ],
   "source": [
    "import json\n",
    "\n",
    "filename = 'numbers.json'\n",
    "with open(filename) as f:\n",
    "    numbers = json.load(f)\n",
    "    #加载存储在numbers.json的信息并存储到变量numbers中\n",
    "    \n",
    "print(numbers)"
   ]
  },
  {
   "cell_type": "markdown",
   "metadata": {},
   "source": [
    "#### 保存和读取用户生成的数据"
   ]
  },
  {
   "cell_type": "code",
   "execution_count": 15,
   "metadata": {
    "ExecuteTime": {
     "end_time": "2022-08-08T13:30:07.584672Z",
     "start_time": "2022-08-08T13:30:04.852653Z"
    }
   },
   "outputs": [
    {
     "name": "stdout",
     "output_type": "stream",
     "text": [
      "What is your name? salad\n",
      "We'll remember you when you come back, Salad!\n"
     ]
    }
   ],
   "source": [
    "import json\n",
    "\n",
    "username = input(\"What is your name? \")\n",
    "\n",
    "filename = 'username.json'\n",
    "with open(filename,'w') as f:\n",
    "    json.dump(username,f)\n",
    "    print(\"We'll remember you when you come back, \" + username.title() + \"!\")"
   ]
  },
  {
   "cell_type": "code",
   "execution_count": 14,
   "metadata": {
    "ExecuteTime": {
     "end_time": "2022-08-08T13:30:03.105441Z",
     "start_time": "2022-08-08T13:30:03.100468Z"
    }
   },
   "outputs": [
    {
     "name": "stdout",
     "output_type": "stream",
     "text": [
      "Welcome back, Salad!\n"
     ]
    }
   ],
   "source": [
    "import json\n",
    "\n",
    "filename = 'username.json'\n",
    "\n",
    "with open(filename) as f:\n",
    "    username = json.load(f)\n",
    "    print(\"Welcome back, \" + username.title() + \"!\")"
   ]
  },
  {
   "cell_type": "code",
   "execution_count": 17,
   "metadata": {
    "ExecuteTime": {
     "end_time": "2022-08-08T13:32:42.989103Z",
     "start_time": "2022-08-08T13:32:42.979316Z"
    }
   },
   "outputs": [
    {
     "name": "stdout",
     "output_type": "stream",
     "text": [
      "Welcome back, Salad!\n"
     ]
    }
   ],
   "source": [
    "import json\n",
    "\n",
    "filename = 'username.json'\n",
    "\n",
    "try:\n",
    "    with open(filename) as f:\n",
    "        username = json.load(f)\n",
    "except FileNotFoundError:\n",
    "    username = input(\"What is your name? \")\n",
    "    with open(filename,'w') as f:\n",
    "        json.dump(username,f)\n",
    "    print(\"We'll remember you when you come back, \" + username.title() + \"!\")\n",
    "else:\n",
    "    print(\"Welcome back, \" + username.title() + \"!\")"
   ]
  },
  {
   "cell_type": "markdown",
   "metadata": {},
   "source": [
    "### 重构"
   ]
  },
  {
   "cell_type": "code",
   "execution_count": 18,
   "metadata": {
    "ExecuteTime": {
     "end_time": "2022-08-08T13:36:55.147499Z",
     "start_time": "2022-08-08T13:36:55.130465Z"
    }
   },
   "outputs": [
    {
     "name": "stdout",
     "output_type": "stream",
     "text": [
      "Welcome back, Salad!\n"
     ]
    }
   ],
   "source": [
    "import json\n",
    "\n",
    "def greet_users():\n",
    "    \"\"\"问候用户并指出其名字\"\"\"\n",
    "    filename = 'username.json'\n",
    "    try:\n",
    "        with open(filename) as f:\n",
    "            username = json.load(f)\n",
    "    except FileNotFoundError:\n",
    "        username = input(\"What is your name? \")\n",
    "        with open(filename,'w') as f:\n",
    "            json.dump(username,f)\n",
    "        print(\"We'll remember you when you come back, \" + username.title() + \"!\")\n",
    "    else:\n",
    "        print(\"Welcome back, \" + username.title() + \"!\")\n",
    "        \n",
    "greet_users()"
   ]
  },
  {
   "cell_type": "code",
   "execution_count": 27,
   "metadata": {
    "ExecuteTime": {
     "end_time": "2022-08-08T13:43:37.419233Z",
     "start_time": "2022-08-08T13:43:37.403789Z"
    }
   },
   "outputs": [
    {
     "name": "stdout",
     "output_type": "stream",
     "text": [
      "Welcome back, Salad!\n"
     ]
    }
   ],
   "source": [
    "import json\n",
    "\n",
    "def get_stored_username():\n",
    "    \"\"\"如果存储了用户名，就获取它\"\"\"\n",
    "    filename = 'username.json'\n",
    "    try:\n",
    "        with open(filename) as f:\n",
    "            username = json.load(f)\n",
    "    except FileNotFoundError:\n",
    "        return None\n",
    "    else:\n",
    "        return username\n",
    "    \n",
    "def greet_users():\n",
    "    \"\"\"问候用户并指出其名字\"\"\"\n",
    "    username = get_stored_username()\n",
    "    if username:\n",
    "        print(\"Welcome back, \" + username.title() + \"!\")\n",
    "    else:\n",
    "        username = input(\"What is your name? \")\n",
    "        filename = 'username.json'\n",
    "        with open(filename,'w') as f:\n",
    "            json.dump(username,f)\n",
    "        print(\"We'll remember you when you come back, \" + username.title() + \"!\")\n",
    "        \n",
    "greet_users()"
   ]
  },
  {
   "cell_type": "code",
   "execution_count": 28,
   "metadata": {
    "ExecuteTime": {
     "end_time": "2022-08-08T13:58:31.694019Z",
     "start_time": "2022-08-08T13:58:31.675570Z"
    }
   },
   "outputs": [
    {
     "name": "stdout",
     "output_type": "stream",
     "text": [
      "Welcome back, Salad!\n"
     ]
    }
   ],
   "source": [
    "import json\n",
    "\n",
    "def get_stored_username():\n",
    "    \"\"\"如果存储了用户名，就获取它\"\"\"\n",
    "    filename = 'username.json'\n",
    "    try:\n",
    "        with open(filename) as f:\n",
    "            username = json.load(f)\n",
    "    except FileNotFoundError:\n",
    "        return None\n",
    "    else:\n",
    "        return username\n",
    "    \n",
    "def get_new_username():\n",
    "    \"\"\"提示用户输入用户名\"\"\"\n",
    "    username = input(\"What is your name? \")\n",
    "    filename = 'username.json'\n",
    "    with open(filename,'w') as f:\n",
    "        json.dump(username,f)\n",
    "    return username\n",
    "    \n",
    "def greet_users():\n",
    "    \"\"\"问候用户并指出其名字\"\"\"\n",
    "    username = get_stored_username()\n",
    "    if username:\n",
    "        print(\"Welcome back, \" + username.title() + \"!\")\n",
    "    else:\n",
    "        username = get_new_username()\n",
    "        print(\"We'll remember you when you come back, \" + username.title() + \"!\")\n",
    "        \n",
    "greet_users()"
   ]
  },
  {
   "cell_type": "markdown",
   "metadata": {},
   "source": [
    "#### 10-11"
   ]
  },
  {
   "cell_type": "code",
   "execution_count": 30,
   "metadata": {
    "ExecuteTime": {
     "end_time": "2022-08-08T14:09:47.046545Z",
     "start_time": "2022-08-08T14:09:45.621474Z"
    }
   },
   "outputs": [
    {
     "name": "stdout",
     "output_type": "stream",
     "text": [
      "Please input your favorite number: 2\n"
     ]
    }
   ],
   "source": [
    "import json\n",
    "\n",
    "num = input(\"Please input your favorite number: \")\n",
    "\n",
    "filename = 'favorite_num.json'\n",
    "\n",
    "with open(filename,'w') as f:\n",
    "    nums = json.dump(num,f)"
   ]
  },
  {
   "cell_type": "code",
   "execution_count": 32,
   "metadata": {
    "ExecuteTime": {
     "end_time": "2022-08-08T14:14:22.914776Z",
     "start_time": "2022-08-08T14:14:22.900607Z"
    }
   },
   "outputs": [
    {
     "name": "stdout",
     "output_type": "stream",
     "text": [
      "I know your favorite number!It's 2.\n"
     ]
    }
   ],
   "source": [
    "with open(filename) as f:\n",
    "    nums = json.load(f)\n",
    "    print(\"I know your favorite number!It's \" + str(nums) +\".\")"
   ]
  },
  {
   "cell_type": "markdown",
   "metadata": {},
   "source": [
    "#### 10-12"
   ]
  },
  {
   "cell_type": "code",
   "execution_count": 3,
   "metadata": {
    "ExecuteTime": {
     "end_time": "2022-08-08T14:18:56.542929Z",
     "start_time": "2022-08-08T14:18:56.522301Z"
    }
   },
   "outputs": [
    {
     "name": "stdout",
     "output_type": "stream",
     "text": [
      "I know your favorite number!It's 2.\n"
     ]
    }
   ],
   "source": [
    "import json\n",
    "\n",
    "filename = 'favorite_num.json'\n",
    "\n",
    "try:\n",
    "    with open(filename) as f:\n",
    "        nums = json.load(f)\n",
    "except FileNotFoundError:\n",
    "    with open(filename,'w') as f:\n",
    "        num = input(\"Please input your favorite number: \")\n",
    "        nums = json.dump(num,f)\n",
    "else:\n",
    "    print(\"I know your favorite number!It's \" + str(nums) +\".\")"
   ]
  },
  {
   "cell_type": "markdown",
   "metadata": {},
   "source": [
    "#### 10-13"
   ]
  },
  {
   "cell_type": "code",
   "execution_count": 5,
   "metadata": {
    "ExecuteTime": {
     "end_time": "2022-08-08T14:24:49.054701Z",
     "start_time": "2022-08-08T14:24:43.122218Z"
    }
   },
   "outputs": [
    {
     "name": "stdout",
     "output_type": "stream",
     "text": [
      "If the username: xx is correct? yes or nono\n",
      "What is your name? salad\n",
      "Welcome back, Salad!\n"
     ]
    }
   ],
   "source": [
    "import json\n",
    "\n",
    "def get_stored_username():\n",
    "    \"\"\"如果存储了用户名，就获取它\"\"\"\n",
    "    filename = 'username.json'\n",
    "    try:\n",
    "        with open(filename) as f:\n",
    "            username = json.load(f)\n",
    "    except FileNotFoundError:\n",
    "        return None\n",
    "    else:\n",
    "        return username\n",
    "    \n",
    "def get_new_username():\n",
    "    \"\"\"提示用户输入用户名\"\"\"\n",
    "    username = input(\"What is your name? \")\n",
    "    filename = 'username.json'\n",
    "    with open(filename,'w') as f:\n",
    "        json.dump(username,f)\n",
    "    return username\n",
    "    \n",
    "def greet_users():\n",
    "    \"\"\"先询问用户名是否正确，再问候用户并指出其名字\"\"\"\n",
    "    username = get_stored_username()\n",
    "    if username:\n",
    "        msg = input(\"If the username: \" + username + \" is correct? yes or no\")\n",
    "        if msg == 'yes':\n",
    "            print(\"Welcome back, \" + username.title() + \"!\")\n",
    "        else:\n",
    "            username = get_new_username()\n",
    "            print(\"Welcome back, \" + username.title() + \"!\")\n",
    "    else:\n",
    "        username = get_new_username()\n",
    "        print(\"We'll remember you when you come back, \" + username.title() + \"!\")\n",
    "        \n",
    "greet_users()"
   ]
  },
  {
   "cell_type": "code",
   "execution_count": null,
   "metadata": {},
   "outputs": [],
   "source": []
  }
 ],
 "metadata": {
  "kernelspec": {
   "display_name": "Python 3",
   "language": "python",
   "name": "python3"
  },
  "language_info": {
   "codemirror_mode": {
    "name": "ipython",
    "version": 3
   },
   "file_extension": ".py",
   "mimetype": "text/x-python",
   "name": "python",
   "nbconvert_exporter": "python",
   "pygments_lexer": "ipython3",
   "version": "3.7.0"
  }
 },
 "nbformat": 4,
 "nbformat_minor": 2
}
