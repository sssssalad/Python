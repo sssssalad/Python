{
 "cells": [
  {
   "cell_type": "markdown",
   "metadata": {
    "ExecuteTime": {
     "end_time": "2022-07-16T07:48:33.130149Z",
     "start_time": "2022-07-16T07:48:33.072934Z"
    }
   },
   "source": [
    "### def 定义函数"
   ]
  },
  {
   "cell_type": "markdown",
   "metadata": {},
   "source": [
    "#### 函数可以复杂，程序实现部分应当尽可能简单"
   ]
  },
  {
   "cell_type": "code",
   "execution_count": 1,
   "metadata": {
    "ExecuteTime": {
     "end_time": "2022-07-16T15:17:11.117019Z",
     "start_time": "2022-07-16T15:17:11.107406Z"
    }
   },
   "outputs": [
    {
     "name": "stdout",
     "output_type": "stream",
     "text": [
      "Hello!\n"
     ]
    }
   ],
   "source": [
    "def greet_user():\n",
    "    print(\"Hello!\")\n",
    "\n",
    "greet_user()#括号中可添加函数需要的必要信息"
   ]
  },
  {
   "cell_type": "markdown",
   "metadata": {},
   "source": [
    "### 向函数传递信息"
   ]
  },
  {
   "cell_type": "markdown",
   "metadata": {},
   "source": [
    "#### 实参‘salad’传递给了函数freet_user(),这个值被存储在形参username中"
   ]
  },
  {
   "cell_type": "code",
   "execution_count": 2,
   "metadata": {
    "ExecuteTime": {
     "end_time": "2022-07-16T15:17:11.132130Z",
     "start_time": "2022-07-16T15:17:11.118178Z"
    }
   },
   "outputs": [
    {
     "name": "stdout",
     "output_type": "stream",
     "text": [
      "Hello，Salad!\n"
     ]
    }
   ],
   "source": [
    "def greet_user(username):#函数可以接受给username指定的任何值\n",
    "    print(\"Hello，\"+username.title()+\"!\")\n",
    "    \n",
    "greet_user('salad')#调用函数并提供信息"
   ]
  },
  {
   "cell_type": "markdown",
   "metadata": {},
   "source": [
    "### 形参：函数完成其工作所需的一项信息，函数定义中的变量"
   ]
  },
  {
   "cell_type": "markdown",
   "metadata": {},
   "source": [
    "### 实参：调用函数时传递给函数的信息，函数调用中的变量"
   ]
  },
  {
   "cell_type": "markdown",
   "metadata": {},
   "source": [
    "#### 8-1"
   ]
  },
  {
   "cell_type": "code",
   "execution_count": 3,
   "metadata": {
    "ExecuteTime": {
     "end_time": "2022-07-16T15:17:11.148177Z",
     "start_time": "2022-07-16T15:17:11.135124Z"
    }
   },
   "outputs": [
    {
     "name": "stdout",
     "output_type": "stream",
     "text": [
      "I have learned how to use function this chapter. \n"
     ]
    }
   ],
   "source": [
    "def display_message():\n",
    "    print(\"I have learned how to use function this chapter. \")\n",
    "    \n",
    "display_message()"
   ]
  },
  {
   "cell_type": "markdown",
   "metadata": {},
   "source": [
    "#### 8-2"
   ]
  },
  {
   "cell_type": "code",
   "execution_count": 4,
   "metadata": {
    "ExecuteTime": {
     "end_time": "2022-07-16T15:17:11.164123Z",
     "start_time": "2022-07-16T15:17:11.153124Z"
    }
   },
   "outputs": [
    {
     "name": "stdout",
     "output_type": "stream",
     "text": [
      "One of my favorite books is Alice In Wonderland.\n"
     ]
    }
   ],
   "source": [
    "def favorite_book(title):\n",
    "    print(\"One of my favorite books is \"+title.title()+'.')\n",
    "    \n",
    "favorite_book(\"Alice in Wonderland\")"
   ]
  },
  {
   "cell_type": "markdown",
   "metadata": {},
   "source": [
    "### 位置实参"
   ]
  },
  {
   "cell_type": "markdown",
   "metadata": {},
   "source": [
    "#### Python将函数调用中的每个实参都关联到函数定义的形参数，基于实参的顺序的关联方式"
   ]
  },
  {
   "cell_type": "markdown",
   "metadata": {},
   "source": [
    "#### 要确认函数调用中实参顺序与函数定义中的形参的顺序一致"
   ]
  },
  {
   "cell_type": "code",
   "execution_count": 5,
   "metadata": {
    "ExecuteTime": {
     "end_time": "2022-07-16T15:17:11.180130Z",
     "start_time": "2022-07-16T15:17:11.167126Z"
    }
   },
   "outputs": [
    {
     "name": "stdout",
     "output_type": "stream",
     "text": [
      "\n",
      "I have a hamster.\n",
      "My hamster's name is Harry.\n",
      "\n",
      "I have a dog.\n",
      "My dog's name is Willie.\n"
     ]
    }
   ],
   "source": [
    "def describe_pet(animal_type,pet_name):\n",
    "    print(\"\\nI have a \"+animal_type+\".\")\n",
    "    print(\"My \"+animal_type+\"'s name is \"+pet_name.title()+\".\")\n",
    "    \n",
    "describe_pet('hamster','harry')\n",
    "describe_pet(\"dog\",'willie')"
   ]
  },
  {
   "cell_type": "markdown",
   "metadata": {},
   "source": [
    "#### *args传递一个可变参数列表（元组）给函数实参，参数列表的数目未知，长度可为0。"
   ]
  },
  {
   "cell_type": "code",
   "execution_count": 3,
   "metadata": {
    "ExecuteTime": {
     "end_time": "2022-09-01T00:24:14.374304Z",
     "start_time": "2022-09-01T00:24:14.367983Z"
    }
   },
   "outputs": [
    {
     "name": "stdout",
     "output_type": "stream",
     "text": [
      "必须要传入的参数:  1\n",
      "可变参数的数据类型:  <class 'tuple'>\n",
      "可变参数:  2\n",
      "可变参数:  3\n",
      "可变参数:  4\n"
     ]
    }
   ],
   "source": [
    "\"\"\"args 是 arguments 的缩写，表示位置参数\"\"\"\n",
    "def test_args(first, *args):\n",
    "    print('必须要传入的参数: ', first)\n",
    "    print('可变参数的数据类型: ',type(args))\n",
    "    for v in args:\n",
    "        print ('可变参数: ', v)\n",
    "\n",
    "test_args(1, 2, 3, 4)"
   ]
  },
  {
   "cell_type": "markdown",
   "metadata": {},
   "source": [
    "#### args和kwargs组合起来可传入任意参数，在参数未知的情况下很有效，加强了函数的可拓展性"
   ]
  },
  {
   "cell_type": "code",
   "execution_count": 9,
   "metadata": {
    "ExecuteTime": {
     "end_time": "2022-09-01T00:42:26.380572Z",
     "start_time": "2022-09-01T00:42:26.363584Z"
    }
   },
   "outputs": [
    {
     "name": "stdout",
     "output_type": "stream",
     "text": [
      "arg1: two\n",
      "arg2: 3\n",
      "arg3: 5\n"
     ]
    }
   ],
   "source": [
    "# args调用函数时相当于pack（打包）和unpack（解包），类似于元组的打包和解包\n",
    "\"\"\"使用args来解包调用函数的代码\"\"\"\n",
    "def test_args_kwargs(arg1, arg2, arg3):\n",
    "    print(\"arg1:\", arg1)\n",
    "    print(\"arg2:\", arg2)\n",
    "    print(\"arg3:\", arg3)\n",
    "\n",
    "args = (\"two\", 3, 5)\n",
    "test_args_kwargs(*args)"
   ]
  },
  {
   "cell_type": "code",
   "execution_count": 10,
   "metadata": {
    "ExecuteTime": {
     "end_time": "2022-09-01T00:42:30.586570Z",
     "start_time": "2022-09-01T00:42:30.582545Z"
    }
   },
   "outputs": [
    {
     "name": "stdout",
     "output_type": "stream",
     "text": [
      "arg1: 5\n",
      "arg2: two\n",
      "arg3: 3\n"
     ]
    }
   ],
   "source": [
    "kwargs = {\"arg3\": 3, \"arg2\": \"two\", \"arg1\": 5}\n",
    "\"\"\"**kwargs将元组解包后传给对应的实参\"\"\"\n",
    "test_args_kwargs(**kwargs)"
   ]
  },
  {
   "cell_type": "markdown",
   "metadata": {},
   "source": [
    "#### 注意位置实参的顺序"
   ]
  },
  {
   "cell_type": "code",
   "execution_count": 6,
   "metadata": {
    "ExecuteTime": {
     "end_time": "2022-07-16T15:17:11.196126Z",
     "start_time": "2022-07-16T15:17:11.184129Z"
    }
   },
   "outputs": [
    {
     "name": "stdout",
     "output_type": "stream",
     "text": [
      "\n",
      "I have a harry.\n",
      "My harry's name is Hamster.\n",
      "\n",
      "I have a dog.\n",
      "My dog's name is Willie.\n"
     ]
    }
   ],
   "source": [
    "def describe_pet(animal_type,pet_name):\n",
    "    print(\"\\nI have a \"+animal_type+\".\")\n",
    "    print(\"My \"+animal_type+\"'s name is \"+pet_name.title()+\".\")\n",
    "    \n",
    "describe_pet('harry','hamster')\n",
    "#位置实参顺序不正确会导致输出不正确\n",
    "describe_pet(\"dog\",'willie')"
   ]
  },
  {
   "cell_type": "markdown",
   "metadata": {},
   "source": [
    "### 关键字实参"
   ]
  },
  {
   "cell_type": "markdown",
   "metadata": {},
   "source": [
    "#### 传递给函数名称-值对，直接在实参中将名称和值关联起来了"
   ]
  },
  {
   "cell_type": "markdown",
   "metadata": {},
   "source": [
    "#### 无需考虑函数调用中的实参顺序，指示了函数调用中各个值的用途"
   ]
  },
  {
   "cell_type": "markdown",
   "metadata": {},
   "source": [
    "#### 指定时等号两边不能有空格"
   ]
  },
  {
   "cell_type": "code",
   "execution_count": 7,
   "metadata": {
    "ExecuteTime": {
     "end_time": "2022-07-16T15:17:11.211726Z",
     "start_time": "2022-07-16T15:17:11.198124Z"
    }
   },
   "outputs": [
    {
     "name": "stdout",
     "output_type": "stream",
     "text": [
      "\n",
      "I have a hamster.\n",
      "My hamster's name is Harry.\n",
      "\n",
      "I have a dog.\n",
      "My dog's name is Willie.\n"
     ]
    }
   ],
   "source": [
    "def describe_pet(animal_type,pet_name):\n",
    "    print(\"\\nI have a \"+animal_type+\".\")\n",
    "    print(\"My \"+animal_type+\"'s name is \"+pet_name.title()+\".\")\n",
    "    \n",
    "describe_pet(animal_type='hamster',pet_name='harry')\n",
    "describe_pet(animal_type=\"dog\",pet_name='willie')"
   ]
  },
  {
   "cell_type": "markdown",
   "metadata": {
    "ExecuteTime": {
     "end_time": "2022-09-01T00:24:59.069988Z",
     "start_time": "2022-09-01T00:24:59.064396Z"
    }
   },
   "source": [
    "#### **kwargs将一个可变关键字参数的字典dict传给函数实参，参数列表长度可以为0或为其他值。"
   ]
  },
  {
   "cell_type": "code",
   "execution_count": 8,
   "metadata": {
    "ExecuteTime": {
     "end_time": "2022-09-01T00:29:32.430322Z",
     "start_time": "2022-09-01T00:29:32.411612Z"
    }
   },
   "outputs": [
    {
     "name": "stdout",
     "output_type": "stream",
     "text": [
      "必须要传入的参数:  1\n",
      "可变关键字参数的类型:  <class 'dict'>\n",
      "可变位置参数(args):  2\n",
      "可变位置参数(args):  3\n",
      "可变位置参数(args):  4\n",
      "可变关键字参数 k1 (kwargs): 5\n",
      "可变关键字参数 k2 (kwargs): 6\n"
     ]
    }
   ],
   "source": [
    "\"\"\"kwargs 是 keyword arguments 的缩写，表示关键字参数\n",
    "   args只能位于kwargs的前面\"\"\"\n",
    "def test_kwargs(first, *args, **kwargs):\n",
    "    print('必须要传入的参数: ', first)\n",
    "    print('可变关键字参数的类型: ',type(kwargs))\n",
    "    for v in args:\n",
    "        print ('可变位置参数(args): ', v)\n",
    "    for k, v in kwargs.items():\n",
    "        print ('可变关键字参数 %s (kwargs): %s' % (k, v))\n",
    "\n",
    "test_kwargs(1, 2, 3, 4, k1=5, k2=6)"
   ]
  },
  {
   "cell_type": "markdown",
   "metadata": {},
   "source": [
    "### 默认值"
   ]
  },
  {
   "cell_type": "markdown",
   "metadata": {},
   "source": [
    "#### 每个形参可指定默认值，指定时等号两边不能有空格"
   ]
  },
  {
   "cell_type": "code",
   "execution_count": 8,
   "metadata": {
    "ExecuteTime": {
     "end_time": "2022-07-16T15:17:11.227726Z",
     "start_time": "2022-07-16T15:17:11.213727Z"
    }
   },
   "outputs": [
    {
     "name": "stdout",
     "output_type": "stream",
     "text": [
      "\n",
      "I have a hamster.\n",
      "My hamster's name is Harry.\n",
      "\n",
      "I have a dog.\n",
      "My dog's name is Willie.\n"
     ]
    }
   ],
   "source": [
    "def describe_pet(pet_name,animal_type='dog'):\n",
    "    #有默认值的参数应放到没默认值参数的后面\n",
    "    print(\"\\nI have a \"+animal_type+\".\")\n",
    "    print(\"My \"+animal_type+\"'s name is \"+pet_name.title()+\".\")\n",
    "    \n",
    "describe_pet(animal_type='hamster',pet_name='harry')\n",
    "describe_pet(pet_name='willie')#可省略形参animal_type"
   ]
  },
  {
   "cell_type": "markdown",
   "metadata": {},
   "source": [
    "#### 8_3 "
   ]
  },
  {
   "cell_type": "code",
   "execution_count": 9,
   "metadata": {
    "ExecuteTime": {
     "end_time": "2022-07-16T15:17:11.243133Z",
     "start_time": "2022-07-16T15:17:11.231731Z"
    }
   },
   "outputs": [
    {
     "name": "stdout",
     "output_type": "stream",
     "text": [
      "The T-shirt's size is S,we should print the words: \"I'm happy.\" on it.\n",
      "The T-shirt's size is S,we should print the words: \"I'm happy\" on it.\n"
     ]
    }
   ],
   "source": [
    "def make_shirt(size,words):\n",
    "    print(\"The T-shirt's size is \" + size.title() \n",
    "          +',we should print the words: \"' \n",
    "          + words +'\" on it.')\n",
    "    \n",
    "make_shirt(\"s\",\"I'm happy.\")\n",
    "make_shirt(words=\"I'm happy\",size=\"s\")"
   ]
  },
  {
   "cell_type": "markdown",
   "metadata": {},
   "source": [
    "#### 8-4"
   ]
  },
  {
   "cell_type": "code",
   "execution_count": 10,
   "metadata": {
    "ExecuteTime": {
     "end_time": "2022-07-16T15:17:11.259226Z",
     "start_time": "2022-07-16T15:17:11.247140Z"
    }
   },
   "outputs": [
    {
     "name": "stdout",
     "output_type": "stream",
     "text": [
      "The T-shirt's size is L,we should print the words: \"I love python\" on it.\n",
      "The T-shirt's size is M,we should print the words: \"I love python\" on it.\n",
      "The T-shirt's size is L,we should print the words: \"III\" on it.\n"
     ]
    }
   ],
   "source": [
    "def make_shirt(size=\"L\",words=\"I love python\"):\n",
    "    print(\"The T-shirt's size is \" + size.title() \n",
    "          +',we should print the words: \"' \n",
    "          + words +'\" on it.')\n",
    "    \n",
    "make_shirt()\n",
    "make_shirt(\"M\")\n",
    "make_shirt(words=\"III\")"
   ]
  },
  {
   "cell_type": "markdown",
   "metadata": {},
   "source": [
    "#### 8-5"
   ]
  },
  {
   "cell_type": "code",
   "execution_count": 11,
   "metadata": {
    "ExecuteTime": {
     "end_time": "2022-07-16T15:17:11.274777Z",
     "start_time": "2022-07-16T15:17:11.261780Z"
    }
   },
   "outputs": [
    {
     "name": "stdout",
     "output_type": "stream",
     "text": [
      "Wuhan is in China.\n",
      "Newyork is in Us.\n",
      "Paris is in Uk.\n"
     ]
    }
   ],
   "source": [
    "def describe_city(city,country=\"China\"):\n",
    "    print(city.title()+\" is in \"+country.title()+\".\")\n",
    "\n",
    "describe_city(\"Wuhan\")\n",
    "describe_city(\"NewYork\",\"US\")\n",
    "describe_city(\"Paris\",\"UK\")"
   ]
  },
  {
   "cell_type": "markdown",
   "metadata": {},
   "source": [
    "### 返回简单值"
   ]
  },
  {
   "cell_type": "code",
   "execution_count": 12,
   "metadata": {
    "ExecuteTime": {
     "end_time": "2022-07-16T15:17:11.290202Z",
     "start_time": "2022-07-16T15:17:11.275851Z"
    }
   },
   "outputs": [
    {
     "name": "stdout",
     "output_type": "stream",
     "text": [
      "Jimi Hendrix\n"
     ]
    }
   ],
   "source": [
    "def get_formatted_name(first_name, last_name):\n",
    "    full_name = first_name+\" \"+last_name\n",
    "    return full_name.title()\n",
    "    \n",
    "musician = get_formatted_name('jimi', 'hendrix')\n",
    "print(musician)"
   ]
  },
  {
   "cell_type": "markdown",
   "metadata": {},
   "source": [
    "### 设置可选参数"
   ]
  },
  {
   "cell_type": "code",
   "execution_count": 13,
   "metadata": {
    "ExecuteTime": {
     "end_time": "2022-07-16T15:17:11.306203Z",
     "start_time": "2022-07-16T15:17:11.291206Z"
    }
   },
   "outputs": [
    {
     "name": "stdout",
     "output_type": "stream",
     "text": [
      "Jimi Hendrix\n",
      "John Lee Hooker\n"
     ]
    }
   ],
   "source": [
    "def get_formatted_name(first_name, last_name, middle_name=''):\n",
    "    #中间名设置为可选\n",
    "    if middle_name:\n",
    "        full_name = first_name+\" \"+ middle_name+\" \"+ last_name\n",
    "    else:\n",
    "        full_name = first_name+\" \"+last_name\n",
    "    return full_name.title()\n",
    "    \n",
    "musician = get_formatted_name('jimi', 'hendrix')\n",
    "print(musician)\n",
    "\n",
    "musician = get_formatted_name('john', 'hooker', 'lee')\n",
    "print(musician)"
   ]
  },
  {
   "cell_type": "code",
   "execution_count": 14,
   "metadata": {
    "ExecuteTime": {
     "end_time": "2022-07-16T15:17:11.311901Z",
     "start_time": "2022-07-16T15:17:11.307206Z"
    }
   },
   "outputs": [
    {
     "name": "stdout",
     "output_type": "stream",
     "text": [
      "Jimi  Hendrix\n",
      "John Lee Hooker\n"
     ]
    }
   ],
   "source": [
    "def get_formatted_name(first_name, last_name, middle_name=''):\n",
    "    #中间名设置为可选\n",
    "    full_name = first_name+\" \"+ middle_name+\" \"+ last_name\n",
    "    return full_name.title()\n",
    "    \n",
    "musician = get_formatted_name('jimi', 'hendrix')\n",
    "print(musician)\n",
    "\n",
    "musician = get_formatted_name('john', 'hooker', 'lee')\n",
    "print(musician)"
   ]
  },
  {
   "cell_type": "markdown",
   "metadata": {},
   "source": [
    "### 返回字典"
   ]
  },
  {
   "cell_type": "code",
   "execution_count": 15,
   "metadata": {
    "ExecuteTime": {
     "end_time": "2022-07-16T15:17:11.321901Z",
     "start_time": "2022-07-16T15:17:11.315897Z"
    }
   },
   "outputs": [
    {
     "name": "stdout",
     "output_type": "stream",
     "text": [
      "{'first': 'jimi', 'last': 'hendrix', 'age': 27}\n"
     ]
    }
   ],
   "source": [
    "def build_person(first_name, last_name, age=None):\n",
    "    \"\"\"返回一个包含个人信息的字典\"\"\"\n",
    "    person = {'first': first_name, 'last': last_name}\n",
    "    if age:#可选值\n",
    "        person['age'] = age#扩展字典\n",
    "    return person\n",
    "\n",
    "musician = build_person('jimi', 'hendrix', age=27)\n",
    "print(musician)"
   ]
  },
  {
   "cell_type": "markdown",
   "metadata": {},
   "source": [
    "### 结合while"
   ]
  },
  {
   "cell_type": "code",
   "execution_count": 16,
   "metadata": {
    "ExecuteTime": {
     "end_time": "2022-07-16T15:17:17.384946Z",
     "start_time": "2022-07-16T15:17:11.323898Z"
    }
   },
   "outputs": [
    {
     "name": "stdout",
     "output_type": "stream",
     "text": [
      "\n",
      "Please tell me your name.\n",
      "(enter 'q' at any time to quit)\n",
      "First name: salad\n",
      "Last name: xx\n",
      "\n",
      "Hello, Saladxx!\n",
      "\n",
      "Please tell me your name.\n",
      "(enter 'q' at any time to quit)\n",
      "First name: q\n"
     ]
    }
   ],
   "source": [
    "def get_formatted_name(first_name, last_name):\n",
    "    full_name = first_name+ last_name\n",
    "    return full_name.title()\n",
    "\n",
    "while True:\n",
    "    print(\"\\nPlease tell me your name.\")\n",
    "    print(\"(enter 'q' at any time to quit)\")\n",
    "\n",
    "    f_name = input(\"First name: \")\n",
    "    if f_name == 'q':\n",
    "        break\n",
    "\n",
    "    l_name = input(\"Last name: \")\n",
    "    if l_name == 'q':\n",
    "        break\n",
    "    \n",
    "    formatted_name = get_formatted_name(f_name, l_name)\n",
    "    print(\"\\nHello, \"+formatted_name+\"!\")"
   ]
  },
  {
   "cell_type": "markdown",
   "metadata": {},
   "source": [
    "#### 8-6"
   ]
  },
  {
   "cell_type": "code",
   "execution_count": 17,
   "metadata": {
    "ExecuteTime": {
     "end_time": "2022-07-16T15:17:17.400372Z",
     "start_time": "2022-07-16T15:17:17.387366Z"
    }
   },
   "outputs": [
    {
     "name": "stdout",
     "output_type": "stream",
     "text": [
      "Wuhan,China\n",
      "Zhuhai,China\n",
      "Paris,Uk\n"
     ]
    }
   ],
   "source": [
    "def city_country(city,country):\n",
    "    print(city.title()+\",\"+country.title())\n",
    "    \n",
    "city_country(\"wuhan\",\"china\")\n",
    "city_country(\"zhuhai\",\"china\")\n",
    "city_country(\"Paris\",\"UK\")"
   ]
  },
  {
   "cell_type": "markdown",
   "metadata": {},
   "source": [
    "#### 8-7"
   ]
  },
  {
   "cell_type": "code",
   "execution_count": 18,
   "metadata": {
    "ExecuteTime": {
     "end_time": "2022-07-16T15:17:17.416406Z",
     "start_time": "2022-07-16T15:17:17.403366Z"
    }
   },
   "outputs": [
    {
     "name": "stdout",
     "output_type": "stream",
     "text": [
      "{'singer name': 'a', 'album name': 'b'}\n",
      "{'singer name': 'salad', 'album name': 'iii', \"song's number\": '33'}\n",
      "{'singer name': 'xx', 'album name': 'uuu'}\n"
     ]
    }
   ],
   "source": [
    "def make_album(singer_name,album_name,songs_number=None):\n",
    "    album={\"singer name\":singer_name,\"album name\":album_name}\n",
    "    if songs_number:\n",
    "        album[\"song's number\"]=songs_number    \n",
    "    return album\n",
    "\n",
    "a=make_album(\"a\",\"b\")\n",
    "print(a)\n",
    "b=make_album(\"salad\",\"iii\",str(33))\n",
    "print(b)\n",
    "c=make_album(\"xx\",\"uuu\")\n",
    "print(c)"
   ]
  },
  {
   "cell_type": "markdown",
   "metadata": {},
   "source": [
    "#### 8-8"
   ]
  },
  {
   "cell_type": "code",
   "execution_count": 19,
   "metadata": {
    "ExecuteTime": {
     "end_time": "2022-07-16T15:17:28.272602Z",
     "start_time": "2022-07-16T15:17:17.418365Z"
    }
   },
   "outputs": [
    {
     "name": "stdout",
     "output_type": "stream",
     "text": [
      "Please input singer's name :salad\n",
      "Please input album's name :xx\n",
      "Do you want to quit? yes/no :yes\n"
     ]
    }
   ],
   "source": [
    "def make_album(singer_name,album_name,songs_number=None):\n",
    "    \n",
    "    album={\"singer name\":singer_name,\"album name\":album_name}\n",
    "    if songs_number:\n",
    "        album[\"song's number\"]=songs_number   \n",
    "    return album\n",
    "\n",
    "while True:\n",
    "    \n",
    "    s_n=input(\"Please input singer's name :\")\n",
    "    a_n=input(\"Please input album's name :\")\n",
    "    sa=make_album(s_n,a_n)\n",
    "    \n",
    "    q=input(\"Do you want to quit? yes/no :\")\n",
    "    if q==\"yes\":\n",
    "        break"
   ]
  },
  {
   "cell_type": "markdown",
   "metadata": {},
   "source": [
    "### 传递列表"
   ]
  },
  {
   "cell_type": "code",
   "execution_count": 20,
   "metadata": {
    "ExecuteTime": {
     "end_time": "2022-07-16T15:17:28.287951Z",
     "start_time": "2022-07-16T15:17:28.272602Z"
    }
   },
   "outputs": [
    {
     "name": "stdout",
     "output_type": "stream",
     "text": [
      "Hello,Salad!\n",
      "Hello,Xx!\n"
     ]
    }
   ],
   "source": [
    "def greet_users(names):\n",
    "    \n",
    "    \"\"\"向列表中的每位用户都发出简单问候\"\"\"\n",
    "    \"\"\"接受一个名字列表并将其存储在形参names中\"\"\"\n",
    "    \n",
    "    for name in names:#遍历列表\n",
    "        message=\"Hello,\"+name.title()+\"!\"\n",
    "        print(message)\n",
    "    \n",
    "username = [\"salad\" , \"xx\" ]\n",
    "greet_users(username)"
   ]
  },
  {
   "cell_type": "markdown",
   "metadata": {},
   "source": [
    "### 修改列表"
   ]
  },
  {
   "cell_type": "code",
   "execution_count": 21,
   "metadata": {
    "ExecuteTime": {
     "end_time": "2022-07-16T15:17:28.303471Z",
     "start_time": "2022-07-16T15:17:28.289473Z"
    }
   },
   "outputs": [
    {
     "name": "stdout",
     "output_type": "stream",
     "text": [
      "Printing model: dodecahedron\n",
      "Printing model: robot pendant\n",
      "Printing model: iphone case\n",
      "\n",
      "The following models have been printed: \n",
      "['dodecahedron', 'robot pendant', 'iphone case']\n",
      "['dodecahedron', 'robot pendant', 'iphone case']\n",
      "['dodecahedron', 'robot pendant', 'iphone case']\n"
     ]
    }
   ],
   "source": [
    "unprinted_designs=[\"iphone case\",\"robot pendant\",\"dodecahedron\"]\n",
    "completed_models=[]\n",
    "\n",
    "while unprinted_designs:\n",
    "    current_design=unprinted_designs.pop()\n",
    "    \n",
    "    print(\"Printing model: \"+current_design)\n",
    "    completed_models.append(current_design)\n",
    "    \n",
    "print(\"\\nThe following models have been printed: \")\n",
    "for i in completed_models:\n",
    "    print(completed_models)"
   ]
  },
  {
   "cell_type": "markdown",
   "metadata": {},
   "source": [
    "#### 每个函数只负责一项具体的工作"
   ]
  },
  {
   "cell_type": "code",
   "execution_count": 22,
   "metadata": {
    "ExecuteTime": {
     "end_time": "2022-07-16T15:17:28.319491Z",
     "start_time": "2022-07-16T15:17:28.305470Z"
    }
   },
   "outputs": [
    {
     "name": "stdout",
     "output_type": "stream",
     "text": [
      "Printing model: dodecahedron\n",
      "Printing model: robot pendant\n",
      "Printing model: iphone case\n",
      "\n",
      "The following models have been printed: \n",
      "['a', 'dodecahedron', 'robot pendant', 'iphone case']\n",
      "['a', 'dodecahedron', 'robot pendant', 'iphone case']\n",
      "['a', 'dodecahedron', 'robot pendant', 'iphone case']\n",
      "['a', 'dodecahedron', 'robot pendant', 'iphone case']\n"
     ]
    }
   ],
   "source": [
    "def print_models(unprinted_designs, completed_models):\n",
    "    while unprinted_designs:\n",
    "        current_design=unprinted_designs.pop()\n",
    "    \n",
    "        print(\"Printing model: \"+current_design)\n",
    "        completed_models.append(current_design)\n",
    "\n",
    "def show_completed_models(completed_models):\n",
    "    for i in completed_models:\n",
    "        print(completed_models)\n",
    "\n",
    "unprinted_designs=[\"iphone case\",\"robot pendant\",\"dodecahedron\"]\n",
    "completed_models=[\"a\"]\n",
    "\n",
    "print_models(unprinted_designs, completed_models)\n",
    "print(\"\\nThe following models have been printed: \")\n",
    "show_completed_models(completed_models)"
   ]
  },
  {
   "cell_type": "code",
   "execution_count": 23,
   "metadata": {
    "ExecuteTime": {
     "end_time": "2022-07-16T15:17:28.335518Z",
     "start_time": "2022-07-16T15:17:28.321474Z"
    }
   },
   "outputs": [],
   "source": [
    "show_completed_models(unprinted_designs)"
   ]
  },
  {
   "cell_type": "markdown",
   "metadata": {},
   "source": [
    "### 禁止函数修改列表可用列表的副本"
   ]
  },
  {
   "cell_type": "code",
   "execution_count": 24,
   "metadata": {
    "ExecuteTime": {
     "end_time": "2022-07-16T15:17:28.351713Z",
     "start_time": "2022-07-16T15:17:28.337470Z"
    }
   },
   "outputs": [
    {
     "name": "stdout",
     "output_type": "stream",
     "text": [
      "Printing model: dodecahedron\n",
      "Printing model: robot pendant\n",
      "Printing model: iphone case\n",
      "\n",
      "The following models have been printed: \n",
      "['a', 'dodecahedron', 'robot pendant', 'iphone case']\n",
      "['a', 'dodecahedron', 'robot pendant', 'iphone case']\n",
      "['a', 'dodecahedron', 'robot pendant', 'iphone case']\n",
      "['a', 'dodecahedron', 'robot pendant', 'iphone case']\n"
     ]
    }
   ],
   "source": [
    "unprinted_designs=[\"iphone case\",\"robot pendant\",\"dodecahedron\"]\n",
    "completed_models=[\"a\"]\n",
    "\n",
    "print_models(unprinted_designs[:], completed_models)\n",
    "#使用列表切片方法\n",
    "print(\"\\nThe following models have been printed: \")\n",
    "show_completed_models(completed_models)"
   ]
  },
  {
   "cell_type": "code",
   "execution_count": 25,
   "metadata": {
    "ExecuteTime": {
     "end_time": "2022-07-16T15:17:28.367511Z",
     "start_time": "2022-07-16T15:17:28.354475Z"
    }
   },
   "outputs": [
    {
     "name": "stdout",
     "output_type": "stream",
     "text": [
      "['iphone case', 'robot pendant', 'dodecahedron']\n",
      "['iphone case', 'robot pendant', 'dodecahedron']\n",
      "['iphone case', 'robot pendant', 'dodecahedron']\n"
     ]
    }
   ],
   "source": [
    "show_completed_models(unprinted_designs)\n",
    "#此时原列表unprinted_designs中的数值保留不变"
   ]
  },
  {
   "cell_type": "markdown",
   "metadata": {},
   "source": [
    "#### 8-9"
   ]
  },
  {
   "cell_type": "code",
   "execution_count": 26,
   "metadata": {
    "ExecuteTime": {
     "end_time": "2022-07-16T15:17:28.383472Z",
     "start_time": "2022-07-16T15:17:28.369471Z"
    }
   },
   "outputs": [
    {
     "name": "stdout",
     "output_type": "stream",
     "text": [
      "a\n",
      "b\n",
      "v\n"
     ]
    }
   ],
   "source": [
    "def show_magicians(names):\n",
    "    for i in names:\n",
    "        print(i)\n",
    "\n",
    "names=[\"a\",\"b\",\"v\"]\n",
    "show_magicians(names)"
   ]
  },
  {
   "cell_type": "markdown",
   "metadata": {},
   "source": [
    "#### 8-10"
   ]
  },
  {
   "cell_type": "markdown",
   "metadata": {},
   "source": [
    "#### 修改列表元素时需要使用a[i],不能for i in names：然后直接修改"
   ]
  },
  {
   "cell_type": "code",
   "execution_count": 35,
   "metadata": {
    "ExecuteTime": {
     "end_time": "2022-07-16T15:25:25.473099Z",
     "start_time": "2022-07-16T15:25:25.465059Z"
    }
   },
   "outputs": [
    {
     "name": "stdout",
     "output_type": "stream",
     "text": [
      "The Great A.\n",
      "The Great B.\n",
      "The Great V.\n"
     ]
    }
   ],
   "source": [
    "def show_magicians(names):\n",
    "    for i in names:\n",
    "        print(i.title())\n",
    "\n",
    "def make_great(names):\n",
    "    i=0\n",
    "    while i<len(names):\n",
    "        names[i]=\"The Great \"+names[i].title()+\".\"\n",
    "        #改变列表中的值本身并返回到列表\n",
    "        i=i+1#迭代\n",
    "        \n",
    "names=[\"a\",\"b\",\"v\"]\n",
    "make_great(names)\n",
    "show_magicians(names)"
   ]
  },
  {
   "cell_type": "code",
   "execution_count": 36,
   "metadata": {
    "ExecuteTime": {
     "end_time": "2022-07-16T15:25:26.608502Z",
     "start_time": "2022-07-16T15:25:26.601869Z"
    }
   },
   "outputs": [
    {
     "name": "stdout",
     "output_type": "stream",
     "text": [
      "['The Great A.', 'The Great B.', 'The Great V.']\n"
     ]
    }
   ],
   "source": [
    "print(names)\n",
    "#列表本身改变了"
   ]
  },
  {
   "cell_type": "code",
   "execution_count": 37,
   "metadata": {
    "ExecuteTime": {
     "end_time": "2022-07-16T15:25:27.646041Z",
     "start_time": "2022-07-16T15:25:27.640008Z"
    }
   },
   "outputs": [
    {
     "name": "stdout",
     "output_type": "stream",
     "text": [
      "The Great A.\n",
      "The Great B.\n",
      "The Great V.\n"
     ]
    }
   ],
   "source": [
    "###错误\n",
    "\n",
    "def make_great(names):\n",
    "    for i in names:\n",
    "        i=\"The Great \"+i.title()+\".\"\n",
    "        #只是改变了列表中的值，没有返回到列表，列表本身没有改变\n",
    "        print(i)\n",
    "        \n",
    "names=[\"a\",\"b\",\"v\"]\n",
    "make_great(names)\n",
    "#show_magicians(names)"
   ]
  },
  {
   "cell_type": "code",
   "execution_count": 38,
   "metadata": {
    "ExecuteTime": {
     "end_time": "2022-07-16T15:25:28.154459Z",
     "start_time": "2022-07-16T15:25:28.141134Z"
    }
   },
   "outputs": [
    {
     "name": "stdout",
     "output_type": "stream",
     "text": [
      "['a', 'b', 'v']\n"
     ]
    }
   ],
   "source": [
    "print(names)\n",
    "#列表本身没有改变"
   ]
  },
  {
   "cell_type": "markdown",
   "metadata": {},
   "source": [
    "#### 8-11"
   ]
  },
  {
   "cell_type": "code",
   "execution_count": 41,
   "metadata": {
    "ExecuteTime": {
     "end_time": "2022-07-16T15:31:42.819090Z",
     "start_time": "2022-07-16T15:31:42.812089Z"
    }
   },
   "outputs": [
    {
     "name": "stdout",
     "output_type": "stream",
     "text": [
      "This is the original list:\n",
      "A\n",
      "B\n",
      "V\n",
      "\n",
      "This is the current list:\n",
      "The Great A.\n",
      "The Great B.\n",
      "The Great V.\n"
     ]
    }
   ],
   "source": [
    "def show_magicians(names):\n",
    "    for i in names:\n",
    "        print(i.title())\n",
    "\n",
    "def make_great(names):\n",
    "    i=0\n",
    "    while i<len(names):\n",
    "        names[i]=\"The Great \"+names[i].title()+\".\"\n",
    "        #改变列表中的值本身并返回到列表\n",
    "        i=i+1#迭代\n",
    "    return(names)#返回修改后的列表\n",
    "        \n",
    "names=[\"a\",\"b\",\"v\"]\n",
    "names_=make_great(names[:])#使用副本\n",
    "\n",
    "print(\"This is the original list:\")\n",
    "show_magicians(names)\n",
    "\n",
    "print(\"\\nThis is the current list:\")\n",
    "show_magicians(names_)"
   ]
  },
  {
   "cell_type": "markdown",
   "metadata": {},
   "source": [
    "### 传递任意参数的实参☆"
   ]
  },
  {
   "cell_type": "markdown",
   "metadata": {},
   "source": [
    "#### python函数允许从调用语句中收集任意数量的实参"
   ]
  },
  {
   "cell_type": "code",
   "execution_count": 43,
   "metadata": {
    "ExecuteTime": {
     "end_time": "2022-07-17T07:22:05.541618Z",
     "start_time": "2022-07-17T07:22:05.528029Z"
    }
   },
   "outputs": [
    {
     "name": "stdout",
     "output_type": "stream",
     "text": [
      "('pepperoni',)\n",
      "('mushrooms', 'green peppers', 'extra cheese')\n"
     ]
    }
   ],
   "source": [
    "def make_pizza(*toppings):\n",
    "    \"\"\"Summarize the pizza we are about to make.\"\"\"\n",
    "    \"\"\"形参名*toppings中的*让python创建了一个名为toppings的空元组\"\"\"\n",
    "    \"\"\"收到的所有值都装到这个元组中\"\"\"\n",
    "    print(toppings)\n",
    "\n",
    "make_pizza(\"pepperoni\")\n",
    "make_pizza(\"mushrooms\",'green peppers','extra cheese')"
   ]
  },
  {
   "cell_type": "code",
   "execution_count": 46,
   "metadata": {
    "ExecuteTime": {
     "end_time": "2022-07-17T07:30:25.612247Z",
     "start_time": "2022-07-17T07:30:25.606247Z"
    }
   },
   "outputs": [
    {
     "name": "stdout",
     "output_type": "stream",
     "text": [
      "\n",
      "Making a pizza with the following toppings:\n",
      "- pepperoni\n",
      "\n",
      "Making a pizza with the following toppings:\n",
      "- mushrooms\n",
      "- green peppers\n",
      "- extra cheese\n"
     ]
    }
   ],
   "source": [
    "def make_pizza(*toppings):\n",
    "    \"\"\"Summarize the pizza we are about to make.\"\"\"\n",
    "    \"\"\"形参名*toppings中的*让python创建了一个名为toppings的空元组\"\"\"\n",
    "    \"\"\"收到的所有值都装到这个元组中\"\"\"\n",
    "    print(\"\\nMaking a pizza with the following toppings:\")\n",
    "    for topping in toppings:\n",
    "        print(\"- \"+topping)\n",
    "\n",
    "make_pizza(\"pepperoni\")\n",
    "make_pizza(\"mushrooms\",'green peppers','extra cheese')"
   ]
  },
  {
   "cell_type": "markdown",
   "metadata": {},
   "source": [
    "### 结合位置实参和任意数量实参"
   ]
  },
  {
   "cell_type": "markdown",
   "metadata": {},
   "source": [
    "#### 接纳任何数量实参的形参应放在函数定义中的最后"
   ]
  },
  {
   "cell_type": "code",
   "execution_count": 47,
   "metadata": {
    "ExecuteTime": {
     "end_time": "2022-07-17T08:12:02.129345Z",
     "start_time": "2022-07-17T08:12:02.120918Z"
    }
   },
   "outputs": [
    {
     "name": "stdout",
     "output_type": "stream",
     "text": [
      "\n",
      "Making a pizza with the following toppings:\n",
      "- peperoni\n",
      "\n",
      "Making a pizza with the following toppings:\n",
      "- mushrooms\n",
      "- green peppers\n",
      "- extra cheese\n"
     ]
    }
   ],
   "source": [
    "def make_pizza(size, *toppings):\n",
    "    \"\"\"Summarize the pizza we are about to make.\"\"\"\n",
    "    print(\"\\nMaking a pizza with the following toppings:\")\n",
    "    for topping in toppings:\n",
    "        print(\"- \"+topping)\n",
    "        \n",
    "make_pizza(16,\"peperoni\")\n",
    "make_pizza(12,\"mushrooms\",\"green peppers\",\"extra cheese\")"
   ]
  },
  {
   "cell_type": "markdown",
   "metadata": {},
   "source": [
    "### 使用任何数量的关键字实参"
   ]
  },
  {
   "cell_type": "markdown",
   "metadata": {},
   "source": [
    "#### 形参**user_info中的**让python创建一个名为user_info的空字典"
   ]
  },
  {
   "cell_type": "markdown",
   "metadata": {},
   "source": [
    "#### 将收到的所有名称—值对都封装到字典中"
   ]
  },
  {
   "cell_type": "code",
   "execution_count": 49,
   "metadata": {
    "ExecuteTime": {
     "end_time": "2022-07-17T09:11:15.345387Z",
     "start_time": "2022-07-17T09:11:15.321945Z"
    }
   },
   "outputs": [
    {
     "name": "stdout",
     "output_type": "stream",
     "text": [
      "{'first_name': 'albert', 'last_name': 'einstein', 'location': 'princeton', 'field': 'physics'}\n"
     ]
    }
   ],
   "source": [
    "def build_profile(first, last, **user_info):\n",
    "    \n",
    "    #接受名和姓，还接受任意数量的关键字实参（用户信息）\n",
    "    \"\"\"Build a dictionary containing everything we know about a user.\"\"\"\n",
    "    \n",
    "    profile={}\n",
    "    #用于存储用户简介\n",
    "    \n",
    "    #将名和姓加入到profile字典中\n",
    "    profile['first_name'] = first\n",
    "    profile['last_name'] = last\n",
    "    \n",
    "    #遍历字典user_info中的键值对，将每个键值对都加入到字典profile中\n",
    "    for key,value in user_info.items():\n",
    "        profile[key]=value\n",
    "        \n",
    "    return profile\n",
    "\n",
    "user_profile = build_profile('albert', 'einstein',\n",
    "                             location='princeton',\n",
    "                             field='physics')\n",
    "print(user_profile)"
   ]
  },
  {
   "cell_type": "markdown",
   "metadata": {},
   "source": [
    "#### 8-12"
   ]
  },
  {
   "cell_type": "code",
   "execution_count": 65,
   "metadata": {
    "ExecuteTime": {
     "end_time": "2022-07-17T09:54:28.924883Z",
     "start_time": "2022-07-17T09:54:28.901061Z"
    }
   },
   "outputs": [
    {
     "name": "stdout",
     "output_type": "stream",
     "text": [
      "\n",
      "These are all the sandwich need:\n",
      "1\n",
      "a\n",
      "\n",
      "These are all the sandwich need:\n",
      "2\n",
      "sla\n",
      "iii\n",
      "iuhohjkh\n",
      "\n",
      "These are all the sandwich need:\n",
      "3\n",
      "iao\n",
      "iiojny\n"
     ]
    }
   ],
   "source": [
    "def sandwich(*needs):\n",
    "    \n",
    "    \"\"\"   \"\"\"\n",
    "    \n",
    "    print(\"\\nThese are all the sandwich need:\")\n",
    "    for i in needs:\n",
    "        print(i)\n",
    "    \n",
    "sandwich(\"1\",\"a\")\n",
    "sandwich(\"2\",\"sla\",\"iii\",\"iuhohjkh\")\n",
    "sandwich(\"3\",\"iao\",\"iiojny\")"
   ]
  },
  {
   "cell_type": "markdown",
   "metadata": {},
   "source": [
    "#### 8-13"
   ]
  },
  {
   "cell_type": "code",
   "execution_count": 69,
   "metadata": {
    "ExecuteTime": {
     "end_time": "2022-07-17T10:06:32.551474Z",
     "start_time": "2022-07-17T10:06:32.542486Z"
    }
   },
   "outputs": [
    {
     "name": "stdout",
     "output_type": "stream",
     "text": [
      "first_name: salad\n",
      "last_name: chen\n",
      "location: zhuhai\n",
      "field: Artificial Intelligence\n",
      "learn: Convolutional Neural Networks\n"
     ]
    }
   ],
   "source": [
    "def build_profile(first, last, **user_info):\n",
    "    \n",
    "    #接受名和姓，还接受任意数量的关键字实参（用户信息）\n",
    "    \"\"\"Build a dictionary containing everything we know about a user.\"\"\"\n",
    "    \n",
    "    profile={}\n",
    "    #用于存储用户简介\n",
    "    \n",
    "    #将名和姓加入到profile字典中\n",
    "    profile['first_name'] = first\n",
    "    profile['last_name'] = last\n",
    "    \n",
    "    #遍历字典user_info中的键值对，将每个键值对都加入到字典profile中\n",
    "    for key,value in user_info.items():\n",
    "        profile[key]=value\n",
    "        \n",
    "    return profile\n",
    "\n",
    "user_profile = build_profile('salad', 'chen',\n",
    "                             location='zhuhai',\n",
    "                             field=\"Artificial Intelligence\",\n",
    "                             learn=\"Convolutional Neural Networks\")\n",
    "\n",
    "for key,value in user_profile.items():\n",
    "    print(key+\": \"+value)"
   ]
  },
  {
   "cell_type": "markdown",
   "metadata": {},
   "source": [
    "#### 8-14"
   ]
  },
  {
   "cell_type": "code",
   "execution_count": 76,
   "metadata": {
    "ExecuteTime": {
     "end_time": "2022-07-17T10:22:28.472164Z",
     "start_time": "2022-07-17T10:22:28.448598Z"
    }
   },
   "outputs": [
    {
     "name": "stdout",
     "output_type": "stream",
     "text": [
      "{'car_maker': 'subaru', 'car_name': 'outback', 'color': 'blue', 'tow_package': True}\n"
     ]
    }
   ],
   "source": [
    "def make_cars(maker,name,**info):\n",
    "    \"\"\"   \"\"\"\n",
    "    \n",
    "    cars={}\n",
    "    \n",
    "    cars[\"car_maker\"]=maker\n",
    "    cars[\"car_name\"]=name\n",
    "    \n",
    "    for key,value in info.items():\n",
    "        cars[key]=value\n",
    "        \n",
    "    return(cars) #要返回值才能传回调用函数的地方\n",
    "    \n",
    "car = make_cars(\"subaru\",\"outback\",color=\"blue\",tow_package=True)\n",
    "print(car)"
   ]
  },
  {
   "cell_type": "markdown",
   "metadata": {},
   "source": [
    "### 导入整个模块"
   ]
  },
  {
   "cell_type": "markdown",
   "metadata": {},
   "source": [
    "#### 函数可存储在称为模块的独立文件.py中，再将模块import到主程序中"
   ]
  },
  {
   "cell_type": "markdown",
   "metadata": {},
   "source": [
    "#### 在pizza.ipynb内"
   ]
  },
  {
   "cell_type": "code",
   "execution_count": null,
   "metadata": {},
   "outputs": [],
   "source": []
  }
 ],
 "metadata": {
  "kernelspec": {
   "display_name": "Python 3",
   "language": "python",
   "name": "python3"
  },
  "language_info": {
   "codemirror_mode": {
    "name": "ipython",
    "version": 3
   },
   "file_extension": ".py",
   "mimetype": "text/x-python",
   "name": "python",
   "nbconvert_exporter": "python",
   "pygments_lexer": "ipython3",
   "version": "3.7.0"
  }
 },
 "nbformat": 4,
 "nbformat_minor": 2
}
