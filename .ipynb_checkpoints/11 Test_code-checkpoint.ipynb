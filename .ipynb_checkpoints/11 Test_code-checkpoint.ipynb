{
 "cells": [
  {
   "cell_type": "raw",
   "metadata": {},
   "source": [
    "#模块中内容\n",
    "\n",
    "def get_descriptive_name(year,make,model):\n",
    "        \"\"\"返回简洁描述性信息\"\"\"\n",
    "        long_name = str(year) + \" \" +make + \" \" + model\n",
    "        return long_name.title()"
   ]
  },
  {
   "cell_type": "markdown",
   "metadata": {},
   "source": [
    "#### 导入模块unittest和要测试的函数，再创建一个继承unittest.TestCase类"
   ]
  },
  {
   "cell_type": "markdown",
   "metadata": {},
   "source": [
    "#### 导入unittest的断言方法assertEqual（）并传递descriptive_nam和‘2016 Audi A4’"
   ]
  },
  {
   "cell_type": "code",
   "execution_count": 13,
   "metadata": {
    "ExecuteTime": {
     "end_time": "2022-08-08T15:30:47.250658Z",
     "start_time": "2022-08-08T15:30:47.242664Z"
    }
   },
   "outputs": [
    {
     "name": "stderr",
     "output_type": "stream",
     "text": [
      "\n",
      "----------------------------------------------------------------------\n",
      "Ran 0 tests in 0.000s\n",
      "\n",
      "OK\n"
     ]
    }
   ],
   "source": [
    "import unittest\n",
    "from car_ import get_descriptive_name\n",
    "\n",
    "class CarsTestCase(unittest.TestCase):\n",
    "    \"\"\"测试get_descriptive_name\"\"\"\n",
    "    \n",
    "    def test_make_pizza(self):\n",
    "        \"\"\"能够正常使用吗？\"\"\"\n",
    "        descriptive_name = get_descriptive_name('2016',\"Audi\",\"A4\")\n",
    "        self.assertEqual(descriptive_name,'2016 Audi A4')\n",
    "        #将descriptive_name和'2016 Audi A4'相比较\n",
    "\n",
    "suite = unittest.TestSuite()\n",
    "runner = unittest.TextTestRunner(verbosity=2)\n",
    "if __name__ == '__main__':\n",
    "    runner.run(suite)\n",
    "#让python运行这个文件中的测试"
   ]
  },
  {
   "cell_type": "code",
   "execution_count": null,
   "metadata": {},
   "outputs": [],
   "source": []
  }
 ],
 "metadata": {
  "kernelspec": {
   "display_name": "Python 3",
   "language": "python",
   "name": "python3"
  },
  "language_info": {
   "codemirror_mode": {
    "name": "ipython",
    "version": 3
   },
   "file_extension": ".py",
   "mimetype": "text/x-python",
   "name": "python",
   "nbconvert_exporter": "python",
   "pygments_lexer": "ipython3",
   "version": "3.7.0"
  }
 },
 "nbformat": 4,
 "nbformat_minor": 2
}
