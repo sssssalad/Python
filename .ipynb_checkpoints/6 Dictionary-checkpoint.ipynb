{
 "cells": [
  {
   "cell_type": "markdown",
   "metadata": {},
   "source": [
    "##### 字典是一系列键值对，每个键值对是两个相关联的值。"
   ]
  },
  {
   "cell_type": "markdown",
   "metadata": {
    "ExecuteTime": {
     "end_time": "2022-07-03T15:13:37.490787Z",
     "start_time": "2022-07-03T15:13:37.477583Z"
    }
   },
   "source": [
    "#### 指定键时将返回与之相关联的值"
   ]
  },
  {
   "cell_type": "markdown",
   "metadata": {},
   "source": [
    "### 键与值之间用“：”分割，键值对之间用“，”分割"
   ]
  },
  {
   "cell_type": "code",
   "execution_count": 1,
   "metadata": {
    "ExecuteTime": {
     "end_time": "2022-07-13T08:39:42.129246Z",
     "start_time": "2022-07-13T08:39:42.116156Z"
    }
   },
   "outputs": [
    {
     "name": "stdout",
     "output_type": "stream",
     "text": [
      "green\n",
      "5\n"
     ]
    }
   ],
   "source": [
    "alien_0={'color':\"green\",'point':5}\n",
    "\n",
    "print(alien_0['color'])\n",
    "print(alien_0['point'])"
   ]
  },
  {
   "cell_type": "markdown",
   "metadata": {},
   "source": [
    "### 添加键值对"
   ]
  },
  {
   "cell_type": "code",
   "execution_count": 2,
   "metadata": {
    "ExecuteTime": {
     "end_time": "2022-07-13T08:39:42.145242Z",
     "start_time": "2022-07-13T08:39:42.132248Z"
    }
   },
   "outputs": [
    {
     "name": "stdout",
     "output_type": "stream",
     "text": [
      "{'color': 'green', 'point': 5}\n",
      "\n",
      "{'color': 'green', 'point': 5, 'x_position': 0, 'y_position': 25}\n"
     ]
    }
   ],
   "source": [
    "alien_0={'color':\"green\",'point':5}\n",
    "print(alien_0)\n",
    "\n",
    "alien_0['x_position']=0\n",
    "alien_0['y_position']=25\n",
    "print(\"\\n\"+str(alien_0))#键值对的排列关系与添加顺序不同"
   ]
  },
  {
   "cell_type": "markdown",
   "metadata": {},
   "source": [
    "### 创建空字典"
   ]
  },
  {
   "cell_type": "code",
   "execution_count": 3,
   "metadata": {
    "ExecuteTime": {
     "end_time": "2022-07-13T08:39:42.161242Z",
     "start_time": "2022-07-13T08:39:42.147246Z"
    }
   },
   "outputs": [
    {
     "name": "stdout",
     "output_type": "stream",
     "text": [
      "{'color': 'green', 'points': 5}\n"
     ]
    }
   ],
   "source": [
    "alien_0={}#便于存储用户提供的数据\n",
    "alien_0['color']='green'\n",
    "alien_0['points']=5\n",
    "print(alien_0)"
   ]
  },
  {
   "cell_type": "markdown",
   "metadata": {},
   "source": [
    "### 修改字典"
   ]
  },
  {
   "cell_type": "code",
   "execution_count": 4,
   "metadata": {
    "ExecuteTime": {
     "end_time": "2022-07-13T08:39:42.177278Z",
     "start_time": "2022-07-13T08:39:42.163247Z"
    }
   },
   "outputs": [
    {
     "name": "stdout",
     "output_type": "stream",
     "text": [
      "{'color': 'green', 'points': 5}\n",
      "The alien now is {'color': 'yellow', 'points': 5}\n"
     ]
    }
   ],
   "source": [
    "alien_0={'color':\"green\",'points':5}\n",
    "print(alien_0)\n",
    "\n",
    "alien_0['color']='yellow'\n",
    "print(\"The alien now is \"+str(alien_0))"
   ]
  },
  {
   "cell_type": "code",
   "execution_count": 5,
   "metadata": {
    "ExecuteTime": {
     "end_time": "2022-07-13T08:39:42.193248Z",
     "start_time": "2022-07-13T08:39:42.179244Z"
    }
   },
   "outputs": [
    {
     "name": "stdout",
     "output_type": "stream",
     "text": [
      "Original x_position: 0\n",
      "Nex x_position: 2\n"
     ]
    }
   ],
   "source": [
    "alien_0={'x_position':0,\"y_position\":25,'speed':'medium'}\n",
    "print(\"Original x_position: \"+str(alien_0['x_position']))\n",
    "\n",
    "#向右移动外星人\n",
    "if alien_0['speed']=='slow':\n",
    "    x_increment=1\n",
    "elif alien_0['speed']=='medium':\n",
    "    x_increment=2\n",
    "else:\n",
    "    x_increment=3\n",
    "\n",
    "alien_0[\"x_position\"]=alien_0['x_position']+x_increment\n",
    "print(\"Nex x_position: \" + str(alien_0['x_position']))"
   ]
  },
  {
   "cell_type": "markdown",
   "metadata": {},
   "source": [
    "### 删除键值对 del"
   ]
  },
  {
   "cell_type": "code",
   "execution_count": 6,
   "metadata": {
    "ExecuteTime": {
     "end_time": "2022-07-13T08:39:42.209246Z",
     "start_time": "2022-07-13T08:39:42.196246Z"
    }
   },
   "outputs": [
    {
     "name": "stdout",
     "output_type": "stream",
     "text": [
      "{'color': 'green', 'points': 5}\n",
      "{'color': 'green'}\n"
     ]
    }
   ],
   "source": [
    "alien_0={'color':\"green\",'points':5}\n",
    "print(alien_0)\n",
    "\n",
    "del alien_0['points']\n",
    "print(alien_0)"
   ]
  },
  {
   "cell_type": "markdown",
   "metadata": {},
   "source": [
    "### 由类似对象组成的字典"
   ]
  },
  {
   "cell_type": "code",
   "execution_count": 7,
   "metadata": {
    "ExecuteTime": {
     "end_time": "2022-07-13T08:39:42.225271Z",
     "start_time": "2022-07-13T08:39:42.212243Z"
    }
   },
   "outputs": [
    {
     "name": "stdout",
     "output_type": "stream",
     "text": [
      "Sarah's favorite language is C .\n"
     ]
    }
   ],
   "source": [
    "favorite_languages={\n",
    "    'jen':'python',\n",
    "    'sarah':'c',\n",
    "    'edward':'ruby',\n",
    "    'phil':'python',\n",
    "    }\n",
    "\n",
    "#缩进方法\n",
    "print(\"Sarah's favorite language is \"+\n",
    "      favorite_languages['sarah'].title()+\n",
    "      \" .\")"
   ]
  },
  {
   "cell_type": "markdown",
   "metadata": {},
   "source": [
    "#### 6-1 人"
   ]
  },
  {
   "cell_type": "code",
   "execution_count": 8,
   "metadata": {
    "ExecuteTime": {
     "end_time": "2022-07-13T08:39:42.241279Z",
     "start_time": "2022-07-13T08:39:42.227285Z"
    }
   },
   "outputs": [
    {
     "name": "stdout",
     "output_type": "stream",
     "text": [
      "xx\n",
      "salad\n",
      "20\n",
      "Suzhou\n"
     ]
    }
   ],
   "source": [
    "xx={'first_name':'xx','last_name':'salad','age':20,'city':'Suzhou'}\n",
    "print(xx['first_name'])\n",
    "print(xx['last_name'])\n",
    "print(xx['age'])\n",
    "print(xx['city'])"
   ]
  },
  {
   "cell_type": "markdown",
   "metadata": {},
   "source": [
    "#### 6-2 喜欢的数字"
   ]
  },
  {
   "cell_type": "code",
   "execution_count": 9,
   "metadata": {
    "ExecuteTime": {
     "end_time": "2022-07-13T08:39:42.257249Z",
     "start_time": "2022-07-13T08:39:42.243246Z"
    }
   },
   "outputs": [
    {
     "name": "stdout",
     "output_type": "stream",
     "text": [
      "A's favorite number is 2 .\n",
      "B's favorite number is 33 .\n",
      "C's favorite number is 98 .\n",
      "D's favorite number is 22 .\n"
     ]
    }
   ],
   "source": [
    "favorite_num={'a':2,\n",
    "               'b':33,\n",
    "               'c':98,\n",
    "               'd':22,\n",
    "}\n",
    "# print(\"A's favorite number is \"+str(favorite_num['a'])+\" .\")\n",
    "# print(\"B's favorite number is \"+str(favorite_num['b'])+\" .\")\n",
    "# print(\"C's favorite number is \"+str(favorite_num['c'])+\" .\")\n",
    "# print(\"D's favorite number is \"+str(favorite_num['d'])+\" .\")\n",
    "for name,num in favorite_num.items():\n",
    "    print(name.title()+\"'s favorite number is \"+str(num)+\" .\")"
   ]
  },
  {
   "cell_type": "markdown",
   "metadata": {},
   "source": [
    "#### 6-3  词汇表"
   ]
  },
  {
   "cell_type": "code",
   "execution_count": 10,
   "metadata": {
    "ExecuteTime": {
     "end_time": "2022-07-13T08:39:42.273240Z",
     "start_time": "2022-07-13T08:39:42.260251Z"
    }
   },
   "outputs": [
    {
     "name": "stdout",
     "output_type": "stream",
     "text": [
      "str: change the number to string\n",
      "\n",
      "list: to form a list\n",
      "\n",
      "lstrip: delete the left blank in the string\n",
      "\n",
      "range: to form a series of number between the first number and the end number\n",
      "\n",
      "swapcase: change the upper to lower or reverse\n",
      "\n"
     ]
    }
   ],
   "source": [
    "words={\n",
    "    'str':'change the number to string',\n",
    "    'list':'to form a list',\n",
    "    'lstrip':'delete the left blank in the string',\n",
    "    'range':'to form a series of number between '+ 'the first number and the end number',\n",
    "    'swapcase':'change the upper to lower or reverse',\n",
    "    }\n",
    "print('str'+': '+words['str']+'\\n')\n",
    "print('list'+': '+words['list']+'\\n')\n",
    "print('lstrip'+': '+words['lstrip']+'\\n')\n",
    "print('range'+': '+words['range']+'\\n')\n",
    "print('swapcase'+': ' +words['swapcase']+'\\n')"
   ]
  },
  {
   "cell_type": "markdown",
   "metadata": {},
   "source": [
    "### 遍历字典"
   ]
  },
  {
   "cell_type": "markdown",
   "metadata": {},
   "source": [
    "### items()返回一个键值对列表"
   ]
  },
  {
   "cell_type": "code",
   "execution_count": 11,
   "metadata": {
    "ExecuteTime": {
     "end_time": "2022-07-13T08:39:42.289242Z",
     "start_time": "2022-07-13T08:39:42.275242Z"
    }
   },
   "outputs": [
    {
     "name": "stdout",
     "output_type": "stream",
     "text": [
      "\n",
      "Key: username\n",
      "Value: efermi\n",
      "\n",
      "Key: first\n",
      "Value: enrico\n",
      "\n",
      "Key: last\n",
      "Value: fermi\n"
     ]
    }
   ],
   "source": [
    "user_0={\n",
    "    'username':'efermi',\n",
    "    'first':'enrico',\n",
    "    'last':'fermi'\n",
    "}\n",
    "\n",
    "for key,value in user_0.items():\n",
    "    print(\"\\nKey: \"+key)\n",
    "    print('Value: '+value)"
   ]
  },
  {
   "cell_type": "markdown",
   "metadata": {},
   "source": [
    "#### python只跟踪键和值的关联关系，不关心键值对存储顺序"
   ]
  },
  {
   "cell_type": "markdown",
   "metadata": {},
   "source": [
    "### keys()遍历字典的所有键"
   ]
  },
  {
   "cell_type": "code",
   "execution_count": 12,
   "metadata": {
    "ExecuteTime": {
     "end_time": "2022-07-13T08:39:42.305242Z",
     "start_time": "2022-07-13T08:39:42.291243Z"
    }
   },
   "outputs": [
    {
     "name": "stdout",
     "output_type": "stream",
     "text": [
      "Jen\n",
      "Sarah\n",
      "Edward\n",
      "Phil\n"
     ]
    }
   ],
   "source": [
    "favorite_languages={\n",
    "    'jen':'python',\n",
    "    'sarah':'c',\n",
    "    'edward':'ruby',\n",
    "    'phil':'python',\n",
    "    }\n",
    "\n",
    "#key（）可省略，for name in favorite_languages会默认遍历所有的键\n",
    "for name in favorite_languages.keys():#将提取的所有键存储到变量name中\n",
    "    print(name.title())"
   ]
  },
  {
   "cell_type": "code",
   "execution_count": 13,
   "metadata": {
    "ExecuteTime": {
     "end_time": "2022-07-13T08:39:42.321245Z",
     "start_time": "2022-07-13T08:39:42.308246Z"
    }
   },
   "outputs": [
    {
     "name": "stdout",
     "output_type": "stream",
     "text": [
      "Jen\n",
      "Sarah\n",
      "Hi Sarah,I see your favorite language is C!\n",
      "Edward\n",
      "Phil\n",
      "Hi Phil,I see your favorite language is Python!\n"
     ]
    }
   ],
   "source": [
    "friends=['phil','sarah']\n",
    "for name in favorite_languages.keys():\n",
    "    print(name.title())\n",
    "    if name in friends:\n",
    "        print(\"Hi \"+name.title()+\n",
    "             \",I see your favorite language is \"+\n",
    "             favorite_languages[name].title()+\"!\")"
   ]
  },
  {
   "cell_type": "markdown",
   "metadata": {},
   "source": [
    "#### 核实erin是否在这个列表中"
   ]
  },
  {
   "cell_type": "code",
   "execution_count": 14,
   "metadata": {
    "ExecuteTime": {
     "end_time": "2022-07-13T08:39:42.337243Z",
     "start_time": "2022-07-13T08:39:42.327243Z"
    }
   },
   "outputs": [
    {
     "name": "stdout",
     "output_type": "stream",
     "text": [
      "Erin,please take our poll!\n"
     ]
    }
   ],
   "source": [
    "if 'erin'not in favorite_languages.keys():\n",
    "    print(\"Erin,please take our poll!\")"
   ]
  },
  {
   "cell_type": "markdown",
   "metadata": {},
   "source": [
    "#### sorted()按照顺序遍历字典中的所有键 "
   ]
  },
  {
   "cell_type": "code",
   "execution_count": 15,
   "metadata": {
    "ExecuteTime": {
     "end_time": "2022-07-13T08:39:42.352243Z",
     "start_time": "2022-07-13T08:39:42.340243Z"
    }
   },
   "outputs": [
    {
     "name": "stdout",
     "output_type": "stream",
     "text": [
      "Edward,thank you for taking the poll.\n",
      "Jen,thank you for taking the poll.\n",
      "Phil,thank you for taking the poll.\n",
      "Sarah,thank you for taking the poll.\n"
     ]
    }
   ],
   "source": [
    "#在遍历前对列表进行排序\n",
    "for name in sorted(favorite_languages.keys()):\n",
    "    print(name.title()+\",thank you for taking the poll.\")"
   ]
  },
  {
   "cell_type": "markdown",
   "metadata": {},
   "source": [
    "### values()遍历字典所有值"
   ]
  },
  {
   "cell_type": "code",
   "execution_count": 16,
   "metadata": {
    "ExecuteTime": {
     "end_time": "2022-07-13T08:39:42.367244Z",
     "start_time": "2022-07-13T08:39:42.354244Z"
    }
   },
   "outputs": [
    {
     "name": "stdout",
     "output_type": "stream",
     "text": [
      "The languages have been mentioned:\n",
      "Python\n",
      "C\n",
      "Ruby\n",
      "Python\n"
     ]
    }
   ],
   "source": [
    "print(\"The languages have been mentioned:\")\n",
    "for language in favorite_languages.values():\n",
    "    print(language.title())"
   ]
  },
  {
   "cell_type": "markdown",
   "metadata": {},
   "source": [
    "### set（）表示将列表转换成集合，每个元素独一无二"
   ]
  },
  {
   "cell_type": "markdown",
   "metadata": {},
   "source": [
    "#### 遍历字典所有不重复的值"
   ]
  },
  {
   "cell_type": "code",
   "execution_count": 17,
   "metadata": {
    "ExecuteTime": {
     "end_time": "2022-07-13T08:39:42.383243Z",
     "start_time": "2022-07-13T08:39:42.371241Z"
    }
   },
   "outputs": [
    {
     "name": "stdout",
     "output_type": "stream",
     "text": [
      "The languages have been mentioned:\n",
      "Ruby\n",
      "Python\n",
      "C\n"
     ]
    }
   ],
   "source": [
    "print(\"The languages have been mentioned:\")\n",
    "for language in set(favorite_languages.values()):\n",
    "    print(language.title())"
   ]
  },
  {
   "cell_type": "markdown",
   "metadata": {},
   "source": [
    "#### 6-4 词汇表"
   ]
  },
  {
   "cell_type": "code",
   "execution_count": 18,
   "metadata": {
    "ExecuteTime": {
     "end_time": "2022-07-13T08:39:42.398245Z",
     "start_time": "2022-07-13T08:39:42.385245Z"
    }
   },
   "outputs": [
    {
     "name": "stdout",
     "output_type": "stream",
     "text": [
      "Str: Change The Number To String.\n",
      "\n",
      "List: To Form A List.\n",
      "\n",
      "Lstrip: Delete The Left Blank In The String.\n",
      "\n",
      "Range: To Form A Series Of Number Between The First Number And The End Number.\n",
      "\n",
      "Swapcase: Change The Upper To Lower Or Reverse.\n",
      "\n"
     ]
    }
   ],
   "source": [
    "words={\n",
    "    'str':'change the number to string',\n",
    "    'list':'to form a list',\n",
    "    'lstrip':'delete the left blank in the string',\n",
    "    'range':'to form a series of number between '+ 'the first number and the end number',\n",
    "    'swapcase':'change the upper to lower or reverse',\n",
    "    }\n",
    "for name,value in words.items():\n",
    "    print(name.title()+': '+value.title()+\".\"+'\\n')\n",
    "# print('str'+': '+words['str']+'\\n')\n",
    "# print('list'+': '+words['list']+'\\n')\n",
    "# print('lstrip'+': '+words['lstrip']+'\\n')\n",
    "# print('range'+': '+words['range']+'\\n')\n",
    "# print('swapcase'+': ' +words['swapcase']+'\\n')"
   ]
  },
  {
   "cell_type": "markdown",
   "metadata": {},
   "source": [
    "#### 6-5 河流"
   ]
  },
  {
   "cell_type": "code",
   "execution_count": 19,
   "metadata": {
    "ExecuteTime": {
     "end_time": "2022-07-13T08:39:42.414245Z",
     "start_time": "2022-07-13T08:39:42.401243Z"
    }
   },
   "outputs": [
    {
     "name": "stdout",
     "output_type": "stream",
     "text": [
      "The Nile runs through Egypt.\n",
      "The Yangzi runs through China.\n",
      "The Mississippi runs through America.\n"
     ]
    }
   ],
   "source": [
    "rivers={\n",
    "    'nile':'Egypt',\n",
    "    'yangzi':'China',\n",
    "    'mississippi':\"America\"\n",
    "    }\n",
    "for river,country in rivers.items():\n",
    "    print(\"The \"+river.title()+\" runs through \"+country.title()+\".\")"
   ]
  },
  {
   "cell_type": "code",
   "execution_count": 20,
   "metadata": {
    "ExecuteTime": {
     "end_time": "2022-07-13T08:39:42.429242Z",
     "start_time": "2022-07-13T08:39:42.418244Z"
    }
   },
   "outputs": [
    {
     "name": "stdout",
     "output_type": "stream",
     "text": [
      "Nile\n",
      "Yangzi\n",
      "Mississippi\n"
     ]
    }
   ],
   "source": [
    "for river in rivers.keys():\n",
    "    print(river.title())"
   ]
  },
  {
   "cell_type": "code",
   "execution_count": 21,
   "metadata": {
    "ExecuteTime": {
     "end_time": "2022-07-13T08:39:42.444241Z",
     "start_time": "2022-07-13T08:39:42.433244Z"
    }
   },
   "outputs": [
    {
     "name": "stdout",
     "output_type": "stream",
     "text": [
      "Egypt\n",
      "China\n",
      "America\n"
     ]
    }
   ],
   "source": [
    "for country in rivers.values():\n",
    "    print(country)"
   ]
  },
  {
   "cell_type": "markdown",
   "metadata": {},
   "source": [
    "#### 6-6 调查"
   ]
  },
  {
   "cell_type": "code",
   "execution_count": 22,
   "metadata": {
    "ExecuteTime": {
     "end_time": "2022-07-13T08:39:42.460244Z",
     "start_time": "2022-07-13T08:39:42.445242Z"
    }
   },
   "outputs": [
    {
     "name": "stdout",
     "output_type": "stream",
     "text": [
      "\n",
      "Jen\n",
      "Jen,thanks for your participating in the survey.\n",
      "\n",
      "Sarah\n",
      "Sarah,please participate in this survey.\n",
      "\n",
      "Edward\n",
      "Edward,thanks for your participating in the survey.\n",
      "\n",
      "Phil\n",
      "Phil,please participate in this survey.\n"
     ]
    }
   ],
   "source": [
    "favorite_languages={\n",
    "    'jen':'python',\n",
    "    'sarah':'c',\n",
    "    'edward':'ruby',\n",
    "    'phil':'python',\n",
    "    }\n",
    "accept_people=['jen','edward']\n",
    "for name in favorite_languages.keys():\n",
    "    print(\"\\n\"+name.title())\n",
    "    if name in accept_people:\n",
    "        print(name.title()+ \",thanks for your participating in the survey.\")\n",
    "    else:\n",
    "        print(name.title()+\",please participate in this survey.\")"
   ]
  },
  {
   "cell_type": "markdown",
   "metadata": {},
   "source": [
    "### 在list中存储dictionary"
   ]
  },
  {
   "cell_type": "code",
   "execution_count": 23,
   "metadata": {
    "ExecuteTime": {
     "end_time": "2022-07-13T08:39:42.475243Z",
     "start_time": "2022-07-13T08:39:42.463252Z"
    }
   },
   "outputs": [
    {
     "name": "stdout",
     "output_type": "stream",
     "text": [
      "{'color': 'green', 'points': 5}\n",
      "{'color': 'yellow', 'points': 10}\n",
      "{'color': 'red', 'points': 15}\n"
     ]
    }
   ],
   "source": [
    "alien_0={'color':\"green\",'points':5}\n",
    "alien_1={'color':\"yellow\",'points':10}\n",
    "alien_2={'color':\"red\",'points':15}\n",
    "\n",
    "aliens=[alien_0,alien_1,alien_2]\n",
    "\n",
    "for alien in aliens:\n",
    "    print(alien)"
   ]
  },
  {
   "cell_type": "code",
   "execution_count": 24,
   "metadata": {
    "ExecuteTime": {
     "end_time": "2022-07-13T08:39:42.491276Z",
     "start_time": "2022-07-13T08:39:42.476243Z"
    }
   },
   "outputs": [
    {
     "name": "stdout",
     "output_type": "stream",
     "text": [
      "{'color': 'green', 'points': 5, 'speed': 'slow'}\n",
      "{'color': 'green', 'points': 5, 'speed': 'slow'}\n",
      "{'color': 'green', 'points': 5, 'speed': 'slow'}\n",
      "{'color': 'green', 'points': 5, 'speed': 'slow'}\n",
      "{'color': 'green', 'points': 5, 'speed': 'slow'}\n",
      "...\n",
      "Total number of aliens: 30\n"
     ]
    }
   ],
   "source": [
    "#创建用于存储外星人的空列表\n",
    "aliens=[]\n",
    "\n",
    "#创建30个alien\n",
    "for alien_num in range(30):\n",
    "    new_alien={'color': 'green','points': 5,\"speed\":\"slow\"}\n",
    "    aliens.append(new_alien)\n",
    "    \n",
    "#打印前5个alien    \n",
    "for alien in aliens[:5]:\n",
    "    print(alien)\n",
    "print(\"...\")\n",
    "        \n",
    "#打印alien总数\n",
    "print(\"Total number of aliens: \"+str(len(aliens)))"
   ]
  },
  {
   "cell_type": "code",
   "execution_count": 25,
   "metadata": {
    "ExecuteTime": {
     "end_time": "2022-07-13T08:39:42.516242Z",
     "start_time": "2022-07-13T08:39:42.493242Z"
    }
   },
   "outputs": [
    {
     "name": "stdout",
     "output_type": "stream",
     "text": [
      "{'color': 'yellow', 'points': 10, 'speed': 'medium'}\n",
      "{'color': 'yellow', 'points': 10, 'speed': 'medium'}\n",
      "{'color': 'yellow', 'points': 10, 'speed': 'medium'}\n",
      "{'color': 'yellow', 'points': 10, 'speed': 'medium'}\n",
      "{'color': 'green', 'points': 5, 'speed': 'slow'}\n",
      "...\n",
      "Total number of aliens: 30\n"
     ]
    }
   ],
   "source": [
    "#修改alien\n",
    "for alien in aliens[:4]:\n",
    "    if alien['color']=='green':\n",
    "        alien['color']='yellow'\n",
    "        alien['speed']='medium'\n",
    "        alien['points']=10\n",
    "    elif alien['color']=='yellow':\n",
    "        alien['color']='red'\n",
    "        alien['speed']='fast'\n",
    "        alien['points']=115\n",
    "        \n",
    "#打印前5个alien    \n",
    "for alien in aliens[:5]:\n",
    "    print(alien)\n",
    "print(\"...\")\n",
    "\n",
    "        \n",
    "#打印alien总数\n",
    "print(\"Total number of aliens: \"+str(len(aliens)))"
   ]
  },
  {
   "cell_type": "markdown",
   "metadata": {
    "ExecuteTime": {
     "end_time": "2022-07-13T07:32:20.837254Z",
     "start_time": "2022-07-13T07:32:20.817266Z"
    }
   },
   "source": [
    "### 在dictionary中存储list"
   ]
  },
  {
   "cell_type": "code",
   "execution_count": 26,
   "metadata": {
    "ExecuteTime": {
     "end_time": "2022-07-13T08:39:42.539249Z",
     "start_time": "2022-07-13T08:39:42.520244Z"
    }
   },
   "outputs": [
    {
     "name": "stdout",
     "output_type": "stream",
     "text": [
      "Yout ordered a thick-crust pizza with the following toppings:\n",
      "\tmushrooms\n",
      "\textra cheese\n"
     ]
    }
   ],
   "source": [
    "#存储所点披萨的信息\n",
    "pizza={\n",
    "    \"crust\":'thick',\n",
    "    \"toppings\":[\"mushrooms\",'extra cheese'],\n",
    "    }\n",
    "print(\"Yout ordered a \"+pizza['crust']+\"-crust pizza \"+\n",
    "     \"with the following toppings:\")\n",
    "for topping in pizza['toppings']:\n",
    "    print(\"\\t\"+topping)"
   ]
  },
  {
   "cell_type": "code",
   "execution_count": 27,
   "metadata": {
    "ExecuteTime": {
     "end_time": "2022-07-13T08:39:42.554244Z",
     "start_time": "2022-07-13T08:39:42.541247Z"
    }
   },
   "outputs": [
    {
     "name": "stdout",
     "output_type": "stream",
     "text": [
      "\n",
      "Jen's favorite languages are:\n",
      "\tPython\n",
      "\tRuby\n",
      "\n",
      "Sarah's favorite languages is:\n",
      "\tC\n",
      "\n",
      "Edward's favorite languages are:\n",
      "\tRuby\n",
      "\tGo\n",
      "\n",
      "Phil's favorite languages are:\n",
      "\tPython\n",
      "\tHaskell\n"
     ]
    }
   ],
   "source": [
    "favorite_languages={\n",
    "    'jen':['python','ruby'],\n",
    "    'sarah':['c'],\n",
    "    'edward':['ruby','go'],\n",
    "    'phil':['python','haskell']\n",
    "}\n",
    "for name,languages in favorite_languages.items():\n",
    "    if len(languages)==1:\n",
    "        print(\"\\n\"+name.title()+\"'s favorite languages is:\")\n",
    "    else:\n",
    "        print(\"\\n\"+name.title()+\"'s favorite languages are:\")\n",
    "    for language in languages:\n",
    "        print('\\t'+language.title())"
   ]
  },
  {
   "cell_type": "markdown",
   "metadata": {},
   "source": [
    "### 在dictionary中存储dictionary"
   ]
  },
  {
   "cell_type": "code",
   "execution_count": 28,
   "metadata": {
    "ExecuteTime": {
     "end_time": "2022-07-13T08:39:42.570249Z",
     "start_time": "2022-07-13T08:39:42.555245Z"
    }
   },
   "outputs": [
    {
     "name": "stdout",
     "output_type": "stream",
     "text": [
      "\n",
      "Username: aeinstein\n",
      "\tFull name: Albert Einstein\n",
      "\tLocation: Princeton\n",
      "\n",
      "Username: mcurie\n",
      "\tFull name: Marie Curie\n",
      "\tLocation: Paris\n"
     ]
    }
   ],
   "source": [
    "users={\n",
    "    'aeinstein':{\n",
    "        'first':'albert',\n",
    "        'last':'einstein',\n",
    "        'location':'princeton',\n",
    "        },\n",
    "    \n",
    "    'mcurie':{\n",
    "        'first':'marie',\n",
    "        'last':'curie',\n",
    "        'location':'paris',\n",
    "        },\n",
    "        \n",
    "      }\n",
    "\n",
    "for username,user_info in users.items():\n",
    "    print('\\nUsername: '+username)\n",
    "    full_name=user_info['first']+' '+user_info['last']\n",
    "    location=user_info['location']\n",
    "\n",
    "    print(\"\\tFull name: \"+ full_name.title())\n",
    "    print('\\tLocation: '+location.title())"
   ]
  },
  {
   "cell_type": "markdown",
   "metadata": {},
   "source": [
    "#### 6-7"
   ]
  },
  {
   "cell_type": "code",
   "execution_count": 29,
   "metadata": {
    "ExecuteTime": {
     "end_time": "2022-07-13T08:39:42.585262Z",
     "start_time": "2022-07-13T08:39:42.571245Z"
    }
   },
   "outputs": [
    {
     "name": "stdout",
     "output_type": "stream",
     "text": [
      "{'first_name': 'xx', 'last_name': 'salad', 'age': 20, 'city': 'Suzhou'}\n",
      "{'first_name': 'salad', 'last_name': 'xx', 'age': 20, 'city': 'Zhuhai'}\n",
      "{'first_name': 'liu', 'last_name': 'chao', 'age': 21, 'city': 'Sichuan'}\n"
     ]
    }
   ],
   "source": [
    "xx={\n",
    "    'first_name':'xx',\n",
    "    'last_name':'salad',\n",
    "    'age':20,'city':'Suzhou'\n",
    "   }\n",
    "salad={\n",
    "       'first_name':'salad',\n",
    "       'last_name':'xx',\n",
    "       'age':20,\n",
    "       'city':'Zhuhai'\n",
    "      }\n",
    "lc={\n",
    "    'first_name':'liu',\n",
    "    'last_name':'chao',\n",
    "    'age':21,\n",
    "    'city':'Sichuan'\n",
    "   }\n",
    "people=[xx,salad,lc]\n",
    "for person in people:\n",
    "    print(person)"
   ]
  },
  {
   "cell_type": "markdown",
   "metadata": {},
   "source": [
    "#### 6-8"
   ]
  },
  {
   "cell_type": "code",
   "execution_count": 30,
   "metadata": {
    "ExecuteTime": {
     "end_time": "2022-07-13T08:39:42.601243Z",
     "start_time": "2022-07-13T08:39:42.588243Z"
    }
   },
   "outputs": [
    {
     "name": "stdout",
     "output_type": "stream",
     "text": [
      "{'category': 'bosi', 'lord': 'fangfang'}\n",
      "{'category': 'dubin', 'lord': 'haha'}\n",
      "{'category': 'white', 'lord': 'dadada'}\n"
     ]
    }
   ],
   "source": [
    "cat={\n",
    "    'category':'bosi',\n",
    "    'lord':'fangfang'\n",
    "    }\n",
    "dog={\n",
    "    'category':'dubin',\n",
    "    'lord':'haha',\n",
    "    }\n",
    "rabbit={\n",
    "    'category':'white',\n",
    "    'lord':'dadada'\n",
    "    }\n",
    "pets=[cat,dog,rabbit]\n",
    "for pet in pets:\n",
    "    print(pet)"
   ]
  },
  {
   "cell_type": "markdown",
   "metadata": {},
   "source": [
    "#### 6-9"
   ]
  },
  {
   "cell_type": "code",
   "execution_count": 31,
   "metadata": {
    "ExecuteTime": {
     "end_time": "2022-07-13T08:39:42.617256Z",
     "start_time": "2022-07-13T08:39:42.603247Z"
    }
   },
   "outputs": [
    {
     "name": "stdout",
     "output_type": "stream",
     "text": [
      "Me: \n",
      "Changjiang\n",
      "Huanghe\n",
      "Shaolinsi\n",
      "\n",
      "\n",
      "She: \n",
      "Harbin\n",
      "Jilin\n",
      "Nanjing\n",
      "\n",
      "\n",
      "He: \n",
      "Beside His Home A Yard\n",
      "\n",
      "\n"
     ]
    }
   ],
   "source": [
    "favorite_places={\n",
    "    'me':['changjiang','huanghe','shaolinsi'],\n",
    "    'she':['harBin','jilin','nanjing'],\n",
    "    'he':['beside his home a yard']\n",
    "    }\n",
    "for man,places in favorite_places.items():\n",
    "    print(man.title()+': ')\n",
    "    for place in places:\n",
    "        print(place.title())\n",
    "    print('\\n')"
   ]
  },
  {
   "cell_type": "markdown",
   "metadata": {},
   "source": [
    "#### 6-11"
   ]
  },
  {
   "cell_type": "code",
   "execution_count": 32,
   "metadata": {
    "ExecuteTime": {
     "end_time": "2022-07-13T08:39:42.633244Z",
     "start_time": "2022-07-13T08:39:42.620245Z"
    }
   },
   "outputs": [
    {
     "name": "stdout",
     "output_type": "stream",
     "text": [
      "\n",
      "Zhangshu: \n",
      "Country: China\n",
      "Population: 123\n",
      "Fact: Talking dirty.\n",
      "\n",
      "Zhuhai: \n",
      "Country: China\n",
      "Population: 150\n",
      "Fact: Beside the sea.\n",
      "\n",
      "Shanghai: \n",
      "Country: China\n",
      "Population: 780\n",
      "Fact: Very large.\n"
     ]
    }
   ],
   "source": [
    "cities={\n",
    "    \"Zhangshu\":{\n",
    "        'country':'China',\n",
    "        'population':123,\n",
    "        'fact':\"Talking dirty.\"\n",
    "        },\n",
    "    \n",
    "     \"Zhuhai\":{\n",
    "        'country':'China',\n",
    "        'population':150,\n",
    "        'fact':\"Beside the sea.\"\n",
    "        },\n",
    "    \n",
    "     \"Shanghai\":{\n",
    "        'country':'China',\n",
    "        'population':780,\n",
    "        'fact':\"Very large.\"\n",
    "        }\n",
    "}\n",
    "for city,city_info in cities.items():\n",
    "    print(\"\\n\"+city.title()+\": \")\n",
    "    print(\"Country: \"+city_info['country'])\n",
    "    print(\"Population: \"+str(city_info['population']))\n",
    "    print(\"Fact: \"+city_info['fact'])"
   ]
  },
  {
   "cell_type": "code",
   "execution_count": 33,
   "metadata": {
    "ExecuteTime": {
     "end_time": "2022-07-13T08:39:42.649245Z",
     "start_time": "2022-07-13T08:39:42.635242Z"
    }
   },
   "outputs": [
    {
     "name": "stdout",
     "output_type": "stream",
     "text": [
      "\n",
      "Zhangshu: \n",
      "Country: China\n",
      "Population: 123\n",
      "Fact: Talking dirty.\n",
      "\n",
      "Zhuhai: \n",
      "Country: China\n",
      "Population: 150\n",
      "Fact: Beside the sea.\n",
      "\n",
      "Shanghai: \n",
      "Country: China\n",
      "Population: 780\n",
      "Fact: Very large.\n"
     ]
    }
   ],
   "source": [
    "for city,city_info in cities.items():\n",
    "    print(\"\\n\"+city.title()+\": \")\n",
    "    for a,b in city_info.items():\n",
    "        print(a.title()+\": \"+str(b))"
   ]
  }
 ],
 "metadata": {
  "kernelspec": {
   "display_name": "Python 3",
   "language": "python",
   "name": "python3"
  },
  "language_info": {
   "codemirror_mode": {
    "name": "ipython",
    "version": 3
   },
   "file_extension": ".py",
   "mimetype": "text/x-python",
   "name": "python",
   "nbconvert_exporter": "python",
   "pygments_lexer": "ipython3",
   "version": "3.7.0"
  }
 },
 "nbformat": 4,
 "nbformat_minor": 2
}
