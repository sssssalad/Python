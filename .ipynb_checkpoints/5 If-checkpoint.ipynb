{
 "cells": [
  {
   "cell_type": "code",
   "execution_count": 1,
   "metadata": {
    "ExecuteTime": {
     "end_time": "2022-07-02T11:07:19.600404Z",
     "start_time": "2022-07-02T11:07:19.594033Z"
    }
   },
   "outputs": [
    {
     "name": "stdout",
     "output_type": "stream",
     "text": [
      "Audi\n",
      "BMW\n",
      "Subaru\n",
      "Toyota\n"
     ]
    }
   ],
   "source": [
    "cars=['audi','bmw','subaru','toyota']\n",
    "\n",
    "for car in cars:\n",
    "    if car == 'bmw':\n",
    "        print(car.upper())\n",
    "    else:\n",
    "        print(car.title())"
   ]
  },
  {
   "cell_type": "markdown",
   "metadata": {},
   "source": [
    "### 检测是否相等"
   ]
  },
  {
   "cell_type": "code",
   "execution_count": 2,
   "metadata": {
    "ExecuteTime": {
     "end_time": "2022-07-02T11:07:19.631861Z",
     "start_time": "2022-07-02T11:07:19.602455Z"
    }
   },
   "outputs": [
    {
     "data": {
      "text/plain": [
       "True"
      ]
     },
     "execution_count": 2,
     "metadata": {},
     "output_type": "execute_result"
    }
   ],
   "source": [
    "car = 'bmw'#给变量赋值，将变量car的值设置为bmw\n",
    "car == 'bmw'#发问，变量car的值是否为bmw"
   ]
  },
  {
   "cell_type": "code",
   "execution_count": 3,
   "metadata": {
    "ExecuteTime": {
     "end_time": "2022-07-02T11:07:19.647865Z",
     "start_time": "2022-07-02T11:07:19.634862Z"
    }
   },
   "outputs": [
    {
     "data": {
      "text/plain": [
       "False"
      ]
     },
     "execution_count": 3,
     "metadata": {},
     "output_type": "execute_result"
    }
   ],
   "source": [
    "car = 'audi'#赋值\n",
    "car == 'bmw'#检验是否相等，不改变变量值"
   ]
  },
  {
   "cell_type": "code",
   "execution_count": 4,
   "metadata": {
    "ExecuteTime": {
     "end_time": "2022-07-02T11:07:19.663859Z",
     "start_time": "2022-07-02T11:07:19.649862Z"
    }
   },
   "outputs": [
    {
     "data": {
      "text/plain": [
       "False"
      ]
     },
     "execution_count": 4,
     "metadata": {},
     "output_type": "execute_result"
    }
   ],
   "source": [
    "car = 'Audi'\n",
    "car == 'audi'#区分大小写"
   ]
  },
  {
   "cell_type": "code",
   "execution_count": 5,
   "metadata": {
    "ExecuteTime": {
     "end_time": "2022-07-02T11:07:19.679905Z",
     "start_time": "2022-07-02T11:07:19.665859Z"
    }
   },
   "outputs": [
    {
     "data": {
      "text/plain": [
       "True"
      ]
     },
     "execution_count": 5,
     "metadata": {},
     "output_type": "execute_result"
    }
   ],
   "source": [
    "car = 'Audi'\n",
    "car.lower() == 'audi'#将变量的值转换为小写，从而进行判断"
   ]
  },
  {
   "cell_type": "code",
   "execution_count": 6,
   "metadata": {
    "ExecuteTime": {
     "end_time": "2022-07-02T11:07:19.695859Z",
     "start_time": "2022-07-02T11:07:19.681867Z"
    }
   },
   "outputs": [
    {
     "data": {
      "text/plain": [
       "'Audi'"
      ]
     },
     "execution_count": 6,
     "metadata": {},
     "output_type": "execute_result"
    }
   ],
   "source": [
    "car"
   ]
  },
  {
   "cell_type": "markdown",
   "metadata": {},
   "source": [
    "### 检测是否不相等"
   ]
  },
  {
   "cell_type": "code",
   "execution_count": 7,
   "metadata": {
    "ExecuteTime": {
     "end_time": "2022-07-02T11:07:19.710860Z",
     "start_time": "2022-07-02T11:07:19.697864Z"
    }
   },
   "outputs": [
    {
     "name": "stdout",
     "output_type": "stream",
     "text": [
      "Hold the anchovies!\n"
     ]
    }
   ],
   "source": [
    "requested_topping='mushrooms'\n",
    "\n",
    "if requested_topping!='anchovies':#若满足不相等则返回True，执行print\n",
    "    print(\"Hold the anchovies!\")"
   ]
  },
  {
   "cell_type": "markdown",
   "metadata": {},
   "source": [
    "### 比较数字"
   ]
  },
  {
   "cell_type": "code",
   "execution_count": 8,
   "metadata": {
    "ExecuteTime": {
     "end_time": "2022-07-02T11:07:19.725909Z",
     "start_time": "2022-07-02T11:07:19.713868Z"
    }
   },
   "outputs": [
    {
     "name": "stdout",
     "output_type": "stream",
     "text": [
      "True\n",
      "True\n",
      "False\n",
      "True\n",
      "False\n"
     ]
    }
   ],
   "source": [
    "age=17\n",
    "print(age!=21)\n",
    "print(age<21)\n",
    "print(age>21)\n",
    "print(age<=21)\n",
    "print(age>=21)"
   ]
  },
  {
   "cell_type": "markdown",
   "metadata": {},
   "source": [
    "### and、or检查多个条件"
   ]
  },
  {
   "cell_type": "code",
   "execution_count": 9,
   "metadata": {
    "ExecuteTime": {
     "end_time": "2022-07-02T11:07:19.741858Z",
     "start_time": "2022-07-02T11:07:19.727860Z"
    }
   },
   "outputs": [
    {
     "data": {
      "text/plain": [
       "False"
      ]
     },
     "execution_count": 9,
     "metadata": {},
     "output_type": "execute_result"
    }
   ],
   "source": [
    "#两个人是否同时满足不小于21岁\n",
    "age_0=22\n",
    "age_1=13\n",
    "(age_0>=21) and (age_1>=21)"
   ]
  },
  {
   "cell_type": "code",
   "execution_count": 10,
   "metadata": {
    "ExecuteTime": {
     "end_time": "2022-07-02T11:07:19.756858Z",
     "start_time": "2022-07-02T11:07:19.743861Z"
    }
   },
   "outputs": [
    {
     "data": {
      "text/plain": [
       "True"
      ]
     },
     "execution_count": 10,
     "metadata": {},
     "output_type": "execute_result"
    }
   ],
   "source": [
    "age_1=22\n",
    "(age_0>=21) and (age_1>=21)"
   ]
  },
  {
   "cell_type": "code",
   "execution_count": 11,
   "metadata": {
    "ExecuteTime": {
     "end_time": "2022-07-02T11:07:19.771876Z",
     "start_time": "2022-07-02T11:07:19.757896Z"
    }
   },
   "outputs": [
    {
     "data": {
      "text/plain": [
       "True"
      ]
     },
     "execution_count": 11,
     "metadata": {},
     "output_type": "execute_result"
    }
   ],
   "source": [
    "#两个人是否至少有一个满足不小于21岁\n",
    "age_0=22\n",
    "age_1=13\n",
    "(age_0>=21) or (age_1>=21)"
   ]
  },
  {
   "cell_type": "code",
   "execution_count": 12,
   "metadata": {
    "ExecuteTime": {
     "end_time": "2022-07-02T11:07:19.787897Z",
     "start_time": "2022-07-02T11:07:19.773862Z"
    }
   },
   "outputs": [
    {
     "data": {
      "text/plain": [
       "False"
      ]
     },
     "execution_count": 12,
     "metadata": {},
     "output_type": "execute_result"
    }
   ],
   "source": [
    "age_0=18\n",
    "(age_0>=21) or (age_1>=21)"
   ]
  },
  {
   "cell_type": "markdown",
   "metadata": {},
   "source": [
    "### in 检查特定值是否包含在列表中"
   ]
  },
  {
   "cell_type": "code",
   "execution_count": 15,
   "metadata": {
    "ExecuteTime": {
     "end_time": "2022-07-02T11:11:21.176177Z",
     "start_time": "2022-07-02T11:11:21.159557Z"
    }
   },
   "outputs": [
    {
     "name": "stdout",
     "output_type": "stream",
     "text": [
      "True\n",
      "True\n",
      "False\n"
     ]
    }
   ],
   "source": [
    "requested_toppings=['mushrooms','onions','pineapple']\n",
    "print('mushrooms' in requested_toppings)\n",
    "print('onions' in requested_toppings)\n",
    "print('tomato' in requested_toppings)"
   ]
  },
  {
   "cell_type": "markdown",
   "metadata": {},
   "source": [
    "### if"
   ]
  },
  {
   "cell_type": "code",
   "execution_count": 16,
   "metadata": {
    "ExecuteTime": {
     "end_time": "2022-07-02T13:36:16.090152Z",
     "start_time": "2022-07-02T13:36:16.066421Z"
    }
   },
   "outputs": [
    {
     "name": "stdout",
     "output_type": "stream",
     "text": [
      "You are old enough to vote!\n",
      "Have you registered to vote yet?\n"
     ]
    }
   ],
   "source": [
    "age=19\n",
    "if age>=18:\n",
    "    print('You are old enough to vote!')\n",
    "    print('Have you registered to vote yet?')"
   ]
  },
  {
   "cell_type": "code",
   "execution_count": 17,
   "metadata": {
    "ExecuteTime": {
     "end_time": "2022-07-02T14:12:46.116230Z",
     "start_time": "2022-07-02T14:12:46.092968Z"
    }
   },
   "outputs": [],
   "source": [
    "age=13\n",
    "if age>=18:\n",
    "    print('You are old enough to vote!')\n",
    "    print('Have you registered to vote yet?')"
   ]
  },
  {
   "cell_type": "markdown",
   "metadata": {},
   "source": [
    "## if-else"
   ]
  },
  {
   "cell_type": "code",
   "execution_count": 18,
   "metadata": {
    "ExecuteTime": {
     "end_time": "2022-07-02T14:15:28.462717Z",
     "start_time": "2022-07-02T14:15:28.447134Z"
    }
   },
   "outputs": [
    {
     "name": "stdout",
     "output_type": "stream",
     "text": [
      "You are old enough to vote!\n",
      "Have you registered to vote yet?\n"
     ]
    }
   ],
   "source": [
    "age=19\n",
    "if age>=18:\n",
    "    print('You are old enough to vote!')\n",
    "    print('Have you registered to vote yet?')\n",
    "else:\n",
    "    print(\"Sorry,you are too young to vote.\")\n",
    "    print(\"Please register to vote as soon as you turn 18!\")"
   ]
  },
  {
   "cell_type": "markdown",
   "metadata": {
    "ExecuteTime": {
     "end_time": "2022-07-02T14:16:17.780461Z",
     "start_time": "2022-07-02T14:16:17.772461Z"
    }
   },
   "source": [
    "### if-elif-else"
   ]
  },
  {
   "cell_type": "code",
   "execution_count": 20,
   "metadata": {
    "ExecuteTime": {
     "end_time": "2022-07-02T14:20:36.647263Z",
     "start_time": "2022-07-02T14:20:36.631732Z"
    }
   },
   "outputs": [
    {
     "name": "stdout",
     "output_type": "stream",
     "text": [
      "Your admission cost is $5.\n"
     ]
    }
   ],
   "source": [
    "age=12\n",
    "\n",
    "if age <4:\n",
    "    print(\"Your admission cost is $0.\")\n",
    "elif age<18:\n",
    "    print(\"Your admission cost is $5.\")\n",
    "else:\n",
    "    print(\"Your admission cost is $10.\")"
   ]
  },
  {
   "cell_type": "code",
   "execution_count": 21,
   "metadata": {
    "ExecuteTime": {
     "end_time": "2022-07-02T14:44:03.166716Z",
     "start_time": "2022-07-02T14:44:03.143208Z"
    }
   },
   "outputs": [
    {
     "name": "stdout",
     "output_type": "stream",
     "text": [
      "Your admission cost is $5.\n"
     ]
    }
   ],
   "source": [
    "age=12\n",
    "#效率高，更易修改\n",
    "if age <4:\n",
    "    price=0\n",
    "elif age<18:\n",
    "    price=5\n",
    "else:\n",
    "    price=10\n",
    "    \n",
    "print(\"Your admission cost is $\"+ str(price)+\".\")"
   ]
  },
  {
   "cell_type": "markdown",
   "metadata": {},
   "source": [
    "### if-elif-elif-else"
   ]
  },
  {
   "cell_type": "code",
   "execution_count": 22,
   "metadata": {
    "ExecuteTime": {
     "end_time": "2022-07-02T14:57:28.884412Z",
     "start_time": "2022-07-02T14:57:28.868823Z"
    }
   },
   "outputs": [
    {
     "name": "stdout",
     "output_type": "stream",
     "text": [
      "Your admission cost is $5.\n"
     ]
    }
   ],
   "source": [
    "age=12\n",
    "\n",
    "if age <4:\n",
    "    price=0\n",
    "elif age<18:\n",
    "    price=5\n",
    "elif age<65:\n",
    "    price=10   \n",
    "else:\n",
    "    price=5\n",
    "    \n",
    "print(\"Your admission cost is $\"+ str(price)+\".\")"
   ]
  },
  {
   "cell_type": "markdown",
   "metadata": {},
   "source": [
    "### if-elif-elif-elif"
   ]
  },
  {
   "cell_type": "code",
   "execution_count": 24,
   "metadata": {
    "ExecuteTime": {
     "end_time": "2022-07-02T15:00:34.844627Z",
     "start_time": "2022-07-02T15:00:34.836626Z"
    }
   },
   "outputs": [
    {
     "name": "stdout",
     "output_type": "stream",
     "text": [
      "Your admission cost is $5.\n"
     ]
    }
   ],
   "source": [
    "age=12\n",
    "#else 可能引入无效甚至恶意的数据\n",
    "if age <4:\n",
    "    price=0\n",
    "elif age<18:\n",
    "    price=5\n",
    "elif age<65:\n",
    "    price=10   \n",
    "elif age>65:\n",
    "    price=5\n",
    "    \n",
    "print(\"Your admission cost is $\"+ str(price)+\".\")"
   ]
  },
  {
   "cell_type": "markdown",
   "metadata": {},
   "source": [
    "### 多个条件"
   ]
  },
  {
   "cell_type": "code",
   "execution_count": 26,
   "metadata": {
    "ExecuteTime": {
     "end_time": "2022-07-02T15:23:50.501350Z",
     "start_time": "2022-07-02T15:23:50.485457Z"
    }
   },
   "outputs": [
    {
     "name": "stdout",
     "output_type": "stream",
     "text": [
      "Adding mushrooms.\n",
      "Adding extra cheese.\n",
      "\n",
      "Finished making your pizza!\n"
     ]
    }
   ],
   "source": [
    "requested_toppings=['mushrooms','extra cheese']\n",
    "\n",
    "if 'mushrooms' in requested_toppings:\n",
    "    print(\"Adding mushrooms.\")\n",
    "if 'peperoni' in requested_toppings:\n",
    "    print(\"Adding peperoni.\")\n",
    "if 'extra cheese' in requested_toppings:\n",
    "    print(\"Adding extra cheese.\")\n",
    "    \n",
    "print(\"\\nFinished making your pizza!\")"
   ]
  },
  {
   "cell_type": "markdown",
   "metadata": {},
   "source": [
    "### 5-3 外星人颜色"
   ]
  },
  {
   "cell_type": "code",
   "execution_count": 30,
   "metadata": {
    "ExecuteTime": {
     "end_time": "2022-07-02T15:36:19.007796Z",
     "start_time": "2022-07-02T15:36:18.983604Z"
    }
   },
   "outputs": [
    {
     "name": "stdout",
     "output_type": "stream",
     "text": [
      "You got 5 points\n"
     ]
    }
   ],
   "source": [
    "alien_color='green'\n",
    "if alien_color=='green':\n",
    "    print(\"You got 5 points.\")"
   ]
  },
  {
   "cell_type": "code",
   "execution_count": 31,
   "metadata": {
    "ExecuteTime": {
     "end_time": "2022-07-02T15:36:32.701953Z",
     "start_time": "2022-07-02T15:36:32.686005Z"
    }
   },
   "outputs": [],
   "source": [
    "alien_color='yellow'\n",
    "if alien_color=='green':\n",
    "    print(\"none\")"
   ]
  },
  {
   "cell_type": "code",
   "execution_count": 32,
   "metadata": {
    "ExecuteTime": {
     "end_time": "2022-07-02T15:40:01.457261Z",
     "start_time": "2022-07-02T15:40:01.433141Z"
    }
   },
   "outputs": [
    {
     "name": "stdout",
     "output_type": "stream",
     "text": [
      "Well done! You got 5 points.\n"
     ]
    }
   ],
   "source": [
    "alien_color='green'\n",
    "if alien_color=='green':\n",
    "    print(\"Well done! You got 5 points.\")\n",
    "else:\n",
    "    print(\"You got 10 points.\")"
   ]
  },
  {
   "cell_type": "code",
   "execution_count": 33,
   "metadata": {
    "ExecuteTime": {
     "end_time": "2022-07-02T15:42:17.952629Z",
     "start_time": "2022-07-02T15:42:17.944656Z"
    }
   },
   "outputs": [
    {
     "name": "stdout",
     "output_type": "stream",
     "text": [
      "Well done! You got 5 points.\n"
     ]
    }
   ],
   "source": [
    "alien_color='green'\n",
    "if alien_color=='green':\n",
    "    print(\"Well done! You got 5 points.\")\n",
    "elif alien_color=='yellow':\n",
    "    print(\"You got 10 points.\")\n",
    "else:\n",
    "    print(\"You got 15 points.\")"
   ]
  },
  {
   "cell_type": "markdown",
   "metadata": {
    "ExecuteTime": {
     "end_time": "2022-07-02T15:46:37.270142Z",
     "start_time": "2022-07-02T15:46:37.246461Z"
    }
   },
   "source": [
    "#### input()输入数值"
   ]
  },
  {
   "cell_type": "code",
   "execution_count": 34,
   "metadata": {
    "ExecuteTime": {
     "end_time": "2022-07-02T15:44:17.342477Z",
     "start_time": "2022-07-02T15:43:34.075854Z"
    }
   },
   "outputs": [
    {
     "name": "stdout",
     "output_type": "stream",
     "text": [
      "请输入你的年龄:19\n",
      "You are a young man.\n"
     ]
    }
   ],
   "source": [
    "age = int(input(\"请输入你的年龄:\"))\n",
    "\n",
    "if age < 2:\n",
    "    print(\"You are a baby\")\n",
    "elif age < 4:\n",
    "    print(\"He is making a toddler.\")\n",
    "elif age < 13:\n",
    "    print(\"You are a child.\")\n",
    "elif  age < 20:\n",
    "    print(\"You are a young man.\")\n",
    "elif  age < 65:\n",
    "    print(\"You are an adult.\")\n",
    "else:\n",
    "    print(\"You are an old man.\")\n"
   ]
  },
  {
   "cell_type": "code",
   "execution_count": 36,
   "metadata": {
    "ExecuteTime": {
     "end_time": "2022-07-02T15:51:23.556488Z",
     "start_time": "2022-07-02T15:51:23.532619Z"
    }
   },
   "outputs": [
    {
     "name": "stdout",
     "output_type": "stream",
     "text": [
      "You really like watermelon!\n",
      "You really like mango!\n",
      "You really like grape!\n"
     ]
    }
   ],
   "source": [
    "favorite_fruits=['watermelon','mango','grape']\n",
    "if 'watermelon' in favorite_fruits:\n",
    "    print(\"You really like watermelon!\" )\n",
    "if 'mango' in favorite_fruits:\n",
    "    print(\"You really like mango!\" )\n",
    "if 'grape' in favorite_fruits:\n",
    "    print(\"You really like grape!\" )\n",
    "if 'bananas' in favorite_fruits:\n",
    "    print(\"You really like bananas!\" )\n",
    "if 'apple' in favorite_fruits:\n",
    "    print(\"You really like apple!\" )"
   ]
  },
  {
   "cell_type": "markdown",
   "metadata": {},
   "source": [
    "### 核查特殊元素"
   ]
  },
  {
   "cell_type": "code",
   "execution_count": 40,
   "metadata": {
    "ExecuteTime": {
     "end_time": "2022-07-02T15:56:42.693667Z",
     "start_time": "2022-07-02T15:56:42.670374Z"
    }
   },
   "outputs": [
    {
     "name": "stdout",
     "output_type": "stream",
     "text": [
      "Adding mushrooms.\n",
      "Sorry,we are out of onions.\n",
      "Adding pineapple.\n",
      "\n",
      "Finished making your pizza!\n"
     ]
    }
   ],
   "source": [
    "requested_toppings=['mushrooms','onions','pineapple']\n",
    "for i in requested_toppings:\n",
    "    if i=='onions':\n",
    "        print(\"Sorry,we are out of onions.\")\n",
    "    else:\n",
    "        print(\"Adding \"+i+\".\")\n",
    "print('\\nFinished making your pizza!')"
   ]
  },
  {
   "cell_type": "markdown",
   "metadata": {},
   "source": [
    "### 确认列表非空"
   ]
  },
  {
   "cell_type": "code",
   "execution_count": 41,
   "metadata": {
    "ExecuteTime": {
     "end_time": "2022-07-02T16:01:15.738384Z",
     "start_time": "2022-07-02T16:01:15.723126Z"
    }
   },
   "outputs": [
    {
     "name": "stdout",
     "output_type": "stream",
     "text": [
      "Are you sure you want a plain pizza?\n"
     ]
    }
   ],
   "source": [
    "requested_toppings=[]\n",
    "if requested_toppings:#当列表非空时满足条件\n",
    "    for i in requested_toppings:\n",
    "        print(\"Adding \"+i+\".\")\n",
    "    print('\\nFinished making your pizza!')\n",
    "else:\n",
    "    print(\"Are you sure you want a plain pizza?\")"
   ]
  },
  {
   "cell_type": "markdown",
   "metadata": {},
   "source": [
    "### 使用多个列表"
   ]
  },
  {
   "cell_type": "code",
   "execution_count": 43,
   "metadata": {
    "ExecuteTime": {
     "end_time": "2022-07-02T16:07:56.581126Z",
     "start_time": "2022-07-02T16:07:56.556318Z"
    }
   },
   "outputs": [
    {
     "name": "stdout",
     "output_type": "stream",
     "text": [
      "Adding mushrooms.\n",
      "Sorry,we don't have french fries.\n",
      "Adding extra cheese.\n",
      "\n",
      "Finished making your pizza!\n"
     ]
    }
   ],
   "source": [
    "available_toppings=['mushrooms','olives','green pepers','pepperoni','pineapple','extra cheese']\n",
    "requested_toppings=['mushrooms','french fries','extra cheese']\n",
    "\n",
    "for i in requested_toppings:\n",
    "    if i in available_toppings:\n",
    "        print(\"Adding \"+i+\".\")\n",
    "    else:\n",
    "        print(\"Sorry,we don't have \"+i+\".\")\n",
    "print('\\nFinished making your pizza!')"
   ]
  },
  {
   "cell_type": "markdown",
   "metadata": {},
   "source": [
    "### 5-8"
   ]
  },
  {
   "cell_type": "code",
   "execution_count": 45,
   "metadata": {
    "ExecuteTime": {
     "end_time": "2022-07-02T16:11:29.929877Z",
     "start_time": "2022-07-02T16:11:29.914825Z"
    }
   },
   "outputs": [
    {
     "name": "stdout",
     "output_type": "stream",
     "text": [
      "Hello bob, thank you for logging in again.\n",
      "Hello jane, thank you for logging in again.\n",
      "Hello jack, thank you for logging in again.\n",
      "Hello admin, would you like to see a status report?\n",
      "Hello tom, thank you for logging in again.\n"
     ]
    }
   ],
   "source": [
    "names= [\"bob\", \"jane\", \"jack\", \"admin\", \"tom\"]\n",
    "for i in names:\n",
    "    if i == \"admin\":\n",
    "        print(\"Hello \"+i+\", would you like to see a status report?\" )\n",
    "    else:\n",
    "        print(\"Hello \"+i+\", thank you for logging in again.\" )"
   ]
  },
  {
   "cell_type": "markdown",
   "metadata": {},
   "source": [
    "### 5-9"
   ]
  },
  {
   "cell_type": "code",
   "execution_count": 46,
   "metadata": {
    "ExecuteTime": {
     "end_time": "2022-07-02T16:15:01.400450Z",
     "start_time": "2022-07-02T16:15:01.376587Z"
    }
   },
   "outputs": [
    {
     "name": "stdout",
     "output_type": "stream",
     "text": [
      "We need to find some users!\n"
     ]
    }
   ],
   "source": [
    "names=[]\n",
    "if len(names)==0:\n",
    "    print(\"We need to find some users!\")\n",
    "else:\n",
    "    for i in names:\n",
    "        if i == \"admin\":\n",
    "            print(\"Hello \"+i+\", would you like to see a status report?\" )\n",
    "        else:\n",
    "            print(\"Hello \"+i+\", thank you for logging in again.\" )"
   ]
  },
  {
   "cell_type": "markdown",
   "metadata": {},
   "source": [
    "### 5-10"
   ]
  },
  {
   "cell_type": "code",
   "execution_count": 48,
   "metadata": {
    "ExecuteTime": {
     "end_time": "2022-07-02T16:21:27.051050Z",
     "start_time": "2022-07-02T16:21:27.035403Z"
    }
   },
   "outputs": [
    {
     "name": "stdout",
     "output_type": "stream",
     "text": [
      "名称xx可被使用\n",
      "名称cyx可被使用\n",
      "名称jack已被使用，请输入别的用户名\n",
      "名称admin已被使用，请输入别的用户名\n",
      "名称lory可被使用\n"
     ]
    }
   ],
   "source": [
    "current_users=[\"bob\", \"jane\", \"jack\", \"admin\", \"tom\"]\n",
    "new_users=[\"xx\", \"cyx\", \"jack\", \"admin\", \"lory\"]\n",
    "for i in new_users:\n",
    "    if i.lower() in current_users:#比较时不区分大小写\n",
    "        print(\"名称\"+i+\"已被使用，请输入别的用户名\")\n",
    "    else:\n",
    "        print(\"名称\"+i+\"可被使用\")"
   ]
  },
  {
   "cell_type": "code",
   "execution_count": null,
   "metadata": {},
   "outputs": [],
   "source": []
  }
 ],
 "metadata": {
  "kernelspec": {
   "display_name": "Python 3",
   "language": "python",
   "name": "python3"
  },
  "language_info": {
   "codemirror_mode": {
    "name": "ipython",
    "version": 3
   },
   "file_extension": ".py",
   "mimetype": "text/x-python",
   "name": "python",
   "nbconvert_exporter": "python",
   "pygments_lexer": "ipython3",
   "version": "3.7.0"
  }
 },
 "nbformat": 4,
 "nbformat_minor": 2
}
