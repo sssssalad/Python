{
 "cells": [
  {
   "cell_type": "markdown",
   "metadata": {},
   "source": [
    "### input() 输入函数"
   ]
  },
  {
   "cell_type": "code",
   "execution_count": 1,
   "metadata": {
    "ExecuteTime": {
     "end_time": "2022-07-13T14:24:40.635482Z",
     "start_time": "2022-07-13T14:24:23.892896Z"
    }
   },
   "outputs": [
    {
     "name": "stdout",
     "output_type": "stream",
     "text": [
      "Tell me something,and I will repeat it back to you:I'm happy.\n",
      "I'm happy.\n"
     ]
    }
   ],
   "source": [
    "message=input('Tell me something,and I will repeat it back to you:')\n",
    "print(message)"
   ]
  },
  {
   "cell_type": "code",
   "execution_count": 2,
   "metadata": {
    "ExecuteTime": {
     "end_time": "2022-07-13T14:24:45.346278Z",
     "start_time": "2022-07-13T14:24:40.635482Z"
    }
   },
   "outputs": [
    {
     "name": "stdout",
     "output_type": "stream",
     "text": [
      "Please enter your name: Salad\n",
      "Hello, Salad!\n"
     ]
    }
   ],
   "source": [
    "name=input('Please enter your name: ')\n",
    "print(\"Hello, \"+name +\"!\")"
   ]
  },
  {
   "cell_type": "markdown",
   "metadata": {},
   "source": [
    "#### 提示过长时"
   ]
  },
  {
   "cell_type": "code",
   "execution_count": 4,
   "metadata": {
    "ExecuteTime": {
     "end_time": "2022-07-13T14:25:20.533093Z",
     "start_time": "2022-07-13T14:25:17.141432Z"
    }
   },
   "outputs": [
    {
     "name": "stdout",
     "output_type": "stream",
     "text": [
      "If you tell us who you are,we can personalize the messages you see.\n",
      "What's your first name? salad\n",
      "\n",
      "Hello, salad!\n"
     ]
    }
   ],
   "source": [
    "prompt = \"If you tell us who you are,we can personalize the messages you see.\"\n",
    "prompt += \"\\nWhat's your first name? \"\n",
    "\n",
    "name = input(prompt)\n",
    "print(\"\\nHello, \"+name +\"!\")"
   ]
  },
  {
   "cell_type": "markdown",
   "metadata": {},
   "source": [
    "### 使用int()进行强制类型转换"
   ]
  },
  {
   "cell_type": "markdown",
   "metadata": {},
   "source": [
    "#### input()将用户输入解读为字符串"
   ]
  },
  {
   "cell_type": "code",
   "execution_count": 7,
   "metadata": {
    "ExecuteTime": {
     "end_time": "2022-07-13T14:28:50.885751Z",
     "start_time": "2022-07-13T14:28:48.639547Z"
    }
   },
   "outputs": [
    {
     "name": "stdout",
     "output_type": "stream",
     "text": [
      "How old are you? 20\n"
     ]
    },
    {
     "data": {
      "text/plain": [
       "'20'"
      ]
     },
     "execution_count": 7,
     "metadata": {},
     "output_type": "execute_result"
    }
   ],
   "source": [
    "age=input(\"How old are you? \")\n",
    "age"
   ]
  },
  {
   "cell_type": "code",
   "execution_count": 8,
   "metadata": {
    "ExecuteTime": {
     "end_time": "2022-07-13T14:29:50.254764Z",
     "start_time": "2022-07-13T14:29:50.231508Z"
    }
   },
   "outputs": [
    {
     "data": {
      "text/plain": [
       "20"
      ]
     },
     "execution_count": 8,
     "metadata": {},
     "output_type": "execute_result"
    }
   ],
   "source": [
    "age=int(age)\n",
    "age"
   ]
  },
  {
   "cell_type": "code",
   "execution_count": 9,
   "metadata": {
    "ExecuteTime": {
     "end_time": "2022-07-13T14:30:00.911618Z",
     "start_time": "2022-07-13T14:30:00.888422Z"
    }
   },
   "outputs": [
    {
     "data": {
      "text/plain": [
       "True"
      ]
     },
     "execution_count": 9,
     "metadata": {},
     "output_type": "execute_result"
    }
   ],
   "source": [
    "age>=19#int数据类型可以进行数值比较"
   ]
  },
  {
   "cell_type": "code",
   "execution_count": 10,
   "metadata": {
    "ExecuteTime": {
     "end_time": "2022-07-13T14:32:43.213585Z",
     "start_time": "2022-07-13T14:32:38.043862Z"
    }
   },
   "outputs": [
    {
     "name": "stdout",
     "output_type": "stream",
     "text": [
      "How tall are you, in inches? 71\n",
      "\n",
      "You're tall enough to ride!\n"
     ]
    }
   ],
   "source": [
    "height = input(\"How tall are you, in inches? \")\n",
    "height = int(height)\n",
    "\n",
    "if height >= 48:\n",
    "    print(\"\\nYou're tall enough to ride!\")\n",
    "else:\n",
    "    print(\"\\nYou'll be able to ride when you're a little older.\")"
   ]
  },
  {
   "cell_type": "markdown",
   "metadata": {},
   "source": [
    "### 求模运算符%（将两个数相除并返回余数）"
   ]
  },
  {
   "cell_type": "code",
   "execution_count": 11,
   "metadata": {
    "ExecuteTime": {
     "end_time": "2022-07-13T14:34:01.370504Z",
     "start_time": "2022-07-13T14:34:01.362425Z"
    }
   },
   "outputs": [
    {
     "data": {
      "text/plain": [
       "1"
      ]
     },
     "execution_count": 11,
     "metadata": {},
     "output_type": "execute_result"
    }
   ],
   "source": [
    "4%3"
   ]
  },
  {
   "cell_type": "code",
   "execution_count": 12,
   "metadata": {
    "ExecuteTime": {
     "end_time": "2022-07-13T14:34:11.245428Z",
     "start_time": "2022-07-13T14:34:11.221655Z"
    }
   },
   "outputs": [
    {
     "data": {
      "text/plain": [
       "2"
      ]
     },
     "execution_count": 12,
     "metadata": {},
     "output_type": "execute_result"
    }
   ],
   "source": [
    "5%3"
   ]
  },
  {
   "cell_type": "code",
   "execution_count": 13,
   "metadata": {
    "ExecuteTime": {
     "end_time": "2022-07-13T14:34:19.143399Z",
     "start_time": "2022-07-13T14:34:19.135687Z"
    }
   },
   "outputs": [
    {
     "data": {
      "text/plain": [
       "0"
      ]
     },
     "execution_count": 13,
     "metadata": {},
     "output_type": "execute_result"
    }
   ],
   "source": [
    "6%3"
   ]
  },
  {
   "cell_type": "code",
   "execution_count": 14,
   "metadata": {
    "ExecuteTime": {
     "end_time": "2022-07-13T14:34:23.327962Z",
     "start_time": "2022-07-13T14:34:23.312552Z"
    }
   },
   "outputs": [
    {
     "data": {
      "text/plain": [
       "1"
      ]
     },
     "execution_count": 14,
     "metadata": {},
     "output_type": "execute_result"
    }
   ],
   "source": [
    "7%3"
   ]
  },
  {
   "cell_type": "markdown",
   "metadata": {},
   "source": [
    "### 判断奇偶数"
   ]
  },
  {
   "cell_type": "code",
   "execution_count": 17,
   "metadata": {
    "ExecuteTime": {
     "end_time": "2022-07-13T14:49:30.077211Z",
     "start_time": "2022-07-13T14:49:27.384077Z"
    }
   },
   "outputs": [
    {
     "name": "stdout",
     "output_type": "stream",
     "text": [
      "Enter a number, and I'll tell you if it's even or odd: 42\n",
      "\n",
      "The number 42 is even.\n"
     ]
    }
   ],
   "source": [
    "number = input(\"Enter a number, and I'll tell you if it's even or odd: \")\n",
    "number = int(number)\n",
    "\n",
    "if number % 2 == 0:\n",
    "    print(\"\\nThe number \"+str(number)+\" is even.\")\n",
    "else:\n",
    "    print(\"\\nThe number \"+str(number)+\" is odd.\")"
   ]
  },
  {
   "cell_type": "markdown",
   "metadata": {},
   "source": [
    "#### 7-1"
   ]
  },
  {
   "cell_type": "code",
   "execution_count": 20,
   "metadata": {
    "ExecuteTime": {
     "end_time": "2022-07-13T15:24:07.940522Z",
     "start_time": "2022-07-13T15:23:56.043133Z"
    }
   },
   "outputs": [
    {
     "name": "stdout",
     "output_type": "stream",
     "text": [
      "Which car do you want to borrow?Subaru\n",
      "Let me see if I can find you a Subaru.\n"
     ]
    }
   ],
   "source": [
    "car=input(\"Which car do you want to borrow? \")\n",
    "print(\"Let me see if I can find you a \"+car+\".\")"
   ]
  },
  {
   "cell_type": "markdown",
   "metadata": {},
   "source": [
    "#### 7-2"
   ]
  },
  {
   "cell_type": "code",
   "execution_count": 22,
   "metadata": {
    "ExecuteTime": {
     "end_time": "2022-07-13T15:30:31.190623Z",
     "start_time": "2022-07-13T15:30:29.343611Z"
    }
   },
   "outputs": [
    {
     "name": "stdout",
     "output_type": "stream",
     "text": [
      "How many customers in the restaurant? 5\n",
      "There have table last.\n"
     ]
    }
   ],
   "source": [
    "num=input(\"How many customers in the restaurant? \")\n",
    "if int(num)>8:\n",
    "    print(\"There have no table last.\")\n",
    "else:\n",
    "    print(\"There have table last.\")"
   ]
  },
  {
   "cell_type": "markdown",
   "metadata": {},
   "source": [
    "#### 7-3"
   ]
  },
  {
   "cell_type": "code",
   "execution_count": 24,
   "metadata": {
    "ExecuteTime": {
     "end_time": "2022-07-13T15:44:01.684617Z",
     "start_time": "2022-07-13T15:43:58.591735Z"
    }
   },
   "outputs": [
    {
     "name": "stdout",
     "output_type": "stream",
     "text": [
      "Please input a number.20\n",
      "这个数是10的整数倍\n"
     ]
    }
   ],
   "source": [
    "num=input(\"Please input a number.\")\n",
    "if int(num)%10==0:\n",
    "    print(\"这个数是10的整数倍\")\n",
    "else:\n",
    "    print(\"这个数不是10的整数倍\")"
   ]
  },
  {
   "cell_type": "markdown",
   "metadata": {},
   "source": [
    "### while"
   ]
  },
  {
   "cell_type": "code",
   "execution_count": 25,
   "metadata": {
    "ExecuteTime": {
     "end_time": "2022-07-13T15:50:51.640724Z",
     "start_time": "2022-07-13T15:50:51.633251Z"
    }
   },
   "outputs": [
    {
     "name": "stdout",
     "output_type": "stream",
     "text": [
      "1\n",
      "2\n",
      "3\n",
      "4\n",
      "5\n"
     ]
    }
   ],
   "source": [
    "current_number = 1\n",
    "while current_number <= 5:\n",
    "    print(current_number)\n",
    "    current_number += 1"
   ]
  },
  {
   "cell_type": "code",
   "execution_count": 29,
   "metadata": {
    "ExecuteTime": {
     "end_time": "2022-07-13T15:55:02.268654Z",
     "start_time": "2022-07-13T15:54:57.338521Z"
    }
   },
   "outputs": [
    {
     "name": "stdout",
     "output_type": "stream",
     "text": [
      "\n",
      "Tell me something, and I will repeat it back to you:\n",
      "Enter 'quit' to end the program. a\n",
      "a\n",
      "\n",
      "Tell me something, and I will repeat it back to you:\n",
      "Enter 'quit' to end the program. b\n",
      "b\n",
      "\n",
      "Tell me something, and I will repeat it back to you:\n",
      "Enter 'quit' to end the program. quit\n"
     ]
    }
   ],
   "source": [
    "prompt = \"\\nTell me something, and I will repeat it back to you:\"\n",
    "prompt += \"\\nEnter 'quit' to end the program. \"\n",
    "\n",
    "message = \"\"\n",
    "while message != 'quit':\n",
    "    message = input(prompt)\n",
    "    if message != 'quit':\n",
    "        print(message)"
   ]
  },
  {
   "cell_type": "markdown",
   "metadata": {},
   "source": [
    "### 使用标志"
   ]
  },
  {
   "cell_type": "code",
   "execution_count": 30,
   "metadata": {
    "ExecuteTime": {
     "end_time": "2022-07-13T16:04:12.769325Z",
     "start_time": "2022-07-13T16:04:03.682524Z"
    }
   },
   "outputs": [
    {
     "name": "stdout",
     "output_type": "stream",
     "text": [
      "\n",
      "Tell me something, and I will repeat it back to you:\n",
      "Enter 'quit' to end the program. a\n",
      "a\n",
      "\n",
      "Tell me something, and I will repeat it back to you:\n",
      "Enter 'quit' to end the program. quit\n"
     ]
    }
   ],
   "source": [
    "prompt = \"\\nTell me something, and I will repeat it back to you:\"\n",
    "prompt += \"\\nEnter 'quit' to end the program. \"\n",
    "\n",
    "active = True#标志，让程序最开始处于活动状态\n",
    "while active:\n",
    "    message = input(prompt)\n",
    "    \n",
    "    if message == 'quit':\n",
    "        active = False#导致循环不再继续\n",
    "    else:\n",
    "        print(message)"
   ]
  },
  {
   "cell_type": "markdown",
   "metadata": {},
   "source": [
    "### 使用break退出循环"
   ]
  },
  {
   "cell_type": "markdown",
   "metadata": {
    "ExecuteTime": {
     "end_time": "2022-07-13T16:12:23.388617Z",
     "start_time": "2022-07-13T16:12:23.372735Z"
    }
   },
   "source": [
    "#### break语句不再执行余下代码并退出整个循环"
   ]
  },
  {
   "cell_type": "code",
   "execution_count": 31,
   "metadata": {
    "ExecuteTime": {
     "end_time": "2022-07-13T16:08:48.215847Z",
     "start_time": "2022-07-13T16:08:23.443844Z"
    }
   },
   "outputs": [
    {
     "name": "stdout",
     "output_type": "stream",
     "text": [
      "\n",
      "Please enter the name of a city you have visited:\n",
      "(Enter 'quit' when you are finished.) New York\n",
      "I'd love to go to New York!\n",
      "\n",
      "Please enter the name of a city you have visited:\n",
      "(Enter 'quit' when you are finished.) San Francisco\n",
      "I'd love to go to San Francisco!\n",
      "\n",
      "Please enter the name of a city you have visited:\n",
      "(Enter 'quit' when you are finished.) quit\n"
     ]
    }
   ],
   "source": [
    "prompt = \"\\nPlease enter the name of a city you have visited:\"\n",
    "prompt += \"\\n(Enter 'quit' when you are finished.) \"\n",
    "\n",
    "while True:#不断运行直到遇到break\n",
    "    city = input(prompt)\n",
    "    \n",
    "    if city == 'quit':\n",
    "        break\n",
    "    else:\n",
    "        print(f\"I'd love to go to {city.title()}!\")"
   ]
  },
  {
   "cell_type": "markdown",
   "metadata": {},
   "source": [
    "### 在循环中使用continue"
   ]
  },
  {
   "cell_type": "markdown",
   "metadata": {},
   "source": [
    "#### continue返回到循环开头，并根据条件测试结果决定是否继续执行循环"
   ]
  },
  {
   "cell_type": "code",
   "execution_count": 33,
   "metadata": {
    "ExecuteTime": {
     "end_time": "2022-07-13T16:19:36.534975Z",
     "start_time": "2022-07-13T16:19:36.517423Z"
    }
   },
   "outputs": [
    {
     "name": "stdout",
     "output_type": "stream",
     "text": [
      "1\n",
      "3\n",
      "5\n",
      "7\n",
      "9\n"
     ]
    }
   ],
   "source": [
    "current_number = 0\n",
    "while current_number < 10:\n",
    "    current_number += 1\n",
    "    if current_number %2 == 0:#当数为偶数时返回循环开头\n",
    "        continue\n",
    "    print(current_number)"
   ]
  },
  {
   "cell_type": "markdown",
   "metadata": {},
   "source": [
    "#### 7-4"
   ]
  },
  {
   "cell_type": "code",
   "execution_count": 37,
   "metadata": {
    "ExecuteTime": {
     "end_time": "2022-07-13T16:28:47.991675Z",
     "start_time": "2022-07-13T16:28:42.460811Z"
    }
   },
   "outputs": [
    {
     "name": "stdout",
     "output_type": "stream",
     "text": [
      "Please enter pizza ingredients.\n",
      "Enter 'quit' to end.  ：a\n",
      "\n",
      "We have added ingredients a\n",
      "Please enter pizza ingredients.\n",
      "Enter 'quit' to end.  ：b\n",
      "\n",
      "We have added ingredients b\n",
      "Please enter pizza ingredients.\n",
      "Enter 'quit' to end.  ：quit\n"
     ]
    }
   ],
   "source": [
    "pizza_ingredient=\"Please enter pizza ingredients.\\nEnter 'quit' to end.  ：\"\n",
    "flag=True#标志\n",
    "while flag:\n",
    "    message=input(pizza_ingredient)\n",
    "    if message=='quit':\n",
    "        flag=False\n",
    "    else:\n",
    "        print(\"\\nWe have added ingredients \"+message)"
   ]
  },
  {
   "cell_type": "markdown",
   "metadata": {},
   "source": [
    "#### 7-5"
   ]
  },
  {
   "cell_type": "code",
   "execution_count": 2,
   "metadata": {
    "ExecuteTime": {
     "end_time": "2022-07-13T16:43:11.835386Z",
     "start_time": "2022-07-13T16:42:59.823404Z"
    }
   },
   "outputs": [
    {
     "name": "stdout",
     "output_type": "stream",
     "text": [
      "\n",
      "Please input your age's number: 1\n",
      "You don't need to pay.\n",
      "\n",
      "Please input your age's number: 3\n",
      "You need to pay 15 dollors.\n",
      "\n",
      "Please input your age's number: 19\n",
      "You need to pay 15 dollors.\n",
      "\n",
      "Please input your age's number: quit\n"
     ]
    }
   ],
   "source": [
    "ages=\"\\nPlease input your age's number: \"\n",
    "while True:\n",
    "    age=input(ages)\n",
    "    if age=='quit':\n",
    "        break\n",
    "    else:\n",
    "        age=int(age)\n",
    "        if age>0 and age<3:\n",
    "            print(\"You don't need to pay.\")\n",
    "        elif age>3 and age<12:\n",
    "            print(\"You need to pay 10 dollars.\")\n",
    "        else:\n",
    "            print(\"You need to pay 15 dollors.\")"
   ]
  },
  {
   "cell_type": "markdown",
   "metadata": {},
   "source": [
    "#### for循环适用于遍历列表，但不适合对列表进行修改"
   ]
  },
  {
   "cell_type": "markdown",
   "metadata": {},
   "source": [
    "#### while循环在遍历列表的同时对其进行修改"
   ]
  },
  {
   "cell_type": "markdown",
   "metadata": {},
   "source": [
    "### 移动列表之间的元素 利用pop（）"
   ]
  },
  {
   "cell_type": "code",
   "execution_count": 4,
   "metadata": {
    "ExecuteTime": {
     "end_time": "2022-07-14T06:27:40.204622Z",
     "start_time": "2022-07-14T06:27:40.195440Z"
    }
   },
   "outputs": [
    {
     "name": "stdout",
     "output_type": "stream",
     "text": [
      "Verifying user: Candace\n",
      "Verifying user: Brian\n",
      "Verifying user: Alice\n",
      "\n",
      "The following users have been confirmed:\n",
      "Candace\n",
      "Brian\n",
      "Alice\n"
     ]
    }
   ],
   "source": [
    "# 创建一个待验证用户列表\n",
    "# 和一个用于存储已验证用户的空列表\n",
    "unconfirmed_users = ['alice', 'brian', 'candace']\n",
    "confirmed_users = []\n",
    "\n",
    "# 验证每个用户直到unconfirmed_users变成空的\n",
    "#  把每个经过验证的用户移动到已验证用户列表中\n",
    "while unconfirmed_users:\n",
    "    current_user = unconfirmed_users.pop()#以每次一个的方式从列表末尾删除未验证用户\n",
    "    \n",
    "    print(\"Verifying user: \"+str(current_user.title()))\n",
    "    confirmed_users.append(current_user)\n",
    "    \n",
    "# 显示所有已验证用户\n",
    "print(\"\\nThe following users have been confirmed:\")\n",
    "for confirmed_user in confirmed_users:\n",
    "    print(confirmed_user.title())"
   ]
  },
  {
   "cell_type": "markdown",
   "metadata": {},
   "source": [
    "### 删除包含特定值的所有列表元素 利用remove（）"
   ]
  },
  {
   "cell_type": "code",
   "execution_count": 6,
   "metadata": {
    "ExecuteTime": {
     "end_time": "2022-07-14T06:31:28.018137Z",
     "start_time": "2022-07-14T06:31:28.010137Z"
    }
   },
   "outputs": [
    {
     "name": "stdout",
     "output_type": "stream",
     "text": [
      "['dog', 'cat', 'dog', 'goldfish', 'cat', 'rabbit', 'cat']\n",
      "['dog', 'dog', 'goldfish', 'rabbit']\n"
     ]
    }
   ],
   "source": [
    "pets = ['dog', 'cat', 'dog', 'goldfish', 'cat', 'rabbit', 'cat']\n",
    "print(pets)\n",
    "\n",
    "while 'cat' in pets:#不断运行直至没有\n",
    "    pets.remove('cat')\n",
    "    \n",
    "print(pets)"
   ]
  },
  {
   "cell_type": "markdown",
   "metadata": {},
   "source": [
    "### 使用用户输入填充字典"
   ]
  },
  {
   "cell_type": "code",
   "execution_count": 11,
   "metadata": {
    "ExecuteTime": {
     "end_time": "2022-07-14T06:45:29.878177Z",
     "start_time": "2022-07-14T06:44:54.156092Z"
    }
   },
   "outputs": [
    {
     "name": "stdout",
     "output_type": "stream",
     "text": [
      "\n",
      "What is your name? salad\n",
      "Which mountain would you like to climb someday? yelidao\n",
      "Would you like to let another person respond? (yes/ no) yes\n",
      "\n",
      "What is your name? xx\n",
      "Which mountain would you like to climb someday? huangshan\n",
      "Would you like to let another person respond? (yes/ no) yes\n",
      "\n",
      "What is your name? cyx\n",
      "Which mountain would you like to climb someday? banzhangshan\n",
      "Would you like to let another person respond? (yes/ no) no\n",
      "\n",
      "--- Poll Results ---\n",
      "Salad would like to climb Yelidao.\n",
      "Xx would like to climb Huangshan.\n",
      "Cyx would like to climb Banzhangshan.\n"
     ]
    }
   ],
   "source": [
    "responses = {}#空字典\n",
    "\n",
    "# Set a flag to indicate that polling is active.\n",
    "polling_active = True\n",
    "\n",
    "while polling_active:\n",
    "    # Prompt for the person's name and response.\n",
    "    name = input(\"\\nWhat is your name? \")\n",
    "    response = input(\"Which mountain would you like to climb someday? \")\n",
    "    \n",
    "    # 把答案存储在字典中\n",
    "    responses[name] = response\n",
    "    \n",
    "    # Find out if anyone else is going to take the poll.\n",
    "    repeat = input(\"Would you like to let another person respond? (yes/ no) \")\n",
    "    #输入no以外的字符即为重复循环\n",
    "    if repeat == 'no':\n",
    "        polling_active = False\n",
    "        \n",
    "# Polling is complete. Show the results.\n",
    "print(\"\\n--- Poll Results ---\")\n",
    "for name, response in responses.items():\n",
    "    print(name.title() + \" would like to climb \" + response.title() + \".\")"
   ]
  },
  {
   "cell_type": "code",
   "execution_count": 13,
   "metadata": {
    "ExecuteTime": {
     "end_time": "2022-07-14T06:48:17.206800Z",
     "start_time": "2022-07-14T06:48:17.197651Z"
    }
   },
   "outputs": [
    {
     "name": "stdout",
     "output_type": "stream",
     "text": [
      "{'salad': 'yelidao', 'xx': 'huangshan', 'cyx': 'banzhangshan'}\n"
     ]
    }
   ],
   "source": [
    "print(responses)"
   ]
  },
  {
   "cell_type": "markdown",
   "metadata": {},
   "source": [
    "#### 7-8"
   ]
  },
  {
   "cell_type": "code",
   "execution_count": 19,
   "metadata": {
    "ExecuteTime": {
     "end_time": "2022-07-14T07:04:03.679564Z",
     "start_time": "2022-07-14T07:04:03.665557Z"
    }
   },
   "outputs": [
    {
     "name": "stdout",
     "output_type": "stream",
     "text": [
      "I made your tuna sandwich.\n",
      "I made your s3 sandwich.\n",
      "I made your s2 sandwich.\n",
      "I made your s1 sandwich.\n",
      "\n",
      "There is the finish sandwichs.\n",
      "tuna\n",
      "s3\n",
      "s2\n",
      "s1\n"
     ]
    }
   ],
   "source": [
    "sandwich_orders=['s1','s2','s3','tuna']\n",
    "finish_sandwiches=[]\n",
    "while sandwich_orders:\n",
    "    sandwich_order=sandwich_orders.pop()\n",
    "    print(\"I made your \"+ sandwich_order + \" sandwich.\")\n",
    "    finish_sandwiches.append(sandwich_order)\n",
    "   \n",
    "print(\"\\nThere is the finish sandwichs.\")\n",
    "for finish_sandwich in finish_sandwiches:\n",
    "    print(finish_sandwich)"
   ]
  },
  {
   "cell_type": "markdown",
   "metadata": {},
   "source": [
    "#### 7-9"
   ]
  },
  {
   "cell_type": "code",
   "execution_count": 20,
   "metadata": {
    "ExecuteTime": {
     "end_time": "2022-07-14T07:08:26.390893Z",
     "start_time": "2022-07-14T07:08:26.378121Z"
    }
   },
   "outputs": [
    {
     "name": "stdout",
     "output_type": "stream",
     "text": [
      "The pastrami sandwich all sold out.\n",
      "I made your tuna sandwich.\n",
      "I made your s3 sandwich.\n",
      "I made your s2 sandwich.\n",
      "I made your runa sandwich.\n",
      "I made your s1 sandwich.\n",
      "\n",
      "There is the finish sandwichs.\n",
      "tuna\n",
      "s3\n",
      "s2\n",
      "runa\n",
      "s1\n"
     ]
    }
   ],
   "source": [
    "sandwich_orders=['s1','pastrami','runa','s2','pastrami','s3','tuna','pastrami']\n",
    "finish_sandwiches=[]\n",
    "print(\"The pastrami sandwich all sold out.\")\n",
    "\n",
    "while 'pastrami'in sandwich_orders:\n",
    "    sandwich_orders.remove('pastrami')\n",
    "    \n",
    "while sandwich_orders:\n",
    "    sandwich_order=sandwich_orders.pop()\n",
    "    print(\"I made your \"+ sandwich_order + \" sandwich.\")\n",
    "    finish_sandwiches.append(sandwich_order)\n",
    "   \n",
    "print(\"\\nThere is the finish sandwichs.\")\n",
    "for finish_sandwich in finish_sandwiches:\n",
    "    print(finish_sandwich)"
   ]
  },
  {
   "cell_type": "markdown",
   "metadata": {},
   "source": [
    "#### 7-10"
   ]
  },
  {
   "cell_type": "code",
   "execution_count": 2,
   "metadata": {
    "ExecuteTime": {
     "end_time": "2022-07-14T07:23:32.760009Z",
     "start_time": "2022-07-14T07:23:23.547855Z"
    }
   },
   "outputs": [
    {
     "name": "stdout",
     "output_type": "stream",
     "text": [
      "What's your name? :salad\n",
      "If you could visit one place in the world,where would you go? :changsha\n",
      "\n",
      "Would anyone else want to anwser this question?(yes/no) \n",
      "no\n",
      "\n",
      "Salad's dream visit place is Changsha.\n"
     ]
    }
   ],
   "source": [
    "message={}\n",
    "active=True\n",
    "while active:\n",
    "    name=input(\"What's your name? :\")\n",
    "    place=input(\"If you could visit one place in the world,where would you go? :\")\n",
    "    \n",
    "    message[name]=place\n",
    "    \n",
    "    repeat=input(\"\\nWould anyone else want to anwser this question?(yes/no) \\n\")\n",
    "    if repeat == 'no':\n",
    "        active=False\n",
    "    \n",
    "for name,place in message.items():\n",
    "    print('\\n'+name.title()+\"'s dream visit place is \"+place.title()+\".\")"
   ]
  },
  {
   "cell_type": "code",
   "execution_count": null,
   "metadata": {},
   "outputs": [],
   "source": []
  }
 ],
 "metadata": {
  "kernelspec": {
   "display_name": "Python 3",
   "language": "python",
   "name": "python3"
  },
  "language_info": {
   "codemirror_mode": {
    "name": "ipython",
    "version": 3
   },
   "file_extension": ".py",
   "mimetype": "text/x-python",
   "name": "python",
   "nbconvert_exporter": "python",
   "pygments_lexer": "ipython3",
   "version": "3.7.0"
  }
 },
 "nbformat": 4,
 "nbformat_minor": 2
}
