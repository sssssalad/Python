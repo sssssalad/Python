{
 "cells": [
  {
   "cell_type": "code",
   "execution_count": 3,
   "metadata": {
    "ExecuteTime": {
     "end_time": "2022-07-17T13:54:04.508180Z",
     "start_time": "2022-07-17T13:54:04.484201Z"
    }
   },
   "outputs": [],
   "source": [
    "# def make_pizza(size,*toppings):\n",
    "#     print(\"\\nMaking a \"+str(size)+\n",
    "#           \"-inch pizza with the following toppings:\")\n",
    "#     for topping in toppings:\n",
    "#         print(\"- \"+ topping)"
   ]
  },
  {
   "cell_type": "markdown",
   "metadata": {},
   "source": [
    "## 导入整个模块"
   ]
  },
  {
   "cell_type": "markdown",
   "metadata": {},
   "source": [
    "#### 函数可存储在称为模块的独立文件.py中，再将模块import到主程序中"
   ]
  },
  {
   "cell_type": "markdown",
   "metadata": {},
   "source": [
    "#### 在making_pizza.py中可使用pizza.py中定义的所有函数"
   ]
  },
  {
   "cell_type": "markdown",
   "metadata": {},
   "source": [
    "#### 在import中导入名为module_name.py的整个模块，\n",
    "#### 就可使用 module_name.function_name() 来使用其中任何一个函数"
   ]
  },
  {
   "cell_type": "code",
   "execution_count": 4,
   "metadata": {
    "ExecuteTime": {
     "end_time": "2022-07-17T13:54:50.984096Z",
     "start_time": "2022-07-17T13:54:50.960651Z"
    }
   },
   "outputs": [
    {
     "name": "stdout",
     "output_type": "stream",
     "text": [
      "\n",
      "Making a 16-inch pizza with the following toppings:\n",
      "- pepperoni\n",
      "\n",
      "Making a 12-inch pizza with the following toppings:\n",
      "- mushrooms\n",
      "- green peppers\n",
      "- extra cheese\n"
     ]
    }
   ],
   "source": [
    "import pizza\n",
    "#让python打开pizza.py,并将其中所有函数都在幕后复制到这个程序中\n",
    "\n",
    "pizza.make_pizza(16,\"pepperoni\")\n",
    "#调用被导入的模块中的函数，\n",
    "#可指定导入的模块的名称pizza和函数名make_pizza(),用.分隔\n",
    "pizza.make_pizza(12,\"mushrooms\",\"green peppers\",\"extra cheese\")"
   ]
  },
  {
   "cell_type": "markdown",
   "metadata": {},
   "source": [
    "## 导入模块中的特定函数"
   ]
  },
  {
   "cell_type": "markdown",
   "metadata": {},
   "source": [
    "#### 可使用 from module_name import function_name"
   ]
  },
  {
   "cell_type": "markdown",
   "metadata": {},
   "source": [
    "#### 可使用 from module_name import function_0, function_1, function_2 批量导入任意数量的函数"
   ]
  },
  {
   "cell_type": "code",
   "execution_count": 5,
   "metadata": {
    "ExecuteTime": {
     "end_time": "2022-07-17T15:14:57.210505Z",
     "start_time": "2022-07-17T15:14:57.202932Z"
    }
   },
   "outputs": [
    {
     "name": "stdout",
     "output_type": "stream",
     "text": [
      "\n",
      "Making a 16-inch pizza with the following toppings:\n",
      "- pepperoni\n",
      "\n",
      "Making a 12-inch pizza with the following toppings:\n",
      "- mushrooms\n",
      "- green peppers\n",
      "- extra cheese\n"
     ]
    }
   ],
   "source": [
    "from pizza import make_pizza\n",
    "\n",
    "#调用被导入的模块中的函数无需指定模块名称\n",
    "make_pizza(16,\"pepperoni\")\n",
    "make_pizza(12,\"mushrooms\",\"green peppers\",\"extra cheese\")"
   ]
  },
  {
   "cell_type": "markdown",
   "metadata": {},
   "source": [
    "## 使用as给函数指定别名"
   ]
  },
  {
   "cell_type": "markdown",
   "metadata": {
    "ExecuteTime": {
     "end_time": "2022-07-17T15:23:54.420018Z",
     "start_time": "2022-07-17T15:23:54.407301Z"
    }
   },
   "source": [
    "#### 导入的函数名称可能与程序现有名称冲突/函数名称太长s时，可指定别名"
   ]
  },
  {
   "cell_type": "markdown",
   "metadata": {},
   "source": [
    "#### 通用语法：from module_name import function_name as fn"
   ]
  },
  {
   "cell_type": "code",
   "execution_count": 7,
   "metadata": {
    "ExecuteTime": {
     "end_time": "2022-07-17T15:27:50.129806Z",
     "start_time": "2022-07-17T15:27:50.123275Z"
    }
   },
   "outputs": [
    {
     "name": "stdout",
     "output_type": "stream",
     "text": [
      "\n",
      "Making a 16-inch pizza with the following toppings:\n",
      "- pepperoni\n",
      "\n",
      "Making a 12-inch pizza with the following toppings:\n",
      "- mushrooms\n",
      "- green peppers\n",
      "- extra cheese\n"
     ]
    }
   ],
   "source": [
    "from pizza import make_pizza as mp\n",
    "\n",
    "#调用被导入的模块中的函数无需指定模块名称\n",
    "mp(16,\"pepperoni\")\n",
    "mp(12,\"mushrooms\",\"green peppers\",\"extra cheese\")"
   ]
  },
  {
   "cell_type": "markdown",
   "metadata": {},
   "source": [
    "## 使用as给模块指定别名"
   ]
  },
  {
   "cell_type": "markdown",
   "metadata": {},
   "source": [
    "#### 通用语法：import module_name as mn"
   ]
  },
  {
   "cell_type": "code",
   "execution_count": 8,
   "metadata": {
    "ExecuteTime": {
     "end_time": "2022-07-17T15:32:37.579327Z",
     "start_time": "2022-07-17T15:32:37.567146Z"
    }
   },
   "outputs": [
    {
     "name": "stdout",
     "output_type": "stream",
     "text": [
      "\n",
      "Making a 16-inch pizza with the following toppings:\n",
      "- pepperoni\n",
      "\n",
      "Making a 12-inch pizza with the following toppings:\n",
      "- mushrooms\n",
      "- green peppers\n",
      "- extra cheese\n"
     ]
    }
   ],
   "source": [
    "import pizza as p\n",
    "\n",
    "p.make_pizza(16,\"pepperoni\")\n",
    "p.make_pizza(12,\"mushrooms\",\"green peppers\",\"extra cheese\")"
   ]
  },
  {
   "cell_type": "markdown",
   "metadata": {},
   "source": [
    "## 导入模块中的所有函数"
   ]
  },
  {
   "cell_type": "markdown",
   "metadata": {},
   "source": [
    "#### from module_name import *"
   ]
  },
  {
   "cell_type": "markdown",
   "metadata": {},
   "source": [
    "#### *让python将模块pizza中的每个函数都复制到这个程序文件中"
   ]
  },
  {
   "cell_type": "markdown",
   "metadata": {},
   "source": [
    "#### 不是自己编的模块不要这样用，函数名容易重复；\n",
    "#### 一般只需导入需要使用的函数，或导入整个模块并使用句点表示法"
   ]
  },
  {
   "cell_type": "code",
   "execution_count": 9,
   "metadata": {
    "ExecuteTime": {
     "end_time": "2022-07-17T15:36:10.623046Z",
     "start_time": "2022-07-17T15:36:10.610213Z"
    }
   },
   "outputs": [
    {
     "name": "stdout",
     "output_type": "stream",
     "text": [
      "\n",
      "Making a 16-inch pizza with the following toppings:\n",
      "- pepperoni\n",
      "\n",
      "Making a 12-inch pizza with the following toppings:\n",
      "- mushrooms\n",
      "- green peppers\n",
      "- extra cheese\n"
     ]
    }
   ],
   "source": [
    "from pizza import *\n",
    "\n",
    "#调用被导入的模块中的函数无需指定模块名称\n",
    "make_pizza(16,\"pepperoni\")\n",
    "make_pizza(12,\"mushrooms\",\"green peppers\",\"extra cheese\")"
   ]
  },
  {
   "cell_type": "code",
   "execution_count": null,
   "metadata": {},
   "outputs": [],
   "source": []
  }
 ],
 "metadata": {
  "kernelspec": {
   "display_name": "Python 3",
   "language": "python",
   "name": "python3"
  },
  "language_info": {
   "codemirror_mode": {
    "name": "ipython",
    "version": 3
   },
   "file_extension": ".py",
   "mimetype": "text/x-python",
   "name": "python",
   "nbconvert_exporter": "python",
   "pygments_lexer": "ipython3",
   "version": "3.7.0"
  }
 },
 "nbformat": 4,
 "nbformat_minor": 2
}
