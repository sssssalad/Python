{
 "cells": [
  {
   "cell_type": "code",
   "execution_count": 1,
   "metadata": {
    "ExecuteTime": {
     "end_time": "2022-07-01T15:11:27.456140Z",
     "start_time": "2022-07-01T15:11:27.445724Z"
    }
   },
   "outputs": [
    {
     "name": "stdout",
     "output_type": "stream",
     "text": [
      "The Zen of Python, by Tim Peters\n",
      "\n",
      "Beautiful is better than ugly.\n",
      "Explicit is better than implicit.\n",
      "Simple is better than complex.\n",
      "Complex is better than complicated.\n",
      "Flat is better than nested.\n",
      "Sparse is better than dense.\n",
      "Readability counts.\n",
      "Special cases aren't special enough to break the rules.\n",
      "Although practicality beats purity.\n",
      "Errors should never pass silently.\n",
      "Unless explicitly silenced.\n",
      "In the face of ambiguity, refuse the temptation to guess.\n",
      "There should be one-- and preferably only one --obvious way to do it.\n",
      "Although that way may not be obvious at first unless you're Dutch.\n",
      "Now is better than never.\n",
      "Although never is often better than *right* now.\n",
      "If the implementation is hard to explain, it's a bad idea.\n",
      "If the implementation is easy to explain, it may be a good idea.\n",
      "Namespaces are one honking great idea -- let's do more of those!\n"
     ]
    }
   ],
   "source": [
    "import this"
   ]
  },
  {
   "cell_type": "code",
   "execution_count": 2,
   "metadata": {
    "ExecuteTime": {
     "end_time": "2022-07-01T15:11:27.472143Z",
     "start_time": "2022-07-01T15:11:27.459143Z"
    }
   },
   "outputs": [
    {
     "name": "stdout",
     "output_type": "stream",
     "text": [
      "['trek', 'cannondale', 'redline', 'specialized']\n",
      "trek\n",
      "Trek\n"
     ]
    }
   ],
   "source": [
    "bicycles =['trek','cannondale','redline','specialized']\n",
    "print(bicycles)\n",
    "print(bicycles[0])\n",
    "print(bicycles[0].title())"
   ]
  },
  {
   "cell_type": "code",
   "execution_count": 3,
   "metadata": {
    "ExecuteTime": {
     "end_time": "2022-07-01T15:11:27.488143Z",
     "start_time": "2022-07-01T15:11:27.474142Z"
    }
   },
   "outputs": [
    {
     "name": "stdout",
     "output_type": "stream",
     "text": [
      "cannondale\n",
      "specialized\n"
     ]
    }
   ],
   "source": [
    "#访问第i个列表元素可使用索引i-1\n",
    "print(bicycles[1])\n",
    "print(bicycles[3])"
   ]
  },
  {
   "cell_type": "markdown",
   "metadata": {},
   "source": [
    "### 访问列表最后一个元素的特殊语法"
   ]
  },
  {
   "cell_type": "code",
   "execution_count": 4,
   "metadata": {
    "ExecuteTime": {
     "end_time": "2022-07-01T15:11:27.504142Z",
     "start_time": "2022-07-01T15:11:27.490181Z"
    }
   },
   "outputs": [
    {
     "name": "stdout",
     "output_type": "stream",
     "text": [
      "specialized\n",
      "redline\n",
      "cannondale\n"
     ]
    }
   ],
   "source": [
    "print(bicycles[-1])\n",
    "print(bicycles[-2])#倒数第二个\n",
    "print(bicycles[-3])#倒数第三个"
   ]
  },
  {
   "cell_type": "code",
   "execution_count": 5,
   "metadata": {
    "ExecuteTime": {
     "end_time": "2022-07-01T15:11:27.520137Z",
     "start_time": "2022-07-01T15:11:27.506140Z"
    }
   },
   "outputs": [
    {
     "name": "stdout",
     "output_type": "stream",
     "text": [
      "My first bicycle was a Trek.\n"
     ]
    }
   ],
   "source": [
    "message=\"My first bicycle was a \"+ bicycles[0].title() + \".\"\n",
    "print(message)"
   ]
  },
  {
   "cell_type": "markdown",
   "metadata": {},
   "source": [
    "### 3-1 姓名"
   ]
  },
  {
   "cell_type": "code",
   "execution_count": 6,
   "metadata": {
    "ExecuteTime": {
     "end_time": "2022-07-01T15:11:27.535322Z",
     "start_time": "2022-07-01T15:11:27.522313Z"
    }
   },
   "outputs": [
    {
     "name": "stdout",
     "output_type": "stream",
     "text": [
      "['xx', '猪猪', '臭宝']\n"
     ]
    }
   ],
   "source": [
    "names=['xx','猪猪', '臭宝']\n",
    "#注意不要写成names=['xx 猪猪 臭宝']，这样把三个元素写一块了\n",
    "print(names)"
   ]
  },
  {
   "cell_type": "markdown",
   "metadata": {},
   "source": [
    "### 3-2 问候语"
   ]
  },
  {
   "cell_type": "code",
   "execution_count": 7,
   "metadata": {
    "ExecuteTime": {
     "end_time": "2022-07-01T15:11:27.550323Z",
     "start_time": "2022-07-01T15:11:27.537325Z"
    }
   },
   "outputs": [
    {
     "name": "stdout",
     "output_type": "stream",
     "text": [
      "Hello xx, how you doing?\n",
      "Hello 猪猪, how you doing?\n",
      "Hello 臭宝, how you doing?\n"
     ]
    }
   ],
   "source": [
    "i=0\n",
    "for i in names:\n",
    "    print( \"Hello \"+ i+\", how you doing?\")"
   ]
  },
  {
   "cell_type": "markdown",
   "metadata": {},
   "source": [
    "### 3-3 自己的列表"
   ]
  },
  {
   "cell_type": "code",
   "execution_count": 8,
   "metadata": {
    "ExecuteTime": {
     "end_time": "2022-07-01T15:11:27.566324Z",
     "start_time": "2022-07-01T15:11:27.552323Z"
    }
   },
   "outputs": [
    {
     "name": "stdout",
     "output_type": "stream",
     "text": [
      "I would like to order a taxi .\n",
      "I would like to go by bike .\n",
      "I would like to go by bus .\n",
      "I would like to go by plane .\n",
      "I would like to own a Honda motorcycle .\n"
     ]
    }
   ],
   "source": [
    "go=[ 'order a taxi','go by bike','go by bus','go by plane','own a Honda motorcycle']\n",
    "for i in go:\n",
    "    print(\"I would like to \"+i+\" .\")"
   ]
  },
  {
   "cell_type": "markdown",
   "metadata": {},
   "source": [
    "## 3.2"
   ]
  },
  {
   "cell_type": "code",
   "execution_count": 9,
   "metadata": {
    "ExecuteTime": {
     "end_time": "2022-07-01T15:11:27.582326Z",
     "start_time": "2022-07-01T15:11:27.568327Z"
    }
   },
   "outputs": [
    {
     "name": "stdout",
     "output_type": "stream",
     "text": [
      "['honda', 'yamaha', 'suzuki']\n"
     ]
    }
   ],
   "source": [
    "motorcycles = ['honda','yamaha','suzuki']\n",
    "print(motorcycles)"
   ]
  },
  {
   "cell_type": "markdown",
   "metadata": {
    "ExecuteTime": {
     "end_time": "2022-07-01T10:07:28.549241Z",
     "start_time": "2022-07-01T10:07:28.534135Z"
    }
   },
   "source": [
    "### 修改列表中的元素"
   ]
  },
  {
   "cell_type": "code",
   "execution_count": 10,
   "metadata": {
    "ExecuteTime": {
     "end_time": "2022-07-01T15:11:27.598325Z",
     "start_time": "2022-07-01T15:11:27.584323Z"
    }
   },
   "outputs": [
    {
     "name": "stdout",
     "output_type": "stream",
     "text": [
      "['honda', 'yamaha', 'suzuki']\n",
      "['ducati', 'yamaha', 'suzuki']\n"
     ]
    }
   ],
   "source": [
    "print(motorcycles)\n",
    "motorcycles[0]='ducati'\n",
    "print(motorcycles)"
   ]
  },
  {
   "cell_type": "markdown",
   "metadata": {
    "ExecuteTime": {
     "end_time": "2022-07-01T09:58:44.392248Z",
     "start_time": "2022-07-01T09:58:44.384121Z"
    }
   },
   "source": [
    "###  append（）在列表末尾添加元素"
   ]
  },
  {
   "cell_type": "code",
   "execution_count": 11,
   "metadata": {
    "ExecuteTime": {
     "end_time": "2022-07-01T15:11:27.614320Z",
     "start_time": "2022-07-01T15:11:27.600322Z"
    }
   },
   "outputs": [
    {
     "name": "stdout",
     "output_type": "stream",
     "text": [
      "['ducati', 'yamaha', 'suzuki', 'ducati']\n"
     ]
    }
   ],
   "source": [
    "motorcycles.append('ducati')\n",
    "print(motorcycles)"
   ]
  },
  {
   "cell_type": "code",
   "execution_count": 12,
   "metadata": {
    "ExecuteTime": {
     "end_time": "2022-07-01T15:11:27.630321Z",
     "start_time": "2022-07-01T15:11:27.616320Z"
    }
   },
   "outputs": [
    {
     "name": "stdout",
     "output_type": "stream",
     "text": [
      "['honda', 'yamaha', 'suzuki']\n"
     ]
    }
   ],
   "source": [
    "motorcycles=[]#创建空列表\n",
    "motorcycles.append('honda')\n",
    "motorcycles.append('yamaha')\n",
    "motorcycles.append('suzuki')\n",
    "print(motorcycles)"
   ]
  },
  {
   "cell_type": "markdown",
   "metadata": {
    "ExecuteTime": {
     "end_time": "2022-07-01T10:01:35.804762Z",
     "start_time": "2022-07-01T10:01:35.796761Z"
    }
   },
   "source": [
    "### insert（index，‘元素值’）在列表中插入元素 "
   ]
  },
  {
   "cell_type": "code",
   "execution_count": 13,
   "metadata": {
    "ExecuteTime": {
     "end_time": "2022-07-01T15:11:27.646327Z",
     "start_time": "2022-07-01T15:11:27.632323Z"
    }
   },
   "outputs": [
    {
     "name": "stdout",
     "output_type": "stream",
     "text": [
      "['honda', 'yamaha', 'suzuki']\n",
      "['ducati', 'honda', 'yamaha', 'suzuki']\n"
     ]
    }
   ],
   "source": [
    "print(motorcycles)\n",
    "\n",
    "motorcycles.insert(0,'ducati')#插入到开头，将本来就有的元素都右移一位\n",
    "print(motorcycles)"
   ]
  },
  {
   "cell_type": "markdown",
   "metadata": {},
   "source": [
    "### del a【i】在列表中删除元素 "
   ]
  },
  {
   "cell_type": "code",
   "execution_count": 14,
   "metadata": {
    "ExecuteTime": {
     "end_time": "2022-07-01T15:11:27.662327Z",
     "start_time": "2022-07-01T15:11:27.648327Z"
    }
   },
   "outputs": [
    {
     "name": "stdout",
     "output_type": "stream",
     "text": [
      "['ducati', 'honda', 'yamaha', 'suzuki']\n",
      "['honda', 'yamaha', 'suzuki']\n"
     ]
    }
   ],
   "source": [
    "#知道要删除的元素的位置\n",
    "print(motorcycles)\n",
    "\n",
    "del motorcycles[0]\n",
    "print(motorcycles)"
   ]
  },
  {
   "cell_type": "markdown",
   "metadata": {
    "ExecuteTime": {
     "end_time": "2022-07-01T10:20:07.441728Z",
     "start_time": "2022-07-01T10:20:07.417649Z"
    }
   },
   "source": [
    "### pop()弹出末尾元素"
   ]
  },
  {
   "cell_type": "code",
   "execution_count": 15,
   "metadata": {
    "ExecuteTime": {
     "end_time": "2022-07-01T15:11:27.678323Z",
     "start_time": "2022-07-01T15:11:27.664325Z"
    }
   },
   "outputs": [
    {
     "name": "stdout",
     "output_type": "stream",
     "text": [
      "['honda', 'yamaha', 'suzuki']\n",
      "['honda', 'yamaha']\n",
      "suzuki\n"
     ]
    }
   ],
   "source": [
    "print(motorcycles)\n",
    "\n",
    "popped_motorcycle=motorcycles.pop()#从列表中弹出最后一个值\n",
    "print(motorcycles)\n",
    "print(popped_motorcycle)#打印被弹出的值"
   ]
  },
  {
   "cell_type": "code",
   "execution_count": 16,
   "metadata": {
    "ExecuteTime": {
     "end_time": "2022-07-01T15:11:27.694322Z",
     "start_time": "2022-07-01T15:11:27.680325Z"
    }
   },
   "outputs": [
    {
     "name": "stdout",
     "output_type": "stream",
     "text": [
      "The last motorcycle I owned was a Suzuki.\n"
     ]
    }
   ],
   "source": [
    "motorcycles=['honda', 'yamaha', 'suzuki']\n",
    "last_owned=motorcycles.pop()\n",
    "print(\"The last motorcycle I owned was a \"+last_owned.title()+\".\")"
   ]
  },
  {
   "cell_type": "markdown",
   "metadata": {},
   "source": [
    "### pop（i）弹出列表中任何位置处的元素"
   ]
  },
  {
   "cell_type": "code",
   "execution_count": 17,
   "metadata": {
    "ExecuteTime": {
     "end_time": "2022-07-01T15:11:27.710322Z",
     "start_time": "2022-07-01T15:11:27.696327Z"
    }
   },
   "outputs": [
    {
     "name": "stdout",
     "output_type": "stream",
     "text": [
      "The first motorcycle I owned was a Honda.\n"
     ]
    }
   ],
   "source": [
    "motorcycles=['honda', 'yamaha', 'suzuki']\n",
    "first_owned=motorcycles.pop(0)#取出栈中最先放进去的\n",
    "print(\"The first motorcycle I owned was a \"+first_owned.title()+\".\")"
   ]
  },
  {
   "cell_type": "markdown",
   "metadata": {},
   "source": [
    "### remove()根据值删除元素(只删除第一个指定的值）"
   ]
  },
  {
   "cell_type": "code",
   "execution_count": 18,
   "metadata": {
    "ExecuteTime": {
     "end_time": "2022-07-01T15:11:27.726323Z",
     "start_time": "2022-07-01T15:11:27.712323Z"
    }
   },
   "outputs": [
    {
     "name": "stdout",
     "output_type": "stream",
     "text": [
      "['ducati', 'honda', 'yamaha', 'suzuki']\n",
      "['honda', 'yamaha', 'suzuki']\n"
     ]
    }
   ],
   "source": [
    "motorcycles=['ducati', 'honda', 'yamaha', 'suzuki']\n",
    "print(motorcycles)\n",
    "\n",
    "motorcycles.remove('ducati')\n",
    "print(motorcycles)"
   ]
  },
  {
   "cell_type": "code",
   "execution_count": 19,
   "metadata": {
    "ExecuteTime": {
     "end_time": "2022-07-01T15:11:27.742323Z",
     "start_time": "2022-07-01T15:11:27.728324Z"
    }
   },
   "outputs": [
    {
     "name": "stdout",
     "output_type": "stream",
     "text": [
      "['ducati', 'honda', 'yamaha', 'suzuki']\n",
      "['honda', 'yamaha', 'suzuki']\n",
      "\n",
      "A Ducati is too expensive for me.\n"
     ]
    }
   ],
   "source": [
    "motorcycles=['ducati', 'honda', 'yamaha', 'suzuki']\n",
    "print(motorcycles)\n",
    "\n",
    "too_expensive='ducati'\n",
    "motorcycles.remove(too_expensive)\n",
    "print(motorcycles)\n",
    "print(\"\\nA \"+too_expensive.title()+\" is too expensive for me.\")"
   ]
  },
  {
   "cell_type": "markdown",
   "metadata": {},
   "source": [
    "### 3-4 嘉宾名单"
   ]
  },
  {
   "cell_type": "code",
   "execution_count": 20,
   "metadata": {
    "ExecuteTime": {
     "end_time": "2022-07-01T15:11:27.758320Z",
     "start_time": "2022-07-01T15:11:27.744323Z"
    }
   },
   "outputs": [
    {
     "name": "stdout",
     "output_type": "stream",
     "text": [
      "['Tom', 'Jenny', 'Max', 'Chandler', 'Monica', 'Xx', 'Cyx']\n"
     ]
    }
   ],
   "source": [
    "names=['Tom','Jenny','Max','Chandler','Monica','Xx','Cyx']\n",
    "print(names)"
   ]
  },
  {
   "cell_type": "code",
   "execution_count": 21,
   "metadata": {
    "ExecuteTime": {
     "end_time": "2022-07-01T15:11:27.773321Z",
     "start_time": "2022-07-01T15:11:27.760322Z"
    }
   },
   "outputs": [
    {
     "name": "stdout",
     "output_type": "stream",
     "text": [
      "Jenny can't come this party.\n",
      "['Tom', 'Phoebe', 'Max', 'Chandler', 'Monica', 'Xx', 'Cyx']\n",
      "\n",
      "Tom will come to this party.\n",
      "\n",
      "Phoebe will come to this party.\n",
      "\n",
      "Max will come to this party.\n",
      "\n",
      "Chandler will come to this party.\n",
      "\n",
      "Monica will come to this party.\n",
      "\n",
      "Xx will come to this party.\n",
      "\n",
      "Cyx will come to this party.\n"
     ]
    }
   ],
   "source": [
    "print(names[1]+\" can't come this party.\")\n",
    "names[1]='Phoebe'\n",
    "print(names)\n",
    "for i in names:\n",
    "    print(\"\\n\"+i+' will come to this party.')"
   ]
  },
  {
   "cell_type": "code",
   "execution_count": 22,
   "metadata": {
    "ExecuteTime": {
     "end_time": "2022-07-01T15:11:27.788326Z",
     "start_time": "2022-07-01T15:11:27.775322Z"
    }
   },
   "outputs": [
    {
     "name": "stdout",
     "output_type": "stream",
     "text": [
      "I found a bigger table!\n",
      "['Han', 'Tom', 'Phoebe', 'Max', 'Chandler', 'Monica', 'Xx', 'Cyx']\n",
      "['Han', 'Tom', 'Phoebe', 'Max', 'Rachel', 'Chandler', 'Monica', 'Xx', 'Cyx']\n",
      "['Han', 'Tom', 'Phoebe', 'Max', 'Rachel', 'Chandler', 'Monica', 'Xx', 'Cyx', 'Joey']\n",
      "\n",
      "Han will come to this party.\n",
      "\n",
      "Tom will come to this party.\n",
      "\n",
      "Phoebe will come to this party.\n",
      "\n",
      "Max will come to this party.\n",
      "\n",
      "Rachel will come to this party.\n",
      "\n",
      "Chandler will come to this party.\n",
      "\n",
      "Monica will come to this party.\n",
      "\n",
      "Xx will come to this party.\n",
      "\n",
      "Cyx will come to this party.\n",
      "\n",
      "Joey will come to this party.\n"
     ]
    }
   ],
   "source": [
    "print(\"I found a bigger table!\")\n",
    "names.insert(0,'Han')#在首位插入\n",
    "print(names)\n",
    "\n",
    "names.insert(int(len(names)/2),'Rachel')#在中间插入\n",
    "print(names)\n",
    "\n",
    "names.append('Joey')#在末尾插入\n",
    "print(names)\n",
    "\n",
    "for i in names:\n",
    "    print(\"\\n\"+i+' will come to this party.')"
   ]
  },
  {
   "cell_type": "code",
   "execution_count": 23,
   "metadata": {
    "ExecuteTime": {
     "end_time": "2022-07-01T15:11:27.804322Z",
     "start_time": "2022-07-01T15:11:27.790322Z"
    }
   },
   "outputs": [
    {
     "name": "stdout",
     "output_type": "stream",
     "text": [
      "Unfortunately,we can only invite 2 peple.\n",
      "['Han', 'Tom', 'Phoebe', 'Max', 'Rachel', 'Chandler', 'Monica', 'xx', 'cyx', 'Joey']\n",
      "10\n",
      "\n",
      "\n",
      "Joey ,I'm sorry to tell you that I can only invite 2 peple come to this party.\n",
      "cyx ,I'm sorry to tell you that I can only invite 2 peple come to this party.\n",
      "xx ,I'm sorry to tell you that I can only invite 2 peple come to this party.\n",
      "Monica ,I'm sorry to tell you that I can only invite 2 peple come to this party.\n",
      "Chandler ,I'm sorry to tell you that I can only invite 2 peple come to this party.\n",
      "Rachel ,I'm sorry to tell you that I can only invite 2 peple come to this party.\n",
      "Max ,I'm sorry to tell you that I can only invite 2 peple come to this party.\n",
      "Phoebe ,I'm sorry to tell you that I can only invite 2 peple come to this party.\n",
      "\n",
      "\n",
      "Han ,you're still on the inviting list. Welcome!\n",
      "Tom ,you're still on the inviting list. Welcome!\n"
     ]
    }
   ],
   "source": [
    "print(\"Unfortunately,we can only invite 2 peple.\")\n",
    "names=['Han', 'Tom', 'Phoebe', 'Max', 'Rachel', 'Chandler', 'Monica', 'xx', 'cyx', 'Joey']\n",
    "print(names)\n",
    "print(len(names))\n",
    "print(\"\\n\")\n",
    "\n",
    "while len(names)>2:\n",
    "    print(names[-1]+ \" ,I'm sorry to tell you that I can only invite 2 peple come to this party.\")\n",
    "    names.pop()  \n",
    "    \n",
    "#print(names)\n",
    "print(\"\\n\")\n",
    "\n",
    "for i in names:\n",
    "    print(i+\" ,you're still on the inviting list. Welcome!\")"
   ]
  },
  {
   "cell_type": "code",
   "execution_count": 24,
   "metadata": {
    "ExecuteTime": {
     "end_time": "2022-07-01T15:11:27.820323Z",
     "start_time": "2022-07-01T15:11:27.805321Z"
    }
   },
   "outputs": [
    {
     "name": "stdout",
     "output_type": "stream",
     "text": [
      "['Han', 'Tom']\n",
      "[]\n"
     ]
    }
   ],
   "source": [
    "names=['Han', 'Tom']\n",
    "print(names)\n",
    "\n",
    "i=0\n",
    "for i in range(len(names)):#循环len（names）次，使列表为空\n",
    "    del names[0]\n",
    "print(names)"
   ]
  },
  {
   "cell_type": "markdown",
   "metadata": {},
   "source": [
    "## 3.3 组织列表"
   ]
  },
  {
   "cell_type": "markdown",
   "metadata": {},
   "source": [
    "### sort（reverse= x）永久排序"
   ]
  },
  {
   "cell_type": "code",
   "execution_count": 25,
   "metadata": {
    "ExecuteTime": {
     "end_time": "2022-07-01T15:11:27.836342Z",
     "start_time": "2022-07-01T15:11:27.823329Z"
    }
   },
   "outputs": [
    {
     "name": "stdout",
     "output_type": "stream",
     "text": [
      "['audi', 'bmw', 'subaru', 'toyota']\n"
     ]
    }
   ],
   "source": [
    "cars=['bmw','audi','toyota','subaru']\n",
    "cars.sort()#按字母顺序排序\n",
    "print(cars)"
   ]
  },
  {
   "cell_type": "code",
   "execution_count": 26,
   "metadata": {
    "ExecuteTime": {
     "end_time": "2022-07-01T15:11:27.852323Z",
     "start_time": "2022-07-01T15:11:27.839324Z"
    }
   },
   "outputs": [
    {
     "name": "stdout",
     "output_type": "stream",
     "text": [
      "['toyota', 'subaru', 'bmw', 'audi']\n"
     ]
    }
   ],
   "source": [
    "cars.sort(reverse=True)#反转列表元素的排列顺序，reverse为反转，\n",
    "print(cars)"
   ]
  },
  {
   "cell_type": "markdown",
   "metadata": {},
   "source": [
    "### sorted（）对列表进行临时排序,以特定顺序显示"
   ]
  },
  {
   "cell_type": "code",
   "execution_count": 27,
   "metadata": {
    "ExecuteTime": {
     "end_time": "2022-07-01T15:11:27.867329Z",
     "start_time": "2022-07-01T15:11:27.853321Z"
    }
   },
   "outputs": [
    {
     "name": "stdout",
     "output_type": "stream",
     "text": [
      "Here is the original list:\n",
      "['bmw', 'audi', 'toyota', 'subaru']\n",
      "\n",
      "Here is the sorted list:\n",
      "['audi', 'bmw', 'subaru', 'toyota']\n",
      "\n",
      "Here is the original list again:\n",
      "['bmw', 'audi', 'toyota', 'subaru']\n"
     ]
    }
   ],
   "source": [
    "cars=['bmw','audi','toyota','subaru']\n",
    "\n",
    "print(\"Here is the original list:\")\n",
    "print(cars)\n",
    "\n",
    "print(\"\\nHere is the sorted list:\")#以特定顺序显示\n",
    "print(sorted(cars))\n",
    "\n",
    "print(\"\\nHere is the original list again:\")\n",
    "print(cars)"
   ]
  },
  {
   "cell_type": "markdown",
   "metadata": {},
   "source": [
    "### reverse（）倒着打印列表"
   ]
  },
  {
   "cell_type": "code",
   "execution_count": 28,
   "metadata": {
    "ExecuteTime": {
     "end_time": "2022-07-01T15:11:27.883327Z",
     "start_time": "2022-07-01T15:11:27.868322Z"
    }
   },
   "outputs": [
    {
     "name": "stdout",
     "output_type": "stream",
     "text": [
      "['bmw', 'audi', 'toyota', 'subaru']\n",
      "['subaru', 'toyota', 'audi', 'bmw']\n"
     ]
    }
   ],
   "source": [
    "cars=['bmw','audi','toyota','subaru']\n",
    "print(cars)\n",
    "\n",
    "cars.reverse()#f反转列表的排列顺序\n",
    "print(cars)"
   ]
  },
  {
   "cell_type": "markdown",
   "metadata": {},
   "source": [
    "### len（）确定列表长度"
   ]
  },
  {
   "cell_type": "code",
   "execution_count": 29,
   "metadata": {
    "ExecuteTime": {
     "end_time": "2022-07-01T15:11:27.898329Z",
     "start_time": "2022-07-01T15:11:27.886324Z"
    }
   },
   "outputs": [
    {
     "data": {
      "text/plain": [
       "4"
      ]
     },
     "execution_count": 29,
     "metadata": {},
     "output_type": "execute_result"
    }
   ],
   "source": [
    "cars=['bmw','audi','toyota','subaru']\n",
    "len(cars)"
   ]
  },
  {
   "cell_type": "markdown",
   "metadata": {},
   "source": [
    "### 3-8放眼世界"
   ]
  },
  {
   "cell_type": "code",
   "execution_count": 30,
   "metadata": {
    "ExecuteTime": {
     "end_time": "2022-07-01T15:11:27.914323Z",
     "start_time": "2022-07-01T15:11:27.900321Z"
    }
   },
   "outputs": [
    {
     "name": "stdout",
     "output_type": "stream",
     "text": [
      "Here is the original list:\n",
      "['Norway', 'Iceland', 'Changsha', 'Chongqing', 'Sanya', 'Guilin']\n",
      "\n",
      "Here is the sorted list:\n",
      "['Changsha', 'Chongqing', 'Guilin', 'Iceland', 'Norway', 'Sanya']\n",
      "Here is the original list again:\n",
      "['Norway', 'Iceland', 'Changsha', 'Chongqing', 'Sanya', 'Guilin']\n",
      "\n",
      "Here is the reverse sorted list:\n",
      "['Sanya', 'Norway', 'Iceland', 'Guilin', 'Chongqing', 'Changsha']\n",
      "Here is the original list again:\n",
      "['Norway', 'Iceland', 'Changsha', 'Chongqing', 'Sanya', 'Guilin']\n",
      "\n",
      "Here is the reverse list:\n",
      "['Guilin', 'Sanya', 'Chongqing', 'Changsha', 'Iceland', 'Norway']\n",
      "Here is the reverse twice list:\n",
      "['Norway', 'Iceland', 'Changsha', 'Chongqing', 'Sanya', 'Guilin']\n",
      "\n",
      "Here is the sort list:\n",
      "['Changsha', 'Chongqing', 'Guilin', 'Iceland', 'Norway', 'Sanya']\n",
      "\n",
      "Here is the sort reverse list:\n",
      "['Sanya', 'Norway', 'Iceland', 'Guilin', 'Chongqing', 'Changsha']\n"
     ]
    }
   ],
   "source": [
    "places=['Norway','Iceland','Changsha','Chongqing','Sanya','Guilin']\n",
    "print(\"Here is the original list:\")\n",
    "print(places)\n",
    "\n",
    "print(\"\\nHere is the sorted list:\")#以特定顺序显示\n",
    "print(sorted(places))\n",
    "print(\"Here is the original list again:\")\n",
    "print(places)\n",
    "\n",
    "print(\"\\nHere is the reverse sorted list:\")#以反转的特定顺序显示\n",
    "print(sorted(places,reverse=True))\n",
    "print(\"Here is the original list again:\")\n",
    "print(places)\n",
    "\n",
    "print(\"\\nHere is the reverse list:\")\n",
    "# print(places.reverse())#输出None\n",
    "places.reverse()\n",
    "print(places)\n",
    "print(\"Here is the reverse twice list:\")\n",
    "places.reverse()\n",
    "print(places)\n",
    "\n",
    "print(\"\\nHere is the sort list:\")\n",
    "places.sort()\n",
    "print(places)\n",
    "\n",
    "print(\"\\nHere is the sort reverse list:\")\n",
    "places.sort(reverse=True)\n",
    "print(places)"
   ]
  },
  {
   "cell_type": "markdown",
   "metadata": {},
   "source": []
  },
  {
   "cell_type": "code",
   "execution_count": null,
   "metadata": {},
   "outputs": [],
   "source": []
  }
 ],
 "metadata": {
  "kernelspec": {
   "display_name": "Python 3",
   "language": "python",
   "name": "python3"
  },
  "language_info": {
   "codemirror_mode": {
    "name": "ipython",
    "version": 3
   },
   "file_extension": ".py",
   "mimetype": "text/x-python",
   "name": "python",
   "nbconvert_exporter": "python",
   "pygments_lexer": "ipython3",
   "version": "3.7.0"
  }
 },
 "nbformat": 4,
 "nbformat_minor": 2
}
