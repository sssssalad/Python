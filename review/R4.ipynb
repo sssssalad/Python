{
 "cells": [
  {
   "cell_type": "code",
   "execution_count": 2,
   "metadata": {},
   "outputs": [],
   "source": [
    "import re"
   ]
  },
  {
   "attachments": {},
   "cell_type": "markdown",
   "metadata": {},
   "source": [
    "#### 查找字符串中最长的数字子串"
   ]
  },
  {
   "cell_type": "code",
   "execution_count": null,
   "metadata": {},
   "outputs": [],
   "source": [
    "def longest1(s):\n",
    "    '''查找所有连续数字'''\n",
    "    t = re.findall('\\d+', s)\n",
    "    if t: return max(t, key=len)\n",
    "\n",
    "def longest2(s):\n",
    "    '''使用非数字作为分隔符'''\n",
    "    t = re.split('[^\\d]+', s)\n",
    "    if t: return max(t, key=len)"
   ]
  },
  {
   "attachments": {},
   "cell_type": "markdown",
   "metadata": {},
   "source": [
    "####  去除标点符号"
   ]
  },
  {
   "cell_type": "code",
   "execution_count": 26,
   "metadata": {},
   "outputs": [
    {
     "data": {
      "text/plain": [
       "'abcdef'"
      ]
     },
     "execution_count": 26,
     "metadata": {},
     "output_type": "execute_result"
    }
   ],
   "source": [
    "import string\n",
    "re.sub('['+string.punctuation+']', '', 'abcd,.e!f/?')  "
   ]
  },
  {
   "cell_type": "code",
   "execution_count": 15,
   "metadata": {},
   "outputs": [
    {
     "data": {
      "text/plain": [
       "['one', 'two', 'three', 'four', 'five', 'six', 'seven', 'eight', 'nine', 'ten']"
      ]
     },
     "execution_count": 15,
     "metadata": {},
     "output_type": "execute_result"
    }
   ],
   "source": [
    "example = r'one,two,three.four/five\\six?seven[eight]nine|ten'\n",
    "pattern = re.compile(r'[,./\\\\?[\\]\\|]')     #指定多个可能的分隔符\n",
    "pattern.split(example)"
   ]
  },
  {
   "cell_type": "code",
   "execution_count": 16,
   "metadata": {},
   "outputs": [
    {
     "data": {
      "text/plain": [
       "['one', 'two', 'three', 'four', 'five', 'six', 'seven', 'eight', 'nine', 'ten']"
      ]
     },
     "execution_count": 16,
     "metadata": {},
     "output_type": "execute_result"
    }
   ],
   "source": [
    "example = r'one1two2three3four4five5six6seven7eight8nine9ten'\n",
    "pattern = re.compile(r'\\d+')               #使用数字作为分隔符\n",
    "pattern.split(example)"
   ]
  },
  {
   "attachments": {},
   "cell_type": "markdown",
   "metadata": {},
   "source": [
    "匹配国内电话号码：'(\\d{3,4})-(\\d{7,8})'\n",
    "评注：匹配形式如 0511-4405222 或 021-87888822\n",
    "\n",
    "匹配腾讯QQ号：'[1-9][0-9]{4,}'\n",
    "评注：腾讯QQ号从10000开始\n",
    "\n",
    "匹配中国邮政编码：[1-9]\\d{5}(?!\\d)\n",
    "评注：中国邮政编码为6位数字\n",
    "\n",
    "匹配身份证：\\d{15}|\\d{18}\n",
    "评注：中国的身份证为15位或18位\n",
    "\n",
    "匹配ip地址：\\d+.\\d+.\\d+.\\d+"
   ]
  },
  {
   "attachments": {},
   "cell_type": "markdown",
   "metadata": {},
   "source": [
    "带1-2位小数的正数或负数：^(\\-)?\\d+(\\.\\d{1,2})?$\n",
    "\n",
    "正数、负数、和小数：^(\\-|\\+)?\\d+(\\.\\d+)?$\n",
    "\n",
    "有两位小数的正实数：^[0-9]+(.[0-9]{2})?$\n",
    "\n",
    "有1~3位小数的正实数：^[0-9]+(.[0-9]{1,3})?$\n",
    "\n",
    "非零的正整数：^[1-9]\\d*$ 或 ^([1-9][0-9]*){1,3}$ 或 ^\\+?[1-9][0-9]*$\n",
    "\n",
    "非零的负整数：-^[1-9]\\d*$\n",
    "\n",
    "非负整数：^\\d+$  \n",
    "\n",
    "非正整数：^-[1-9]\\d*|0$ 或 ^((-\\d+)|(0+))$"
   ]
  },
  {
   "cell_type": "code",
   "execution_count": null,
   "metadata": {},
   "outputs": [],
   "source": []
  }
 ],
 "metadata": {
  "kernelspec": {
   "display_name": "base",
   "language": "python",
   "name": "python3"
  },
  "language_info": {
   "codemirror_mode": {
    "name": "ipython",
    "version": 3
   },
   "file_extension": ".py",
   "mimetype": "text/x-python",
   "name": "python",
   "nbconvert_exporter": "python",
   "pygments_lexer": "ipython3",
   "version": "3.7.0"
  },
  "orig_nbformat": 4
 },
 "nbformat": 4,
 "nbformat_minor": 2
}
