{
 "cells": [
  {
   "attachments": {},
   "cell_type": "markdown",
   "metadata": {},
   "source": [
    "- 算术运算符：+、-、*、/、//、%、**\n",
    "- 关系运算符：>、<、==、<=、>=、!=，可以**连续使用**\n",
    "- 测试运算符：in、not in、is、is not\n",
    "- 逻辑运算符：and、or、not，注意**短路求值**，使用时注意先后顺序可提升运行效率\n",
    "- 位运算符：~、&、|、 ^、 <<、>>"
   ]
  },
  {
   "cell_type": "code",
   "execution_count": 3,
   "metadata": {},
   "outputs": [
    {
     "name": "stdout",
     "output_type": "stream",
     "text": [
      "True\n",
      "False\n",
      "False\n",
      "True\n"
     ]
    }
   ],
   "source": [
    "print(1<2<3)\n",
    "print(1>2<3)\n",
    "print(1<2>3)\n",
    "print(1<3>2)"
   ]
  },
  {
   "cell_type": "code",
   "execution_count": 15,
   "metadata": {},
   "outputs": [
    {
     "name": "stdout",
     "output_type": "stream",
     "text": [
      "==================================================\n",
      "negative or zero\n",
      "==================================================\n",
      "negative\n",
      "==================================================\n",
      "negative or zero\n"
     ]
    }
   ],
   "source": [
    "#单分支结构\n",
    "x = -1\n",
    "if x > 0:\n",
    "    print('positive')\n",
    "print(\"=\"*50)\n",
    "\n",
    "#双分支结构\n",
    "if x > 0:\n",
    "    print('positive')\n",
    "else:\n",
    "    print('negative or zero')\n",
    "print(\"=\"*50)\n",
    "\n",
    "#多分支结构\n",
    "if x > 0:\n",
    "    print('positive')\n",
    "elif x < 0:  #elif是else if的缩写\n",
    "    print('negative')\n",
    "else:\n",
    "    print('zero')\n",
    "print(\"=\"*50)\n",
    "\n",
    "#嵌套分支结构\n",
    "if x > 0:\n",
    "    if x > 10:\n",
    "        print('x > 10')\n",
    "    else:\n",
    "        print('0 > x < 10')\n",
    "else:\n",
    "    print('negative or zero')"
   ]
  },
  {
   "attachments": {},
   "cell_type": "markdown",
   "metadata": {},
   "source": [
    "#### value1 if condition else value2形式\n",
    "- 当条件表达式condition的值与True等价时，表达式的值为value1，否则表达式的值为value2\n",
    "- 在value1和value2中可使用复杂表达式"
   ]
  },
  {
   "cell_type": "code",
   "execution_count": 18,
   "metadata": {},
   "outputs": [
    {
     "name": "stdout",
     "output_type": "stream",
     "text": [
      "positive\n",
      "positive\n",
      "positive\n"
     ]
    }
   ],
   "source": [
    "x = 10\n",
    "print('positive') if x>0 else print('negative')\n",
    "\n",
    "print('positive' if x>0 else 'negative')\n",
    "\n",
    "b='positive' if x>0 else 'negative'\n",
    "print(b)"
   ]
  },
  {
   "cell_type": "code",
   "execution_count": 1,
   "metadata": {
    "ExecuteTime": {
     "end_time": "2022-07-02T11:07:19.600404Z",
     "start_time": "2022-07-02T11:07:19.594033Z"
    }
   },
   "outputs": [
    {
     "name": "stdout",
     "output_type": "stream",
     "text": [
      "Audi\n",
      "BMW\n",
      "Subaru\n",
      "Toyota\n"
     ]
    }
   ],
   "source": [
    "cars=['audi','bmw','subaru','toyota']\n",
    "\n",
    "for car in cars:\n",
    "    if car == 'bmw':\n",
    "        print(car.upper())\n",
    "    else:\n",
    "        print(car.title())"
   ]
  },
  {
   "cell_type": "code",
   "execution_count": 2,
   "metadata": {
    "ExecuteTime": {
     "end_time": "2022-07-02T11:07:19.631861Z",
     "start_time": "2022-07-02T11:07:19.602455Z"
    }
   },
   "outputs": [
    {
     "data": {
      "text/plain": [
       "True"
      ]
     },
     "execution_count": 2,
     "metadata": {},
     "output_type": "execute_result"
    }
   ],
   "source": [
    "car = 'bmw'#给变量赋值，将变量car的值设置为bmw\n",
    "car == 'bmw'#发问，变量car的值是否为bmw"
   ]
  },
  {
   "attachments": {},
   "cell_type": "markdown",
   "metadata": {},
   "source": [
    "## Practice"
   ]
  },
  {
   "attachments": {},
   "cell_type": "markdown",
   "metadata": {},
   "source": [
    "用户输入若干个分数，求所有分数的平均分。每输入一个分数后询问是否继续输入下一个分数，回答“yes”就继续输入下一个分数，回答“no”就停止输入分数。"
   ]
  },
  {
   "cell_type": "code",
   "execution_count": 20,
   "metadata": {},
   "outputs": [
    {
     "name": "stdout",
     "output_type": "stream",
     "text": [
      "只能输入yes或no\n",
      "54.0\n"
     ]
    }
   ],
   "source": [
    "numbers = []                              #使用列表存放临时数据\n",
    "while True:\n",
    "    x = input('请输入一个成绩：')\n",
    "    try:                                  #异常处理结构\n",
    "        numbers.append(float(x))\n",
    "    except:\n",
    "        print('不是合法成绩')\n",
    "    while True:\n",
    "        flag = input('继续输入吗？（yes/no）').lower()\n",
    "        if flag not in ('yes', 'no'):     #限定用户输入内容必须为yes或no\n",
    "            print('只能输入yes或no')\n",
    "        else:\n",
    "            break\n",
    "    if flag=='no':\n",
    "        break\n",
    "\n",
    "print(sum(numbers)/len(numbers))"
   ]
  },
  {
   "attachments": {},
   "cell_type": "markdown",
   "metadata": {},
   "source": [
    "判断今天是今年的第几天\n"
   ]
  },
  {
   "cell_type": "code",
   "execution_count": 21,
   "metadata": {},
   "outputs": [
    {
     "name": "stdout",
     "output_type": "stream",
     "text": [
      "145\n"
     ]
    }
   ],
   "source": [
    "import time\n",
    "date = time.localtime()                         #获取当前日期时间\n",
    "year, month, day = date[:3]\n",
    "day_month = [31, 28, 31, 30, 31, 30, 31, 31, 30, 31, 30, 31]\n",
    "\n",
    "if year%400==0 or (year%4==0 and year%100!=0):  #判断是否为闰年\n",
    "    day_month[1] = 29\n",
    "\n",
    "if month==1:\n",
    "    print(day)\n",
    "else:\n",
    "    print(sum(day_month[:month-1])+day)"
   ]
  },
  {
   "cell_type": "code",
   "execution_count": 23,
   "metadata": {},
   "outputs": [
    {
     "data": {
      "text/plain": [
       "False"
      ]
     },
     "execution_count": 23,
     "metadata": {},
     "output_type": "execute_result"
    }
   ],
   "source": [
    "#闰年判断可以直接使用calendar模块的方法。\n",
    "import calendar\n",
    "calendar.isleap(2023)"
   ]
  },
  {
   "cell_type": "code",
   "execution_count": 24,
   "metadata": {},
   "outputs": [
    {
     "name": "stdout",
     "output_type": "stream",
     "text": [
      "145\n"
     ]
    }
   ],
   "source": [
    "# 优化\n",
    "import time\n",
    "import calendar\n",
    "date = time.localtime()                         #获取当前日期时间\n",
    "year, month, day = date[:3]\n",
    "day_month = [31, 28, 31, 30, 31, 30, 31, 31, 30, 31, 30, 31]\n",
    "\n",
    "if calendar.isleap(year):  #判断是否为闰年\n",
    "    day_month[1] = 29\n",
    "\n",
    "if month==1:\n",
    "    print(day)\n",
    "else:\n",
    "    print(sum(day_month[:month-1])+day)"
   ]
  },
  {
   "cell_type": "code",
   "execution_count": null,
   "metadata": {},
   "outputs": [],
   "source": []
  }
 ],
 "metadata": {
  "kernelspec": {
   "display_name": "Python 3",
   "language": "python",
   "name": "python3"
  },
  "language_info": {
   "codemirror_mode": {
    "name": "ipython",
    "version": 3
   },
   "file_extension": ".py",
   "mimetype": "text/x-python",
   "name": "python",
   "nbconvert_exporter": "python",
   "pygments_lexer": "ipython3",
   "version": "3.7.0"
  }
 },
 "nbformat": 4,
 "nbformat_minor": 2
}
