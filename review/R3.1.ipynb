{
 "cells": [
  {
   "attachments": {},
   "cell_type": "markdown",
   "metadata": {},
   "source": [
    "### while\n",
    "for循环和while循环都可以带else, 如果循环是因为break结束的，就不执行else中的代码,只有当while/for循环正常结束时才会执行\n",
    "```\n",
    "while 条件表达式:\n",
    "\t循环体\n",
    "[else:                    \n",
    "\telse子句代码块]\n",
    "\n",
    "\n",
    "for 取值 in 序列或迭代对象:\n",
    "\t循环体\n",
    "[else:\n",
    "    else子句代码块]\n",
    "\n",
    "```"
   ]
  },
  {
   "attachments": {},
   "cell_type": "markdown",
   "metadata": {},
   "source": [
    "为了优化程序以获得更高效率和运行速度，应尽量**减少循环内部不必要的计算**，将与循环变量无关的代码尽可能地提取到循环之外。对于使用多重循环嵌套的情况，应尽量**减少内层循环中不必要的计算**，尽可能地向外提"
   ]
  },
  {
   "attachments": {},
   "cell_type": "markdown",
   "metadata": {},
   "source": [
    "- for循环：适用于遍历列表，但不适合对列表进行修改，一般用于循环次数难以提前确定的情况\n",
    "- while循环：在遍历列表的同时对其进行修改，一般用于循环次数可以提前确定的情况\n",
    "- for循环和while循环都可以带else\n"
   ]
  },
  {
   "cell_type": "code",
   "execution_count": 6,
   "metadata": {
    "ExecuteTime": {
     "end_time": "2022-07-13T15:50:51.640724Z",
     "start_time": "2022-07-13T15:50:51.633251Z"
    }
   },
   "outputs": [
    {
     "name": "stdout",
     "output_type": "stream",
     "text": [
      "1 2 3 4 5 end\n"
     ]
    }
   ],
   "source": [
    "n = 1\n",
    "while n <= 5:\n",
    "    print(n,end=' ')\n",
    "    n += 1\n",
    "else:\n",
    "    print(\"end\")"
   ]
  },
  {
   "cell_type": "code",
   "execution_count": 7,
   "metadata": {},
   "outputs": [
    {
     "name": "stdout",
     "output_type": "stream",
     "text": [
      "1 2 3 4 5 end\n"
     ]
    }
   ],
   "source": [
    "n = 1\n",
    "for i in range(1,6):\n",
    "    print(n,end=' ')\n",
    "    n += 1\n",
    "else:\n",
    "    print(\"end\")"
   ]
  },
  {
   "attachments": {},
   "cell_type": "markdown",
   "metadata": {},
   "source": [
    "### 使用标志"
   ]
  },
  {
   "cell_type": "code",
   "execution_count": 8,
   "metadata": {
    "ExecuteTime": {
     "end_time": "2022-07-13T16:04:12.769325Z",
     "start_time": "2022-07-13T16:04:03.682524Z"
    }
   },
   "outputs": [
    {
     "name": "stdout",
     "output_type": "stream",
     "text": [
      "go\n"
     ]
    }
   ],
   "source": [
    "mesg = \"\\nTell me something, and I will repeat it back to you:\"\n",
    "mesg += \"\\n(Enter 'quit' to end the program)\\n\"\n",
    "\n",
    "flag = True#标志，让程序最开始处于活动状态\n",
    "while flag:\n",
    "    message = input(mesg)\n",
    "    \n",
    "    if message == 'quit':\n",
    "        flag = False#导致循环不再继续\n",
    "    else:\n",
    "        print(message)"
   ]
  },
  {
   "attachments": {},
   "cell_type": "markdown",
   "metadata": {},
   "source": [
    "### 使用break退出循环"
   ]
  },
  {
   "attachments": {},
   "cell_type": "markdown",
   "metadata": {
    "ExecuteTime": {
     "end_time": "2022-07-13T16:12:23.388617Z",
     "start_time": "2022-07-13T16:12:23.372735Z"
    }
   },
   "source": [
    "#### break语句:一旦被执行将使整个循环提前结束\n",
    "不再执行余下代码，退出整个循环\n",
    "除非break语句让代码更简单或更清晰，否则不要轻易使用"
   ]
  },
  {
   "cell_type": "code",
   "execution_count": 31,
   "metadata": {
    "ExecuteTime": {
     "end_time": "2022-07-13T16:08:48.215847Z",
     "start_time": "2022-07-13T16:08:23.443844Z"
    }
   },
   "outputs": [
    {
     "name": "stdout",
     "output_type": "stream",
     "text": [
      "\n",
      "Please enter the name of a city you have visited:\n",
      "(Enter 'quit' when you are finished.) New York\n",
      "I'd love to go to New York!\n",
      "\n",
      "Please enter the name of a city you have visited:\n",
      "(Enter 'quit' when you are finished.) San Francisco\n",
      "I'd love to go to San Francisco!\n",
      "\n",
      "Please enter the name of a city you have visited:\n",
      "(Enter 'quit' when you are finished.) quit\n"
     ]
    }
   ],
   "source": [
    "mesg = \"\\nPlease enter the name of a city you have visited:\"\n",
    "mesg += \"\\n(Enter 'quit' when you are finished.) \"\n",
    "\n",
    "while True:#不断运行直到遇到break\n",
    "    city = input(mesg)\n",
    "    \n",
    "    if city == 'quit':\n",
    "        break\n",
    "    else:\n",
    "        print(f\"I'd love to go to {city.title()}!\")"
   ]
  },
  {
   "cell_type": "code",
   "execution_count": 15,
   "metadata": {},
   "outputs": [
    {
     "name": "stdout",
     "output_type": "stream",
     "text": [
      "97\n"
     ]
    }
   ],
   "source": [
    "# 计算小于100的最大素数\n",
    "for n in range(100, 1, -1):\n",
    "    for i in range(2, n):\n",
    "        #如果n能被i整除，那么n不是素数\n",
    "\t    if n%i == 0: break #当不是素数时退出for i in range(2, n)循环，执行for n in range(100, 1, -1)循环判断下一个值\n",
    "    else:\n",
    "        #for循环中的else语句块,只有当for循环正常结束时才会执行，即此时n不能被任何一个i整除\n",
    "        #如果n不能被任何一个i整除，那么n是素数\n",
    "        print(n)\t\n",
    "        break #退出for n in range(100, 1, -1)循环，因为已经找到了最大素数"
   ]
  },
  {
   "cell_type": "code",
   "execution_count": 17,
   "metadata": {},
   "outputs": [
    {
     "name": "stdout",
     "output_type": "stream",
     "text": [
      "97 89 83 79 73 71 67 61 59 53 47 43 41 37 31 29 23 19 17 13 11 7 5 3 2 "
     ]
    }
   ],
   "source": [
    "# 计算小于100的所有素数\n",
    "for n in range(100, 1, -1):\n",
    "    for i in range(2, n):\n",
    "        #如果n能被i整除，那么n不是素数\n",
    "\t    if n%i == 0: break #当不是素数时退出for i in range(2, n)循环，执行for n in range(100, 1, -1)循环判断下一个值\n",
    "    else:\n",
    "        #for循环中的else语句块,只有当for循环正常结束时才会执行，即此时n不能被任何一个i整除\n",
    "        #如果n不能被任何一个i整除，那么n是素数\n",
    "        print(n,end=' ')\t\n",
    "        #break #退出for n in range(100, 1, -1)循环，因为已经找到了最大素数"
   ]
  },
  {
   "attachments": {},
   "cell_type": "markdown",
   "metadata": {},
   "source": [
    "### 在循环中使用continue"
   ]
  },
  {
   "attachments": {},
   "cell_type": "markdown",
   "metadata": {},
   "source": [
    "#### continue语句：终止当前循环，忽略continue之后的语句，提前进入下一次循环\n",
    "返回到循环开头，并根据条件测试结果决定是否继续执行循环"
   ]
  },
  {
   "cell_type": "code",
   "execution_count": 18,
   "metadata": {
    "ExecuteTime": {
     "end_time": "2022-07-13T16:19:36.534975Z",
     "start_time": "2022-07-13T16:19:36.517423Z"
    }
   },
   "outputs": [
    {
     "name": "stdout",
     "output_type": "stream",
     "text": [
      "1 3 5 7 9 "
     ]
    }
   ],
   "source": [
    "n = 0\n",
    "while n < 10:\n",
    "    n += 1\n",
    "    if n %2 == 0:#当数为偶数时返回循环开头\n",
    "        continue\n",
    "    print(n,end=' ')"
   ]
  },
  {
   "attachments": {},
   "cell_type": "markdown",
   "metadata": {},
   "source": [
    "## Practice"
   ]
  },
  {
   "cell_type": "code",
   "execution_count": 25,
   "metadata": {},
   "outputs": [
    {
     "name": "stdout",
     "output_type": "stream",
     "text": [
      "1+2+3+…+1000000 =  500000500000 time: 0.21455168724060059\n",
      "1+2+3+…+1000000 =  500000500000 time: 0.06013226509094238\n"
     ]
    }
   ],
   "source": [
    "#计算1+2+3+…+1000000 的值。\n",
    "s = 0\n",
    "import time\n",
    "start = time.time()\n",
    "for i in range(1,1000001):\n",
    "    s = s + i\n",
    "end=time.time()\n",
    "print('1+2+3+…+1000000 = ', s, 'time:', end-start)\n",
    "\n",
    "start = time.time()\n",
    "print('1+2+3+…+1000000 = ', sum(range(1,1000001)), 'time:', time.time()-start)\n"
   ]
  },
  {
   "cell_type": "code",
   "execution_count": 26,
   "metadata": {},
   "outputs": [
    {
     "name": "stdout",
     "output_type": "stream",
     "text": [
      "列表的第1个元素是：a\n",
      "列表的第2个元素是：b\n",
      "列表的第3个元素是：mpilgrim\n",
      "列表的第4个元素是：z\n",
      "列表的第5个元素是：example\n"
     ]
    }
   ],
   "source": [
    "a_list = ['a', 'b', 'mpilgrim', 'z', 'example']\n",
    "for i, v in enumerate(a_list, start=1):\n",
    "    print(f'列表的第{i}个元素是：{v}')"
   ]
  },
  {
   "cell_type": "code",
   "execution_count": 28,
   "metadata": {},
   "outputs": [
    {
     "name": "stdout",
     "output_type": "stream",
     "text": [
      "7 14 21 28 42 49 56 63 77 84 91 98 "
     ]
    }
   ],
   "source": [
    "# 求1~100之间能被7整除，但不能同时被5整除的所有整数\n",
    "for num in range(7, 101, 7):\n",
    "    if num%5 != 0:\n",
    "        print(num,end=\" \")"
   ]
  },
  {
   "attachments": {},
   "cell_type": "markdown",
   "metadata": {},
   "source": [
    "输出所有3位“水仙花数”。所谓n位水仙花数是指1个n位的十进制数，其各位数字的n次方之和等于该数本身。\n",
    "例如：153是水仙花数，因为153 = 1 + 125 + 27 "
   ]
  },
  {
   "cell_type": "code",
   "execution_count": 30,
   "metadata": {},
   "outputs": [
    {
     "name": "stdout",
     "output_type": "stream",
     "text": [
      "153 370 371 407 time: 0.004415035247802734\n"
     ]
    }
   ],
   "source": [
    "for i in range(100, 1000):\n",
    "    bai, shi, ge = map(int, str(i))\n",
    "    if ge**3 + shi**3 + bai**3 == i:\n",
    "        print(i,end=\" \")"
   ]
  },
  {
   "cell_type": "code",
   "execution_count": 32,
   "metadata": {},
   "outputs": [
    {
     "name": "stdout",
     "output_type": "stream",
     "text": [
      "153 370 371 407 time: 0.002001523971557617\n"
     ]
    }
   ],
   "source": [
    "for num in range(100, 1000):\n",
    "    if sum(map(lambda x:int(x)**3, str(num))) == num:\n",
    "        # map以参数序列中的每一个元素调用function函数，返回包含每次 function函数返回值的新列表\n",
    "        # sum函数对迭代器求和\n",
    "        print(num,end=\" \")"
   ]
  },
  {
   "attachments": {},
   "cell_type": "markdown",
   "metadata": {},
   "source": [
    "统计考试成绩中优、良、中、及格、不及格的人数"
   ]
  },
  {
   "cell_type": "code",
   "execution_count": 42,
   "metadata": {},
   "outputs": [
    {
     "name": "stdout",
     "output_type": "stream",
     "text": [
      "{'优秀': 3, '良': 9, '中': 8, '及格': 2, '不及格': 3}\n"
     ]
    }
   ],
   "source": [
    "scores = [89,70,49,87,92,84,73,71,78,81,90,37,\n",
    "          77,82,81,79,80,82,75,90,54,80,70,68,61]\n",
    "groups = {'优秀':0, '良':0, '中':0, '及格':0, '不及格':0}\n",
    "for score in scores:\n",
    "    if score>=90: groups['优秀'] += 1\n",
    "    elif score>=80: groups['良'] += 1\n",
    "    elif score>=70: groups['中'] += 1\n",
    "    elif score>=60: groups['及格'] += 1\n",
    "    else: groups['不及格'] += 1\n",
    "print(groups)"
   ]
  },
  {
   "attachments": {},
   "cell_type": "markdown",
   "metadata": {},
   "source": [
    "打印九九乘法表"
   ]
  },
  {
   "cell_type": "code",
   "execution_count": 48,
   "metadata": {},
   "outputs": [
    {
     "name": "stdout",
     "output_type": "stream",
     "text": [
      "1*1=1 \n",
      "\n",
      "2*1=2 2*2=4 \n",
      "\n",
      "3*1=3 3*2=6 3*3=9 \n",
      "\n",
      "4*1=4 4*2=8 4*3=12 4*4=16 \n",
      "\n",
      "5*1=5 5*2=10 5*3=15 5*4=20 5*5=25 \n",
      "\n",
      "6*1=6 6*2=12 6*3=18 6*4=24 6*5=30 6*6=36 \n",
      "\n",
      "7*1=7 7*2=14 7*3=21 7*4=28 7*5=35 7*6=42 7*7=49 \n",
      "\n",
      "8*1=8 8*2=16 8*3=24 8*4=32 8*5=40 8*6=48 8*7=56 8*8=64 \n",
      "\n",
      "9*1=9 9*2=18 9*3=27 9*4=36 9*5=45 9*6=54 9*7=63 9*8=72 9*9=81 \n",
      "\n"
     ]
    }
   ],
   "source": [
    "for i in range(1,10):\n",
    "    for j in range(1,i+1):\n",
    "        print('{0}*{1}={2}'.format(i,j,i*j), end=' ')\n",
    "        if j==i:print('\\n')"
   ]
  },
  {
   "attachments": {},
   "cell_type": "markdown",
   "metadata": {},
   "source": [
    "求200以内能被17整除的最大正整数"
   ]
  },
  {
   "cell_type": "code",
   "execution_count": 49,
   "metadata": {},
   "outputs": [
    {
     "name": "stdout",
     "output_type": "stream",
     "text": [
      "187\n"
     ]
    }
   ],
   "source": [
    "for i in range(200,0,-1):\n",
    "    if i%17 == 0:\n",
    "        print(i)\n",
    "        break"
   ]
  },
  {
   "cell_type": "code",
   "execution_count": 6,
   "metadata": {
    "ExecuteTime": {
     "end_time": "2022-07-14T06:31:28.018137Z",
     "start_time": "2022-07-14T06:31:28.010137Z"
    }
   },
   "outputs": [
    {
     "name": "stdout",
     "output_type": "stream",
     "text": [
      "['dog', 'cat', 'dog', 'goldfish', 'cat', 'rabbit', 'cat']\n",
      "['dog', 'dog', 'goldfish', 'rabbit']\n"
     ]
    }
   ],
   "source": [
    "pets = ['dog', 'cat', 'dog', 'goldfish', 'cat', 'rabbit', 'cat']\n",
    "print(pets)\n",
    "\n",
    "while 'cat' in pets:#不断运行直至没有\n",
    "    pets.remove('cat')\n",
    "    \n",
    "print(pets)"
   ]
  },
  {
   "cell_type": "code",
   "execution_count": 2,
   "metadata": {
    "ExecuteTime": {
     "end_time": "2022-07-13T16:43:11.835386Z",
     "start_time": "2022-07-13T16:42:59.823404Z"
    }
   },
   "outputs": [
    {
     "name": "stdout",
     "output_type": "stream",
     "text": [
      "\n",
      "Please input your age's number: 1\n",
      "You don't need to pay.\n",
      "\n",
      "Please input your age's number: 3\n",
      "You need to pay 15 dollors.\n",
      "\n",
      "Please input your age's number: 19\n",
      "You need to pay 15 dollors.\n",
      "\n",
      "Please input your age's number: quit\n"
     ]
    }
   ],
   "source": [
    "ages=\"\\nPlease input your age's number: \"\n",
    "while True:\n",
    "    age=input(ages)\n",
    "    if age=='quit':\n",
    "        break\n",
    "    else:\n",
    "        age=int(age)\n",
    "        if age>0 and age<3:\n",
    "            print(\"You don't need to pay.\")\n",
    "        elif age>3 and age<12:\n",
    "            print(\"You need to pay 10 dollars.\")\n",
    "        else:\n",
    "            print(\"You need to pay 15 dollors.\")"
   ]
  },
  {
   "attachments": {},
   "cell_type": "markdown",
   "metadata": {},
   "source": [
    "## 课外习题"
   ]
  },
  {
   "attachments": {},
   "cell_type": "markdown",
   "metadata": {},
   "source": [
    "3.运行后用户输入 4 位整数作为年份,判断其是否为闰年。"
   ]
  },
  {
   "cell_type": "code",
   "execution_count": 1,
   "metadata": {},
   "outputs": [
    {
     "name": "stdout",
     "output_type": "stream",
     "text": [
      "No\n"
     ]
    }
   ],
   "source": [
    "year=int(input('输入4位整数表示年份：'))\n",
    "#如果年份能被400整除,则为闰年;如果年份能被 4 整除但不能被 100 整除也为年。\n",
    "if year%400 ==0 or (year%4 ==0 and year%100 !=0):\n",
    "    print('Yes')\n",
    "else:\n",
    "    print('No')"
   ]
  },
  {
   "attachments": {},
   "cell_type": "markdown",
   "metadata": {},
   "source": [
    "4.编写程序,生成一个包含 50 个随机整数的列表,然后删除其中所有奇数(提示:从后向前删)"
   ]
  },
  {
   "cell_type": "code",
   "execution_count": 2,
   "metadata": {},
   "outputs": [
    {
     "name": "stdout",
     "output_type": "stream",
     "text": [
      "[72, 82, 30, 84, 37, 29, 51, 19, 39, 44, 94, 2, 17, 11, 36, 31, 67, 68, 9, 20, 5, 27, 96, 19, 25, 33, 48, 72, 79, 12, 12, 90, 0, 91, 63, 49, 67, 28, 11, 10, 90, 94, 57, 21, 10, 67, 9, 33, 43, 64]\n",
      "[72, 82, 30, 84, 44, 94, 2, 36, 68, 20, 96, 48, 72, 12, 12, 90, 0, 28, 10, 90, 94, 10, 64]\n"
     ]
    }
   ],
   "source": [
    "from random import choices\n",
    "data = choices(range(100),k=50)\n",
    "print(data)\n",
    "for index in range(len(data))[::-1]:\n",
    "    if data[index]%2 ==1:\n",
    "        del data[index]\n",
    "print(data)"
   ]
  },
  {
   "attachments": {},
   "cell_type": "markdown",
   "metadata": {},
   "source": [
    "5.编写程序,生成一个包含 20 个随机整数的列表然后对其中偶数下标的元素进行降序排列,奇数下标的元素不变(提示:使用切片)。"
   ]
  },
  {
   "cell_type": "code",
   "execution_count": 3,
   "metadata": {},
   "outputs": [
    {
     "name": "stdout",
     "output_type": "stream",
     "text": [
      "[45, 94, 30, 7, 18, 9, 61, 84, 68, 66, 44, 37, 48, 37, 26, 3, 38, 78, 90, 51]\n",
      "[94, 45, 30, 7, 18, 9, 61, 84, 68, 66, 44, 37, 48, 37, 26, 3, 38, 78, 90, 51]\n"
     ]
    }
   ],
   "source": [
    "from random import choices\n",
    "data= choices(range(100),k=20)\n",
    "print(data)\n",
    "data[:2] = sorted(data[:2],reverse=True)\n",
    "print(data)"
   ]
  },
  {
   "attachments": {},
   "cell_type": "markdown",
   "metadata": {},
   "source": [
    "6.编写程序,用户从键盘输入小于 1000 的整数,对其进行因式分解。例如,10=2X5.60=2X2X3X5"
   ]
  },
  {
   "cell_type": "code",
   "execution_count": 5,
   "metadata": {},
   "outputs": [
    {
     "name": "stdout",
     "output_type": "stream",
     "text": [
      "60=2*2*3*5\n"
     ]
    }
   ],
   "source": [
    "x=int(input('输入小于1000的正整数：'))\n",
    "t =x\n",
    "i=2\n",
    "result = []\n",
    "while True:\n",
    "    if t == 1:\n",
    "        break\n",
    "    if t%i ==0:\n",
    "        result.append(i)\n",
    "        t = t //i\n",
    "    else:\n",
    "        i=i+1\n",
    "print(f'{x}={\"*\".join(map(str,result))}')"
   ]
  },
  {
   "attachments": {},
   "cell_type": "markdown",
   "metadata": {},
   "source": [
    "7.编写程序,至少使用两种不同的方法计算 100 以内所有奇数的和。"
   ]
  },
  {
   "cell_type": "code",
   "execution_count": 6,
   "metadata": {},
   "outputs": [
    {
     "name": "stdout",
     "output_type": "stream",
     "text": [
      "2500\n",
      "2500\n",
      "2500\n"
     ]
    }
   ],
   "source": [
    "print(sum([i for i in range(1,100) if i%2==1]))\n",
    "print(sum(range(1,100)[::2]))\n",
    "print(sum(range(1,100,2)))"
   ]
  },
  {
   "attachments": {},
   "cell_type": "markdown",
   "metadata": {},
   "source": [
    "8.编写程序,输出所有由 1,2,3,4 这四个数字组成的素数,并且在每个素数中每个数字只使用一次。"
   ]
  },
  {
   "cell_type": "code",
   "execution_count": 7,
   "metadata": {},
   "outputs": [
    {
     "name": "stdout",
     "output_type": "stream",
     "text": [
      "1423\n",
      "2143\n",
      "2341\n",
      "4231\n"
     ]
    }
   ],
   "source": [
    "from itertools import permutations\n",
    "def isPrime(n):\n",
    "    for i in range(2,int(pow(n,0.5))+1):\n",
    "        if n%i==0:\n",
    "            return False\n",
    "    return True\n",
    "\n",
    "a=(1,2,3,4)\n",
    "for i in permutations(a,4):\n",
    "    n=int(''.join(map(str,i)))\n",
    "    if isPrime(n):\n",
    "        print(n)"
   ]
  },
  {
   "attachments": {},
   "cell_type": "markdown",
   "metadata": {},
   "source": [
    "9.实现分段函数计算"
   ]
  },
  {
   "cell_type": "code",
   "execution_count": 8,
   "metadata": {},
   "outputs": [
    {
     "name": "stdout",
     "output_type": "stream",
     "text": [
      "x=2.0,y=2.0\n"
     ]
    }
   ],
   "source": [
    "x=float(input('输入自变量x:'))\n",
    "if x<0:\n",
    "    y=6\n",
    "elif x<5:\n",
    "    y=x\n",
    "elif x<10:\n",
    "    y=3*x-5\n",
    "elif x<20:\n",
    "    y=0.5*x-2\n",
    "else:\n",
    "    y=0\n",
    "print(f'x={x},y={y}')"
   ]
  },
  {
   "attachments": {},
   "cell_type": "markdown",
   "metadata": {},
   "source": [
    "12.输出小于100的所有丑数"
   ]
  },
  {
   "cell_type": "code",
   "execution_count": 11,
   "metadata": {},
   "outputs": [
    {
     "name": "stdout",
     "output_type": "stream",
     "text": [
      "1 2 3 4 5 6 8 9 10 12 15 16 18 20 24 25 27 30 32 36 40 45 48 50 54 60 64 72 75 80 81 90 96 100 108 120 125 128 135 144 150 160 162 180 192 200 216 225 240 243 250 256 270 288 300 320 324 360 375 384 400 405 432 450 480 486 500 512 540 576 600 625 640 648 675 720 729 750 768 800 810 864 900 960 972 1000 1024 1080 1125 1152 1200 1215 1250 1280 1296 1350 1440 1458 1500 1536 "
     ]
    }
   ],
   "source": [
    "#丑数：只包含因子2,3,5的正整数,不能被2,3,5之外的数整除\n",
    "def isUgly(n):\n",
    "    while n%2==0:\n",
    "        n=n//2\n",
    "    while n%3==0:\n",
    "        n=n//3\n",
    "    while n%5==0:\n",
    "        n=n//5\n",
    "    return n==1\n",
    "\n",
    "count=0\n",
    "num=1\n",
    "while count<100:\n",
    "    if isUgly(num):\n",
    "        count+=1\n",
    "        print(num,end=' ')\n",
    "    num+=1"
   ]
  },
  {
   "cell_type": "code",
   "execution_count": null,
   "metadata": {},
   "outputs": [],
   "source": []
  }
 ],
 "metadata": {
  "kernelspec": {
   "display_name": "Python 3",
   "language": "python",
   "name": "python3"
  },
  "language_info": {
   "codemirror_mode": {
    "name": "ipython",
    "version": 3
   },
   "file_extension": ".py",
   "mimetype": "text/x-python",
   "name": "python",
   "nbconvert_exporter": "python",
   "pygments_lexer": "ipython3",
   "version": "3.7.0"
  }
 },
 "nbformat": 4,
 "nbformat_minor": 2
}
