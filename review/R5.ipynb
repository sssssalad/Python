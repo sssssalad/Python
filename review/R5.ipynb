{
 "cells": [
  {
   "attachments": {},
   "cell_type": "markdown",
   "metadata": {},
   "source": [
    "## Practice"
   ]
  },
  {
   "attachments": {},
   "cell_type": "markdown",
   "metadata": {},
   "source": [
    "编写函数计算圆的面积"
   ]
  },
  {
   "cell_type": "code",
   "execution_count": 53,
   "metadata": {},
   "outputs": [
    {
     "name": "stdout",
     "output_type": "stream",
     "text": [
      "12.566370614359172\n"
     ]
    }
   ],
   "source": [
    "from math import pi as PI\n",
    "def area(r):\n",
    "    return PI*r**2\n",
    "\n",
    "print(area(2))"
   ]
  },
  {
   "attachments": {},
   "cell_type": "markdown",
   "metadata": {},
   "source": [
    "编写函数，接收任意多个实数,返回一个元组，其中第一个元素为所有参数的平均值，其他元素为所有参数中大于平均值的实数。"
   ]
  },
  {
   "cell_type": "code",
   "execution_count": 56,
   "metadata": {},
   "outputs": [
    {
     "name": "stdout",
     "output_type": "stream",
     "text": [
      "(5.5, 6, 7, 8, 9, 10)\n"
     ]
    }
   ],
   "source": [
    "def greater_than_ave(*args):\n",
    "    ave=sum(args)/len(args)\n",
    "    result[0]=ave\n",
    "    for i in args:\n",
    "        if i>ave:\n",
    "            result.append(i)\n",
    "    return tuple(result)\n",
    "\n",
    "print(greater_than_ave(1,2,3,4,5,6,7,8,9,10))"
   ]
  },
  {
   "attachments": {},
   "cell_type": "markdown",
   "metadata": {},
   "source": [
    "编写函数，接收字符串参数，返回一个元组，其中第一个元素为大写字母个数，第二个元素为小写字母个数。"
   ]
  },
  {
   "cell_type": "code",
   "execution_count": 57,
   "metadata": {},
   "outputs": [
    {
     "name": "stdout",
     "output_type": "stream",
     "text": [
      "(2, 8)\n"
     ]
    }
   ],
   "source": [
    "def count_upper_lower(s):\n",
    "    result=[0,0]\n",
    "    for i in s:\n",
    "        if i.isupper():\n",
    "            result[0]+=1\n",
    "        elif i.islower():\n",
    "            result[1]+=1\n",
    "    return tuple(result)\n",
    "\n",
    "print(count_upper_lower(\"Hello World\"))"
   ]
  },
  {
   "attachments": {},
   "cell_type": "markdown",
   "metadata": {},
   "source": [
    "编写函数，接收包含20个整数的列表lst和一个整数k作为参数，返回新列表。\n",
    "\n",
    "处理规则为：将列表lst中下标k（不包括k）之前的元素逆序，下标k（包括k）之后的元素逆序，然后将整个列表lst中的所有元素再逆序。"
   ]
  },
  {
   "cell_type": "code",
   "execution_count": 60,
   "metadata": {},
   "outputs": [
    {
     "name": "stdout",
     "output_type": "stream",
     "text": [
      "[6, 7, 8, 9, 10, 1, 2, 3, 4, 5]\n"
     ]
    }
   ],
   "source": [
    "def reverse_list(lst,k):\n",
    "    x=lst[:] #复制列表以免改变原列表\n",
    "    x[:k] = x[:k][::-1] #前k个元素反转\n",
    "    x[k:] = x[k:][::-1] #后面的元素反转\n",
    "    return x[::-1]\n",
    "\n",
    "print(reverse_list([1,2,3,4,5,6,7,8,9,10],5))"
   ]
  },
  {
   "attachments": {},
   "cell_type": "markdown",
   "metadata": {},
   "source": [
    "## 课后习题"
   ]
  },
  {
   "attachments": {},
   "cell_type": "markdown",
   "metadata": {},
   "source": [
    "7.编写函数，判断一个整数是否为素数，并编写主程序调用该函数。"
   ]
  },
  {
   "cell_type": "code",
   "execution_count": 1,
   "metadata": {},
   "outputs": [
    {
     "name": "stdout",
     "output_type": "stream",
     "text": [
      "7 is prime\n"
     ]
    }
   ],
   "source": [
    "def isPrime(n):\n",
    "    for i in range(2,int(pow(n,0.5))+1):\n",
    "        if n%i==0:\n",
    "            return False\n",
    "    return True\n",
    "if __name__==\"__main__\":\n",
    "    if isPrime(7):\n",
    "        print(\"7 is prime\")"
   ]
  },
  {
   "attachments": {},
   "cell_type": "markdown",
   "metadata": {},
   "source": [
    "8.编写函数，接收一个字符串，分别统计大写字母、小写字母、数字、其他字符的个数，\n",
    "并以元组的形式返回结果。"
   ]
  },
  {
   "cell_type": "code",
   "execution_count": 2,
   "metadata": {},
   "outputs": [
    {
     "name": "stdout",
     "output_type": "stream",
     "text": [
      "(2, 8, 3, 2)\n"
     ]
    }
   ],
   "source": [
    "def count(s):\n",
    "    result=[0,0,0,0]\n",
    "    for i in s:\n",
    "        if i.isupper():\n",
    "            result[0]+=1\n",
    "        elif i.islower():\n",
    "            result[1]+=1\n",
    "        elif i.isdigit():\n",
    "            result[2]+=1\n",
    "        else:\n",
    "            result[3]+=1\n",
    "    return tuple(result)\n",
    "\n",
    "print(count(\"Hello World 123\"))"
   ]
  },
  {
   "attachments": {},
   "cell_type": "markdown",
   "metadata": {},
   "source": [
    "10.编写函数，可以接收任意多个整数并输出其中的最大值和所有整数之和。"
   ]
  },
  {
   "cell_type": "code",
   "execution_count": 5,
   "metadata": {},
   "outputs": [
    {
     "name": "stdout",
     "output_type": "stream",
     "text": [
      "最大值： 10\n",
      "和： 55\n"
     ]
    }
   ],
   "source": [
    "def f(*num):\n",
    "    print(\"最大值：\",max(num))\n",
    "    print(\"和：\",sum(num))\n",
    "\n",
    "f(1,2,3,4,5,6,7,8,9,10)"
   ]
  },
  {
   "attachments": {},
   "cell_type": "markdown",
   "metadata": {},
   "source": [
    "11.编写函数，模拟内置函数sum()。"
   ]
  },
  {
   "cell_type": "code",
   "execution_count": 6,
   "metadata": {},
   "outputs": [
    {
     "data": {
      "text/plain": [
       "55"
      ]
     },
     "execution_count": 6,
     "metadata": {},
     "output_type": "execute_result"
    }
   ],
   "source": [
    "def f(*num):\n",
    "    s=0\n",
    "    for i in num:\n",
    "        s+=i\n",
    "    return s\n",
    "\n",
    "f(1,2,3,4,5,6,7,8,9,10)"
   ]
  },
  {
   "attachments": {},
   "cell_type": "markdown",
   "metadata": {},
   "source": [
    "12.编写函数，模拟内置函数sorted()。"
   ]
  },
  {
   "cell_type": "code",
   "execution_count": 10,
   "metadata": {},
   "outputs": [
    {
     "name": "stdout",
     "output_type": "stream",
     "text": [
      "[2, 4, 6, 7, 8, 9, 10, 10, 33, 50]\n"
     ]
    }
   ],
   "source": [
    "def my_sorted(lst,reverse=True):\n",
    "    for i in range(len(lst)-1):\n",
    "        for j in range(i+1,len(lst)):\n",
    "            if lst[i]>lst[j]:\n",
    "                lst[i],lst[j]=lst[j],lst[i]\n",
    "    if reverse:\n",
    "        return lst\n",
    "    else:\n",
    "        return lst[::-1]\n",
    "\n",
    "print(my_sorted([10,2,33,4,50,6,7,8,9,10]))"
   ]
  },
  {
   "attachments": {},
   "cell_type": "markdown",
   "metadata": {},
   "source": [
    "13.编写函数，模拟内置函数map()。"
   ]
  },
  {
   "cell_type": "code",
   "execution_count": 14,
   "metadata": {},
   "outputs": [
    {
     "name": "stdout",
     "output_type": "stream",
     "text": [
      "[5]\n"
     ]
    }
   ],
   "source": [
    "def my_map(f,*args):\n",
    "    for i in args:\n",
    "        yield f(i)\n",
    "\n",
    "print(list(my_map(len,\"Hello\")))"
   ]
  },
  {
   "attachments": {},
   "cell_type": "markdown",
   "metadata": {},
   "source": [
    "14.编写函数，模拟内置函数filter()。"
   ]
  },
  {
   "attachments": {},
   "cell_type": "markdown",
   "metadata": {},
   "source": [
    "filter(function, iterable):用于过滤序列，过滤掉不符合条件的元素，返回由符合条件元素组成的新列表的迭代器对象\n",
    "接收两个参数，第一个为函数，第二个为序列，序列的每个元素作为参数传递给函数进行判断，然后返回 True 或 False，最后将返回 True 的元素放到新列表中"
   ]
  },
  {
   "cell_type": "code",
   "execution_count": 15,
   "metadata": {},
   "outputs": [
    {
     "name": "stdout",
     "output_type": "stream",
     "text": [
      "[2, 4, 6, 8, 10]\n"
     ]
    }
   ],
   "source": [
    "def my_filter(f,*args):\n",
    "    for i in args:\n",
    "        if f(i):\n",
    "            yield i\n",
    "\n",
    "print(list(my_filter(lambda x:x%2==0,1,2,3,4,5,6,7,8,9,10)))"
   ]
  }
 ],
 "metadata": {
  "kernelspec": {
   "display_name": "Python 3",
   "language": "python",
   "name": "python3"
  },
  "language_info": {
   "codemirror_mode": {
    "name": "ipython",
    "version": 3
   },
   "file_extension": ".py",
   "mimetype": "text/x-python",
   "name": "python",
   "nbconvert_exporter": "python",
   "pygments_lexer": "ipython3",
   "version": "3.7.0"
  }
 },
 "nbformat": 4,
 "nbformat_minor": 2
}
