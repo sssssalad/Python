{
 "cells": [
  {
   "attachments": {},
   "cell_type": "markdown",
   "metadata": {},
   "source": [
    "# 面向对象程序设计OOP\n",
    "- 主要针对大型软件设计而提出\n",
    "  - 使得软件设计更加灵活\n",
    "  - 能够很好地支持代码复用和设计复用\n",
    "  - 使得代码具有更好的可读性和可扩展性\n",
    "  - 大大地降低了软件开发的难度\n",
    "  - 基本原则:计算机程序由多个能够起到子程序作用的单元或对象组合而成\n",
    "  - 关键性观念:将数据以及对数据的操作封装在一起，组成一个**相互依存、不可分割的整体**，即**对象**\n",
    "    - 如何对相同类型的对象进行分类、抽象，得出共同的特征而形成类\n",
    "    - 如何合理地定义和组织这些类以及类之间的关系"
   ]
  },
  {
   "attachments": {},
   "cell_type": "markdown",
   "metadata": {},
   "source": [
    "Python\n",
    "1. 完全采用面向对象程序设计的思想\n",
    "2. 完全支持其基本功能如**封装**、**继承**、**多态**、**对基类方法的覆盖或重写**\n",
    "3. 一切都可以称为对象，包括数字、字符串、列表、元组、字典、集合、range对象、zip对象、函数、类\n",
    "4. **可动态的为自定义类和对象增加或删除成员**，体现了Python的动态特性\n",
    "5. Python变量存储值的引用，自定义类的数据成员是该类所有对象共有的，既可以通过类访问，也可以通过该类任意对象进行访问\n",
    "- 成员属性和成员方法统称为**类的成员**\n",
    "- self：指向实例本身的引用，让实例能够访问类中的属性和方法。方法至少有一个self参数，且必须是方法的第一个参数。在方法中访问实例属性需要self前缀 \n",
    "\n",
    "  - 在IDLE交互模式下，“_”表示解释器中**最后一次显示的内容**或**最后一次语句正确执行的输出结果**\n",
    "  - 在程序中可使用'_'来表示**不关心该变量的值**"
   ]
  },
  {
   "attachments": {},
   "cell_type": "markdown",
   "metadata": {},
   "source": [
    "- **数据成员**：成员属性，用变量形式表示的对象属性\n",
    "    - **实例属性**：实例(对象)的数据成员，在构造函数中定义的数据成员。在类外部属于实例（对象），只能通过对象名访问\n",
    "    - **类属性**：类的数据成员，在类中所有方法外定义的数据成员。在类外部属于类，可通过类名、对象名访问\n",
    "      - 访问被隐藏的类属性 ：对象名.\\_\\_class\\_\\_.类属性名，t.\\_\\_class\\_\\_.value \n",
    "    - Python并没有对私有成员提供严格的访问保护机制,不存在严格意义上的私有成员\n",
    "      - xxx：公有成员,既可以在类内部进行访问，也可以在外部程序中使用\n",
    "        - 通过对象名直接调用,my_car.price\n",
    "        - 通过类名调用时**需显式将该方法的self参数**传递给一个对象名,Car.price(my_car)，用于明确指定访问哪个对象的数据成员 \n",
    "      - \\_\\_xxx：私有成员，以两个下划线'__'开始，**不可通过对象名直接调用**\n",
    "        - 在类内部属于对象的方法中，通过self调用\n",
    "        - 在外部通过Python支持的特殊方式：对象名._类名__属性名 调用 ,my_car._Car__secret\n",
    "      - _xxx：**受保护成员**，不能用'from module import *'导入；\n",
    "      - \\_\\_xxx\\_\\_：**系统定义的特殊成员**；"
   ]
  },
  {
   "attachments": {},
   "cell_type": "markdown",
   "metadata": {},
   "source": [
    "- **成员方法**：实例方法，用函数形式表示的对象行为\n",
    "    - 公有方法、私有方法、静态方法、类方法\n",
    "    - 公有方法和私有方法都可以访问属于类属性、实例属性,但私有方法不能通过对象调用，公有方法可以通过类名和对象名调用\n",
    "    - 静态方法和类方法都可以通过类名和对象名调用，但**不能直接访问实例属性**，只能访问类属性\n",
    "      - 私有方法：以两个下划线“__”开始，不能用对象名调用，通过对象名._类名__方法名调用，my_car._Car__secret() \n",
    "      - 公有方法：可以通过对象名调用my_car.get_name()，通过类调用Car.get_name(my_car)\n",
    "      - 静态方法：使用修饰器@staticmethod,不能直接访问实例属性，可以没有参数,\n",
    "      - 类方法：使用修饰器@classmethod，不能直接访问实例属性，一般将cls作为类方法的第一个参数名称，在调用时不需为第一个参数传递值 \n",
    "    - 属性：特殊成员方法\n",
    "      - 只读：使用@property修饰器，只读，不可修改删除 \n",
    "      - 可读可修改不可删除：value=property(__get,__set)\n",
    "      - 可读可修改可删除：value=property(__get,__set,__del)"
   ]
  },
  {
   "attachments": {},
   "cell_type": "markdown",
   "metadata": {},
   "source": [
    "### Class关键字：用于定义类，类名首字母一般要大写"
   ]
  },
  {
   "cell_type": "code",
   "execution_count": 16,
   "metadata": {
    "ExecuteTime": {
     "end_time": "2022-07-24T09:55:39.327512Z",
     "start_time": "2022-07-24T09:55:39.317510Z"
    }
   },
   "outputs": [],
   "source": [
    "class Dog():\n",
    "    \"\"\"模拟小狗\"\"\"\n",
    "    label='dog' #定义类属性\n",
    "    def __init__(self, name, age):##左右各两个\"_\"\n",
    "        \"\"\"定义实例的数据成员（属性）,定义和使用时必须以self为前缀\"\"\"\n",
    "        #特殊方法，每当根据Dog类创建新实例时，Python都会自动运行它\n",
    "        \n",
    "        #每个与类相关联的方法调用都自动传递实参self\n",
    "        #以self为前缀的变量可以供类中的所有办法使用\n",
    "        \n",
    "        assert isinstance(name,str),'name must be string' #断言,当名字不是字符串时报错\n",
    "        self.name = name#获取存储在形参name中的值并存储到变量name中\n",
    "        self.age = age\n",
    "        \n",
    "    def sit(self):\n",
    "        \"\"\"模拟小狗被命令时蹲下\"\"\"\n",
    "        print(self.name.title() + \" is now sitting.\")\n",
    "        \n",
    "    def roll_over(self):\n",
    "        \"\"\"模拟小狗被命令时打滚\"\"\"\n",
    "        print(self.name.title() + \" rolled over!\")"
   ]
  },
  {
   "attachments": {},
   "cell_type": "markdown",
   "metadata": {},
   "source": [
    "#### pass关键字：表示空语句，可用在类和函数的定义中，用于“占位”，之后再实现功能"
   ]
  },
  {
   "cell_type": "code",
   "execution_count": 9,
   "metadata": {},
   "outputs": [],
   "source": [
    "class A:\n",
    "    pass"
   ]
  },
  {
   "attachments": {},
   "cell_type": "markdown",
   "metadata": {},
   "source": [
    "#### my_dog为根据类创建的实例"
   ]
  },
  {
   "cell_type": "code",
   "execution_count": 11,
   "metadata": {
    "ExecuteTime": {
     "end_time": "2022-07-24T09:55:39.342509Z",
     "start_time": "2022-07-24T09:55:39.329512Z"
    }
   },
   "outputs": [],
   "source": [
    "my_dog = Dog(\"willie\", 6) #实例化对象"
   ]
  },
  {
   "attachments": {},
   "cell_type": "markdown",
   "metadata": {},
   "source": [
    "### 动态修改/增加类属性和数据成员\n",
    "**混入（mixin）机制**：Python类型的动态性使我们可以动态为自定义类及其对象增加新的属性和行为\n",
    "- 这在大型项目开发中非常方便和实用\n",
    "- 系统中所有用户分类非常复杂，不同用户有不同行为和权限，我们可以**独立的定义一些行为**，**根据需要**为不同用户设置相应的行为能力"
   ]
  },
  {
   "cell_type": "code",
   "execution_count": 14,
   "metadata": {},
   "outputs": [
    {
     "name": "stdout",
     "output_type": "stream",
     "text": [
      "cat\n",
      "iii black\n"
     ]
    }
   ],
   "source": [
    "my_dog.label='cat' #修改类属性的值\n",
    "print(my_dog.label)\n",
    "my_dog.name='iii' #修改实例属性的值\n",
    "my_dog.color='black' #动态增加类属性\n",
    "print(my_dog.name , my_dog.color)"
   ]
  },
  {
   "cell_type": "code",
   "execution_count": 15,
   "metadata": {},
   "outputs": [
    {
     "name": "stdout",
     "output_type": "stream",
     "text": [
      "50\n"
     ]
    }
   ],
   "source": [
    "import types\n",
    "\n",
    "def setSpeed(self, s): \n",
    "    self.speed = s\n",
    "\n",
    "my_dog.setSpeed = types.MethodType(setSpeed, my_dog) #动态增加成员方法\n",
    "my_dog.setSpeed(50)                                #调用成员方法\n",
    "print(my_dog.speed)"
   ]
  },
  {
   "attachments": {},
   "cell_type": "markdown",
   "metadata": {},
   "source": [
    "#### 可使用isinstance()测试一个对象是否为某个类的实例"
   ]
  },
  {
   "cell_type": "code",
   "execution_count": 5,
   "metadata": {},
   "outputs": [
    {
     "data": {
      "text/plain": [
       "True"
      ]
     },
     "execution_count": 5,
     "metadata": {},
     "output_type": "execute_result"
    }
   ],
   "source": [
    "isinstance(my_dog, Dog) #判断一个实例是否属于特定类"
   ]
  },
  {
   "attachments": {},
   "cell_type": "markdown",
   "metadata": {},
   "source": [
    "### 私有成员、共有成员"
   ]
  },
  {
   "cell_type": "code",
   "execution_count": 50,
   "metadata": {},
   "outputs": [
    {
     "name": "stdout",
     "output_type": "stream",
     "text": [
      "0\n",
      "------------------\n",
      "0\n",
      "1\n",
      "------------------\n",
      "1\n"
     ]
    }
   ],
   "source": [
    "class A:\n",
    "    def __init__(self, value1=0, value2=1):\n",
    "        self.value1 = value1\n",
    "        self.__value2 = value2 #私有属性（私有数据成员）\n",
    "    def show(self):\n",
    "\t        print(self.value1)\n",
    "\t        print(self.__value2)\n",
    "\n",
    "a = A()\n",
    "print(a.value1)\n",
    "print('------------------')\n",
    "a.show() #在类内部访问对象的私有属性（私有数据成员）\n",
    "print('------------------')\n",
    "print(a._A__value2) #在外部访问对象私有属性（私有数据成员）"
   ]
  },
  {
   "attachments": {},
   "cell_type": "markdown",
   "metadata": {},
   "source": [
    "访问对象所属类被暂时隐藏的成员"
   ]
  },
  {
   "cell_type": "code",
   "execution_count": 1,
   "metadata": {},
   "outputs": [
    {
     "name": "stdout",
     "output_type": "stream",
     "text": [
      "100\n",
      "200\n"
     ]
    },
    {
     "data": {
      "text/plain": [
       "100"
      ]
     },
     "execution_count": 1,
     "metadata": {},
     "output_type": "execute_result"
    }
   ],
   "source": [
    "class T:\n",
    "    value = 100\n",
    "    \n",
    "t=T()\n",
    "print(t.value)\n",
    "t.value=200 #实例属性会屏蔽同名的类属性\n",
    "print(t.value) #访问实例属性\n",
    "t.__class__.value #访问被隐藏的类属性"
   ]
  },
  {
   "cell_type": "code",
   "execution_count": 48,
   "metadata": {},
   "outputs": [
    {
     "data": {
      "text/plain": [
       "8"
      ]
     },
     "execution_count": 48,
     "metadata": {},
     "output_type": "execute_result"
    }
   ],
   "source": [
    "3+5"
   ]
  },
  {
   "cell_type": "code",
   "execution_count": 49,
   "metadata": {},
   "outputs": [
    {
     "data": {
      "text/plain": [
       "7"
      ]
     },
     "execution_count": 49,
     "metadata": {},
     "output_type": "execute_result"
    }
   ],
   "source": [
    "_-1 #_表示上一次输出的结果"
   ]
  },
  {
   "attachments": {},
   "cell_type": "markdown",
   "metadata": {
    "ExecuteTime": {
     "end_time": "2022-07-21T11:42:53.585093Z",
     "start_time": "2022-07-21T11:42:53.553011Z"
    }
   },
   "source": [
    "### 调用方法\n",
    "在Python中，**函数**和**方法**是有区别的。**方法**一般指与特定实例绑定的函数，通过对象调用方法时，**对象本身**将被作为**第一个参数**隐式传递过去，普通函数并不具备这个特点。"
   ]
  },
  {
   "cell_type": "code",
   "execution_count": 24,
   "metadata": {},
   "outputs": [],
   "source": [
    "def sing(self):\n",
    "    print(self.name.title()+' can sing.')"
   ]
  },
  {
   "cell_type": "code",
   "execution_count": 29,
   "metadata": {
    "ExecuteTime": {
     "end_time": "2022-07-24T09:55:39.373506Z",
     "start_time": "2022-07-24T09:55:39.359507Z"
    }
   },
   "outputs": [
    {
     "name": "stdout",
     "output_type": "stream",
     "text": [
      "Iii is now sitting.\n",
      "Iii rolled over!\n",
      "My_dog has no attribute sing\n"
     ]
    }
   ],
   "source": [
    "my_dog.sit()\n",
    "my_dog.roll_over()\n",
    "try:\n",
    "    my_dog.sing() #调用不存在的方法\n",
    "except AttributeError:\n",
    "    print('My_dog has no attribute sing')"
   ]
  },
  {
   "cell_type": "code",
   "execution_count": 30,
   "metadata": {},
   "outputs": [
    {
     "name": "stdout",
     "output_type": "stream",
     "text": [
      "Iii can sing.\n",
      "My_dog has no attribute sing\n"
     ]
    }
   ],
   "source": [
    "import types\n",
    "my_dog.sing = types.MethodType(sing,my_dog) #动态增加成员方法,即增加一个新行为\n",
    "my_dog.sing()\n",
    "del my_dog.sing #删除成员方法,即删除一个行为\n",
    "try:\n",
    "    my_dog.sing() #调用不存在的方法\n",
    "except AttributeError:\n",
    "    print('My_dog has no attribute sing')"
   ]
  },
  {
   "attachments": {},
   "cell_type": "markdown",
   "metadata": {},
   "source": [
    "- 如果通过类把成员的值进行了修改，该类对象都能得到体现。\n",
    "- 如果通过其中某个对象修改了value的值，不会影响类和该类其他对象。"
   ]
  },
  {
   "cell_type": "code",
   "execution_count": 42,
   "metadata": {},
   "outputs": [
    {
     "name": "stdout",
     "output_type": "stream",
     "text": [
      "T\n",
      "T\n",
      "------------------\n",
      "showl\n",
      "T\n",
      "------------------\n",
      "showl\n",
      "show2\n"
     ]
    }
   ],
   "source": [
    "class T:\n",
    "    def show(self):\n",
    "        print('T')\n",
    "def show1(self):\n",
    "    print('showl')\n",
    "def show2(self):\n",
    "    print('show2')\n",
    "    \n",
    "t1 = T();t2 = T()\n",
    "t1.show();t2.show()\n",
    "print(\"------------------\")\n",
    "t1.show=types.MethodType(show1, t1) \n",
    "# 修改t1.show的行为不影响t2.show的行为\n",
    "t1.show();t2.show()\n",
    "print(\"------------------\")\n",
    "T.show = types.MethodType(show2, T) \n",
    "# 修改T.show的行为影响所有实例的show行为,无法修改已经存在的实例t1的行为\n",
    "t1.show();t2.show()"
   ]
  },
  {
   "cell_type": "code",
   "execution_count": 52,
   "metadata": {},
   "outputs": [],
   "source": [
    "class Root:\n",
    "    __total = 0\n",
    "    def __init__(self, v):    #构造方法\n",
    "        self.__value = v\n",
    "        Root.__total += 1\n",
    "\n",
    "    def show(self):           #普通实例方法\n",
    "        print('self.__value:', self.__value)\n",
    "        print('Root.__total:', Root.__total)\n",
    "\n",
    "    @classmethod              #修饰器，声明类方法\n",
    "    def classShowTotal(cls):  #类方法\n",
    "        print(cls.__total)\n",
    "\n",
    "    @staticmethod             #修饰器，声明静态方法\n",
    "    def staticShowTotal():    #静态方法\n",
    "        print(Root.__total)\n",
    "        \n",
    "    @property                 #修饰器，声明属性\n",
    "    def value(self):          #属性方法\n",
    "        return self.__value"
   ]
  },
  {
   "cell_type": "code",
   "execution_count": 56,
   "metadata": {},
   "outputs": [
    {
     "name": "stdout",
     "output_type": "stream",
     "text": [
      "----------通过对象调用类方法----------\n",
      "7\n",
      "----------通过对象调用静态方法----------\n",
      "7\n",
      "----------通过对象调用普通实例方法----------\n",
      "self.__value: 3\n",
      "Root.__total: 7\n",
      "----------通过类调用类方法----------\n",
      "8\n",
      "----------通过类调用静态方法----------\n",
      "8\n",
      "----------通过类调用实例方法，访问实例成员----------\n",
      "self.__value: 3\n",
      "Root.__total: 8\n",
      "----------通过类名调用实例方法，需要显示传递实例对象（为self参数赋值）----------\n",
      "self.__value: 5\n",
      "Root.__total: 8\n"
     ]
    }
   ],
   "source": [
    "r = Root(3)\n",
    "#私有方法不能通过对象调用\n",
    "print('-'*10+\"通过对象调用类方法\"+'-'*10)\n",
    "r.classShowTotal() \n",
    "print('-'*10+\"通过对象调用静态方法\"+'-'*10)\n",
    "r.staticShowTotal() \n",
    "print('-'*10+\"通过对象调用普通实例方法\"+'-'*10)\n",
    "r.show()\n",
    "\n",
    "rr=Root(5)\n",
    "print('-'*10+\"通过类调用类方法\"+'-'*10)\n",
    "Root.classShowTotal() \n",
    "print('-'*10+\"通过类调用静态方法\"+'-'*10)\n",
    "Root.staticShowTotal() \n",
    "# Root.show() #通过类调用普通实例方法，需传入参数self\n",
    "print('-'*10+\"通过类调用实例方法，访问实例成员\"+'-'*10)\n",
    "Root.show(r) \n",
    "print('-'*10+\"通过类名调用实例方法，需要显示传递实例对象（为self参数赋值）\"+'-'*10)\n",
    "Root.show(rr) "
   ]
  },
  {
   "attachments": {},
   "cell_type": "markdown",
   "metadata": {},
   "source": [
    "#### 属性\n",
    "属性是特殊的成员方法，可读、可修改、可删除"
   ]
  },
  {
   "cell_type": "code",
   "execution_count": 58,
   "metadata": {},
   "outputs": [],
   "source": [
    "pass"
   ]
  },
  {
   "attachments": {},
   "cell_type": "markdown",
   "metadata": {},
   "source": [
    "### 继承\n",
    "用于实现**代码复用**和**设计复用**"
   ]
  },
  {
   "attachments": {},
   "cell_type": "markdown",
   "metadata": {},
   "source": [
    "- 原有的类为父类/基类(也称超类superclass），新类为子类/派生类\n",
    "- 子类继承父类的所有**公有**属性和方法，同时还可以定义自己的属性和方法\n",
    "- Python支持多继承，如果父类中有相同的方法名，而在子类中使用时没有指定父类名，则Python解释器将从左向右按顺序进行搜索。"
   ]
  },
  {
   "cell_type": "code",
   "execution_count": 21,
   "metadata": {
    "ExecuteTime": {
     "end_time": "2022-07-24T09:55:39.691792Z",
     "start_time": "2022-07-24T09:55:39.678797Z"
    }
   },
   "outputs": [],
   "source": [
    "#创建子类时父类必须包含在当前文件中，且位于子类前面\n",
    "class Car():\n",
    "    def __init__(self, make, model, year):\n",
    "        \"\"\"初始化描述汽车的属性\"\"\"\n",
    "        self.make = make\n",
    "        self.model = model\n",
    "        self.year = year\n",
    "        self.odometer_reading = 25\n",
    "    \n",
    "    def get_descriptive_name(self):\n",
    "        \"\"\"返回简洁描述性信息\"\"\"\n",
    "        long_name = str(self.year) + \" \" +self.make + \" \" + self.model\n",
    "        return long_name.title()\n",
    "    \n",
    "    def read_odometer(self):\n",
    "        \"\"\"打印汽车里程信息\"\"\"\n",
    "        print(\"This car has \" + str(self.odometer_reading) + \" miles on it.\")\n",
    "        \n",
    "    def update_odometer(self, mileage):\n",
    "        \"\"\"\n",
    "        将里程表读数设置为指定的值\n",
    "        禁止将里程表往回调\n",
    "        \"\"\"\n",
    "        if mileage>=self.odometer_reading:\n",
    "            self.odometer_reading = mileage\n",
    "        else:\n",
    "            print(\"You can't roll back an odometer!\")\n",
    "        \n",
    "    def increment_odometer(self,miles):\n",
    "        \"\"\"将里程表读书增加指定的量\"\"\"\n",
    "        if miles>=0:\n",
    "            self.odometer_reading += miles\n",
    "        else:\n",
    "            print(\"You can't roll back an odometer!\")"
   ]
  },
  {
   "attachments": {},
   "cell_type": "markdown",
   "metadata": {},
   "source": [
    "#### super（）函数将父类和子类关联起来"
   ]
  },
  {
   "cell_type": "code",
   "execution_count": 22,
   "metadata": {
    "ExecuteTime": {
     "end_time": "2022-07-24T09:55:39.707793Z",
     "start_time": "2022-07-24T09:55:39.693796Z"
    }
   },
   "outputs": [],
   "source": [
    "class ElectricCar(Car):\n",
    "    def __init__(self,make,model,year):\n",
    "        \"\"\"初始化父类的属性\"\"\"\n",
    "        super().__init__(make,model,year)\n",
    "        #此时电动汽车具备普通汽车的行为"
   ]
  },
  {
   "cell_type": "code",
   "execution_count": 23,
   "metadata": {
    "ExecuteTime": {
     "end_time": "2022-07-24T09:55:39.738797Z",
     "start_time": "2022-07-24T09:55:39.709803Z"
    }
   },
   "outputs": [
    {
     "name": "stdout",
     "output_type": "stream",
     "text": [
      "2016 Tesla Model S\n"
     ]
    }
   ],
   "source": [
    "my_tesla = ElectricCar(\"tesla\",\"model s\",2016)\n",
    "print(my_tesla.get_descriptive_name())"
   ]
  },
  {
   "attachments": {},
   "cell_type": "markdown",
   "metadata": {},
   "source": [
    "### 给子类定义属性和方法"
   ]
  },
  {
   "cell_type": "code",
   "execution_count": 26,
   "metadata": {
    "ExecuteTime": {
     "end_time": "2022-07-24T09:56:32.000005Z",
     "start_time": "2022-07-24T09:56:31.984375Z"
    }
   },
   "outputs": [],
   "source": [
    "class ElectricCar(Car):\n",
    "    def __init__(self,make,model,year):\n",
    "        \"\"\"初始化父类的属性，再初始化电动汽车特有属性\"\"\"\n",
    "        super().__init__(make,model,year)\n",
    "        self.battery_size = 70\n",
    "    \n",
    "    def describe_battery(self):\n",
    "        \"\"\"打印电瓶容量的信息\"\"\"\n",
    "        print(\"This car has a \" + str(self.battery_size) + \"-KW/h battery.\")"
   ]
  },
  {
   "cell_type": "code",
   "execution_count": 27,
   "metadata": {
    "ExecuteTime": {
     "end_time": "2022-07-24T09:56:32.642009Z",
     "start_time": "2022-07-24T09:56:32.625938Z"
    }
   },
   "outputs": [
    {
     "name": "stdout",
     "output_type": "stream",
     "text": [
      "2016 Tesla Model S\n",
      "This car has a 70-KW/h battery.\n"
     ]
    }
   ],
   "source": [
    "my_tesla = ElectricCar(\"tesla\",\"model s\",2016)\n",
    "print(my_tesla.get_descriptive_name())\n",
    "\n",
    "my_tesla.describe_battery()"
   ]
  },
  {
   "attachments": {},
   "cell_type": "markdown",
   "metadata": {},
   "source": [
    "### 重写父类的方法"
   ]
  },
  {
   "cell_type": "code",
   "execution_count": 28,
   "metadata": {
    "ExecuteTime": {
     "end_time": "2022-07-24T10:08:57.847923Z",
     "start_time": "2022-07-24T10:08:57.832234Z"
    }
   },
   "outputs": [],
   "source": [
    "class ElectricCar(Car):\n",
    "    def __init__(self,make,model,year):\n",
    "        \"\"\"初始化父类的属性，再初始化电动汽车特有属性\"\"\"\n",
    "        super().__init__(make,model,year)\n",
    "        self.battery_size = 70\n",
    "    \n",
    "    def describe_battery(self):\n",
    "        \"\"\"打印电瓶容量的信息\"\"\"\n",
    "        print(\"This car has a \" + str(self.battery_size) + \"-KW/h battery.\")\n",
    "    \n",
    "    def fill_gas_tank():\n",
    "        \"\"\"电动汽车没有油箱\"\"\"\n",
    "        print(\"This car doesn't need a gas tank!\")\n",
    "        #当对电动汽车调用方法fill_gas_tank()时python将忽略Car类中的方法转而用上述代码"
   ]
  },
  {
   "attachments": {},
   "cell_type": "markdown",
   "metadata": {},
   "source": [
    "### 类的特殊方法\n",
    "运算符重载就是通过重写特殊方法实现的。\n",
    "- __init__():构造函数，一般用来为数据成员设置初值或进行其他必要的初始化工作，在创建对象时被自动调用和执行。如果用户没有设计构造函数，Python将提供一个默认的构造函数用来进行必要的初始化工作\n",
    "- __del__():析造函数，一般用来释放对象占用的资源，在Python删除对象和收回对象空间时被自动调用和执行。如果用户没有编写析构函数，Python将提供一个默认的析构函数进行必要的清理工作"
   ]
  },
  {
   "cell_type": "code",
   "execution_count": null,
   "metadata": {},
   "outputs": [],
   "source": []
  }
 ],
 "metadata": {
  "kernelspec": {
   "display_name": "Python 3",
   "language": "python",
   "name": "python3"
  },
  "language_info": {
   "codemirror_mode": {
    "name": "ipython",
    "version": 3
   },
   "file_extension": ".py",
   "mimetype": "text/x-python",
   "name": "python",
   "nbconvert_exporter": "python",
   "pygments_lexer": "ipython3",
   "version": "3.7.0"
  }
 },
 "nbformat": 4,
 "nbformat_minor": 2
}
