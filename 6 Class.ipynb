{
 "cells": [
  {
   "attachments": {},
   "cell_type": "markdown",
   "metadata": {},
   "source": [
    "# 面向对象程序设计OOP\n",
    "- 主要针对大型软件设计而提出\n",
    "  - 使得软件设计更加灵活\n",
    "  - 能够很好地支持代码复用和设计复用\n",
    "  - 使得代码具有更好的可读性和可扩展性\n",
    "  - 大大地降低了软件开发的难度\n",
    "  - 基本原则:计算机程序由多个能够起到子程序作用的单元或对象组合而成\n",
    "  - 关键性观念:将数据以及对数据的操作封装在一起，组成一个相互依存、不可分割的整体，即对象\n",
    "    - 如何对相同类型的对象进行分类、抽象，得出共同的特征而形成类\n",
    "    - 如何合理地定义和组织这些类以及类之间的关系"
   ]
  },
  {
   "attachments": {},
   "cell_type": "markdown",
   "metadata": {},
   "source": [
    "Python\n",
    "- 完全采用面向对象程序设计的思想\n",
    "  - 完全支持其基本功能如**封装**、**继承**、**多态**、**对基类方法的覆盖或重写**\n",
    "- 一切都可以称为对象，包括数字、字符串、列表、元组、字典、集合、range对象、zip对象、函数、类\n",
    "- **可动态的为自定义类和对象增加或删除成员**，体现了Python的动态特性\n",
    "- Python变量存储值的引用，自定义类的数据成员是该类所有对象共有的，既可以通过类访问，也可以通过该类任意对象进行访问\n",
    "- 创建类时：\n",
    "  - **数据成员**：用变量形式表示的对象属性\n",
    "  - **成员方法**：用函数形式表示的对象行为\n",
    "  - 成员属性和成员方法统称为**类的成员**"
   ]
  },
  {
   "attachments": {},
   "cell_type": "markdown",
   "metadata": {},
   "source": [
    "### Class关键字：用于定义类，类名首字母一般要大写"
   ]
  },
  {
   "attachments": {},
   "cell_type": "markdown",
   "metadata": {},
   "source": [
    "#### self：指向实例本身的引用，让实例能够访问类中的属性和方法\n",
    "- 类的所有实例方法都至少有一个self参数，并且必须是方法的第一个参数\n",
    "- 在类的实例方法中访问实例属性需以self为前缀\n",
    "- 在外部调用对象方向时：\n",
    "  - 通过**对象**调用时**不需要**传递self参数；实例属性属于实例对象，只能通过对象名访问\n",
    "  - 通过**类**调用时**需要**显式为self参数传值 ；类属性属于类，可通过类名或对象名访问"
   ]
  },
  {
   "cell_type": "code",
   "execution_count": 16,
   "metadata": {
    "ExecuteTime": {
     "end_time": "2022-07-24T09:55:39.327512Z",
     "start_time": "2022-07-24T09:55:39.317510Z"
    }
   },
   "outputs": [],
   "source": [
    "class Dog():\n",
    "    \"\"\"模拟小狗\"\"\"\n",
    "    label='dog' #定义类属性\n",
    "    def __init__(self, name, age):##左右各两个\"_\"\n",
    "        \"\"\"定义实例的数据成员,定义和使用时必须以self为前缀\"\"\"\n",
    "        #特殊方法，每当根据Dog类创建新实例时，Python都会自动运行它\n",
    "        #self必不可少，必须位于其他形参之前\n",
    "        \n",
    "        #每个与类相关联的方法调用都自动传递实参self\n",
    "        #以self为前缀的变量可以供类中的所有办法使用\n",
    "        \n",
    "        assert isinstance(name,str),'name must be string' #断言,当名字不是字符串时报错\n",
    "        self.name = name#获取存储在形参name中的值并存储到变量name中\n",
    "        self.age = age\n",
    "        \n",
    "    def sit(self):\n",
    "        \"\"\"模拟小狗被命令时蹲下\"\"\"\n",
    "        print(self.name.title() + \" is now sitting.\")\n",
    "        \n",
    "    def roll_over(self):\n",
    "        \"\"\"模拟小狗被命令时打滚\"\"\"\n",
    "        print(self.name.title() + \" rolled over!\")"
   ]
  },
  {
   "attachments": {},
   "cell_type": "markdown",
   "metadata": {},
   "source": [
    "#### pass关键字：表示空语句，可用在类和函数的定义中，用于“占位”，之后再实现功能"
   ]
  },
  {
   "cell_type": "code",
   "execution_count": 9,
   "metadata": {},
   "outputs": [],
   "source": [
    "class A:\n",
    "    pass"
   ]
  },
  {
   "attachments": {},
   "cell_type": "markdown",
   "metadata": {},
   "source": [
    "#### my_dog为根据类创建的实例"
   ]
  },
  {
   "cell_type": "code",
   "execution_count": 11,
   "metadata": {
    "ExecuteTime": {
     "end_time": "2022-07-24T09:55:39.342509Z",
     "start_time": "2022-07-24T09:55:39.329512Z"
    }
   },
   "outputs": [],
   "source": [
    "my_dog = Dog(\"willie\", 6) #实例化对象"
   ]
  },
  {
   "attachments": {},
   "cell_type": "markdown",
   "metadata": {},
   "source": [
    "### 访问属性\n",
    "#### 可通过\"**对象名.成员**\"的方式来访问其中的数据成员和成员方法"
   ]
  },
  {
   "cell_type": "code",
   "execution_count": 12,
   "metadata": {
    "ExecuteTime": {
     "end_time": "2022-07-24T09:55:39.357507Z",
     "start_time": "2022-07-24T09:55:39.344509Z"
    }
   },
   "outputs": [
    {
     "name": "stdout",
     "output_type": "stream",
     "text": [
      "dog\n",
      "My dog's name is Willie.\n",
      "My dog is 6 years old.\n"
     ]
    }
   ],
   "source": [
    "print(my_dog.label) # 访问类属性的值\n",
    "print(\"My dog's name is \" + my_dog.name.title() + \".\") #访问实例的属性\n",
    "print(\"My dog is \" + str(my_dog.age) + \" years old.\")"
   ]
  },
  {
   "attachments": {},
   "cell_type": "markdown",
   "metadata": {},
   "source": [
    "### 动态修改/增加类属性和数据成员\n",
    "**混入（mixin）机制**：Python类型的动态性使我们可以动态为自定义类及其对象增加新的属性和行为\n",
    "- 这在大型项目开发中非常方便和实用\n",
    "- 系统中所有用户分类非常复杂，不同用户有不同行为和权限，我们可以**独立的定义一些行为**，**根据需要**为不同用户设置相应的行为能力"
   ]
  },
  {
   "cell_type": "code",
   "execution_count": 14,
   "metadata": {},
   "outputs": [
    {
     "name": "stdout",
     "output_type": "stream",
     "text": [
      "cat\n",
      "iii black\n"
     ]
    }
   ],
   "source": [
    "my_dog.label='cat' #修改类属性的值\n",
    "print(my_dog.label)\n",
    "my_dog.name='iii' #修改实例属性的值\n",
    "my_dog.color='black' #动态增加类属性\n",
    "print(my_dog.name , my_dog.color)"
   ]
  },
  {
   "cell_type": "code",
   "execution_count": 15,
   "metadata": {},
   "outputs": [
    {
     "name": "stdout",
     "output_type": "stream",
     "text": [
      "50\n"
     ]
    }
   ],
   "source": [
    "import types\n",
    "\n",
    "def setSpeed(self, s): \n",
    "    self.speed = s\n",
    "\n",
    "my_dog.setSpeed = types.MethodType(setSpeed, my_dog) #动态增加成员方法\n",
    "my_dog.setSpeed(50)                                #调用成员方法\n",
    "print(my_dog.speed)"
   ]
  },
  {
   "attachments": {},
   "cell_type": "markdown",
   "metadata": {},
   "source": [
    "#### 可使用isinstance()测试一个对象是否为某个类的实例"
   ]
  },
  {
   "cell_type": "code",
   "execution_count": 5,
   "metadata": {},
   "outputs": [
    {
     "data": {
      "text/plain": [
       "True"
      ]
     },
     "execution_count": 5,
     "metadata": {},
     "output_type": "execute_result"
    }
   ],
   "source": [
    "isinstance(my_dog, Dog) #判断一个实例是否属于特定类"
   ]
  },
  {
   "attachments": {},
   "cell_type": "markdown",
   "metadata": {},
   "source": [
    "### 私有成员、共有成员\n",
    "- Python并没有对私有成员提供严格的访问保护机制,不存在严格意义上的私有成员\n",
    "- 定义类的成员时，若成员名以两个下划线“__”或更多下划线开头而不以两个或更多下划线结束，则表示是私有成员。\n",
    "    - 私有成员在类的外部不能直接访问，需通过调用对象的公开成员方法来访问，也可通过Python支持的特殊方式来访问\n",
    "    - 公开成员既可以在类的内部进行访问，也可以在外部程序中使用\n",
    "  - _xxx：**受保护成员**，不能用'from module import *'导入；\n",
    "  - \\_\\_xxx\\_\\_：**系统定义的特殊成员**；\n",
    "  - __xxx：**私有成员**，只有类对象自己能访问，子类对象不能直接访问到这个成员，但在对象外部可以通过“对象名._类名__xxx”这样的特殊方式来访问。\n",
    "  - 在IDLE交互模式下，一个下划线“_”表示解释器中**最后一次显示的内容**或**最后一次语句正确执行的输出结果**\n",
    "  - 在程序中可使用'_'来表示**不关心该变量的值**\n"
   ]
  },
  {
   "cell_type": "code",
   "execution_count": 50,
   "metadata": {},
   "outputs": [
    {
     "name": "stdout",
     "output_type": "stream",
     "text": [
      "0\n",
      "------------------\n",
      "0\n",
      "1\n",
      "------------------\n",
      "1\n"
     ]
    }
   ],
   "source": [
    "class A:\n",
    "    def __init__(self, value1=0, value2=1):\n",
    "        self.value1 = value1\n",
    "        self.__value2 = value2 #私有属性（私有数据成员）\n",
    "    def show(self):\n",
    "\t        print(self.value1)\n",
    "\t        print(self.__value2)\n",
    "\n",
    "a = A()\n",
    "print(a.value1)\n",
    "print('------------------')\n",
    "a.show() #在类内部访问对象的私有属性（私有数据成员）\n",
    "print('------------------')\n",
    "print(a._A__value2) #在外部访问对象私有属性（私有数据成员）"
   ]
  },
  {
   "attachments": {},
   "cell_type": "markdown",
   "metadata": {},
   "source": [
    "访问对象所属类被暂时隐藏的成员"
   ]
  },
  {
   "cell_type": "code",
   "execution_count": 43,
   "metadata": {},
   "outputs": [
    {
     "name": "stdout",
     "output_type": "stream",
     "text": [
      "100\n",
      "200\n"
     ]
    },
    {
     "data": {
      "text/plain": [
       "100"
      ]
     },
     "execution_count": 43,
     "metadata": {},
     "output_type": "execute_result"
    }
   ],
   "source": [
    "class T:\n",
    "    value = 100\n",
    "    \n",
    "t=T()\n",
    "print(t.value)\n",
    "t.value=200 #实例属性会屏蔽同名的类属性\n",
    "print(t.value) #访问实例属性\n",
    "t.__class__.value #访问被隐藏的类属性"
   ]
  },
  {
   "cell_type": "code",
   "execution_count": 48,
   "metadata": {},
   "outputs": [
    {
     "data": {
      "text/plain": [
       "8"
      ]
     },
     "execution_count": 48,
     "metadata": {},
     "output_type": "execute_result"
    }
   ],
   "source": [
    "3+5"
   ]
  },
  {
   "cell_type": "code",
   "execution_count": 49,
   "metadata": {},
   "outputs": [
    {
     "data": {
      "text/plain": [
       "7"
      ]
     },
     "execution_count": 49,
     "metadata": {},
     "output_type": "execute_result"
    }
   ],
   "source": [
    "_-1 #_表示上一次输出的结果"
   ]
  },
  {
   "attachments": {},
   "cell_type": "markdown",
   "metadata": {
    "ExecuteTime": {
     "end_time": "2022-07-21T11:42:53.585093Z",
     "start_time": "2022-07-21T11:42:53.553011Z"
    }
   },
   "source": [
    "### 调用方法\n",
    "在Python中，**函数**和**方法**是有区别的。**方法**一般指与特定实例绑定的函数，通过对象调用方法时，**对象本身**将被作为**第一个参数**隐式传递过去，普通函数并不具备这个特点。"
   ]
  },
  {
   "cell_type": "code",
   "execution_count": 24,
   "metadata": {},
   "outputs": [],
   "source": [
    "def sing(self):\n",
    "    print(self.name.title()+' can sing.')"
   ]
  },
  {
   "cell_type": "code",
   "execution_count": 29,
   "metadata": {
    "ExecuteTime": {
     "end_time": "2022-07-24T09:55:39.373506Z",
     "start_time": "2022-07-24T09:55:39.359507Z"
    }
   },
   "outputs": [
    {
     "name": "stdout",
     "output_type": "stream",
     "text": [
      "Iii is now sitting.\n",
      "Iii rolled over!\n",
      "My_dog has no attribute sing\n"
     ]
    }
   ],
   "source": [
    "my_dog.sit()\n",
    "my_dog.roll_over()\n",
    "try:\n",
    "    my_dog.sing() #调用不存在的方法\n",
    "except AttributeError:\n",
    "    print('My_dog has no attribute sing')"
   ]
  },
  {
   "cell_type": "code",
   "execution_count": 30,
   "metadata": {},
   "outputs": [
    {
     "name": "stdout",
     "output_type": "stream",
     "text": [
      "Iii can sing.\n",
      "My_dog has no attribute sing\n"
     ]
    }
   ],
   "source": [
    "import types\n",
    "my_dog.sing = types.MethodType(sing,my_dog) #动态增加成员方法,即增加一个新行为\n",
    "my_dog.sing()\n",
    "del my_dog.sing #删除成员方法,即删除一个行为\n",
    "try:\n",
    "    my_dog.sing() #调用不存在的方法\n",
    "except AttributeError:\n",
    "    print('My_dog has no attribute sing')"
   ]
  },
  {
   "attachments": {},
   "cell_type": "markdown",
   "metadata": {},
   "source": [
    "- 如果通过类把成员的值进行了修改，该类对象都能得到体现。\n",
    "- 如果通过其中某个对象修改了value的值，不会影响类和该类其他对象。"
   ]
  },
  {
   "cell_type": "code",
   "execution_count": 42,
   "metadata": {},
   "outputs": [
    {
     "name": "stdout",
     "output_type": "stream",
     "text": [
      "T\n",
      "T\n",
      "------------------\n",
      "showl\n",
      "T\n",
      "------------------\n",
      "showl\n",
      "show2\n"
     ]
    }
   ],
   "source": [
    "class T:\n",
    "    def show(self):\n",
    "        print('T')\n",
    "def show1(self):\n",
    "    print('showl')\n",
    "def show2(self):\n",
    "    print('show2')\n",
    "    \n",
    "t1 = T();t2 = T()\n",
    "t1.show();t2.show()\n",
    "print(\"------------------\")\n",
    "t1.show=types.MethodType(show1, t1) \n",
    "# 修改t1.show的行为不影响t2.show的行为\n",
    "t1.show();t2.show()\n",
    "print(\"------------------\")\n",
    "T.show = types.MethodType(show2, T) \n",
    "# 修改T.show的行为影响所有实例的show行为,无法修改已经存在的实例t1的行为\n",
    "t1.show();t2.show()"
   ]
  },
  {
   "cell_type": "code",
   "execution_count": 52,
   "metadata": {},
   "outputs": [],
   "source": [
    "class Root:\n",
    "    __total = 0\n",
    "    def __init__(self, v):    #构造方法\n",
    "        self.__value = v\n",
    "        Root.__total += 1\n",
    "\n",
    "    def show(self):           #普通实例方法\n",
    "        print('self.__value:', self.__value)\n",
    "        print('Root.__total:', Root.__total)\n",
    "\n",
    "    @classmethod              #修饰器，声明类方法\n",
    "    def classShowTotal(cls):  #类方法\n",
    "        print(cls.__total)\n",
    "\n",
    "    @staticmethod             #修饰器，声明静态方法\n",
    "    def staticShowTotal():    #静态方法\n",
    "        print(Root.__total)\n",
    "        \n",
    "    @property                 #只读属性，修饰器，声明属性\n",
    "    def value(self):          #属性方法\n",
    "        return self.__value"
   ]
  },
  {
   "attachments": {},
   "cell_type": "markdown",
   "metadata": {},
   "source": [
    "- 公有方法和私有方法都可访问属于类和对象的成员\n",
    "  - 公有方法：通过对象名直接调用\n",
    "    - 通过类名调用时**需显式将该方法的self参数**传递给一个对象名，用于明确指定访问哪个对象的数据成员 \n",
    "  - 私有方法：以两个下划线'__'开始，**不可通过对象名直接调用**\n",
    "    - 可通过在属于对象的方法中通过self调用\n",
    "    - 在外部通过Python支持的特殊方式 ：对象名._类名__成员名 调用 \n",
    "- 静态方法和类方法都可以通过类名和对象名调用，但**不能直接访问对象成员**，只能访问类成员\n",
    "  - 静态方法：没有参数\n",
    "  - 类方法：一般将cls作为类方法的第一个参数名称，在调用时不需为第一个参数传递值"
   ]
  },
  {
   "cell_type": "code",
   "execution_count": 56,
   "metadata": {},
   "outputs": [
    {
     "name": "stdout",
     "output_type": "stream",
     "text": [
      "----------通过对象调用类方法----------\n",
      "7\n",
      "----------通过对象调用静态方法----------\n",
      "7\n",
      "----------通过对象调用普通实例方法----------\n",
      "self.__value: 3\n",
      "Root.__total: 7\n",
      "----------通过类调用类方法----------\n",
      "8\n",
      "----------通过类调用静态方法----------\n",
      "8\n",
      "----------通过类调用实例方法，访问实例成员----------\n",
      "self.__value: 3\n",
      "Root.__total: 8\n",
      "----------通过类名调用实例方法，需要显示传递实例对象（为self参数赋值）----------\n",
      "self.__value: 5\n",
      "Root.__total: 8\n"
     ]
    }
   ],
   "source": [
    "r = Root(3)\n",
    "#私有方法不能通过对象调用\n",
    "print('-'*10+\"通过对象调用类方法\"+'-'*10)\n",
    "r.classShowTotal() \n",
    "print('-'*10+\"通过对象调用静态方法\"+'-'*10)\n",
    "r.staticShowTotal() \n",
    "print('-'*10+\"通过对象调用普通实例方法\"+'-'*10)\n",
    "r.show()\n",
    "\n",
    "rr=Root(5)\n",
    "print('-'*10+\"通过类调用类方法\"+'-'*10)\n",
    "Root.classShowTotal() \n",
    "print('-'*10+\"通过类调用静态方法\"+'-'*10)\n",
    "Root.staticShowTotal() \n",
    "# Root.show() #通过类调用普通实例方法，需传入参数self\n",
    "print('-'*10+\"通过类调用实例方法，访问实例成员\"+'-'*10)\n",
    "Root.show(r) \n",
    "print('-'*10+\"通过类名调用实例方法，需要显示传递实例对象（为self参数赋值）\"+'-'*10)\n",
    "Root.show(rr) "
   ]
  },
  {
   "attachments": {},
   "cell_type": "markdown",
   "metadata": {},
   "source": [
    "#### 属性\n",
    "属性是特殊的成员方法，可读、可修改、可删除"
   ]
  },
  {
   "cell_type": "code",
   "execution_count": 58,
   "metadata": {},
   "outputs": [],
   "source": [
    "pass"
   ]
  },
  {
   "attachments": {},
   "cell_type": "markdown",
   "metadata": {},
   "source": [
    "### 创建多个实例"
   ]
  },
  {
   "cell_type": "code",
   "execution_count": 5,
   "metadata": {
    "ExecuteTime": {
     "end_time": "2022-07-24T09:55:39.388505Z",
     "start_time": "2022-07-24T09:55:39.375507Z"
    }
   },
   "outputs": [
    {
     "name": "stdout",
     "output_type": "stream",
     "text": [
      "My dog's name is Willie.\n",
      "My dog is 6 years old.\n",
      "Willie is now sitting.\n",
      "\n",
      "Your dog's name is Willie.\n",
      "Your dog is 6 years old.\n",
      "Lucy is now sitting.\n"
     ]
    }
   ],
   "source": [
    "your_dog = Dog(\"lucy\", 3)\n",
    "\n",
    "print(\"My dog's name is \" + my_dog.name.title() + \".\")\n",
    "print(\"My dog is \" + str(my_dog.age) + \" years old.\")\n",
    "my_dog.sit()\n",
    "\n",
    "print(\"\\nYour dog's name is \" + my_dog.name.title() + \".\")\n",
    "print(\"Your dog is \" + str(my_dog.age) + \" years old.\")\n",
    "your_dog.sit()"
   ]
  },
  {
   "attachments": {},
   "cell_type": "markdown",
   "metadata": {},
   "source": [
    "#### 9-1"
   ]
  },
  {
   "cell_type": "code",
   "execution_count": 6,
   "metadata": {
    "ExecuteTime": {
     "end_time": "2022-07-24T09:55:39.404506Z",
     "start_time": "2022-07-24T09:55:39.390508Z"
    }
   },
   "outputs": [],
   "source": [
    "class Restaurant:\n",
    "    def __init__( self, restaurant_name,cuisine_type ):\n",
    "        self.name=restaurant_name\n",
    "        self.type=cuisine_type\n",
    "    \n",
    "    def describe_restaurant(self):\n",
    "        print(str(\"Restaurant's name: \" + self.name.title()))\n",
    "        ##str()强制类型转换优先级比title（）高，执行时要确保函数优先级正常\n",
    "        print(\"Cuisine's type: \" + str(self.type))\n",
    "        \n",
    "    def open_restaurant(self):\n",
    "        print(\"This restaurant is opening now.\")"
   ]
  },
  {
   "cell_type": "code",
   "execution_count": 7,
   "metadata": {
    "ExecuteTime": {
     "end_time": "2022-07-24T09:55:39.420507Z",
     "start_time": "2022-07-24T09:55:39.406507Z"
    }
   },
   "outputs": [
    {
     "data": {
      "text/plain": [
       "\"Salad's homemake cupcake\""
      ]
     },
     "execution_count": 7,
     "metadata": {},
     "output_type": "execute_result"
    }
   ],
   "source": [
    "restaurant=Restaurant(\"Salad's homemake cupcake\",\"cupcake\")\n",
    "restaurant.name"
   ]
  },
  {
   "cell_type": "code",
   "execution_count": 8,
   "metadata": {
    "ExecuteTime": {
     "end_time": "2022-07-24T09:55:39.436506Z",
     "start_time": "2022-07-24T09:55:39.422508Z"
    }
   },
   "outputs": [
    {
     "data": {
      "text/plain": [
       "'cupcake'"
      ]
     },
     "execution_count": 8,
     "metadata": {},
     "output_type": "execute_result"
    }
   ],
   "source": [
    "restaurant.type"
   ]
  },
  {
   "cell_type": "code",
   "execution_count": 9,
   "metadata": {
    "ExecuteTime": {
     "end_time": "2022-07-24T09:55:39.451506Z",
     "start_time": "2022-07-24T09:55:39.438509Z"
    }
   },
   "outputs": [
    {
     "name": "stdout",
     "output_type": "stream",
     "text": [
      "Restaurant's name: Salad'S Homemake Cupcake\n",
      "Cuisine's type: cupcake\n"
     ]
    }
   ],
   "source": [
    "restaurant.describe_restaurant()"
   ]
  },
  {
   "cell_type": "code",
   "execution_count": 10,
   "metadata": {
    "ExecuteTime": {
     "end_time": "2022-07-24T09:55:39.466505Z",
     "start_time": "2022-07-24T09:55:39.452506Z"
    }
   },
   "outputs": [
    {
     "name": "stdout",
     "output_type": "stream",
     "text": [
      "This restaurant is opening now.\n"
     ]
    }
   ],
   "source": [
    "restaurant.open_restaurant()"
   ]
  },
  {
   "attachments": {},
   "cell_type": "markdown",
   "metadata": {},
   "source": [
    "#### 9-2"
   ]
  },
  {
   "cell_type": "code",
   "execution_count": 11,
   "metadata": {
    "ExecuteTime": {
     "end_time": "2022-07-24T09:55:39.482505Z",
     "start_time": "2022-07-24T09:55:39.467507Z"
    }
   },
   "outputs": [
    {
     "name": "stdout",
     "output_type": "stream",
     "text": [
      "Restaurant's name: Aaaaa\n",
      "Cuisine's type: a\n",
      "\n",
      "\n",
      "Restaurant's name: Bbbbb\n",
      "Cuisine's type: b\n",
      "\n",
      "\n",
      "Restaurant's name: Ccccc\n",
      "Cuisine's type: c\n"
     ]
    }
   ],
   "source": [
    "a=Restaurant(\"aaaaa\",\"a\")\n",
    "a.describe_restaurant()\n",
    "\n",
    "print(\"\\n\")\n",
    "b=Restaurant(\"bbbbb\",\"b\")\n",
    "b.describe_restaurant()\n",
    "\n",
    "print(\"\\n\")\n",
    "c=Restaurant(\"ccccc\",\"c\")\n",
    "c.describe_restaurant()"
   ]
  },
  {
   "attachments": {},
   "cell_type": "markdown",
   "metadata": {},
   "source": [
    "#### 9-3"
   ]
  },
  {
   "cell_type": "code",
   "execution_count": 12,
   "metadata": {
    "ExecuteTime": {
     "end_time": "2022-07-24T09:55:39.498507Z",
     "start_time": "2022-07-24T09:55:39.484509Z"
    }
   },
   "outputs": [],
   "source": [
    "class User:\n",
    "    def __init__(self,first_name,last_name):\n",
    "        self.first=first_name\n",
    "        self.last=last_name\n",
    "        \n",
    "    def describe_user(self):\n",
    "        print(\"First name:\", self.first)\n",
    "        print(\"Last name:\", self.last)\n",
    "        \n",
    "    def greet_user(self):\n",
    "        print(str(\"Hello,\"+self.first.title()+\" \"+self.last.title()+\".\"))   "
   ]
  },
  {
   "cell_type": "code",
   "execution_count": 13,
   "metadata": {
    "ExecuteTime": {
     "end_time": "2022-07-24T09:55:39.530511Z",
     "start_time": "2022-07-24T09:55:39.501509Z"
    }
   },
   "outputs": [
    {
     "name": "stdout",
     "output_type": "stream",
     "text": [
      "First name: salad\n",
      "Last name: chen\n",
      "Hello,Salad Chen.\n",
      "\n",
      "\n",
      "First name: xx\n",
      "Last name: xu\n",
      "Hello,Xx Xu.\n"
     ]
    }
   ],
   "source": [
    "a = User(\"salad\",\"chen\")\n",
    "a.describe_user()\n",
    "a.greet_user()\n",
    "\n",
    "print(\"\\n\")\n",
    "b = User(\"xx\",\"xu\")\n",
    "b.describe_user()\n",
    "b.greet_user()"
   ]
  },
  {
   "attachments": {},
   "cell_type": "markdown",
   "metadata": {},
   "source": [
    "### Car类"
   ]
  },
  {
   "cell_type": "code",
   "execution_count": 14,
   "metadata": {
    "ExecuteTime": {
     "end_time": "2022-07-24T09:55:39.562507Z",
     "start_time": "2022-07-24T09:55:39.534511Z"
    }
   },
   "outputs": [
    {
     "name": "stdout",
     "output_type": "stream",
     "text": [
      "2016 Audi A4\n"
     ]
    }
   ],
   "source": [
    "class Car():\n",
    "    def __init__(self, make, model, year):\n",
    "        \"\"\"初始化描述汽车的属性\"\"\"\n",
    "        self.make = make\n",
    "        self.model = model\n",
    "        self.year = year\n",
    "    \n",
    "    def get_descriptive_name(self):\n",
    "        \"\"\"返回简洁描述性信息\"\"\"\n",
    "        long_name=str(self.year)+\" \"+self.make+\" \"+self.model \n",
    "        return long_name.title()\n",
    "    \n",
    "my_new_car = Car(\"audi\", \"a4\", 2016)\n",
    "print(my_new_car.get_descriptive_name())"
   ]
  },
  {
   "attachments": {},
   "cell_type": "markdown",
   "metadata": {},
   "source": [
    "### 给属性指定默认值"
   ]
  },
  {
   "cell_type": "code",
   "execution_count": 15,
   "metadata": {
    "ExecuteTime": {
     "end_time": "2022-07-24T09:55:39.577515Z",
     "start_time": "2022-07-24T09:55:39.564510Z"
    }
   },
   "outputs": [
    {
     "name": "stdout",
     "output_type": "stream",
     "text": [
      "2016 Audi A4\n",
      "This car has 0 miles on it.\n"
     ]
    }
   ],
   "source": [
    "class Car():\n",
    "    def __init__(self, make, model, year):\n",
    "        \"\"\"初始化描述汽车的属性\"\"\"\n",
    "        self.make = make\n",
    "        self.model = model\n",
    "        self.year = year\n",
    "        self.odometer_reading = 0\n",
    "    \n",
    "    def get_descriptive_name(self):\n",
    "        \"\"\"返回简洁描述性信息\"\"\"\n",
    "        long_name = str(self.year) + \" \" +self.make + \" \" + self.model\n",
    "        return long_name.title()\n",
    "    \n",
    "    def read_odometer(self):\n",
    "        \"\"\"打印汽车里程信息\"\"\"\n",
    "        print(\"This car has \" + str(self.odometer_reading) + \" miles on it.\")\n",
    "        \n",
    "my_new_car = Car(\"audi\", \"a4\", 2016)\n",
    "print(my_new_car.get_descriptive_name())\n",
    "my_new_car.read_odometer()"
   ]
  },
  {
   "attachments": {},
   "cell_type": "markdown",
   "metadata": {},
   "source": [
    "### 修改属性的值"
   ]
  },
  {
   "attachments": {},
   "cell_type": "markdown",
   "metadata": {},
   "source": [
    "#### 直接修改"
   ]
  },
  {
   "cell_type": "code",
   "execution_count": 16,
   "metadata": {
    "ExecuteTime": {
     "end_time": "2022-07-24T09:55:39.593508Z",
     "start_time": "2022-07-24T09:55:39.580516Z"
    }
   },
   "outputs": [
    {
     "name": "stdout",
     "output_type": "stream",
     "text": [
      "2016 Audi A4\n",
      "This car has 23 miles on it.\n"
     ]
    }
   ],
   "source": [
    "my_new_car = Car(\"audi\", \"a4\", 2016)\n",
    "print(my_new_car.get_descriptive_name())\n",
    "\n",
    "my_new_car.odometer_reading = 23\n",
    "my_new_car.read_odometer()"
   ]
  },
  {
   "attachments": {},
   "cell_type": "markdown",
   "metadata": {},
   "source": [
    "#### 使用一定方法修改"
   ]
  },
  {
   "cell_type": "code",
   "execution_count": 17,
   "metadata": {
    "ExecuteTime": {
     "end_time": "2022-07-24T09:55:39.624508Z",
     "start_time": "2022-07-24T09:55:39.601509Z"
    }
   },
   "outputs": [
    {
     "name": "stdout",
     "output_type": "stream",
     "text": [
      "2016 Audi A4\n",
      "You can't roll back an odometer!\n",
      "This car has 25 miles on it.\n"
     ]
    }
   ],
   "source": [
    "class Car():\n",
    "    def __init__(self, make, model, year):\n",
    "        \"\"\"初始化描述汽车的属性\"\"\"\n",
    "        self.make = make\n",
    "        self.model = model\n",
    "        self.year = year\n",
    "        self.odometer_reading = 25\n",
    "    \n",
    "    def get_descriptive_name(self):\n",
    "        \"\"\"返回简洁描述性信息\"\"\"\n",
    "        long_name = str(self.year) + \" \" +self.make + \" \" + self.model\n",
    "        return long_name.title()\n",
    "    \n",
    "    def read_odometer(self):\n",
    "        \"\"\"打印汽车里程信息\"\"\"\n",
    "        print(\"This car has \" + str(self.odometer_reading) + \" miles on it.\")\n",
    "        \n",
    "    def update_odometer(self, mileage):\n",
    "        \"\"\"\n",
    "        将里程表读数设置为指定的值\n",
    "        禁止将里程表往回调\n",
    "        \"\"\"\n",
    "        if mileage>=self.odometer_reading:\n",
    "            self.odometer_reading = mileage\n",
    "        else:\n",
    "            print(\"You can't roll back an odometer!\")\n",
    "\n",
    "my_new_car = Car(\"audi\", \"a4\", 2016)\n",
    "print(my_new_car.get_descriptive_name())\n",
    "\n",
    "my_new_car.update_odometer(23)#更新参数\n",
    "my_new_car.read_odometer()  "
   ]
  },
  {
   "attachments": {},
   "cell_type": "markdown",
   "metadata": {},
   "source": [
    "#### 使用一定方法对属性值进行递增"
   ]
  },
  {
   "cell_type": "code",
   "execution_count": 18,
   "metadata": {
    "ExecuteTime": {
     "end_time": "2022-07-24T09:55:39.643797Z",
     "start_time": "2022-07-24T09:55:39.628512Z"
    }
   },
   "outputs": [
    {
     "name": "stdout",
     "output_type": "stream",
     "text": [
      "2015 Subaru Outback\n",
      "This car has 23500 miles on it.\n",
      "You can't roll back an odometer!\n",
      "This car has 23500 miles on it.\n"
     ]
    }
   ],
   "source": [
    "class Car():\n",
    "    def __init__(self, make, model, year):\n",
    "        \"\"\"初始化描述汽车的属性\"\"\"\n",
    "        self.make = make\n",
    "        self.model = model\n",
    "        self.year = year\n",
    "        self.odometer_reading = 25\n",
    "    \n",
    "    def get_descriptive_name(self):\n",
    "        \"\"\"返回简洁描述性信息\"\"\"\n",
    "        long_name = str(self.year) + \" \" +self.make + \" \" + self.model\n",
    "        return long_name.title()\n",
    "    \n",
    "    def read_odometer(self):\n",
    "        \"\"\"打印汽车里程信息\"\"\"\n",
    "        print(\"This car has \" + str(self.odometer_reading) + \" miles on it.\")\n",
    "        \n",
    "    def update_odometer(self, mileage):\n",
    "        \"\"\"\n",
    "        将里程表读数设置为指定的值\n",
    "        禁止将里程表往回调\n",
    "        \"\"\"\n",
    "        if mileage>=self.odometer_reading:\n",
    "            self.odometer_reading = mileage\n",
    "        else:\n",
    "            print(\"You can't roll back an odometer!\")\n",
    "        \n",
    "    def increment_odometer(self,miles):\n",
    "        \"\"\"将里程表读书增加指定的量\"\"\"\n",
    "        if miles>=0:\n",
    "            self.odometer_reading += miles\n",
    "        else:\n",
    "            print(\"You can't roll back an odometer!\")\n",
    "            \n",
    "            \n",
    "my_used_car = Car('subaru', 'outback', 2015)\n",
    "#创建二手车\n",
    "print(my_used_car.get_descriptive_name())\n",
    "\n",
    "my_used_car.update_odometer(23500)\n",
    "#更新参数\n",
    "my_used_car.read_odometer()\n",
    "\n",
    "my_used_car.increment_odometer(-100)\n",
    "#增加参数\n",
    "my_used_car.read_odometer()"
   ]
  },
  {
   "attachments": {},
   "cell_type": "markdown",
   "metadata": {},
   "source": [
    "#### 9-4"
   ]
  },
  {
   "cell_type": "code",
   "execution_count": 19,
   "metadata": {
    "ExecuteTime": {
     "end_time": "2022-07-24T09:55:39.659796Z",
     "start_time": "2022-07-24T09:55:39.646800Z"
    }
   },
   "outputs": [
    {
     "name": "stdout",
     "output_type": "stream",
     "text": [
      "How many people the restaurant have serverd now:\n",
      "0\n",
      "\n",
      "How many people the restaurant have serverd now:\n",
      "10\n",
      "\n",
      "How many people the restaurant have serverd now:\n",
      "200\n",
      "\n",
      "How many people the restaurant may serverd:\n",
      "203\n"
     ]
    }
   ],
   "source": [
    "class Restaurant:\n",
    "    def __init__( self, restaurant_name,cuisine_type ):\n",
    "        \"\"\"初始化属性\"\"\"\n",
    "        self.name=restaurant_name\n",
    "        self.type=cuisine_type\n",
    "        self.number_served=0\n",
    "    \n",
    "    def describe_restaurant(self):\n",
    "        \"\"\"描述餐馆信息\"\"\"\n",
    "        print(str(\"Restaurant's name: \" + self.name.title()))\n",
    "        ##str()强制类型转换优先级比title（）高，执行时要确保函数优先级正常\n",
    "        print(\"Cuisine's type: \" + str(self.type))\n",
    "        \n",
    "    def open_restaurant(self):\n",
    "        \"\"\"打印餐馆是否在营业的信息\"\"\"\n",
    "        print(\"This restaurant is opening now.\")\n",
    "        \n",
    "    def set_number_served(self,nums):\n",
    "        \"\"\"设置就餐人数\"\"\"\n",
    "        self.number_served = nums\n",
    "    \n",
    "    def increment_number_served(self,nums):\n",
    "        \"\"\"将就餐人数递增\"\"\"\n",
    "        self.number_served += nums\n",
    "        \n",
    "restaurant=Restaurant(\"Salad\",'cupcake')\n",
    "print(\"How many people the restaurant have serverd now:\")\n",
    "print(restaurant.number_served)\n",
    "\n",
    "print(\"\\nHow many people the restaurant have serverd now:\")\n",
    "restaurant.number_served =10\n",
    "print(restaurant.number_served)\n",
    "\n",
    "print(\"\\nHow many people the restaurant have serverd now:\")\n",
    "restaurant.set_number_served(200)\n",
    "print(restaurant.number_served)\n",
    "\n",
    "print(\"\\nHow many people the restaurant may serverd:\")\n",
    "restaurant.increment_number_served(3)\n",
    "print(restaurant.number_served)"
   ]
  },
  {
   "attachments": {},
   "cell_type": "markdown",
   "metadata": {},
   "source": [
    "#### 9-5"
   ]
  },
  {
   "cell_type": "code",
   "execution_count": 20,
   "metadata": {
    "ExecuteTime": {
     "end_time": "2022-07-24T09:55:39.675795Z",
     "start_time": "2022-07-24T09:55:39.661794Z"
    }
   },
   "outputs": [
    {
     "name": "stdout",
     "output_type": "stream",
     "text": [
      "3\n",
      "0\n"
     ]
    }
   ],
   "source": [
    "class User():\n",
    "    def __init__(self,first_name,last_name):\n",
    "        self.first=first_name\n",
    "        self.last=last_name\n",
    "        self.login_attempts=0\n",
    "        \n",
    "    def describe_user(self):\n",
    "        print(\"First name:\", self.first)\n",
    "        print(\"Last name:\", self.last)\n",
    "        \n",
    "    def greet_user(self):\n",
    "        print(str(\"Hello,\"+self.first.title()+\" \"+self.last.title()+\".\"))\n",
    "        \n",
    "    def increment_login_attempts(self):\n",
    "        self.login_attempts +=1\n",
    "    \n",
    "    def reset_login_attempts(self):\n",
    "        self.login_attempts = 0\n",
    "    \n",
    "user=User(\"salad\",\"chen\")\n",
    "user.increment_login_attempts()\n",
    "user.increment_login_attempts()\n",
    "user.increment_login_attempts()\n",
    "print(user.login_attempts)\n",
    "\n",
    "user.reset_login_attempts()\n",
    "print(user.login_attempts)\n",
    "        "
   ]
  },
  {
   "attachments": {},
   "cell_type": "markdown",
   "metadata": {},
   "source": [
    "### 继承\n",
    "用于实现**代码复用**和**设计复用**"
   ]
  },
  {
   "attachments": {},
   "cell_type": "markdown",
   "metadata": {
    "ExecuteTime": {
     "end_time": "2022-07-24T09:36:48.547052Z",
     "start_time": "2022-07-24T09:36:48.515560Z"
    }
   },
   "source": [
    "一个类继承另一个类时将自动获得另一个类的所有公有成员和方法"
   ]
  },
  {
   "attachments": {},
   "cell_type": "markdown",
   "metadata": {},
   "source": [
    "#### 原有的类为父类(也称超类superclass），新类为子类"
   ]
  },
  {
   "attachments": {},
   "cell_type": "markdown",
   "metadata": {},
   "source": [
    "#### 子类继承父类的所有公有属性和方法，同时还可以定义自己的属性和方法"
   ]
  },
  {
   "cell_type": "code",
   "execution_count": 21,
   "metadata": {
    "ExecuteTime": {
     "end_time": "2022-07-24T09:55:39.691792Z",
     "start_time": "2022-07-24T09:55:39.678797Z"
    }
   },
   "outputs": [],
   "source": [
    "#创建子类时父类必须包含在当前文件中，且位于子类前面\n",
    "class Car():\n",
    "    def __init__(self, make, model, year):\n",
    "        \"\"\"初始化描述汽车的属性\"\"\"\n",
    "        self.make = make\n",
    "        self.model = model\n",
    "        self.year = year\n",
    "        self.odometer_reading = 25\n",
    "    \n",
    "    def get_descriptive_name(self):\n",
    "        \"\"\"返回简洁描述性信息\"\"\"\n",
    "        long_name = str(self.year) + \" \" +self.make + \" \" + self.model\n",
    "        return long_name.title()\n",
    "    \n",
    "    def read_odometer(self):\n",
    "        \"\"\"打印汽车里程信息\"\"\"\n",
    "        print(\"This car has \" + str(self.odometer_reading) + \" miles on it.\")\n",
    "        \n",
    "    def update_odometer(self, mileage):\n",
    "        \"\"\"\n",
    "        将里程表读数设置为指定的值\n",
    "        禁止将里程表往回调\n",
    "        \"\"\"\n",
    "        if mileage>=self.odometer_reading:\n",
    "            self.odometer_reading = mileage\n",
    "        else:\n",
    "            print(\"You can't roll back an odometer!\")\n",
    "        \n",
    "    def increment_odometer(self,miles):\n",
    "        \"\"\"将里程表读书增加指定的量\"\"\"\n",
    "        if miles>=0:\n",
    "            self.odometer_reading += miles\n",
    "        else:\n",
    "            print(\"You can't roll back an odometer!\")"
   ]
  },
  {
   "attachments": {},
   "cell_type": "markdown",
   "metadata": {},
   "source": [
    "#### super（）函数将父类和子类关联起来"
   ]
  },
  {
   "cell_type": "code",
   "execution_count": 22,
   "metadata": {
    "ExecuteTime": {
     "end_time": "2022-07-24T09:55:39.707793Z",
     "start_time": "2022-07-24T09:55:39.693796Z"
    }
   },
   "outputs": [],
   "source": [
    "class ElectricCar(Car):\n",
    "    def __init__(self,make,model,year):\n",
    "        \"\"\"初始化父类的属性\"\"\"\n",
    "        super().__init__(make,model,year)\n",
    "        #此时电动汽车具备普通汽车的行为"
   ]
  },
  {
   "cell_type": "code",
   "execution_count": 23,
   "metadata": {
    "ExecuteTime": {
     "end_time": "2022-07-24T09:55:39.738797Z",
     "start_time": "2022-07-24T09:55:39.709803Z"
    }
   },
   "outputs": [
    {
     "name": "stdout",
     "output_type": "stream",
     "text": [
      "2016 Tesla Model S\n"
     ]
    }
   ],
   "source": [
    "my_tesla = ElectricCar(\"tesla\",\"model s\",2016)\n",
    "print(my_tesla.get_descriptive_name())"
   ]
  },
  {
   "attachments": {},
   "cell_type": "markdown",
   "metadata": {},
   "source": [
    "### 给子类定义属性和方法"
   ]
  },
  {
   "cell_type": "code",
   "execution_count": 26,
   "metadata": {
    "ExecuteTime": {
     "end_time": "2022-07-24T09:56:32.000005Z",
     "start_time": "2022-07-24T09:56:31.984375Z"
    }
   },
   "outputs": [],
   "source": [
    "class ElectricCar(Car):\n",
    "    def __init__(self,make,model,year):\n",
    "        \"\"\"初始化父类的属性，再初始化电动汽车特有属性\"\"\"\n",
    "        super().__init__(make,model,year)\n",
    "        self.battery_size = 70\n",
    "    \n",
    "    def describe_battery(self):\n",
    "        \"\"\"打印电瓶容量的信息\"\"\"\n",
    "        print(\"This car has a \" + str(self.battery_size) + \"-KW/h battery.\")"
   ]
  },
  {
   "cell_type": "code",
   "execution_count": 27,
   "metadata": {
    "ExecuteTime": {
     "end_time": "2022-07-24T09:56:32.642009Z",
     "start_time": "2022-07-24T09:56:32.625938Z"
    }
   },
   "outputs": [
    {
     "name": "stdout",
     "output_type": "stream",
     "text": [
      "2016 Tesla Model S\n",
      "This car has a 70-KW/h battery.\n"
     ]
    }
   ],
   "source": [
    "my_tesla = ElectricCar(\"tesla\",\"model s\",2016)\n",
    "print(my_tesla.get_descriptive_name())\n",
    "\n",
    "my_tesla.describe_battery()"
   ]
  },
  {
   "attachments": {},
   "cell_type": "markdown",
   "metadata": {},
   "source": [
    "### 重写父类的方法"
   ]
  },
  {
   "cell_type": "code",
   "execution_count": 28,
   "metadata": {
    "ExecuteTime": {
     "end_time": "2022-07-24T10:08:57.847923Z",
     "start_time": "2022-07-24T10:08:57.832234Z"
    }
   },
   "outputs": [],
   "source": [
    "class ElectricCar(Car):\n",
    "    def __init__(self,make,model,year):\n",
    "        \"\"\"初始化父类的属性，再初始化电动汽车特有属性\"\"\"\n",
    "        super().__init__(make,model,year)\n",
    "        self.battery_size = 70\n",
    "    \n",
    "    def describe_battery(self):\n",
    "        \"\"\"打印电瓶容量的信息\"\"\"\n",
    "        print(\"This car has a \" + str(self.battery_size) + \"-KW/h battery.\")\n",
    "    \n",
    "    def fill_gas_tank():\n",
    "        \"\"\"电动汽车没有油箱\"\"\"\n",
    "        print(\"This car doesn't need a gas tank!\")\n",
    "        #当对电动汽车调用方法fill_gas_tank()时python将忽略Car类中的方法转而用上述代码"
   ]
  },
  {
   "attachments": {},
   "cell_type": "markdown",
   "metadata": {},
   "source": [
    "### 将实例用作属性"
   ]
  },
  {
   "attachments": {},
   "cell_type": "markdown",
   "metadata": {},
   "source": [
    "#### 可将大型类拆分成多个协同工作的小类"
   ]
  },
  {
   "attachments": {},
   "cell_type": "markdown",
   "metadata": {},
   "source": [
    "#### 可以详细描述小类的细节，不会导致大类混乱"
   ]
  },
  {
   "cell_type": "code",
   "execution_count": 36,
   "metadata": {
    "ExecuteTime": {
     "end_time": "2022-07-24T10:29:22.278536Z",
     "start_time": "2022-07-24T10:29:22.262815Z"
    }
   },
   "outputs": [],
   "source": [
    "class Battery():\n",
    "    \"\"\"模拟电动汽车电瓶\"\"\"\n",
    "    \n",
    "    def __init__(self,battery_size = 70):\n",
    "        self.battery_size = battery_size\n",
    "    \n",
    "    def describe_battery(self):\n",
    "        \"\"\"打印电瓶容量信息\"\"\"\n",
    "        print(\"This car has a \"+ str(self.battery_size) + \"-KWh battery.\")\n",
    "        \n",
    "    def get_range(self):\n",
    "        \"\"\"打印电瓶续航里程\"\"\"\n",
    "        if self.battery_size == 70:\n",
    "            range = 240\n",
    "        elif self.battery_size ==85:\n",
    "            range =270\n",
    "        \n",
    "        message = \"This car can go approximately \" + str(range)\n",
    "        message += \" miles on a full charge.\"\n",
    "        print(message)"
   ]
  },
  {
   "cell_type": "code",
   "execution_count": 37,
   "metadata": {
    "ExecuteTime": {
     "end_time": "2022-07-24T10:29:22.781758Z",
     "start_time": "2022-07-24T10:29:22.771242Z"
    }
   },
   "outputs": [],
   "source": [
    "class ElectricCar(Car):\n",
    "    def __init__(self,make,model,year):\n",
    "        \"\"\"初始化父类的属性，再初始化电动汽车特有属性\"\"\"\n",
    "        super().__init__(make,model,year)\n",
    "        self.battery_size = 70\n",
    "        self.battery = Battery()#创建一个新的battery实例,默认值为70\n",
    "    \n",
    "    def describe_battery(self):\n",
    "        \"\"\"打印电瓶容量的信息\"\"\"\n",
    "        print(\"This car has a \" + str(self.battery_size) + \"-KW/h battery.\")\n",
    "    \n",
    "    def fill_gas_tank():\n",
    "        \"\"\"电动汽车没有油箱\"\"\"\n",
    "        print(\"This car doesn't need a gas tank!\")\n",
    "        #当对电动汽车调用方法fill_gas_tank()时python将忽略Car类中的方法转而用上述代码"
   ]
  },
  {
   "cell_type": "code",
   "execution_count": 38,
   "metadata": {
    "ExecuteTime": {
     "end_time": "2022-07-24T10:29:23.237727Z",
     "start_time": "2022-07-24T10:29:23.222727Z"
    }
   },
   "outputs": [
    {
     "name": "stdout",
     "output_type": "stream",
     "text": [
      "2016 Tesla Model S\n",
      "This car has a 70-KWh battery.\n"
     ]
    }
   ],
   "source": [
    "my_tesla = ElectricCar(\"tesla\",\"model s\",2016)\n",
    "print(my_tesla.get_descriptive_name())\n",
    "\n",
    "my_tesla.battery.describe_battery()\n",
    "# 在实例my_tesla中查找属性battery\n",
    "#并对存储在该属性中的Battery实例调用方法describe_battery()"
   ]
  },
  {
   "cell_type": "code",
   "execution_count": 39,
   "metadata": {
    "ExecuteTime": {
     "end_time": "2022-07-24T10:29:23.759058Z",
     "start_time": "2022-07-24T10:29:23.748028Z"
    }
   },
   "outputs": [
    {
     "name": "stdout",
     "output_type": "stream",
     "text": [
      "This car can go approximately 240 miles on a full charge.\n"
     ]
    }
   ],
   "source": [
    "my_tesla.battery.get_range()"
   ]
  },
  {
   "attachments": {},
   "cell_type": "markdown",
   "metadata": {},
   "source": [
    "### 模拟实物"
   ]
  },
  {
   "attachments": {},
   "cell_type": "markdown",
   "metadata": {},
   "source": [
    "#### 9-6"
   ]
  },
  {
   "cell_type": "code",
   "execution_count": null,
   "metadata": {},
   "outputs": [],
   "source": [
    "class Restaurant:\n",
    "    def __init__( self, restaurant_name,cuisine_type ):\n",
    "        \"\"\"初始化属性\"\"\"\n",
    "        self.name=restaurant_name\n",
    "        self.type=cuisine_type\n",
    "        self.number_served=0\n",
    "    \n",
    "    def describe_restaurant(self):\n",
    "        \"\"\"描述餐馆信息\"\"\"\n",
    "        print(str(\"Restaurant's name: \" + self.name.title()))\n",
    "        ##str()强制类型转换优先级比title（）高，执行时要确保函数优先级正常\n",
    "        print(\"Cuisine's type: \" + str(self.type))\n",
    "        \n",
    "    def open_restaurant(self):\n",
    "        \"\"\"打印餐馆是否在营业的信息\"\"\"\n",
    "        print(\"This restaurant is opening now.\")\n",
    "        \n",
    "    def set_number_served(self,nums):\n",
    "        \"\"\"设置就餐人数\"\"\"\n",
    "        self.number_served = nums\n",
    "    \n",
    "    def increment_number_served(self,nums):\n",
    "        \"\"\"将就餐人数递增\"\"\"\n",
    "        self.number_served += nums"
   ]
  },
  {
   "cell_type": "code",
   "execution_count": 47,
   "metadata": {
    "ExecuteTime": {
     "end_time": "2022-07-24T10:57:03.975641Z",
     "start_time": "2022-07-24T10:57:03.959973Z"
    }
   },
   "outputs": [
    {
     "name": "stdout",
     "output_type": "stream",
     "text": [
      "stawberry\n",
      "mengo\n"
     ]
    }
   ],
   "source": [
    "class IceCreamStand(Restaurant):\n",
    "    def __init__(self, restaurant_name,cuisine_type):\n",
    "        \"\"\"继承Restaurant类，增加冰淇淋口味的属性\"\"\"\n",
    "        super().__init__(restaurant_name,cuisine_type)\n",
    "        self.flavors=[\"stawberry\",\"mengo\"]\n",
    "    \n",
    "    def show_icecream(self):\n",
    "        \"\"\"显示冰淇淋的方法\"\"\"\n",
    "        for i in self.flavors:\n",
    "            print(i)\n",
    "\n",
    "icecream = IceCreamStand(\"salad\",'icecream')\n",
    "icecream.show_icecream()"
   ]
  },
  {
   "attachments": {},
   "cell_type": "markdown",
   "metadata": {},
   "source": [
    "#### 9-7"
   ]
  },
  {
   "cell_type": "code",
   "execution_count": 49,
   "metadata": {
    "ExecuteTime": {
     "end_time": "2022-07-24T11:01:42.357929Z",
     "start_time": "2022-07-24T11:01:42.333861Z"
    }
   },
   "outputs": [],
   "source": [
    "class User():\n",
    "    def __init__(self,first_name,last_name):\n",
    "        self.first=first_name\n",
    "        self.last=last_name\n",
    "        self.login_attempts=0\n",
    "        \n",
    "    def describe_user(self):\n",
    "        print(\"First name:\", self.first)\n",
    "        print(\"Last name:\", self.last)\n",
    "        \n",
    "    def greet_user(self):\n",
    "        print(str(\"Hello,\"+self.first.title()+\" \"+self.last.title()+\".\"))\n",
    "        \n",
    "    def increment_login_attempts(self):\n",
    "        self.login_attempts +=1\n",
    "    \n",
    "    def reset_login_attempts(self):\n",
    "        self.login_attempts = 0"
   ]
  },
  {
   "cell_type": "code",
   "execution_count": 54,
   "metadata": {
    "ExecuteTime": {
     "end_time": "2022-07-24T11:06:47.197370Z",
     "start_time": "2022-07-24T11:06:47.190023Z"
    }
   },
   "outputs": [
    {
     "name": "stdout",
     "output_type": "stream",
     "text": [
      "管理员权限有：\n",
      "can add post\n",
      "can delele post\n",
      "can ban user\n"
     ]
    }
   ],
   "source": [
    "class Admin(User):\n",
    "    def __init__(self,first_name,last_name):\n",
    "        super().__init__(first_name,last_name)\n",
    "        self.privileges=[\"can add post\",\"can delele post\",\"can ban user\"]\n",
    "        \n",
    "    def show_privileges(self):\n",
    "        for i in self.privileges:\n",
    "            print(i)\n",
    "        \n",
    "admin = Admin(\"salad\",\"chen\")\n",
    "print(\"管理员权限有：\")\n",
    "admin.show_privileges()"
   ]
  },
  {
   "attachments": {},
   "cell_type": "markdown",
   "metadata": {},
   "source": [
    "#### 9-8"
   ]
  },
  {
   "cell_type": "code",
   "execution_count": 60,
   "metadata": {
    "ExecuteTime": {
     "end_time": "2022-07-24T11:11:56.658088Z",
     "start_time": "2022-07-24T11:11:56.634147Z"
    }
   },
   "outputs": [],
   "source": [
    "class Privileges():\n",
    "    def __init__(self):\n",
    "        self.privileges = [\"can add post\",\"can delele post\",\"can ban user\"]\n",
    "        \n",
    "    def show_privileges(self):\n",
    "        for i in self.privileges:\n",
    "            print(i)"
   ]
  },
  {
   "cell_type": "code",
   "execution_count": 61,
   "metadata": {
    "ExecuteTime": {
     "end_time": "2022-07-24T11:11:57.213974Z",
     "start_time": "2022-07-24T11:11:57.190333Z"
    }
   },
   "outputs": [
    {
     "name": "stdout",
     "output_type": "stream",
     "text": [
      "管理员权限有：\n",
      "can add post\n",
      "can delele post\n",
      "can ban user\n"
     ]
    }
   ],
   "source": [
    "class Admin(User):\n",
    "    def __init__(self,first_name,last_name):\n",
    "        super().__init__(first_name,last_name)\n",
    "        self.privileges = Privileges()\n",
    "        \n",
    "admin = Admin(\"salad\",\"chen\")\n",
    "print(\"管理员权限有：\")\n",
    "admin.privileges.show_privileges()"
   ]
  },
  {
   "attachments": {},
   "cell_type": "markdown",
   "metadata": {},
   "source": [
    "#### 9-9"
   ]
  },
  {
   "cell_type": "code",
   "execution_count": 68,
   "metadata": {
    "ExecuteTime": {
     "end_time": "2022-07-24T11:19:00.073661Z",
     "start_time": "2022-07-24T11:19:00.067476Z"
    }
   },
   "outputs": [],
   "source": [
    "class Battery():\n",
    "    \"\"\"模拟电动汽车电瓶\"\"\"\n",
    "    \n",
    "    def __init__(self,battery_size = 70):\n",
    "        self.battery_size = battery_size\n",
    "    \n",
    "    def describe_battery(self):\n",
    "        \"\"\"打印电瓶容量信息\"\"\"\n",
    "        print(\"This car has a \"+ str(self.battery_size) + \"-KWh battery.\")\n",
    "        \n",
    "    def get_range(self):\n",
    "        \"\"\"打印电瓶续航里程\"\"\"\n",
    "        if self.battery_size == 70:\n",
    "            range = 240\n",
    "        elif self.battery_size ==85:\n",
    "            range =270\n",
    "        \n",
    "        message = \"This car can go approximately \" + str(range)\n",
    "        message += \" miles on a full charge.\"\n",
    "        print(message)\n",
    "        \n",
    "    def upgrade_battery(self):\n",
    "        \"\"\"电瓶升级\"\"\"\n",
    "        if self.battery_size != 85:\n",
    "            self.battery_size = 85"
   ]
  },
  {
   "cell_type": "code",
   "execution_count": 69,
   "metadata": {
    "ExecuteTime": {
     "end_time": "2022-07-24T11:19:00.633012Z",
     "start_time": "2022-07-24T11:19:00.609520Z"
    }
   },
   "outputs": [],
   "source": [
    "class ElectricCar(Car):\n",
    "    def __init__(self,make,model,year):\n",
    "        \"\"\"初始化父类的属性，再初始化电动汽车特有属性\"\"\"\n",
    "        super().__init__(make,model,year)\n",
    "        self.battery_size = 70\n",
    "        self.battery = Battery()#创建一个新的battery实例,默认值为70\n",
    "    \n",
    "    def describe_battery(self):\n",
    "        \"\"\"打印电瓶容量的信息\"\"\"\n",
    "        print(\"This car has a \" + str(self.battery_size) + \"-KW/h battery.\")\n",
    "    \n",
    "    def fill_gas_tank():\n",
    "        \"\"\"电动汽车没有油箱\"\"\"\n",
    "        print(\"This car doesn't need a gas tank!\")\n",
    "        #当对电动汽车调用方法fill_gas_tank()时python将忽略Car类中的方法转而用上述代码"
   ]
  },
  {
   "cell_type": "code",
   "execution_count": 70,
   "metadata": {
    "ExecuteTime": {
     "end_time": "2022-07-24T11:19:01.163707Z",
     "start_time": "2022-07-24T11:19:01.147690Z"
    }
   },
   "outputs": [
    {
     "name": "stdout",
     "output_type": "stream",
     "text": [
      "2016 Tesla Model S\n",
      "This car has a 70-KWh battery.\n",
      "This car can go approximately 240 miles on a full charge.\n",
      "This car can go approximately 270 miles on a full charge.\n"
     ]
    }
   ],
   "source": [
    "my_tesla = ElectricCar(\"tesla\",\"model s\",2016)\n",
    "print(my_tesla.get_descriptive_name())\n",
    "\n",
    "my_tesla.battery.describe_battery()\n",
    "# 在实例my_tesla中查找属性battery\n",
    "#并对存储在该属性中的Battery实例调用方法describe_battery()\n",
    "\n",
    "my_tesla.battery.get_range()\n",
    "\n",
    "my_tesla.battery.upgrade_battery()#对电瓶进行升级\n",
    "my_tesla.battery.get_range()"
   ]
  },
  {
   "attachments": {},
   "cell_type": "markdown",
   "metadata": {},
   "source": [
    "### 导入类"
   ]
  },
  {
   "attachments": {},
   "cell_type": "markdown",
   "metadata": {},
   "source": [
    "#### 将类存储在模块中，然后在主程序中导入所需模块"
   ]
  },
  {
   "attachments": {},
   "cell_type": "markdown",
   "metadata": {},
   "source": [
    "#### 见car.py 、electric_car.py和 my_car.py 文件"
   ]
  },
  {
   "attachments": {},
   "cell_type": "markdown",
   "metadata": {},
   "source": [
    "### Python标准库（一组模块）"
   ]
  },
  {
   "cell_type": "code",
   "execution_count": 3,
   "metadata": {
    "ExecuteTime": {
     "end_time": "2022-07-26T17:41:31.102732Z",
     "start_time": "2022-07-26T17:41:31.088873Z"
    }
   },
   "outputs": [
    {
     "name": "stdout",
     "output_type": "stream",
     "text": [
      "Jen's favorite language is Python.\n",
      "Sarah's favorite language is C.\n",
      "Edward's favorite language is Ruby.\n",
      "Phil's favorite language is Python.\n"
     ]
    }
   ],
   "source": [
    "from collections import OrderedDict\n",
    "#行为与dictionary相同，但记录了键值对的添加顺序\n",
    "\n",
    "favorite_languages = OrderedDict()\n",
    "#创建一个空的有序字典，并存储在favorite_languages中\n",
    "\n",
    "favorite_languages['jen'] = 'python'\n",
    "favorite_languages['sarah'] = 'c'\n",
    "favorite_languages['edward'] = 'ruby'\n",
    "favorite_languages['phil'] = 'python'\n",
    "\n",
    "for name,language in favorite_languages.items():\n",
    "    print(name.title() + \"'s favorite language is \" \n",
    "          + language.title() + \".\")"
   ]
  },
  {
   "cell_type": "code",
   "execution_count": 5,
   "metadata": {
    "ExecuteTime": {
     "end_time": "2022-07-26T17:44:47.096391Z",
     "start_time": "2022-07-26T17:44:47.079492Z"
    }
   },
   "outputs": [
    {
     "data": {
      "text/plain": [
       "6"
      ]
     },
     "execution_count": 5,
     "metadata": {},
     "output_type": "execute_result"
    }
   ],
   "source": [
    "from random import randint\n",
    "#模块random包含以各种方式生成随机数的函数\n",
    "#其中的randint()返回一个位于指定范围内的整数\n",
    "\n",
    "x = randint(1,6)\n",
    "x"
   ]
  },
  {
   "cell_type": "code",
   "execution_count": 9,
   "metadata": {
    "ExecuteTime": {
     "end_time": "2022-07-26T17:52:26.369590Z",
     "start_time": "2022-07-26T17:52:26.357072Z"
    }
   },
   "outputs": [
    {
     "name": "stdout",
     "output_type": "stream",
     "text": [
      "6\n",
      "3\n",
      "1\n",
      "3\n",
      "3\n",
      "3\n",
      "3\n",
      "6\n",
      "6\n",
      "6\n"
     ]
    }
   ],
   "source": [
    "class Die():\n",
    "    def __init__(self,sides=6):\n",
    "        self.sides=sides\n",
    "    \n",
    "    def roll_die(self):\n",
    "        x = randint(1,self.sides)\n",
    "        print(x)\n",
    "        \n",
    "die = Die(6)\n",
    "for i in range(10):\n",
    "    die.roll_die()"
   ]
  },
  {
   "cell_type": "code",
   "execution_count": null,
   "metadata": {},
   "outputs": [],
   "source": []
  }
 ],
 "metadata": {
  "kernelspec": {
   "display_name": "Python 3",
   "language": "python",
   "name": "python3"
  },
  "language_info": {
   "codemirror_mode": {
    "name": "ipython",
    "version": 3
   },
   "file_extension": ".py",
   "mimetype": "text/x-python",
   "name": "python",
   "nbconvert_exporter": "python",
   "pygments_lexer": "ipython3",
   "version": "3.7.0"
  }
 },
 "nbformat": 4,
 "nbformat_minor": 2
}
