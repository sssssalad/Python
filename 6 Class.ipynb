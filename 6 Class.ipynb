{
 "cells": [
  {
   "cell_type": "markdown",
   "metadata": {},
   "source": [
    "#### 类中的函数为方法"
   ]
  },
  {
   "cell_type": "markdown",
   "metadata": {},
   "source": [
    "#### self是指向实例本身的引用，让实例能够访问类中的属性和方法"
   ]
  },
  {
   "cell_type": "markdown",
   "metadata": {},
   "source": [
    "#### 每当根据Dog类创建新实例时，Python都会自动运行self，此时需另外给出最后两个形参name和age的值"
   ]
  },
  {
   "cell_type": "code",
   "execution_count": 1,
   "metadata": {
    "ExecuteTime": {
     "end_time": "2022-07-24T09:55:39.327512Z",
     "start_time": "2022-07-24T09:55:39.317510Z"
    }
   },
   "outputs": [],
   "source": [
    "class Dog():\n",
    "    #首字母大写的名称指的是类\n",
    "    \"\"\"一次模拟小狗的简单尝试\"\"\"\n",
    "    \n",
    "    def __init__(self, name, age):##左右各两个\"_\"\n",
    "        #特殊方法，每当根据Dog类创建新实例时，Python都会自动运行它\n",
    "        #三个形参中self必不可少，必须位于其他形参之前\n",
    "        \n",
    "        #每个与类相关联的方法调用都自动传递实参self\n",
    "        #以self为前缀的变量可以供类中的所有办法使用\n",
    "        \n",
    "        \"\"\"初始化属性name和age\"\"\"\n",
    "        self.name = name#获取存储在形参name中的值并存储到变量name中\n",
    "        self.age = age\n",
    "        \n",
    "    def sit(self):\n",
    "        \"\"\"模拟小狗被命令时蹲下\"\"\"\n",
    "        print(self.name.title() + \" is now sitting.\")\n",
    "        \n",
    "    def roll_over(self):\n",
    "        \"\"\"模拟小狗被命令时打滚\"\"\"\n",
    "        print(self.name.title() + \" rolled over!\")"
   ]
  },
  {
   "cell_type": "markdown",
   "metadata": {},
   "source": [
    "#### my_dog为根据类创建的实例"
   ]
  },
  {
   "cell_type": "code",
   "execution_count": 2,
   "metadata": {
    "ExecuteTime": {
     "end_time": "2022-07-24T09:55:39.342509Z",
     "start_time": "2022-07-24T09:55:39.329512Z"
    }
   },
   "outputs": [
    {
     "name": "stdout",
     "output_type": "stream",
     "text": [
      "My dog's name is Willie.\n",
      "My dog is 6 years old.\n"
     ]
    }
   ],
   "source": [
    "my_dog = Dog(\"willie\", 6)\n",
    "\n",
    "print(\"My dog's name is \" + my_dog.name.title() + \".\")\n",
    "print(\"My dog is \" + str(my_dog.age) + \" years old.\")"
   ]
  },
  {
   "cell_type": "markdown",
   "metadata": {},
   "source": [
    "### 访问属性"
   ]
  },
  {
   "cell_type": "code",
   "execution_count": 3,
   "metadata": {
    "ExecuteTime": {
     "end_time": "2022-07-24T09:55:39.357507Z",
     "start_time": "2022-07-24T09:55:39.344509Z"
    }
   },
   "outputs": [
    {
     "data": {
      "text/plain": [
       "'willie'"
      ]
     },
     "execution_count": 3,
     "metadata": {},
     "output_type": "execute_result"
    }
   ],
   "source": [
    "my_dog.name"
   ]
  },
  {
   "cell_type": "markdown",
   "metadata": {
    "ExecuteTime": {
     "end_time": "2022-07-21T11:42:53.585093Z",
     "start_time": "2022-07-21T11:42:53.553011Z"
    }
   },
   "source": [
    "### 调用方法"
   ]
  },
  {
   "cell_type": "code",
   "execution_count": 4,
   "metadata": {
    "ExecuteTime": {
     "end_time": "2022-07-24T09:55:39.373506Z",
     "start_time": "2022-07-24T09:55:39.359507Z"
    }
   },
   "outputs": [
    {
     "name": "stdout",
     "output_type": "stream",
     "text": [
      "Willie is now sitting.\n",
      "Willie rolled over!\n"
     ]
    }
   ],
   "source": [
    "my_dog.sit()\n",
    "my_dog.roll_over()"
   ]
  },
  {
   "cell_type": "markdown",
   "metadata": {},
   "source": [
    "### 创建多个实例"
   ]
  },
  {
   "cell_type": "code",
   "execution_count": 5,
   "metadata": {
    "ExecuteTime": {
     "end_time": "2022-07-24T09:55:39.388505Z",
     "start_time": "2022-07-24T09:55:39.375507Z"
    }
   },
   "outputs": [
    {
     "name": "stdout",
     "output_type": "stream",
     "text": [
      "My dog's name is Willie.\n",
      "My dog is 6 years old.\n",
      "Willie is now sitting.\n",
      "\n",
      "Your dog's name is Willie.\n",
      "Your dog is 6 years old.\n",
      "Lucy is now sitting.\n"
     ]
    }
   ],
   "source": [
    "your_dog = Dog(\"lucy\", 3)\n",
    "\n",
    "print(\"My dog's name is \" + my_dog.name.title() + \".\")\n",
    "print(\"My dog is \" + str(my_dog.age) + \" years old.\")\n",
    "my_dog.sit()\n",
    "\n",
    "print(\"\\nYour dog's name is \" + my_dog.name.title() + \".\")\n",
    "print(\"Your dog is \" + str(my_dog.age) + \" years old.\")\n",
    "your_dog.sit()"
   ]
  },
  {
   "cell_type": "markdown",
   "metadata": {},
   "source": [
    "#### 9-1"
   ]
  },
  {
   "cell_type": "code",
   "execution_count": 6,
   "metadata": {
    "ExecuteTime": {
     "end_time": "2022-07-24T09:55:39.404506Z",
     "start_time": "2022-07-24T09:55:39.390508Z"
    }
   },
   "outputs": [],
   "source": [
    "class Restaurant:\n",
    "    def __init__( self, restaurant_name,cuisine_type ):\n",
    "        self.name=restaurant_name\n",
    "        self.type=cuisine_type\n",
    "    \n",
    "    def describe_restaurant(self):\n",
    "        print(str(\"Restaurant's name: \" + self.name.title()))\n",
    "        ##str()强制类型转换优先级比title（）高，执行时要确保函数优先级正常\n",
    "        print(\"Cuisine's type: \" + str(self.type))\n",
    "        \n",
    "    def open_restaurant(self):\n",
    "        print(\"This restaurant is opening now.\")"
   ]
  },
  {
   "cell_type": "code",
   "execution_count": 7,
   "metadata": {
    "ExecuteTime": {
     "end_time": "2022-07-24T09:55:39.420507Z",
     "start_time": "2022-07-24T09:55:39.406507Z"
    }
   },
   "outputs": [
    {
     "data": {
      "text/plain": [
       "\"Salad's homemake cupcake\""
      ]
     },
     "execution_count": 7,
     "metadata": {},
     "output_type": "execute_result"
    }
   ],
   "source": [
    "restaurant=Restaurant(\"Salad's homemake cupcake\",\"cupcake\")\n",
    "restaurant.name"
   ]
  },
  {
   "cell_type": "code",
   "execution_count": 8,
   "metadata": {
    "ExecuteTime": {
     "end_time": "2022-07-24T09:55:39.436506Z",
     "start_time": "2022-07-24T09:55:39.422508Z"
    }
   },
   "outputs": [
    {
     "data": {
      "text/plain": [
       "'cupcake'"
      ]
     },
     "execution_count": 8,
     "metadata": {},
     "output_type": "execute_result"
    }
   ],
   "source": [
    "restaurant.type"
   ]
  },
  {
   "cell_type": "code",
   "execution_count": 9,
   "metadata": {
    "ExecuteTime": {
     "end_time": "2022-07-24T09:55:39.451506Z",
     "start_time": "2022-07-24T09:55:39.438509Z"
    }
   },
   "outputs": [
    {
     "name": "stdout",
     "output_type": "stream",
     "text": [
      "Restaurant's name: Salad'S Homemake Cupcake\n",
      "Cuisine's type: cupcake\n"
     ]
    }
   ],
   "source": [
    "restaurant.describe_restaurant()"
   ]
  },
  {
   "cell_type": "code",
   "execution_count": 10,
   "metadata": {
    "ExecuteTime": {
     "end_time": "2022-07-24T09:55:39.466505Z",
     "start_time": "2022-07-24T09:55:39.452506Z"
    }
   },
   "outputs": [
    {
     "name": "stdout",
     "output_type": "stream",
     "text": [
      "This restaurant is opening now.\n"
     ]
    }
   ],
   "source": [
    "restaurant.open_restaurant()"
   ]
  },
  {
   "cell_type": "markdown",
   "metadata": {},
   "source": [
    "#### 9-2"
   ]
  },
  {
   "cell_type": "code",
   "execution_count": 11,
   "metadata": {
    "ExecuteTime": {
     "end_time": "2022-07-24T09:55:39.482505Z",
     "start_time": "2022-07-24T09:55:39.467507Z"
    }
   },
   "outputs": [
    {
     "name": "stdout",
     "output_type": "stream",
     "text": [
      "Restaurant's name: Aaaaa\n",
      "Cuisine's type: a\n",
      "\n",
      "\n",
      "Restaurant's name: Bbbbb\n",
      "Cuisine's type: b\n",
      "\n",
      "\n",
      "Restaurant's name: Ccccc\n",
      "Cuisine's type: c\n"
     ]
    }
   ],
   "source": [
    "a=Restaurant(\"aaaaa\",\"a\")\n",
    "a.describe_restaurant()\n",
    "\n",
    "print(\"\\n\")\n",
    "b=Restaurant(\"bbbbb\",\"b\")\n",
    "b.describe_restaurant()\n",
    "\n",
    "print(\"\\n\")\n",
    "c=Restaurant(\"ccccc\",\"c\")\n",
    "c.describe_restaurant()"
   ]
  },
  {
   "cell_type": "markdown",
   "metadata": {},
   "source": [
    "#### 9-3"
   ]
  },
  {
   "cell_type": "code",
   "execution_count": 12,
   "metadata": {
    "ExecuteTime": {
     "end_time": "2022-07-24T09:55:39.498507Z",
     "start_time": "2022-07-24T09:55:39.484509Z"
    }
   },
   "outputs": [],
   "source": [
    "class User:\n",
    "    def __init__(self,first_name,last_name):\n",
    "        self.first=first_name\n",
    "        self.last=last_name\n",
    "        \n",
    "    def describe_user(self):\n",
    "        print(\"First name:\", self.first)\n",
    "        print(\"Last name:\", self.last)\n",
    "        \n",
    "    def greet_user(self):\n",
    "        print(str(\"Hello,\"+self.first.title()+\" \"+self.last.title()+\".\"))   "
   ]
  },
  {
   "cell_type": "code",
   "execution_count": 13,
   "metadata": {
    "ExecuteTime": {
     "end_time": "2022-07-24T09:55:39.530511Z",
     "start_time": "2022-07-24T09:55:39.501509Z"
    }
   },
   "outputs": [
    {
     "name": "stdout",
     "output_type": "stream",
     "text": [
      "First name: salad\n",
      "Last name: chen\n",
      "Hello,Salad Chen.\n",
      "\n",
      "\n",
      "First name: xx\n",
      "Last name: xu\n",
      "Hello,Xx Xu.\n"
     ]
    }
   ],
   "source": [
    "a = User(\"salad\",\"chen\")\n",
    "a.describe_user()\n",
    "a.greet_user()\n",
    "\n",
    "print(\"\\n\")\n",
    "b = User(\"xx\",\"xu\")\n",
    "b.describe_user()\n",
    "b.greet_user()"
   ]
  },
  {
   "cell_type": "markdown",
   "metadata": {},
   "source": [
    "### Car类"
   ]
  },
  {
   "cell_type": "code",
   "execution_count": 14,
   "metadata": {
    "ExecuteTime": {
     "end_time": "2022-07-24T09:55:39.562507Z",
     "start_time": "2022-07-24T09:55:39.534511Z"
    }
   },
   "outputs": [
    {
     "name": "stdout",
     "output_type": "stream",
     "text": [
      "2016 Audi A4\n"
     ]
    }
   ],
   "source": [
    "class Car():\n",
    "    def __init__(self, make, model, year):\n",
    "        \"\"\"初始化描述汽车的属性\"\"\"\n",
    "        self.make = make\n",
    "        self.model = model\n",
    "        self.year = year\n",
    "    \n",
    "    def get_descriptive_name(self):\n",
    "        \"\"\"返回简洁描述性信息\"\"\"\n",
    "        long_name=str(self.year)+\" \"+self.make+\" \"+self.model \n",
    "        return long_name.title()\n",
    "    \n",
    "my_new_car = Car(\"audi\", \"a4\", 2016)\n",
    "print(my_new_car.get_descriptive_name())"
   ]
  },
  {
   "cell_type": "markdown",
   "metadata": {},
   "source": [
    "### 给属性指定默认值"
   ]
  },
  {
   "cell_type": "code",
   "execution_count": 15,
   "metadata": {
    "ExecuteTime": {
     "end_time": "2022-07-24T09:55:39.577515Z",
     "start_time": "2022-07-24T09:55:39.564510Z"
    }
   },
   "outputs": [
    {
     "name": "stdout",
     "output_type": "stream",
     "text": [
      "2016 Audi A4\n",
      "This car has 0 miles on it.\n"
     ]
    }
   ],
   "source": [
    "class Car():\n",
    "    def __init__(self, make, model, year):\n",
    "        \"\"\"初始化描述汽车的属性\"\"\"\n",
    "        self.make = make\n",
    "        self.model = model\n",
    "        self.year = year\n",
    "        self.odometer_reading = 0\n",
    "    \n",
    "    def get_descriptive_name(self):\n",
    "        \"\"\"返回简洁描述性信息\"\"\"\n",
    "        long_name = str(self.year) + \" \" +self.make + \" \" + self.model\n",
    "        return long_name.title()\n",
    "    \n",
    "    def read_odometer(self):\n",
    "        \"\"\"打印汽车里程信息\"\"\"\n",
    "        print(\"This car has \" + str(self.odometer_reading) + \" miles on it.\")\n",
    "        \n",
    "my_new_car = Car(\"audi\", \"a4\", 2016)\n",
    "print(my_new_car.get_descriptive_name())\n",
    "my_new_car.read_odometer()"
   ]
  },
  {
   "cell_type": "markdown",
   "metadata": {},
   "source": [
    "### 修改属性的值"
   ]
  },
  {
   "cell_type": "markdown",
   "metadata": {},
   "source": [
    "#### 直接修改"
   ]
  },
  {
   "cell_type": "code",
   "execution_count": 16,
   "metadata": {
    "ExecuteTime": {
     "end_time": "2022-07-24T09:55:39.593508Z",
     "start_time": "2022-07-24T09:55:39.580516Z"
    }
   },
   "outputs": [
    {
     "name": "stdout",
     "output_type": "stream",
     "text": [
      "2016 Audi A4\n",
      "This car has 23 miles on it.\n"
     ]
    }
   ],
   "source": [
    "my_new_car = Car(\"audi\", \"a4\", 2016)\n",
    "print(my_new_car.get_descriptive_name())\n",
    "\n",
    "my_new_car.odometer_reading = 23\n",
    "my_new_car.read_odometer()"
   ]
  },
  {
   "cell_type": "markdown",
   "metadata": {},
   "source": [
    "#### 使用一定方法修改"
   ]
  },
  {
   "cell_type": "code",
   "execution_count": 17,
   "metadata": {
    "ExecuteTime": {
     "end_time": "2022-07-24T09:55:39.624508Z",
     "start_time": "2022-07-24T09:55:39.601509Z"
    }
   },
   "outputs": [
    {
     "name": "stdout",
     "output_type": "stream",
     "text": [
      "2016 Audi A4\n",
      "You can't roll back an odometer!\n",
      "This car has 25 miles on it.\n"
     ]
    }
   ],
   "source": [
    "class Car():\n",
    "    def __init__(self, make, model, year):\n",
    "        \"\"\"初始化描述汽车的属性\"\"\"\n",
    "        self.make = make\n",
    "        self.model = model\n",
    "        self.year = year\n",
    "        self.odometer_reading = 25\n",
    "    \n",
    "    def get_descriptive_name(self):\n",
    "        \"\"\"返回简洁描述性信息\"\"\"\n",
    "        long_name = str(self.year) + \" \" +self.make + \" \" + self.model\n",
    "        return long_name.title()\n",
    "    \n",
    "    def read_odometer(self):\n",
    "        \"\"\"打印汽车里程信息\"\"\"\n",
    "        print(\"This car has \" + str(self.odometer_reading) + \" miles on it.\")\n",
    "        \n",
    "    def update_odometer(self, mileage):\n",
    "        \"\"\"\n",
    "        将里程表读数设置为指定的值\n",
    "        禁止将里程表往回调\n",
    "        \"\"\"\n",
    "        if mileage>=self.odometer_reading:\n",
    "            self.odometer_reading = mileage\n",
    "        else:\n",
    "            print(\"You can't roll back an odometer!\")\n",
    "\n",
    "my_new_car = Car(\"audi\", \"a4\", 2016)\n",
    "print(my_new_car.get_descriptive_name())\n",
    "\n",
    "my_new_car.update_odometer(23)#更新参数\n",
    "my_new_car.read_odometer()  "
   ]
  },
  {
   "cell_type": "markdown",
   "metadata": {},
   "source": [
    "#### 使用一定方法对属性值进行递增"
   ]
  },
  {
   "cell_type": "code",
   "execution_count": 18,
   "metadata": {
    "ExecuteTime": {
     "end_time": "2022-07-24T09:55:39.643797Z",
     "start_time": "2022-07-24T09:55:39.628512Z"
    }
   },
   "outputs": [
    {
     "name": "stdout",
     "output_type": "stream",
     "text": [
      "2015 Subaru Outback\n",
      "This car has 23500 miles on it.\n",
      "You can't roll back an odometer!\n",
      "This car has 23500 miles on it.\n"
     ]
    }
   ],
   "source": [
    "class Car():\n",
    "    def __init__(self, make, model, year):\n",
    "        \"\"\"初始化描述汽车的属性\"\"\"\n",
    "        self.make = make\n",
    "        self.model = model\n",
    "        self.year = year\n",
    "        self.odometer_reading = 25\n",
    "    \n",
    "    def get_descriptive_name(self):\n",
    "        \"\"\"返回简洁描述性信息\"\"\"\n",
    "        long_name = str(self.year) + \" \" +self.make + \" \" + self.model\n",
    "        return long_name.title()\n",
    "    \n",
    "    def read_odometer(self):\n",
    "        \"\"\"打印汽车里程信息\"\"\"\n",
    "        print(\"This car has \" + str(self.odometer_reading) + \" miles on it.\")\n",
    "        \n",
    "    def update_odometer(self, mileage):\n",
    "        \"\"\"\n",
    "        将里程表读数设置为指定的值\n",
    "        禁止将里程表往回调\n",
    "        \"\"\"\n",
    "        if mileage>=self.odometer_reading:\n",
    "            self.odometer_reading = mileage\n",
    "        else:\n",
    "            print(\"You can't roll back an odometer!\")\n",
    "        \n",
    "    def increment_odometer(self,miles):\n",
    "        \"\"\"将里程表读书增加指定的量\"\"\"\n",
    "        if miles>=0:\n",
    "            self.odometer_reading += miles\n",
    "        else:\n",
    "            print(\"You can't roll back an odometer!\")\n",
    "            \n",
    "            \n",
    "my_used_car = Car('subaru', 'outback', 2015)\n",
    "#创建二手车\n",
    "print(my_used_car.get_descriptive_name())\n",
    "\n",
    "my_used_car.update_odometer(23500)\n",
    "#更新参数\n",
    "my_used_car.read_odometer()\n",
    "\n",
    "my_used_car.increment_odometer(-100)\n",
    "#增加参数\n",
    "my_used_car.read_odometer()"
   ]
  },
  {
   "cell_type": "markdown",
   "metadata": {},
   "source": [
    "#### 9-4"
   ]
  },
  {
   "cell_type": "code",
   "execution_count": 19,
   "metadata": {
    "ExecuteTime": {
     "end_time": "2022-07-24T09:55:39.659796Z",
     "start_time": "2022-07-24T09:55:39.646800Z"
    }
   },
   "outputs": [
    {
     "name": "stdout",
     "output_type": "stream",
     "text": [
      "How many people the restaurant have serverd now:\n",
      "0\n",
      "\n",
      "How many people the restaurant have serverd now:\n",
      "10\n",
      "\n",
      "How many people the restaurant have serverd now:\n",
      "200\n",
      "\n",
      "How many people the restaurant may serverd:\n",
      "203\n"
     ]
    }
   ],
   "source": [
    "class Restaurant:\n",
    "    def __init__( self, restaurant_name,cuisine_type ):\n",
    "        \"\"\"初始化属性\"\"\"\n",
    "        self.name=restaurant_name\n",
    "        self.type=cuisine_type\n",
    "        self.number_served=0\n",
    "    \n",
    "    def describe_restaurant(self):\n",
    "        \"\"\"描述餐馆信息\"\"\"\n",
    "        print(str(\"Restaurant's name: \" + self.name.title()))\n",
    "        ##str()强制类型转换优先级比title（）高，执行时要确保函数优先级正常\n",
    "        print(\"Cuisine's type: \" + str(self.type))\n",
    "        \n",
    "    def open_restaurant(self):\n",
    "        \"\"\"打印餐馆是否在营业的信息\"\"\"\n",
    "        print(\"This restaurant is opening now.\")\n",
    "        \n",
    "    def set_number_served(self,nums):\n",
    "        \"\"\"设置就餐人数\"\"\"\n",
    "        self.number_served = nums\n",
    "    \n",
    "    def increment_number_served(self,nums):\n",
    "        \"\"\"将就餐人数递增\"\"\"\n",
    "        self.number_served += nums\n",
    "        \n",
    "restaurant=Restaurant(\"Salad\",'cupcake')\n",
    "print(\"How many people the restaurant have serverd now:\")\n",
    "print(restaurant.number_served)\n",
    "\n",
    "print(\"\\nHow many people the restaurant have serverd now:\")\n",
    "restaurant.number_served =10\n",
    "print(restaurant.number_served)\n",
    "\n",
    "print(\"\\nHow many people the restaurant have serverd now:\")\n",
    "restaurant.set_number_served(200)\n",
    "print(restaurant.number_served)\n",
    "\n",
    "print(\"\\nHow many people the restaurant may serverd:\")\n",
    "restaurant.increment_number_served(3)\n",
    "print(restaurant.number_served)"
   ]
  },
  {
   "cell_type": "markdown",
   "metadata": {},
   "source": [
    "#### 9-5"
   ]
  },
  {
   "cell_type": "code",
   "execution_count": 20,
   "metadata": {
    "ExecuteTime": {
     "end_time": "2022-07-24T09:55:39.675795Z",
     "start_time": "2022-07-24T09:55:39.661794Z"
    }
   },
   "outputs": [
    {
     "name": "stdout",
     "output_type": "stream",
     "text": [
      "3\n",
      "0\n"
     ]
    }
   ],
   "source": [
    "class User():\n",
    "    def __init__(self,first_name,last_name):\n",
    "        self.first=first_name\n",
    "        self.last=last_name\n",
    "        self.login_attempts=0\n",
    "        \n",
    "    def describe_user(self):\n",
    "        print(\"First name:\", self.first)\n",
    "        print(\"Last name:\", self.last)\n",
    "        \n",
    "    def greet_user(self):\n",
    "        print(str(\"Hello,\"+self.first.title()+\" \"+self.last.title()+\".\"))\n",
    "        \n",
    "    def increment_login_attempts(self):\n",
    "        self.login_attempts +=1\n",
    "    \n",
    "    def reset_login_attempts(self):\n",
    "        self.login_attempts = 0\n",
    "    \n",
    "user=User(\"salad\",\"chen\")\n",
    "user.increment_login_attempts()\n",
    "user.increment_login_attempts()\n",
    "user.increment_login_attempts()\n",
    "print(user.login_attempts)\n",
    "\n",
    "user.reset_login_attempts()\n",
    "print(user.login_attempts)\n",
    "        "
   ]
  },
  {
   "cell_type": "markdown",
   "metadata": {},
   "source": [
    "### 继承"
   ]
  },
  {
   "cell_type": "markdown",
   "metadata": {
    "ExecuteTime": {
     "end_time": "2022-07-24T09:36:48.547052Z",
     "start_time": "2022-07-24T09:36:48.515560Z"
    }
   },
   "source": [
    "#### 一个类继承另一个类时将自动获得另一个类的所有属性和方法"
   ]
  },
  {
   "cell_type": "markdown",
   "metadata": {},
   "source": [
    "#### 原有的类为父类(也称超类superclass），新类为子类"
   ]
  },
  {
   "cell_type": "markdown",
   "metadata": {},
   "source": [
    "#### 子类继承父类的所有属性和方法，同时还可以定义自己的属性和方法"
   ]
  },
  {
   "cell_type": "code",
   "execution_count": 21,
   "metadata": {
    "ExecuteTime": {
     "end_time": "2022-07-24T09:55:39.691792Z",
     "start_time": "2022-07-24T09:55:39.678797Z"
    }
   },
   "outputs": [],
   "source": [
    "#创建子类时父类必须包含在当前文件中，且位于子类前面\n",
    "class Car():\n",
    "    def __init__(self, make, model, year):\n",
    "        \"\"\"初始化描述汽车的属性\"\"\"\n",
    "        self.make = make\n",
    "        self.model = model\n",
    "        self.year = year\n",
    "        self.odometer_reading = 25\n",
    "    \n",
    "    def get_descriptive_name(self):\n",
    "        \"\"\"返回简洁描述性信息\"\"\"\n",
    "        long_name = str(self.year) + \" \" +self.make + \" \" + self.model\n",
    "        return long_name.title()\n",
    "    \n",
    "    def read_odometer(self):\n",
    "        \"\"\"打印汽车里程信息\"\"\"\n",
    "        print(\"This car has \" + str(self.odometer_reading) + \" miles on it.\")\n",
    "        \n",
    "    def update_odometer(self, mileage):\n",
    "        \"\"\"\n",
    "        将里程表读数设置为指定的值\n",
    "        禁止将里程表往回调\n",
    "        \"\"\"\n",
    "        if mileage>=self.odometer_reading:\n",
    "            self.odometer_reading = mileage\n",
    "        else:\n",
    "            print(\"You can't roll back an odometer!\")\n",
    "        \n",
    "    def increment_odometer(self,miles):\n",
    "        \"\"\"将里程表读书增加指定的量\"\"\"\n",
    "        if miles>=0:\n",
    "            self.odometer_reading += miles\n",
    "        else:\n",
    "            print(\"You can't roll back an odometer!\")"
   ]
  },
  {
   "cell_type": "markdown",
   "metadata": {},
   "source": [
    "#### super（）函数将父类和子类关联起来"
   ]
  },
  {
   "cell_type": "code",
   "execution_count": 22,
   "metadata": {
    "ExecuteTime": {
     "end_time": "2022-07-24T09:55:39.707793Z",
     "start_time": "2022-07-24T09:55:39.693796Z"
    }
   },
   "outputs": [],
   "source": [
    "class ElectricCar(Car):\n",
    "    def __init__(self,make,model,year):\n",
    "        \"\"\"初始化父类的属性\"\"\"\n",
    "        super().__init__(make,model,year)\n",
    "        #此时电动汽车具备普通汽车的行为"
   ]
  },
  {
   "cell_type": "code",
   "execution_count": 23,
   "metadata": {
    "ExecuteTime": {
     "end_time": "2022-07-24T09:55:39.738797Z",
     "start_time": "2022-07-24T09:55:39.709803Z"
    }
   },
   "outputs": [
    {
     "name": "stdout",
     "output_type": "stream",
     "text": [
      "2016 Tesla Model S\n"
     ]
    }
   ],
   "source": [
    "my_tesla = ElectricCar(\"tesla\",\"model s\",2016)\n",
    "print(my_tesla.get_descriptive_name())"
   ]
  },
  {
   "cell_type": "markdown",
   "metadata": {},
   "source": [
    "### 给子类定义属性和方法"
   ]
  },
  {
   "cell_type": "code",
   "execution_count": 26,
   "metadata": {
    "ExecuteTime": {
     "end_time": "2022-07-24T09:56:32.000005Z",
     "start_time": "2022-07-24T09:56:31.984375Z"
    }
   },
   "outputs": [],
   "source": [
    "class ElectricCar(Car):\n",
    "    def __init__(self,make,model,year):\n",
    "        \"\"\"初始化父类的属性，再初始化电动汽车特有属性\"\"\"\n",
    "        super().__init__(make,model,year)\n",
    "        self.battery_size = 70\n",
    "    \n",
    "    def describe_battery(self):\n",
    "        \"\"\"打印电瓶容量的信息\"\"\"\n",
    "        print(\"This car has a \" + str(self.battery_size) + \"-KW/h battery.\")"
   ]
  },
  {
   "cell_type": "code",
   "execution_count": 27,
   "metadata": {
    "ExecuteTime": {
     "end_time": "2022-07-24T09:56:32.642009Z",
     "start_time": "2022-07-24T09:56:32.625938Z"
    }
   },
   "outputs": [
    {
     "name": "stdout",
     "output_type": "stream",
     "text": [
      "2016 Tesla Model S\n",
      "This car has a 70-KW/h battery.\n"
     ]
    }
   ],
   "source": [
    "my_tesla = ElectricCar(\"tesla\",\"model s\",2016)\n",
    "print(my_tesla.get_descriptive_name())\n",
    "\n",
    "my_tesla.describe_battery()"
   ]
  },
  {
   "cell_type": "markdown",
   "metadata": {},
   "source": [
    "### 重写父类的方法"
   ]
  },
  {
   "cell_type": "code",
   "execution_count": 28,
   "metadata": {
    "ExecuteTime": {
     "end_time": "2022-07-24T10:08:57.847923Z",
     "start_time": "2022-07-24T10:08:57.832234Z"
    }
   },
   "outputs": [],
   "source": [
    "class ElectricCar(Car):\n",
    "    def __init__(self,make,model,year):\n",
    "        \"\"\"初始化父类的属性，再初始化电动汽车特有属性\"\"\"\n",
    "        super().__init__(make,model,year)\n",
    "        self.battery_size = 70\n",
    "    \n",
    "    def describe_battery(self):\n",
    "        \"\"\"打印电瓶容量的信息\"\"\"\n",
    "        print(\"This car has a \" + str(self.battery_size) + \"-KW/h battery.\")\n",
    "    \n",
    "    def fill_gas_tank():\n",
    "        \"\"\"电动汽车没有油箱\"\"\"\n",
    "        print(\"This car doesn't need a gas tank!\")\n",
    "        #当对电动汽车调用方法fill_gas_tank()时python将忽略Car类中的方法转而用上述代码"
   ]
  },
  {
   "cell_type": "markdown",
   "metadata": {},
   "source": [
    "### 将实例用作属性"
   ]
  },
  {
   "cell_type": "markdown",
   "metadata": {},
   "source": [
    "#### 可将大型类拆分成多个协同工作的小类"
   ]
  },
  {
   "cell_type": "markdown",
   "metadata": {},
   "source": [
    "#### 可以详细描述小类的细节，不会导致大类混乱"
   ]
  },
  {
   "cell_type": "code",
   "execution_count": 36,
   "metadata": {
    "ExecuteTime": {
     "end_time": "2022-07-24T10:29:22.278536Z",
     "start_time": "2022-07-24T10:29:22.262815Z"
    }
   },
   "outputs": [],
   "source": [
    "class Battery():\n",
    "    \"\"\"模拟电动汽车电瓶\"\"\"\n",
    "    \n",
    "    def __init__(self,battery_size = 70):\n",
    "        self.battery_size = battery_size\n",
    "    \n",
    "    def describe_battery(self):\n",
    "        \"\"\"打印电瓶容量信息\"\"\"\n",
    "        print(\"This car has a \"+ str(self.battery_size) + \"-KWh battery.\")\n",
    "        \n",
    "    def get_range(self):\n",
    "        \"\"\"打印电瓶续航里程\"\"\"\n",
    "        if self.battery_size == 70:\n",
    "            range = 240\n",
    "        elif self.battery_size ==85:\n",
    "            range =270\n",
    "        \n",
    "        message = \"This car can go approximately \" + str(range)\n",
    "        message += \" miles on a full charge.\"\n",
    "        print(message)"
   ]
  },
  {
   "cell_type": "code",
   "execution_count": 37,
   "metadata": {
    "ExecuteTime": {
     "end_time": "2022-07-24T10:29:22.781758Z",
     "start_time": "2022-07-24T10:29:22.771242Z"
    }
   },
   "outputs": [],
   "source": [
    "class ElectricCar(Car):\n",
    "    def __init__(self,make,model,year):\n",
    "        \"\"\"初始化父类的属性，再初始化电动汽车特有属性\"\"\"\n",
    "        super().__init__(make,model,year)\n",
    "        self.battery_size = 70\n",
    "        self.battery = Battery()#创建一个新的battery实例,默认值为70\n",
    "    \n",
    "    def describe_battery(self):\n",
    "        \"\"\"打印电瓶容量的信息\"\"\"\n",
    "        print(\"This car has a \" + str(self.battery_size) + \"-KW/h battery.\")\n",
    "    \n",
    "    def fill_gas_tank():\n",
    "        \"\"\"电动汽车没有油箱\"\"\"\n",
    "        print(\"This car doesn't need a gas tank!\")\n",
    "        #当对电动汽车调用方法fill_gas_tank()时python将忽略Car类中的方法转而用上述代码"
   ]
  },
  {
   "cell_type": "code",
   "execution_count": 38,
   "metadata": {
    "ExecuteTime": {
     "end_time": "2022-07-24T10:29:23.237727Z",
     "start_time": "2022-07-24T10:29:23.222727Z"
    }
   },
   "outputs": [
    {
     "name": "stdout",
     "output_type": "stream",
     "text": [
      "2016 Tesla Model S\n",
      "This car has a 70-KWh battery.\n"
     ]
    }
   ],
   "source": [
    "my_tesla = ElectricCar(\"tesla\",\"model s\",2016)\n",
    "print(my_tesla.get_descriptive_name())\n",
    "\n",
    "my_tesla.battery.describe_battery()\n",
    "# 在实例my_tesla中查找属性battery\n",
    "#并对存储在该属性中的Battery实例调用方法describe_battery()"
   ]
  },
  {
   "cell_type": "code",
   "execution_count": 39,
   "metadata": {
    "ExecuteTime": {
     "end_time": "2022-07-24T10:29:23.759058Z",
     "start_time": "2022-07-24T10:29:23.748028Z"
    }
   },
   "outputs": [
    {
     "name": "stdout",
     "output_type": "stream",
     "text": [
      "This car can go approximately 240 miles on a full charge.\n"
     ]
    }
   ],
   "source": [
    "my_tesla.battery.get_range()"
   ]
  },
  {
   "cell_type": "markdown",
   "metadata": {},
   "source": [
    "### 模拟实物"
   ]
  },
  {
   "cell_type": "markdown",
   "metadata": {},
   "source": [
    "#### 9-6"
   ]
  },
  {
   "cell_type": "code",
   "execution_count": null,
   "metadata": {},
   "outputs": [],
   "source": [
    "class Restaurant:\n",
    "    def __init__( self, restaurant_name,cuisine_type ):\n",
    "        \"\"\"初始化属性\"\"\"\n",
    "        self.name=restaurant_name\n",
    "        self.type=cuisine_type\n",
    "        self.number_served=0\n",
    "    \n",
    "    def describe_restaurant(self):\n",
    "        \"\"\"描述餐馆信息\"\"\"\n",
    "        print(str(\"Restaurant's name: \" + self.name.title()))\n",
    "        ##str()强制类型转换优先级比title（）高，执行时要确保函数优先级正常\n",
    "        print(\"Cuisine's type: \" + str(self.type))\n",
    "        \n",
    "    def open_restaurant(self):\n",
    "        \"\"\"打印餐馆是否在营业的信息\"\"\"\n",
    "        print(\"This restaurant is opening now.\")\n",
    "        \n",
    "    def set_number_served(self,nums):\n",
    "        \"\"\"设置就餐人数\"\"\"\n",
    "        self.number_served = nums\n",
    "    \n",
    "    def increment_number_served(self,nums):\n",
    "        \"\"\"将就餐人数递增\"\"\"\n",
    "        self.number_served += nums"
   ]
  },
  {
   "cell_type": "code",
   "execution_count": 47,
   "metadata": {
    "ExecuteTime": {
     "end_time": "2022-07-24T10:57:03.975641Z",
     "start_time": "2022-07-24T10:57:03.959973Z"
    }
   },
   "outputs": [
    {
     "name": "stdout",
     "output_type": "stream",
     "text": [
      "stawberry\n",
      "mengo\n"
     ]
    }
   ],
   "source": [
    "class IceCreamStand(Restaurant):\n",
    "    def __init__(self, restaurant_name,cuisine_type):\n",
    "        \"\"\"继承Restaurant类，增加冰淇淋口味的属性\"\"\"\n",
    "        super().__init__(restaurant_name,cuisine_type)\n",
    "        self.flavors=[\"stawberry\",\"mengo\"]\n",
    "    \n",
    "    def show_icecream(self):\n",
    "        \"\"\"显示冰淇淋的方法\"\"\"\n",
    "        for i in self.flavors:\n",
    "            print(i)\n",
    "\n",
    "icecream = IceCreamStand(\"salad\",'icecream')\n",
    "icecream.show_icecream()"
   ]
  },
  {
   "cell_type": "markdown",
   "metadata": {},
   "source": [
    "#### 9-7"
   ]
  },
  {
   "cell_type": "code",
   "execution_count": 49,
   "metadata": {
    "ExecuteTime": {
     "end_time": "2022-07-24T11:01:42.357929Z",
     "start_time": "2022-07-24T11:01:42.333861Z"
    }
   },
   "outputs": [],
   "source": [
    "class User():\n",
    "    def __init__(self,first_name,last_name):\n",
    "        self.first=first_name\n",
    "        self.last=last_name\n",
    "        self.login_attempts=0\n",
    "        \n",
    "    def describe_user(self):\n",
    "        print(\"First name:\", self.first)\n",
    "        print(\"Last name:\", self.last)\n",
    "        \n",
    "    def greet_user(self):\n",
    "        print(str(\"Hello,\"+self.first.title()+\" \"+self.last.title()+\".\"))\n",
    "        \n",
    "    def increment_login_attempts(self):\n",
    "        self.login_attempts +=1\n",
    "    \n",
    "    def reset_login_attempts(self):\n",
    "        self.login_attempts = 0"
   ]
  },
  {
   "cell_type": "code",
   "execution_count": 54,
   "metadata": {
    "ExecuteTime": {
     "end_time": "2022-07-24T11:06:47.197370Z",
     "start_time": "2022-07-24T11:06:47.190023Z"
    }
   },
   "outputs": [
    {
     "name": "stdout",
     "output_type": "stream",
     "text": [
      "管理员权限有：\n",
      "can add post\n",
      "can delele post\n",
      "can ban user\n"
     ]
    }
   ],
   "source": [
    "class Admin(User):\n",
    "    def __init__(self,first_name,last_name):\n",
    "        super().__init__(first_name,last_name)\n",
    "        self.privileges=[\"can add post\",\"can delele post\",\"can ban user\"]\n",
    "        \n",
    "    def show_privileges(self):\n",
    "        for i in self.privileges:\n",
    "            print(i)\n",
    "        \n",
    "admin = Admin(\"salad\",\"chen\")\n",
    "print(\"管理员权限有：\")\n",
    "admin.show_privileges()"
   ]
  },
  {
   "cell_type": "markdown",
   "metadata": {},
   "source": [
    "#### 9-8"
   ]
  },
  {
   "cell_type": "code",
   "execution_count": 60,
   "metadata": {
    "ExecuteTime": {
     "end_time": "2022-07-24T11:11:56.658088Z",
     "start_time": "2022-07-24T11:11:56.634147Z"
    }
   },
   "outputs": [],
   "source": [
    "class Privileges():\n",
    "    def __init__(self):\n",
    "        self.privileges = [\"can add post\",\"can delele post\",\"can ban user\"]\n",
    "        \n",
    "    def show_privileges(self):\n",
    "        for i in self.privileges:\n",
    "            print(i)"
   ]
  },
  {
   "cell_type": "code",
   "execution_count": 61,
   "metadata": {
    "ExecuteTime": {
     "end_time": "2022-07-24T11:11:57.213974Z",
     "start_time": "2022-07-24T11:11:57.190333Z"
    }
   },
   "outputs": [
    {
     "name": "stdout",
     "output_type": "stream",
     "text": [
      "管理员权限有：\n",
      "can add post\n",
      "can delele post\n",
      "can ban user\n"
     ]
    }
   ],
   "source": [
    "class Admin(User):\n",
    "    def __init__(self,first_name,last_name):\n",
    "        super().__init__(first_name,last_name)\n",
    "        self.privileges = Privileges()\n",
    "        \n",
    "admin = Admin(\"salad\",\"chen\")\n",
    "print(\"管理员权限有：\")\n",
    "admin.privileges.show_privileges()"
   ]
  },
  {
   "cell_type": "markdown",
   "metadata": {},
   "source": [
    "#### 9-9"
   ]
  },
  {
   "cell_type": "code",
   "execution_count": 68,
   "metadata": {
    "ExecuteTime": {
     "end_time": "2022-07-24T11:19:00.073661Z",
     "start_time": "2022-07-24T11:19:00.067476Z"
    }
   },
   "outputs": [],
   "source": [
    "class Battery():\n",
    "    \"\"\"模拟电动汽车电瓶\"\"\"\n",
    "    \n",
    "    def __init__(self,battery_size = 70):\n",
    "        self.battery_size = battery_size\n",
    "    \n",
    "    def describe_battery(self):\n",
    "        \"\"\"打印电瓶容量信息\"\"\"\n",
    "        print(\"This car has a \"+ str(self.battery_size) + \"-KWh battery.\")\n",
    "        \n",
    "    def get_range(self):\n",
    "        \"\"\"打印电瓶续航里程\"\"\"\n",
    "        if self.battery_size == 70:\n",
    "            range = 240\n",
    "        elif self.battery_size ==85:\n",
    "            range =270\n",
    "        \n",
    "        message = \"This car can go approximately \" + str(range)\n",
    "        message += \" miles on a full charge.\"\n",
    "        print(message)\n",
    "        \n",
    "    def upgrade_battery(self):\n",
    "        \"\"\"电瓶升级\"\"\"\n",
    "        if self.battery_size != 85:\n",
    "            self.battery_size = 85"
   ]
  },
  {
   "cell_type": "code",
   "execution_count": 69,
   "metadata": {
    "ExecuteTime": {
     "end_time": "2022-07-24T11:19:00.633012Z",
     "start_time": "2022-07-24T11:19:00.609520Z"
    }
   },
   "outputs": [],
   "source": [
    "class ElectricCar(Car):\n",
    "    def __init__(self,make,model,year):\n",
    "        \"\"\"初始化父类的属性，再初始化电动汽车特有属性\"\"\"\n",
    "        super().__init__(make,model,year)\n",
    "        self.battery_size = 70\n",
    "        self.battery = Battery()#创建一个新的battery实例,默认值为70\n",
    "    \n",
    "    def describe_battery(self):\n",
    "        \"\"\"打印电瓶容量的信息\"\"\"\n",
    "        print(\"This car has a \" + str(self.battery_size) + \"-KW/h battery.\")\n",
    "    \n",
    "    def fill_gas_tank():\n",
    "        \"\"\"电动汽车没有油箱\"\"\"\n",
    "        print(\"This car doesn't need a gas tank!\")\n",
    "        #当对电动汽车调用方法fill_gas_tank()时python将忽略Car类中的方法转而用上述代码"
   ]
  },
  {
   "cell_type": "code",
   "execution_count": 70,
   "metadata": {
    "ExecuteTime": {
     "end_time": "2022-07-24T11:19:01.163707Z",
     "start_time": "2022-07-24T11:19:01.147690Z"
    }
   },
   "outputs": [
    {
     "name": "stdout",
     "output_type": "stream",
     "text": [
      "2016 Tesla Model S\n",
      "This car has a 70-KWh battery.\n",
      "This car can go approximately 240 miles on a full charge.\n",
      "This car can go approximately 270 miles on a full charge.\n"
     ]
    }
   ],
   "source": [
    "my_tesla = ElectricCar(\"tesla\",\"model s\",2016)\n",
    "print(my_tesla.get_descriptive_name())\n",
    "\n",
    "my_tesla.battery.describe_battery()\n",
    "# 在实例my_tesla中查找属性battery\n",
    "#并对存储在该属性中的Battery实例调用方法describe_battery()\n",
    "\n",
    "my_tesla.battery.get_range()\n",
    "\n",
    "my_tesla.battery.upgrade_battery()#对电瓶进行升级\n",
    "my_tesla.battery.get_range()"
   ]
  },
  {
   "cell_type": "markdown",
   "metadata": {},
   "source": [
    "### 导入类"
   ]
  },
  {
   "cell_type": "markdown",
   "metadata": {},
   "source": [
    "#### 将类存储在模块中，然后在主程序中导入所需模块"
   ]
  },
  {
   "cell_type": "markdown",
   "metadata": {},
   "source": [
    "#### 见car.py 、electric_car.py和 my_car.py 文件"
   ]
  },
  {
   "cell_type": "markdown",
   "metadata": {},
   "source": [
    "### Python标准库（一组模块）"
   ]
  },
  {
   "cell_type": "code",
   "execution_count": 3,
   "metadata": {
    "ExecuteTime": {
     "end_time": "2022-07-26T17:41:31.102732Z",
     "start_time": "2022-07-26T17:41:31.088873Z"
    }
   },
   "outputs": [
    {
     "name": "stdout",
     "output_type": "stream",
     "text": [
      "Jen's favorite language is Python.\n",
      "Sarah's favorite language is C.\n",
      "Edward's favorite language is Ruby.\n",
      "Phil's favorite language is Python.\n"
     ]
    }
   ],
   "source": [
    "from collections import OrderedDict\n",
    "#行为与dictionary相同，但记录了键值对的添加顺序\n",
    "\n",
    "favorite_languages = OrderedDict()\n",
    "#创建一个空的有序字典，并存储在favorite_languages中\n",
    "\n",
    "favorite_languages['jen'] = 'python'\n",
    "favorite_languages['sarah'] = 'c'\n",
    "favorite_languages['edward'] = 'ruby'\n",
    "favorite_languages['phil'] = 'python'\n",
    "\n",
    "for name,language in favorite_languages.items():\n",
    "    print(name.title() + \"'s favorite language is \" \n",
    "          + language.title() + \".\")"
   ]
  },
  {
   "cell_type": "code",
   "execution_count": 5,
   "metadata": {
    "ExecuteTime": {
     "end_time": "2022-07-26T17:44:47.096391Z",
     "start_time": "2022-07-26T17:44:47.079492Z"
    }
   },
   "outputs": [
    {
     "data": {
      "text/plain": [
       "6"
      ]
     },
     "execution_count": 5,
     "metadata": {},
     "output_type": "execute_result"
    }
   ],
   "source": [
    "from random import randint\n",
    "#模块random包含以各种方式生成随机数的函数\n",
    "#其中的randint()返回一个位于指定范围内的整数\n",
    "\n",
    "x = randint(1,6)\n",
    "x"
   ]
  },
  {
   "cell_type": "code",
   "execution_count": 9,
   "metadata": {
    "ExecuteTime": {
     "end_time": "2022-07-26T17:52:26.369590Z",
     "start_time": "2022-07-26T17:52:26.357072Z"
    }
   },
   "outputs": [
    {
     "name": "stdout",
     "output_type": "stream",
     "text": [
      "6\n",
      "3\n",
      "1\n",
      "3\n",
      "3\n",
      "3\n",
      "3\n",
      "6\n",
      "6\n",
      "6\n"
     ]
    }
   ],
   "source": [
    "class Die():\n",
    "    def __init__(self,sides=6):\n",
    "        self.sides=sides\n",
    "    \n",
    "    def roll_die(self):\n",
    "        x = randint(1,self.sides)\n",
    "        print(x)\n",
    "        \n",
    "die = Die(6)\n",
    "for i in range(10):\n",
    "    die.roll_die()"
   ]
  },
  {
   "cell_type": "code",
   "execution_count": null,
   "metadata": {},
   "outputs": [],
   "source": []
  }
 ],
 "metadata": {
  "kernelspec": {
   "display_name": "Python 3",
   "language": "python",
   "name": "python3"
  },
  "language_info": {
   "codemirror_mode": {
    "name": "ipython",
    "version": 3
   },
   "file_extension": ".py",
   "mimetype": "text/x-python",
   "name": "python",
   "nbconvert_exporter": "python",
   "pygments_lexer": "ipython3",
   "version": "3.7.0"
  }
 },
 "nbformat": 4,
 "nbformat_minor": 2
}
